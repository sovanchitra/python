{
 "cells": [
  {
   "cell_type": "markdown",
   "id": "c0e4a22e",
   "metadata": {},
   "source": [
    "### cafe menu"
   ]
  },
  {
   "cell_type": "code",
   "execution_count": null,
   "id": "c090278d",
   "metadata": {
    "scrolled": false
   },
   "outputs": [
    {
     "name": "stdout",
     "output_type": "stream",
     "text": [
      "Start the cafe menu program.\n"
     ]
    }
   ],
   "source": [
    "cafe_menu = {'Americano': 3000, 'Espresso': 4000, 'Matcha': 4000}\n",
    "print(\"Start the cafe menu program.\")\n",
    "\n",
    "while True:\n",
    "    commands = input(\"\"\"Enter q to exit.\n",
    "Enter the input command as follows.\n",
    "    < Menu: Price\n",
    "For search commands, enter the menu after >.\n",
    "    > Americano\n",
    "$ \"\"\")\n",
    "    \n",
    "    \n",
    "    if command == 'q':\n",
    "        print(\"The program is exited.\")\n",
    "        break\n",
    "    \n",
    "    # input\n",
    "    elif command[0] == '<':\n",
    "#         command, key = commands.split(':')\n",
    "        cafe_menu[key] = value\n",
    "    \n",
    "    # search\n",
    "    elif command[0] == '>':\n",
    "        command, key = commands.split()\n",
    "        print(cafe_menu[key])\n",
    "        \n",
    "    else:\n",
    "        pass"
   ]
  },
  {
   "cell_type": "code",
   "execution_count": null,
   "id": "58396037",
   "metadata": {},
   "outputs": [],
   "source": [
    "cafe_menu = {'Americano': 3000, 'Espresso': 4000, 'Matcha': 4000}\n",
    "print(\"\"\"Enter q to exit.\n",
    "Enter the input command as follows.\n",
    "    < Menu: Price\n",
    "For search commands, enter the menu after >.\n",
    "    > Americano\"\"\")\n",
    "\n",
    "while True:\n",
    "    command = input('$ ')\n",
    "    \n",
    "    if command.startswith('q'):\n",
    "        break\n",
    "        \n",
    "    elif command.startswith('<'):\n",
    "        command = command.replace('<', '')\n",
    "        new_menu = command.split(':')\n",
    "        \n",
    "        if len(new_menu) < 2:\n",
    "            print('An input error has occurred.')\n",
    "            continue\n",
    "            \n",
    "        else:\n",
    "            cafe_menu[new_menu[0].strip()] = new_menu[1].strip()\n",
    "            \n",
    "    elif command.startswith('>'):\n",
    "        command = command.replace('>', '')\n",
    "        menu = command.strip()\n",
    "        \n",
    "        if menu in cafe_menu:\n",
    "            print(cafe_menu[menu])\n",
    "            \n",
    "        else:\n",
    "            print(f\"{menu} is not in the menu.\")\n",
    "            \n",
    "    else:\n",
    "        print(\"An input error has occurred.\")\n",
    "        \n",
    "print('Exit the Cafe Menu program.')"
   ]
  },
  {
   "cell_type": "code",
   "execution_count": null,
   "id": "6c71bece",
   "metadata": {},
   "outputs": [],
   "source": []
  }
 ],
 "metadata": {
  "kernelspec": {
   "display_name": "Python 3 (ipykernel)",
   "language": "python",
   "name": "python3"
  },
  "language_info": {
   "codemirror_mode": {
    "name": "ipython",
    "version": 3
   },
   "file_extension": ".py",
   "mimetype": "text/x-python",
   "name": "python",
   "nbconvert_exporter": "python",
   "pygments_lexer": "ipython3",
   "version": "3.11.5"
  }
 },
 "nbformat": 4,
 "nbformat_minor": 5
}
