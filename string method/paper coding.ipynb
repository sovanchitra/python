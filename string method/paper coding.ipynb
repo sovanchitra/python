{
 "cells": [
  {
   "cell_type": "markdown",
   "id": "e5a1d0e2",
   "metadata": {},
   "source": [
    "### strip and split and join"
   ]
  },
  {
   "cell_type": "code",
   "execution_count": 3,
   "id": "731be801",
   "metadata": {},
   "outputs": [
    {
     "name": "stdout",
     "output_type": "stream",
     "text": [
      "a,b,c,d\n",
      "a,b,c,d,"
     ]
    }
   ],
   "source": [
    "string = '******a:b:c:d*******'\n",
    "no_aster = string.strip('*')\n",
    "no_colon = no_aster.split(':')\n",
    "print(','.join(no_colon))\n",
    "\n",
    "for char in no_colon:\n",
    "        print(char, end = ',')"
   ]
  },
  {
   "cell_type": "markdown",
   "id": "10b1ff77",
   "metadata": {},
   "source": [
    "### alphabet"
   ]
  },
  {
   "cell_type": "code",
   "execution_count": 32,
   "id": "9a79a4cb",
   "metadata": {},
   "outputs": [
    {
     "name": "stdout",
     "output_type": "stream",
     "text": [
      "A B C D E F G H I J K L M N O P Q R S T U V W X Y Z\n",
      "a b c d e f g h i j k l m n o p q r s t u v w x y z\n"
     ]
    }
   ],
   "source": [
    "import string\n",
    "\n",
    "upper = string.ascii_uppercase\n",
    "print(' '.join(upper))\n",
    "\n",
    "lower = string.ascii_lowercase\n",
    "print(' '.join(lower))"
   ]
  },
  {
   "cell_type": "code",
   "execution_count": null,
   "id": "3f5747af",
   "metadata": {},
   "outputs": [],
   "source": []
  }
 ],
 "metadata": {
  "kernelspec": {
   "display_name": "Python 3 (ipykernel)",
   "language": "python",
   "name": "python3"
  },
  "language_info": {
   "codemirror_mode": {
    "name": "ipython",
    "version": 3
   },
   "file_extension": ".py",
   "mimetype": "text/x-python",
   "name": "python",
   "nbconvert_exporter": "python",
   "pygments_lexer": "ipython3",
   "version": "3.11.5"
  }
 },
 "nbformat": 4,
 "nbformat_minor": 5
}
