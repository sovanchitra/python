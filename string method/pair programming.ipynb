{
 "cells": [
  {
   "cell_type": "markdown",
   "id": "d25d2901",
   "metadata": {},
   "source": [
    "### sort and output in descending order"
   ]
  },
  {
   "cell_type": "code",
   "execution_count": 4,
   "id": "53bcd692",
   "metadata": {},
   "outputs": [
    {
     "name": "stdout",
     "output_type": "stream",
     "text": [
      "4;2;5;3;5;7;2\n",
      "Sorted prices:\n",
      "7\n",
      "5\n",
      "5\n",
      "4\n",
      "3\n",
      "2\n",
      "2\n"
     ]
    }
   ],
   "source": [
    "items = input().split(';')\n",
    "items.sort(reverse = True)\n",
    "# items_sorted = sorted(items, reverse = True)\n",
    "\n",
    "print(\"Sorted prices:\")\n",
    "for i in items:\n",
    "    print(i)"
   ]
  }
 ],
 "metadata": {
  "kernelspec": {
   "display_name": "Python 3 (ipykernel)",
   "language": "python",
   "name": "python3"
  },
  "language_info": {
   "codemirror_mode": {
    "name": "ipython",
    "version": 3
   },
   "file_extension": ".py",
   "mimetype": "text/x-python",
   "name": "python",
   "nbconvert_exporter": "python",
   "pygments_lexer": "ipython3",
   "version": "3.11.5"
  }
 },
 "nbformat": 4,
 "nbformat_minor": 5
}
