{
 "cells": [
  {
   "cell_type": "markdown",
   "id": "588555eb",
   "metadata": {},
   "source": [
    "### cafe menu"
   ]
  },
  {
   "cell_type": "code",
   "execution_count": 6,
   "id": "ef61cfd8",
   "metadata": {},
   "outputs": [
    {
     "name": "stdout",
     "output_type": "stream",
     "text": [
      "Start the cafe menu program.\n",
      "Enter q to exit.\n",
      "Enter the input command as follows.\n",
      "    < Menu: Price\n",
      "For search commands, enter the menu after >.\n",
      "    > Americano\n",
      "$ hy\n"
     ]
    },
    {
     "ename": "ValueError",
     "evalue": "not enough values to unpack (expected 2, got 1)",
     "output_type": "error",
     "traceback": [
      "\u001b[0;31m---------------------------------------------------------------------------\u001b[0m",
      "\u001b[0;31mValueError\u001b[0m                                Traceback (most recent call last)",
      "Cell \u001b[0;32mIn[6], line 24\u001b[0m\n\u001b[1;32m     22\u001b[0m \u001b[38;5;66;03m# search\u001b[39;00m\n\u001b[1;32m     23\u001b[0m \u001b[38;5;28;01melif\u001b[39;00m command[\u001b[38;5;241m0\u001b[39m] \u001b[38;5;241m==\u001b[39m \u001b[38;5;124m'\u001b[39m\u001b[38;5;124m>\u001b[39m\u001b[38;5;124m'\u001b[39m:\n\u001b[0;32m---> 24\u001b[0m     command, key \u001b[38;5;241m=\u001b[39m commands\u001b[38;5;241m.\u001b[39msplit()\n\u001b[1;32m     25\u001b[0m     \u001b[38;5;28mprint\u001b[39m(cafe_menu[key])\n\u001b[1;32m     27\u001b[0m \u001b[38;5;28;01melse\u001b[39;00m:\n",
      "\u001b[0;31mValueError\u001b[0m: not enough values to unpack (expected 2, got 1)"
     ]
    }
   ],
   "source": [
    "cafe_menu = {'Americano': 3000, 'Espresso': 4000, 'Matcha': 4000}\n",
    "print(\"Start the cafe menu program.\")\n",
    "\n",
    "while True:\n",
    "    commands = input(\"\"\"Enter q to exit.\n",
    "Enter the input command as follows.\n",
    "    < Menu: Price\n",
    "For search commands, enter the menu after >.\n",
    "    > Americano\n",
    "$ \"\"\")\n",
    "    \n",
    "    \n",
    "    if command == 'q':\n",
    "        print(\"The program is exited.\")\n",
    "        break\n",
    "    \n",
    "    # input\n",
    "    elif command[0] == '<':\n",
    "#         command, key = commands.split(':')\n",
    "        cafe_menu[key] = value\n",
    "    \n",
    "    # search\n",
    "    elif command[0] == '>':\n",
    "        command, key = commands.split()\n",
    "        print(cafe_menu[key])\n",
    "        \n",
    "    else:\n",
    "        pass"
   ]
  },
  {
   "cell_type": "code",
   "execution_count": null,
   "id": "1aa60396",
   "metadata": {},
   "outputs": [
    {
     "name": "stdout",
     "output_type": "stream",
     "text": [
      "Enter q to exit.\n",
      "Enter the input command as follows.\n",
      "    < Menu: Price\n",
      "For search commands, enter the menu after >.\n",
      "    > Americano\n",
      "$ > Moca\n",
      "Moca is not in the menu.\n"
     ]
    }
   ],
   "source": [
    "cafe_menu = {'Americano': 3000, 'Espresso': 4000, 'Matcha': 4000}\n",
    "print(\"\"\"Enter q to exit.\n",
    "Enter the input command as follows.\n",
    "    < Menu: Price\n",
    "For search commands, enter the menu after >.\n",
    "    > Americano\"\"\")\n",
    "\n",
    "while True:\n",
    "    command = input('$ ')\n",
    "    \n",
    "    if command.startswith('q'):\n",
    "        break\n",
    "        \n",
    "    elif command.startswith('<'):\n",
    "        command = command.replace('<', '')\n",
    "        new_menu = command.split(':')\n",
    "        \n",
    "        if len(new_menu) < 2:\n",
    "            print('An input error has occurred.')\n",
    "            continue\n",
    "            \n",
    "        else:\n",
    "            cafe_menu[new_menu[0].strip()] = new_menu[1].strip()\n",
    "            \n",
    "    elif command.startswith('>'):\n",
    "        command = command.replace('>', '')\n",
    "        menu = command.strip()\n",
    "        \n",
    "        if menu in cafe_menu:\n",
    "            print(cafe_menu[menu])\n",
    "            \n",
    "        else:\n",
    "            print(f\"{menu} is not in the menu.\")\n",
    "            \n",
    "    else:\n",
    "        print(\"An input error has occurred.\")\n",
    "        \n",
    "print('Exit the Cafe Menu program.')"
   ]
  },
  {
   "cell_type": "code",
   "execution_count": null,
   "id": "48bbded0",
   "metadata": {},
   "outputs": [],
   "source": []
  }
 ],
 "metadata": {
  "kernelspec": {
   "display_name": "Python 3 (ipykernel)",
   "language": "python",
   "name": "python3"
  },
  "language_info": {
   "codemirror_mode": {
    "name": "ipython",
    "version": 3
   },
   "file_extension": ".py",
   "mimetype": "text/x-python",
   "name": "python",
   "nbconvert_exporter": "python",
   "pygments_lexer": "ipython3",
   "version": "3.11.5"
  }
 },
 "nbformat": 4,
 "nbformat_minor": 5
}
