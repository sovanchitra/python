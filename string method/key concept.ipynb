{
 "cells": [
  {
   "cell_type": "markdown",
   "id": "277c635b",
   "metadata": {},
   "source": [
    "### quotation mark"
   ]
  },
  {
   "cell_type": "code",
   "execution_count": 1,
   "id": "3adfa7be",
   "metadata": {},
   "outputs": [
    {
     "name": "stdout",
     "output_type": "stream",
     "text": [
      "Hello world!\n",
      "Hello world!\n",
      "Hello\n",
      "         world!\n",
      "Hello\n",
      "         world!\n"
     ]
    }
   ],
   "source": [
    "print('Hello world!')\n",
    "print(\"Hello world!\")\n",
    "print('''Hello\n",
    "         world!''')\n",
    "print(\"\"\"Hello\n",
    "         world!\"\"\")"
   ]
  },
  {
   "cell_type": "markdown",
   "id": "30b3590b",
   "metadata": {},
   "source": [
    "### string slicing"
   ]
  },
  {
   "cell_type": "code",
   "execution_count": 2,
   "id": "ce016870",
   "metadata": {},
   "outputs": [
    {
     "data": {
      "text/plain": [
       "'IFUEH'"
      ]
     },
     "execution_count": 2,
     "metadata": {},
     "output_type": "execute_result"
    }
   ],
   "source": [
    "'AHIFUEHFOE'[2:7]"
   ]
  },
  {
   "cell_type": "code",
   "execution_count": 3,
   "id": "2cadc90e",
   "metadata": {},
   "outputs": [
    {
     "data": {
      "text/plain": [
       "'FUEHF'"
      ]
     },
     "execution_count": 3,
     "metadata": {},
     "output_type": "execute_result"
    }
   ],
   "source": [
    "'AHIFUEHFOE'[-7:-2]"
   ]
  },
  {
   "cell_type": "code",
   "execution_count": 4,
   "id": "d0edf051",
   "metadata": {},
   "outputs": [
    {
     "data": {
      "text/plain": [
       "'EHF'"
      ]
     },
     "execution_count": 4,
     "metadata": {},
     "output_type": "execute_result"
    }
   ],
   "source": [
    "'AHIFUEHFOE'[5:-2]"
   ]
  },
  {
   "cell_type": "code",
   "execution_count": 5,
   "id": "8f167d29",
   "metadata": {},
   "outputs": [
    {
     "data": {
      "text/plain": [
       "'HIFUEHFOE'"
      ]
     },
     "execution_count": 5,
     "metadata": {},
     "output_type": "execute_result"
    }
   ],
   "source": [
    "'AHIFUEHFOE'[1:100] # means leaving the end index blank"
   ]
  },
  {
   "cell_type": "code",
   "execution_count": 6,
   "id": "644bebc1",
   "metadata": {},
   "outputs": [
    {
     "data": {
      "text/plain": [
       "'AHIFUEHFOE'"
      ]
     },
     "execution_count": 6,
     "metadata": {},
     "output_type": "execute_result"
    }
   ],
   "source": [
    "'AHIFUEHFOE'[::1] # = 'AHIFUEHFOE'[:]"
   ]
  },
  {
   "cell_type": "markdown",
   "id": "d39e9744",
   "metadata": {},
   "source": [
    "### string methods"
   ]
  },
  {
   "cell_type": "markdown",
   "id": "70336e97",
   "metadata": {},
   "source": [
    "##### split method"
   ]
  },
  {
   "cell_type": "code",
   "execution_count": 7,
   "id": "3f838b15",
   "metadata": {},
   "outputs": [
    {
     "data": {
      "text/plain": [
       "['Welcome', ' to Python', ' and ', ' bla', ' bla  ']"
      ]
     },
     "execution_count": 7,
     "metadata": {},
     "output_type": "execute_result"
    }
   ],
   "source": [
    "s = 'Welcome, to Python, and , bla, bla  '\n",
    "s.split(',')"
   ]
  },
  {
   "cell_type": "code",
   "execution_count": 8,
   "id": "01c0bb13",
   "metadata": {},
   "outputs": [
    {
     "data": {
      "text/plain": [
       "['Welcome', 'to Python', 'and', 'bla', 'bla']"
      ]
     },
     "execution_count": 8,
     "metadata": {},
     "output_type": "execute_result"
    }
   ],
   "source": [
    "s = 'Welcome, to Python, and , bla, bla  '\n",
    "[x.strip() for x in s.split(',')]"
   ]
  },
  {
   "cell_type": "code",
   "execution_count": 9,
   "id": "4d819348",
   "metadata": {},
   "outputs": [
    {
     "name": "stdout",
     "output_type": "stream",
     "text": [
      "hello world\n",
      "hello world  \n",
      "  hello world\n"
     ]
    }
   ],
   "source": [
    "s = '  hello world  '\n",
    "print(s.strip())\n",
    "print(s.lstrip())  # remove space on the left side\n",
    "print(s.rstrip())  # remove space on the right side"
   ]
  },
  {
   "cell_type": "code",
   "execution_count": 12,
   "id": "d6049c2e",
   "metadata": {},
   "outputs": [
    {
     "name": "stdout",
     "output_type": "stream",
     "text": [
      "hello world\n",
      "....hello world\n"
     ]
    }
   ],
   "source": [
    "# removing specific character\n",
    "s = '....hello world....'\n",
    "print(s.strip('.'))\n",
    "print(s.rstrip('.'))"
   ]
  },
  {
   "cell_type": "markdown",
   "id": "c5d0975f",
   "metadata": {},
   "source": [
    "##### join method"
   ]
  },
  {
   "cell_type": "code",
   "execution_count": 13,
   "id": "8412f631",
   "metadata": {},
   "outputs": [
    {
     "data": {
      "text/plain": [
       "'apple,grape,banana'"
      ]
     },
     "execution_count": 13,
     "metadata": {},
     "output_type": "execute_result"
    }
   ],
   "source": [
    "','.join(['apple', 'grape', 'banana'])"
   ]
  },
  {
   "cell_type": "code",
   "execution_count": 14,
   "id": "eb0fe510",
   "metadata": {},
   "outputs": [
    {
     "data": {
      "text/plain": [
       "'010-1234-5678'"
      ]
     },
     "execution_count": 14,
     "metadata": {},
     "output_type": "execute_result"
    }
   ],
   "source": [
    "'-'.join('010.1234.5678'.split('.'))"
   ]
  },
  {
   "cell_type": "code",
   "execution_count": 15,
   "id": "9fcbbcde",
   "metadata": {},
   "outputs": [
    {
     "data": {
      "text/plain": [
       "'apple and grape and banana'"
      ]
     },
     "execution_count": 15,
     "metadata": {},
     "output_type": "execute_result"
    }
   ],
   "source": [
    "' and '.join(['apple', 'grape', 'banana'])"
   ]
  },
  {
   "cell_type": "code",
   "execution_count": 16,
   "id": "3e225f9d",
   "metadata": {},
   "outputs": [
    {
     "data": {
      "text/plain": [
       "'applegrapebanana'"
      ]
     },
     "execution_count": 16,
     "metadata": {},
     "output_type": "execute_result"
    }
   ],
   "source": [
    "''.join(['apple', 'grape', 'banana'])"
   ]
  },
  {
   "cell_type": "code",
   "execution_count": 17,
   "id": "5d1eb9dd",
   "metadata": {},
   "outputs": [
    {
     "data": {
      "text/plain": [
       "['h', 'e', 'l', 'l', 'o', ' ', 'w', 'o', 'r', 'l', 'd']"
      ]
     },
     "execution_count": 17,
     "metadata": {},
     "output_type": "execute_result"
    }
   ],
   "source": [
    "s = 'hello world'\n",
    "clist = list(s)\n",
    "clist"
   ]
  },
  {
   "cell_type": "code",
   "execution_count": 18,
   "id": "bbae32a9",
   "metadata": {},
   "outputs": [
    {
     "data": {
      "text/plain": [
       "'hello world'"
      ]
     },
     "execution_count": 18,
     "metadata": {},
     "output_type": "execute_result"
    }
   ],
   "source": [
    "''.join(clist)"
   ]
  },
  {
   "cell_type": "code",
   "execution_count": 19,
   "id": "978a3fe3",
   "metadata": {},
   "outputs": [
    {
     "data": {
      "text/plain": [
       "'Actions \\n\\t speak louder than words'"
      ]
     },
     "execution_count": 19,
     "metadata": {},
     "output_type": "execute_result"
    }
   ],
   "source": [
    "a_string = 'Actions \\n\\t speak louder than words'\n",
    "a_string"
   ]
  },
  {
   "cell_type": "code",
   "execution_count": 20,
   "id": "b3502041",
   "metadata": {},
   "outputs": [
    {
     "name": "stdout",
     "output_type": "stream",
     "text": [
      "Actions \n",
      "\t speak louder than words\n"
     ]
    }
   ],
   "source": [
    "print(a_string)"
   ]
  },
  {
   "cell_type": "code",
   "execution_count": 22,
   "id": "b946169d",
   "metadata": {},
   "outputs": [
    {
     "data": {
      "text/plain": [
       "['Actions', 'speak', 'louder', 'than', 'words']"
      ]
     },
     "execution_count": 22,
     "metadata": {},
     "output_type": "execute_result"
    }
   ],
   "source": [
    "word_list = a_string.split()\n",
    "word_list"
   ]
  },
  {
   "cell_type": "code",
   "execution_count": 24,
   "id": "b559206d",
   "metadata": {},
   "outputs": [
    {
     "name": "stdout",
     "output_type": "stream",
     "text": [
      "Actions speak louder than words\n"
     ]
    }
   ],
   "source": [
    "refined_string = \" \".join(word_list)\n",
    "print(refined_string)"
   ]
  },
  {
   "cell_type": "code",
   "execution_count": 25,
   "id": "c7cc1106",
   "metadata": {},
   "outputs": [
    {
     "name": "stdout",
     "output_type": "stream",
     "text": [
      "['Yesterday', 'all', 'my', 'troubles', 'seemed', 'so', 'far', 'away', 'Now', 'it', 'looks', 'as', 'though', \"they're\", 'here', 'to', 'stay', 'Oh,', 'I', 'believe', 'in', 'yesterday']\n",
      "Yesterday-all-my-troubles-seemed-so-far-away-Now-it-looks-as-though-they're-here-to-stay-Oh,-I-believe-in-yesterday\n",
      "Yesterday,all,my,troubles,seemed,so,far,away,Now,it,looks,as,though,they're,here,to,stay,Oh,,I,believe,in,yesterday\n",
      "Yesterday all my troubles seemed so far away Now it looks as though they're here to stay Oh, I believe in yesterday\n"
     ]
    }
   ],
   "source": [
    "str = \"\"\"Yesterday all my troubles seemed so far away\n",
    "      Now it looks as though they're here to stay\n",
    "      Oh, I believe in yesterday\"\"\"\n",
    "\n",
    "song = str.split()\n",
    "print(song)\n",
    "\n",
    "data_a = \"-\".join(song)\n",
    "data_b = \",\".join(song)\n",
    "data_c = \" \".join(song)\n",
    "\n",
    "print(data_a)\n",
    "print(data_b)\n",
    "print(data_c)"
   ]
  },
  {
   "cell_type": "markdown",
   "id": "c37c5875",
   "metadata": {},
   "source": [
    "##### replace method"
   ]
  },
  {
   "cell_type": "code",
   "execution_count": 27,
   "id": "927b6dd5",
   "metadata": {},
   "outputs": [
    {
     "name": "stdout",
     "output_type": "stream",
     "text": [
      "Phone number :\n",
      "123456789999\n",
      "123456,789,999\n",
      "123456789,999\n",
      "123456789999\n"
     ]
    }
   ],
   "source": [
    "# str.replace(old, new, [count])\n",
    "text = '123,456,789,999'\n",
    "\n",
    "replaceAll = text.replace(\",\", \"\")\n",
    "replace_t1 = text.replace(\",\", \"\", 1)\n",
    "replace_t2 = text.replace(\",\", \"\", 2)\n",
    "replace_t3 = text.replace(\",\", \"\", 3)\n",
    "print(\"Phone number :\")\n",
    "print(replaceAll)\n",
    "print(replace_t1)\n",
    "print(replace_t2)\n",
    "print(replace_t3)"
   ]
  },
  {
   "cell_type": "markdown",
   "id": "1d3fa345",
   "metadata": {},
   "source": [
    "##### count method"
   ]
  },
  {
   "cell_type": "code",
   "execution_count": 29,
   "id": "71eef114",
   "metadata": {},
   "outputs": [
    {
     "name": "stdout",
     "output_type": "stream",
     "text": [
      "2\n",
      "1\n",
      "0\n"
     ]
    }
   ],
   "source": [
    "# str.count(substring_to_find[, start_index_of_search, end_index_of_search])\n",
    "s = 'blockdmask'\n",
    "print(s.count(\"k\"))\n",
    "print(s.count(\"k\",3,6))\n",
    "print(s.count(\"m\",3,6))"
   ]
  },
  {
   "cell_type": "markdown",
   "id": "d2eb94b8",
   "metadata": {},
   "source": [
    "##### find method"
   ]
  },
  {
   "cell_type": "code",
   "execution_count": 48,
   "id": "e9968722",
   "metadata": {},
   "outputs": [
    {
     "name": "stdout",
     "output_type": "stream",
     "text": [
      "3\n",
      "-1\n"
     ]
    }
   ],
   "source": [
    "# str.find(substring to search[, index to start the search, index to end the search])\n",
    "\n",
    "print('I love python'.find('o')) # return the first occurence index\n",
    "print('I love python'.rfind('o')) # return the last occurence index"
   ]
  },
  {
   "cell_type": "code",
   "execution_count": 31,
   "id": "c0ab8eb8",
   "metadata": {},
   "outputs": [
    {
     "data": {
      "text/plain": [
       "-1"
      ]
     },
     "execution_count": 31,
     "metadata": {},
     "output_type": "execute_result"
    }
   ],
   "source": [
    "'I love python'.find('i')  # return -1 if not found"
   ]
  },
  {
   "cell_type": "markdown",
   "id": "cffc99bf",
   "metadata": {},
   "source": [
    "### Unicode-related max, min, ord, chr functions"
   ]
  },
  {
   "cell_type": "code",
   "execution_count": 40,
   "id": "08ed7435",
   "metadata": {},
   "outputs": [
    {
     "name": "stdout",
     "output_type": "stream",
     "text": [
      "['a', 'b', 'c', 'd', 'e', 'f', 'g', 'h', 'i', 'j', 'k', 'l', 'm', 'n', 'o', 'p', 'q', 'r', 's', 't', 'u', 'v', 'w', 'x', 'y', 'z']\n",
      "[97, 98, 99, 100, 101, 102, 103, 104, 105, 106, 107, 108, 109, 110, 111, 112, 113, 114, 115, 116, 117, 118, 119, 120, 121, 122]\n"
     ]
    }
   ],
   "source": [
    "alphabet = []\n",
    "for i in range(97, 123):\n",
    "    alphabet.append(chr(i))\n",
    "\n",
    "print(alphabet)\n",
    "\n",
    "unicode = []\n",
    "for i in alphabet:\n",
    "    unicode.append(ord(i))\n",
    "\n",
    "print(unicode)\n",
    "\n"
   ]
  },
  {
   "cell_type": "markdown",
   "id": "d408e6ff",
   "metadata": {},
   "source": [
    "### Built-in module"
   ]
  },
  {
   "cell_type": "code",
   "execution_count": 47,
   "id": "21651f64",
   "metadata": {},
   "outputs": [
    {
     "name": "stdout",
     "output_type": "stream",
     "text": [
      "src_str = ABCDEFGHIJKLMNOPQRSTUVWXYZ\n",
      "src_str = abcdefghijklmnopqrstuvwxyz\n"
     ]
    }
   ],
   "source": [
    "import string\n",
    "src_str = string.ascii_uppercase\n",
    "print('src_str =', src_str)\n",
    "\n",
    "src_str = string.ascii_lowercase\n",
    "print('src_str =', src_str)"
   ]
  },
  {
   "cell_type": "markdown",
   "id": "1cd137cc",
   "metadata": {},
   "source": [
    "##### string slicing"
   ]
  },
  {
   "cell_type": "code",
   "execution_count": 44,
   "id": "4cb642ce",
   "metadata": {},
   "outputs": [
    {
     "name": "stdout",
     "output_type": "stream",
     "text": [
      "dst_str = BCDEFGHIJKLMNOPQRSTUVWXYZA\n"
     ]
    }
   ],
   "source": [
    "src_str = string.ascii_uppercase\n",
    "dst_str = src_str[1:] + src_str[:1]\n",
    "print('dst_str =', dst_str)"
   ]
  },
  {
   "cell_type": "markdown",
   "id": "5664bf55",
   "metadata": {},
   "source": [
    "### f-string"
   ]
  },
  {
   "cell_type": "code",
   "execution_count": 45,
   "id": "7594be95",
   "metadata": {},
   "outputs": [
    {
     "name": "stdout",
     "output_type": "stream",
     "text": [
      "comparison result of r and r is True\n",
      "comparison result of a and a is True\n",
      "comparison result of c and c is True\n",
      "comparison result of e and a is False\n",
      "comparison result of a and e is False\n",
      "comparison result of c and c is True\n",
      "comparison result of a and a is True\n",
      "comparison result of r and r is True\n"
     ]
    }
   ],
   "source": [
    "string = 'race a car'\n",
    "\n",
    "new_str = string.replace(' ', '')\n",
    "\n",
    "for i in range(len(new_str)):\n",
    "    x = (len(new_str)-i)-1\n",
    "    if new_str[i] == new_str[x]:\n",
    "        print(f\"comparison result of {new_str[i]} and {new_str[x]} is True\")\n",
    "    else:\n",
    "        print(f\"comparison result of {new_str[i]} and {new_str[x]} is False\")"
   ]
  },
  {
   "cell_type": "markdown",
   "id": "e43bb8d4",
   "metadata": {},
   "source": [
    "### %-formatting method"
   ]
  },
  {
   "cell_type": "code",
   "execution_count": 46,
   "id": "f4f55f0e",
   "metadata": {},
   "outputs": [
    {
     "data": {
      "text/plain": [
       "'Hello, Emcast! You are 100 years old.'"
      ]
     },
     "execution_count": 46,
     "metadata": {},
     "output_type": "execute_result"
    }
   ],
   "source": [
    "'Hello, %s! You are %d years old.'%('Emcast', 100)"
   ]
  },
  {
   "cell_type": "code",
   "execution_count": null,
   "id": "b318f7f9",
   "metadata": {},
   "outputs": [],
   "source": []
  }
 ],
 "metadata": {
  "kernelspec": {
   "display_name": "Python 3 (ipykernel)",
   "language": "python",
   "name": "python3"
  },
  "language_info": {
   "codemirror_mode": {
    "name": "ipython",
    "version": 3
   },
   "file_extension": ".py",
   "mimetype": "text/x-python",
   "name": "python",
   "nbconvert_exporter": "python",
   "pygments_lexer": "ipython3",
   "version": "3.11.5"
  }
 },
 "nbformat": 4,
 "nbformat_minor": 5
}
