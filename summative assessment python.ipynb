{
 "cells": [
  {
   "cell_type": "code",
   "execution_count": 4,
   "id": "9b0e45b1",
   "metadata": {},
   "outputs": [
    {
     "name": "stdout",
     "output_type": "stream",
     "text": [
      "0\n",
      "9 2\n",
      "4700\n"
     ]
    }
   ],
   "source": [
    "# 1\n",
    "\n",
    "money = 5000\n",
    "price = 300\n",
    "change = money - price\n",
    "coin500s = change // 500\n",
    "coin100s = (change % 500) // 100\n",
    "\n",
    "print(2 // 100)\n",
    "print(coin500s, coin100s)\n",
    "print(change)"
   ]
  },
  {
   "cell_type": "code",
   "execution_count": 8,
   "id": "8b65022b",
   "metadata": {},
   "outputs": [
    {
     "name": "stdout",
     "output_type": "stream",
     "text": [
      "[4, 16, 8]\n"
     ]
    }
   ],
   "source": [
    "# 2\n",
    "\n",
    "import random as rd\n",
    "list_var = list(range(1, 21))\n",
    "print(rd.sample(list_var, 3)) \n",
    "# The choice() method returns a randomly selected element from the specified sequence\n",
    "# which return only one element from the sequecne"
   ]
  },
  {
   "cell_type": "code",
   "execution_count": 11,
   "id": "636e96b8",
   "metadata": {},
   "outputs": [
    {
     "name": "stdout",
     "output_type": "stream",
     "text": [
      "{'[10, 2]': 4}\n",
      "10\n"
     ]
    }
   ],
   "source": [
    "# 100\n",
    "\n",
    "PAGES, DAYS = 10, 2\n",
    "memo = {}\n",
    "\n",
    "def search(page, days):\n",
    "    key = str([page, days])\n",
    "    if key in memo:\n",
    "        return memo[key]\n",
    "    if days == 1:\n",
    "        return 1\n",
    "    cnt = 0\n",
    "    for i in range(1, (page - days * (days -1) // 2) // days + 1):\n",
    "        cnt += search(page - i * days, days - 1)\n",
    "    memo[key] = cnt\n",
    "    return cnt\n",
    "\n",
    "cnt = 0\n",
    "# this loop give the search function argument\n",
    "for i in range(1, DAYS + 1):\n",
    "    cnt += search(PAGES, i)\n",
    "\n",
    "print(memo)\n",
    "print(cnt * 2)"
   ]
  },
  {
   "cell_type": "code",
   "execution_count": 16,
   "id": "a6fcfba1",
   "metadata": {},
   "outputs": [
    {
     "name": "stdout",
     "output_type": "stream",
     "text": [
      "6\n",
      "{'[2, 1]': 2, '[3, 1]': 3, '[3, 2]': 3, '[4, 2]': 6}\n"
     ]
    }
   ],
   "source": [
    "# 98\n",
    "\n",
    "RUNNER = 7\n",
    "HOOK = 5\n",
    "\n",
    "memo = {}         # store data (memoization)\n",
    "def nCr(n, r):\n",
    "    global memo \n",
    "    key = str([n, r])      # create unique combination as string, help in memo \n",
    "    if key in memo:        # check if key already exist in memo, \n",
    "        return memo[key]   # if so return it to aviod redundant calculation\n",
    "    if r == 0 or r == n:\n",
    "        return 1\n",
    "    memo[key] = nCr(n -1, r -1) + nCr(n -1, r)\n",
    "    return memo[key]\n",
    "\n",
    "result = nCr(HOOK - 1, RUNNER - HOOK)\n",
    "print(result)\n",
    "print(memo)"
   ]
  },
  {
   "cell_type": "code",
   "execution_count": 19,
   "id": "291b6566",
   "metadata": {},
   "outputs": [
    {
     "name": "stdout",
     "output_type": "stream",
     "text": [
      "10\n"
     ]
    }
   ],
   "source": [
    "# 8\n",
    "\n",
    "input_a, input_b = 100, 200\n",
    "cnt = 0\n",
    "for i in range(input_a, input_b + 1):\n",
    "    k, r = i, 0\n",
    "    while k != 0:\n",
    "        r = r * 10 + k % 10\n",
    "        k //= 10\n",
    "    if i == r:\n",
    "        cnt += 1\n",
    "        \n",
    "print(cnt)\n"
   ]
  },
  {
   "cell_type": "code",
   "execution_count": 21,
   "id": "02d8bfa5",
   "metadata": {},
   "outputs": [
    {
     "name": "stdout",
     "output_type": "stream",
     "text": [
      "{'o1': {'i1': 1, 'i2': 2}, 'o2': {'i3': 'updated', 'i4': 4}}\n"
     ]
    }
   ],
   "source": [
    "# 20\n",
    "\n",
    "nested_dict = {}\n",
    "\n",
    "nested_dict.setdefault('o1', {'i1': 1, 'i2': 2}) # add 'o1' as key to nested_dict\n",
    "nested_dict.setdefault('o2', {'i3': 3, 'i4': 4}) # add 'o2' as key to nested_dict\n",
    "\n",
    "nested_dict['o2']['i3'] = 'updated' # accessing outer key and inner key, then change value to 'update'\n",
    "print(nested_dict)"
   ]
  },
  {
   "cell_type": "code",
   "execution_count": 3,
   "id": "d6d49dc0",
   "metadata": {},
   "outputs": [
    {
     "name": "stdout",
     "output_type": "stream",
     "text": [
      "{'o1': {'i1': 'default', 'i2': 'default'}, 'o2': {'i3': 3}}\n"
     ]
    }
   ],
   "source": [
    "# 21\n",
    "\n",
    "nested_dict = {}\n",
    "\n",
    "nested_dict.setdefault('o1', {}) # (key, value)\n",
    "nested_dict.setdefault('o2', {'i3': 3})\n",
    "\n",
    "inner_keys = ['i1', 'i2']\n",
    "nested_dict['o1'] =  dict.fromkeys(inner_keys, 'default') # add inner_keys as keys in o1 and has default value\n",
    "print(nested_dict)"
   ]
  },
  {
   "cell_type": "code",
   "execution_count": 17,
   "id": "249abf0f",
   "metadata": {},
   "outputs": [
    {
     "name": "stdout",
     "output_type": "stream",
     "text": [
      "{'f': 35}\n",
      "('f', 35)\n"
     ]
    }
   ],
   "source": [
    "# 25\n",
    "\n",
    "my_dict = {'a': 10, 'b': 20, 'c': 30, 'd': 40, 'e': 50}\n",
    "\n",
    "for key, value in my_dict.items():\n",
    "    if 20 <= value < 40:\n",
    "        my_dict[key] -= 5\n",
    "        \n",
    "my_dict['f'] = my_dict.get('c', 0) + 10\n",
    "filtered_items = {key: value for key, value in my_dict.items() if 30 <= value < 40}\n",
    "print(filtered_items)\n",
    "print(filtered_items.popitem())\n",
    "print(filtered_items.popitem()[1])  # dictionary is now empty\n",
    "\n",
    "# popitem removes and returns the last key-value pair from dictionary"
   ]
  },
  {
   "cell_type": "code",
   "execution_count": null,
   "id": "64180176",
   "metadata": {},
   "outputs": [],
   "source": [
    "# operator\n",
    "<  is issubset()\n",
    "> is issuperset()"
   ]
  },
  {
   "cell_type": "code",
   "execution_count": 20,
   "id": "58015408",
   "metadata": {},
   "outputs": [
    {
     "name": "stdout",
     "output_type": "stream",
     "text": [
      "{3}\n",
      "{3} {3} {3, 4, 5, 6, 7}\n"
     ]
    }
   ],
   "source": [
    "# 27\n",
    "\n",
    "set1 = {1, 2, 3, 4, 5}\n",
    "set2 = {1, 5, 4, 2, 6, 7, 8}\n",
    "set3 = {8, 1, 2, 3}\n",
    "print((set1 - set2) | (set3 - set2) & (set2 ^ set3))\n",
    "print(set1 - set2, set3 - set2, set2 ^ set3)"
   ]
  },
  {
   "cell_type": "code",
   "execution_count": 23,
   "id": "6cb4bde8",
   "metadata": {},
   "outputs": [
    {
     "name": "stdout",
     "output_type": "stream",
     "text": [
      "('a', 1, 1)\n",
      "<zip object at 0x104ffa700>\n"
     ]
    }
   ],
   "source": [
    "# 28\n",
    "\n",
    "my_iter = zip(['a', 'b', 'c'], (1, 2, 3, 4, 5), {1, 1, 1})\n",
    "\n",
    "for item in my_iter:\n",
    "    print(item)\n",
    "    \n",
    "print(my_iter)"
   ]
  },
  {
   "cell_type": "code",
   "execution_count": 29,
   "id": "d9c48c0c",
   "metadata": {},
   "outputs": [
    {
     "name": "stdout",
     "output_type": "stream",
     "text": [
      "6\n",
      "7\n"
     ]
    }
   ],
   "source": [
    "# 32\n",
    "\n",
    "string = 'I have a cup of banana and cherry juice.'\n",
    "string.replace('cherry', 'apple')\n",
    "print(string.count('a'))\n",
    "\n",
    "string = 'I have a cup of banana and cherry juice.'\n",
    "a = string.replace('cherry', 'apple')\n",
    "print(a.count('a')) # 7"
   ]
  },
  {
   "cell_type": "code",
   "execution_count": 40,
   "id": "383e0097",
   "metadata": {},
   "outputs": [
    {
     "name": "stdout",
     "output_type": "stream",
     "text": [
      "hat\n",
      "CUP\n",
      "ant\n",
      "\n",
      "True\n",
      "False\n",
      "HATcupAntaNT\n",
      "ant\n"
     ]
    }
   ],
   "source": [
    "lst = ['ant', 'CUP', 'hat']\n",
    "\n",
    "temp = lst.pop() # assign the pop value to temp\n",
    "uppercase = temp.upper()\n",
    "print(temp)\n",
    "\n",
    "temp = lst.pop() # assign another pop value to temp\n",
    "lowercase = temp.lower()\n",
    "print(temp)\n",
    "\n",
    "temp = lst.pop() # assign another pop value to temp\n",
    "capital = temp.capitalize()\n",
    "print(temp)\n",
    "\n",
    "print()\n",
    "\n",
    "swapped = ''\n",
    "if capital.istitle():\n",
    "    swapped = capital.swapcase()\n",
    "    \n",
    "lst.append(uppercase)\n",
    "lst.append(lowercase)\n",
    "lst.append(capital)\n",
    "lst.append(swapped)\n",
    "\n",
    "joined_string = ''.join(lst)\n",
    "print(joined_string.startswith('cup', 3))\n",
    "print(joined_string.startswith('cup'))\n",
    "print(joined_string)\n",
    "print(temp)"
   ]
  },
  {
   "cell_type": "code",
   "execution_count": null,
   "id": "9eaf50c4",
   "metadata": {},
   "outputs": [],
   "source": []
  }
 ],
 "metadata": {
  "kernelspec": {
   "display_name": "Python 3 (ipykernel)",
   "language": "python",
   "name": "python3"
  },
  "language_info": {
   "codemirror_mode": {
    "name": "ipython",
    "version": 3
   },
   "file_extension": ".py",
   "mimetype": "text/x-python",
   "name": "python",
   "nbconvert_exporter": "python",
   "pygments_lexer": "ipython3",
   "version": "3.11.5"
  }
 },
 "nbformat": 4,
 "nbformat_minor": 5
}
