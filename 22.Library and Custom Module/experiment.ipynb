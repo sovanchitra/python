{
 "cells": [
  {
   "cell_type": "code",
   "execution_count": 2,
   "id": "65d71ef5",
   "metadata": {},
   "outputs": [
    {
     "name": "stdout",
     "output_type": "stream",
     "text": [
      "milk\n",
      "1\n"
     ]
    }
   ],
   "source": [
    "items = {'coffee drink': 7, 'pen': 3, 'apper cup': 2, 'milk': 1, 'coke': 4, 'book': 5}\n",
    "\n",
    "inputt = input()\n",
    "for key, value in items.items():\n",
    "    if inputt == key:\n",
    "        print(items[inputt])"
   ]
  },
  {
   "cell_type": "code",
   "execution_count": 7,
   "id": "5c554692",
   "metadata": {},
   "outputs": [
    {
     "name": "stdout",
     "output_type": "stream",
     "text": [
      "{'211101': ['David Doe', '010-1234-4500']}\n",
      "{'211102': ['John Smith', '010-2230-6540']}\n",
      "{'211103': ['Jane Carter', '010-3232-7788']}\n"
     ]
    }
   ],
   "source": [
    "student_tup = (('211101', 'David Doe', '010-1234-4500'),\n",
    "              ('211102', 'John Smith', '010-2230-6540'),\n",
    "              ('211103', 'Jane Carter', '010-3232-7788'))\n",
    "for e in student_tup:\n",
    "    dic = {}\n",
    "#     for t in e:\n",
    "    dic[e[0]] = [e[1], e[2]]\n",
    "        \n",
    "    print(dic)"
   ]
  },
  {
   "cell_type": "code",
   "execution_count": 13,
   "id": "d2d11e76",
   "metadata": {},
   "outputs": [
    {
     "name": "stdout",
     "output_type": "stream",
     "text": [
      "355709\n",
      "pleas enter id student again\n"
     ]
    }
   ],
   "source": [
    "student_tup = (('211101', 'David Doe', '010-1234-4500'),\n",
    "              ('211102', 'John Smith', '010-2230-6540'),\n",
    "              ('211103', 'Jane Carter', '010-3232-7788'))\n",
    "dic = {}\n",
    "for e in student_tup:\n",
    "   \n",
    "    dic[e[0]] = [e[1], e[2]]\n",
    "        \n",
    "ids = input()\n",
    "\n",
    "if ids in dic.keys():\n",
    "    print(f\"name {dic[ids][0]}\\nphone {dic[ids][1]}\")\n",
    "else:\n",
    "    print(\"pleas enter id student again\")"
   ]
  },
  {
   "cell_type": "code",
   "execution_count": null,
   "id": "50553b77",
   "metadata": {},
   "outputs": [],
   "source": []
  }
 ],
 "metadata": {
  "kernelspec": {
   "display_name": "Python 3 (ipykernel)",
   "language": "python",
   "name": "python3"
  },
  "language_info": {
   "codemirror_mode": {
    "name": "ipython",
    "version": 3
   },
   "file_extension": ".py",
   "mimetype": "text/x-python",
   "name": "python",
   "nbconvert_exporter": "python",
   "pygments_lexer": "ipython3",
   "version": "3.11.5"
  }
 },
 "nbformat": 4,
 "nbformat_minor": 5
}
