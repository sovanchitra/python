{
 "cells": [
  {
   "cell_type": "markdown",
   "id": "a9791b09",
   "metadata": {},
   "source": [
    "### select three multiples of 5 of 0-100 with random module"
   ]
  },
  {
   "cell_type": "code",
   "execution_count": 5,
   "id": "c112b0a1",
   "metadata": {},
   "outputs": [
    {
     "name": "stdout",
     "output_type": "stream",
     "text": [
      "[55, 50, 0]\n"
     ]
    }
   ],
   "source": [
    "import random as rd\n",
    "\n",
    "lst = []\n",
    "count = 0\n",
    "while count < 3:\n",
    "    ran_num = rd.randint(0, 100)\n",
    "    if ran_num % 5 == 0:\n",
    "        lst.append(ran_num)\n",
    "        count += 1\n",
    "        \n",
    "print(lst)"
   ]
  },
  {
   "cell_type": "code",
   "execution_count": 2,
   "id": "a05e0aaf",
   "metadata": {},
   "outputs": [
    {
     "name": "stdout",
     "output_type": "stream",
     "text": [
      "[45, 65, 20]\n"
     ]
    }
   ],
   "source": [
    "# or\n",
    "import random as rd\n",
    "\n",
    "result_list = rd.sample(range(5, 101, 5), 3)\n",
    "print(result_list)"
   ]
  },
  {
   "cell_type": "markdown",
   "id": "a416330f",
   "metadata": {},
   "source": [
    "### print the next anniversary after a 100 days, using timedelta"
   ]
  },
  {
   "cell_type": "code",
   "execution_count": 19,
   "id": "2b7904ae",
   "metadata": {},
   "outputs": [
    {
     "name": "stdout",
     "output_type": "stream",
     "text": [
      "This anniversary:  2024-03-08\n",
      "Next anniversary:  2024-06-16\n"
     ]
    }
   ],
   "source": [
    "import datetime\n",
    "\n",
    "current_anni = datetime.date.today()\n",
    "next_anni = current_anni + datetime.timedelta(days = 100)\n",
    "print('This anniversary: ',current_anni)\n",
    "print('Next anniversary: ',next_anni)"
   ]
  },
  {
   "cell_type": "code",
   "execution_count": 4,
   "id": "da9419dd",
   "metadata": {},
   "outputs": [
    {
     "name": "stdout",
     "output_type": "stream",
     "text": [
      "The 100th day anniversary is on 2022.04.03\n"
     ]
    }
   ],
   "source": [
    "# or\n",
    "\n",
    "import datetime as dt\n",
    "\n",
    "today = dt.datetime(2021, 12, 24)\n",
    "d_day = dt.timedelta(days = 100)\n",
    "anniv_day = today + d_day\n",
    "print('The 100th day anniversary is on', anniv_day.strftime(\"%Y.%m.%d\"))"
   ]
  },
  {
   "cell_type": "code",
   "execution_count": null,
   "id": "bdc18c18",
   "metadata": {},
   "outputs": [],
   "source": []
  }
 ],
 "metadata": {
  "kernelspec": {
   "display_name": "Python 3 (ipykernel)",
   "language": "python",
   "name": "python3"
  },
  "language_info": {
   "codemirror_mode": {
    "name": "ipython",
    "version": 3
   },
   "file_extension": ".py",
   "mimetype": "text/x-python",
   "name": "python",
   "nbconvert_exporter": "python",
   "pygments_lexer": "ipython3",
   "version": "3.11.5"
  }
 },
 "nbformat": 4,
 "nbformat_minor": 5
}
