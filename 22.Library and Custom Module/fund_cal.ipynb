{
 "cells": [
  {
   "cell_type": "markdown",
   "id": "66a86344",
   "metadata": {},
   "source": [
    "### user defined module for funding with ticket"
   ]
  },
  {
   "cell_type": "code",
   "execution_count": 2,
   "id": "66070bea",
   "metadata": {},
   "outputs": [],
   "source": [
    "def fund(t):\n",
    "    return t + 3"
   ]
  },
  {
   "cell_type": "code",
   "execution_count": null,
   "id": "9c81d8bb",
   "metadata": {},
   "outputs": [],
   "source": []
  }
 ],
 "metadata": {
  "kernelspec": {
   "display_name": "Python 3 (ipykernel)",
   "language": "python",
   "name": "python3"
  },
  "language_info": {
   "codemirror_mode": {
    "name": "ipython",
    "version": 3
   },
   "file_extension": ".py",
   "mimetype": "text/x-python",
   "name": "python",
   "nbconvert_exporter": "python",
   "pygments_lexer": "ipython3",
   "version": "3.11.5"
  }
 },
 "nbformat": 4,
 "nbformat_minor": 5
}
