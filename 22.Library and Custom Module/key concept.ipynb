{
 "cells": [
  {
   "cell_type": "code",
   "execution_count": 1,
   "id": "a594e230",
   "metadata": {},
   "outputs": [
    {
     "ename": "SyntaxError",
     "evalue": "invalid syntax (1758364954.py, line 1)",
     "output_type": "error",
     "traceback": [
      "\u001b[0;36m  Cell \u001b[0;32mIn[1], line 1\u001b[0;36m\u001b[0m\n\u001b[0;31m    import module_name1[, module_name2, module_name3, ...]\u001b[0m\n\u001b[0m                       ^\u001b[0m\n\u001b[0;31mSyntaxError\u001b[0m\u001b[0;31m:\u001b[0m invalid syntax\n"
     ]
    }
   ],
   "source": [
    "import module_name1[, module_name2, module_name3, ...]"
   ]
  },
  {
   "cell_type": "markdown",
   "id": "90a14518",
   "metadata": {},
   "source": [
    "### importing built-in module"
   ]
  },
  {
   "cell_type": "code",
   "execution_count": 1,
   "id": "7052130b",
   "metadata": {},
   "outputs": [
    {
     "data": {
      "text/plain": [
       "0.8414709848078965"
      ]
     },
     "execution_count": 1,
     "metadata": {},
     "output_type": "execute_result"
    }
   ],
   "source": [
    "import math\n",
    "math.sin(1)"
   ]
  },
  {
   "cell_type": "markdown",
   "id": "0a53267f",
   "metadata": {},
   "source": [
    "### install external modules using pip install"
   ]
  },
  {
   "cell_type": "code",
   "execution_count": 4,
   "id": "ee44c81d",
   "metadata": {},
   "outputs": [
    {
     "name": "stdout",
     "output_type": "stream",
     "text": [
      "▇        \n",
      "▇        \n",
      "▇        \n",
      "▇        \n",
      "▇        \n",
      "▇        \n",
      "▇ ▇ ▇    \n",
      "▇ ▇ ▇    \n",
      "▇ ▇ ▇    \n",
      "▇ ▇ ▇ ▇ ▇\n",
      "\n"
     ]
    }
   ],
   "source": [
    "import chart\n",
    "x = [1,2,3,4,5,3,1,5,8,2,1,3,6,2,1]\n",
    "chart.histogram(x)"
   ]
  },
  {
   "cell_type": "markdown",
   "id": "610e3d96",
   "metadata": {},
   "source": [
    "### created fund_n module"
   ]
  },
  {
   "cell_type": "code",
   "execution_count": 3,
   "id": "5e84c647",
   "metadata": {},
   "outputs": [
    {
     "name": "stdout",
     "output_type": "stream",
     "text": [
      "Enter the total number of people attending the hospital fund event: 3\n",
      "Total fundraising is:  6\n"
     ]
    }
   ],
   "source": [
    "import fund_cal\n",
    "\n",
    "def main():\n",
    "    t = int(input('Enter the total number of people attending the hospital fund event: '))\n",
    "    total = fund_cal.fund(t)\n",
    "    \n",
    "    print('Total fundraising is: ', total)\n",
    "    \n",
    "main()"
   ]
  },
  {
   "cell_type": "markdown",
   "id": "e91bd679",
   "metadata": {},
   "source": [
    "### created cal_n module"
   ]
  },
  {
   "cell_type": "code",
   "execution_count": 3,
   "id": "5481d99a",
   "metadata": {},
   "outputs": [
    {
     "name": "stdout",
     "output_type": "stream",
     "text": [
      "Enter the number you want to calculate: 5\n",
      "The sum of all the numbers from 1 to 5 is: 15\n",
      "The value of adding all the consecutive numbers from 1 to 5 is: 15\n"
     ]
    }
   ],
   "source": [
    "import cal_n\n",
    "\n",
    "def main():\n",
    "    n = int(input('Enter the number you want to calculate: '))\n",
    "    \n",
    "    sum_v = cal_n.sum_(n)\n",
    "    print('The sum of all the numbers from 1 to', n, 'is:', sum_v)\n",
    "    \n",
    "    sum_vv = cal_n.sum2_(n)\n",
    "    print('The value of adding all the consecutive numbers from 1 to', n, 'is:', sum_vv)\n",
    "    \n",
    "main()"
   ]
  },
  {
   "cell_type": "markdown",
   "id": "894c2284",
   "metadata": {},
   "source": [
    "### built in module"
   ]
  },
  {
   "cell_type": "markdown",
   "id": "1c406a2f",
   "metadata": {},
   "source": [
    "#### random module"
   ]
  },
  {
   "cell_type": "code",
   "execution_count": 1,
   "id": "812eaad6",
   "metadata": {},
   "outputs": [
    {
     "name": "stdout",
     "output_type": "stream",
     "text": [
      "0.3329979747899948\n",
      "0.09400755104145431\n",
      "0.34572933163992703\n",
      "0.796114286139521\n",
      "0.6027422930271839\n",
      "0.27807877343495246\n",
      "0.19762002826098868\n",
      "0.8597590177363333\n",
      "0.8557371627668269\n",
      "0.7601927939264873\n"
     ]
    }
   ],
   "source": [
    "import random\n",
    "i = 0\n",
    "for i in range(10):\n",
    "    a = random.random()\n",
    "    print(a)"
   ]
  },
  {
   "cell_type": "code",
   "execution_count": 4,
   "id": "30f22256",
   "metadata": {},
   "outputs": [
    {
     "name": "stdout",
     "output_type": "stream",
     "text": [
      "[13, 11, 7, 6, 10, 9]\n"
     ]
    }
   ],
   "source": [
    "import random\n",
    "\n",
    "data = [1,2,3,4,5,6,7,8,9,10,11,11,12,13,14,15]\n",
    "a = random.sample(data, 6)\n",
    "\n",
    "print(a)"
   ]
  },
  {
   "cell_type": "code",
   "execution_count": 5,
   "id": "ce3d247b",
   "metadata": {},
   "outputs": [
    {
     "name": "stdout",
     "output_type": "stream",
     "text": [
      "Labrador Retriever\n"
     ]
    }
   ],
   "source": [
    "import random\n",
    "\n",
    "dog_list = ('Labrador Retriever', 'German Shepherd', 'Bulldog', 'Bealge', 'Yorkshire Terrier')\n",
    "my_lovely_dog = random.choice(dog_list)\n",
    "\n",
    "print(my_lovely_dog)"
   ]
  },
  {
   "cell_type": "code",
   "execution_count": 6,
   "id": "78188c4b",
   "metadata": {},
   "outputs": [
    {
     "name": "stdout",
     "output_type": "stream",
     "text": [
      "When a <= b, a <= N <= b, 8.424807833733869\n",
      "When b < a, b < N < a 3.683376256987728\n"
     ]
    }
   ],
   "source": [
    "import random\n",
    "\n",
    "x = random.uniform(1.5, 10)\n",
    "y = random.uniform(10, 1.5)\n",
    "\n",
    "print('When a <= b, a <= N <= b,', x)\n",
    "print('When b < a, b < N < a', y)"
   ]
  },
  {
   "cell_type": "markdown",
   "id": "b13d9655",
   "metadata": {},
   "source": [
    "#### time module"
   ]
  },
  {
   "cell_type": "code",
   "execution_count": 7,
   "id": "d8d9f176",
   "metadata": {},
   "outputs": [
    {
     "name": "stdout",
     "output_type": "stream",
     "text": [
      "hello 1\n",
      "hello 2\n",
      "hello 3\n",
      "hello 4\n",
      "hello 5\n",
      "hello 6\n",
      "hello 7\n",
      "hello 8\n",
      "hello 9\n",
      "hello 10\n"
     ]
    }
   ],
   "source": [
    "import time\n",
    "\n",
    "for i in range(10):\n",
    "    print('hello', i + 1)\n",
    "    time.sleep(2)"
   ]
  },
  {
   "cell_type": "code",
   "execution_count": 8,
   "id": "25ce5efe",
   "metadata": {},
   "outputs": [
    {
     "name": "stdout",
     "output_type": "stream",
     "text": [
      "1709277850.409446\n",
      "Fri Mar  1 14:24:10 2024\n"
     ]
    }
   ],
   "source": [
    "import time\n",
    "\n",
    "a = time.time()\n",
    "b = time.ctime()\n",
    "\n",
    "print(a)\n",
    "print(b)"
   ]
  },
  {
   "cell_type": "code",
   "execution_count": 9,
   "id": "23207824",
   "metadata": {},
   "outputs": [
    {
     "name": "stdout",
     "output_type": "stream",
     "text": [
      "Fri Mar  1 14:25:04 2024\n",
      "Fri Mar  1 14:25:05 2024\n",
      "Fri Mar  1 14:25:06 2024\n",
      "Fri Mar  1 14:25:07 2024\n",
      "Fri Mar  1 14:25:08 2024\n",
      "Fri Mar  1 14:25:09 2024\n",
      "Fri Mar  1 14:25:10 2024\n",
      "Fri Mar  1 14:25:11 2024\n",
      "Fri Mar  1 14:25:12 2024\n",
      "Fri Mar  1 14:25:13 2024\n"
     ]
    }
   ],
   "source": [
    "# digital clock\n",
    "import time\n",
    "\n",
    "for i in range(10):\n",
    "    time.sleep(1)\n",
    "    print(time.ctime())"
   ]
  },
  {
   "cell_type": "code",
   "execution_count": 10,
   "id": "14d864e3",
   "metadata": {},
   "outputs": [
    {
     "data": {
      "text/plain": [
       "'Fri, 01, Mar, 2024, 07:30:01 + 0000'"
      ]
     },
     "execution_count": 10,
     "metadata": {},
     "output_type": "execute_result"
    }
   ],
   "source": [
    "from time import gmtime, strftime\n",
    "strftime('%a, %d, %b, %Y, %H:%M:%S + 0000', gmtime())"
   ]
  },
  {
   "cell_type": "code",
   "execution_count": 11,
   "id": "0f6192ec",
   "metadata": {},
   "outputs": [
    {
     "data": {
      "text/plain": [
       "'Fri, 01, Mar, 2024, 14:30:31 + 0000'"
      ]
     },
     "execution_count": 11,
     "metadata": {},
     "output_type": "execute_result"
    }
   ],
   "source": [
    "from time import localtime, strftime\n",
    "strftime('%a, %d, %b, %Y, %H:%M:%S + 0000', localtime())"
   ]
  },
  {
   "cell_type": "markdown",
   "id": "13d648e4",
   "metadata": {},
   "source": [
    "#### datetime module"
   ]
  },
  {
   "cell_type": "code",
   "execution_count": 12,
   "id": "1b60c117",
   "metadata": {},
   "outputs": [
    {
     "name": "stdout",
     "output_type": "stream",
     "text": [
      "2024-03-01\n",
      "2024 year\n",
      "3 month\n",
      "1 day\n"
     ]
    }
   ],
   "source": [
    "import datetime\n",
    "\n",
    "today = datetime.date.today()\n",
    "\n",
    "print(today)\n",
    "print(today.year, 'year')\n",
    "print(today.month, 'month')\n",
    "print(today.day, 'day')"
   ]
  },
  {
   "cell_type": "code",
   "execution_count": 14,
   "id": "218d6982",
   "metadata": {},
   "outputs": [
    {
     "name": "stdout",
     "output_type": "stream",
     "text": [
      "2024-03-01 14:35:38.408257\n",
      "2024 year\n",
      "3 month\n",
      "1 day\n",
      "14 hour\n",
      "35 minute\n",
      "38 second\n"
     ]
    }
   ],
   "source": [
    "import datetime\n",
    "\n",
    "today = datetime.datetime.now()\n",
    "\n",
    "print(today)\n",
    "print(today.year, 'year')\n",
    "print(today.month, 'month')\n",
    "print(today.day, 'day')\n",
    "print(today.hour, 'hour')\n",
    "print(today.minute, 'minute')\n",
    "print(today.second, 'second')"
   ]
  },
  {
   "cell_type": "code",
   "execution_count": 16,
   "id": "1502f556",
   "metadata": {},
   "outputs": [
    {
     "name": "stdout",
     "output_type": "stream",
     "text": [
      "64 days, 8:05:56.000010\n"
     ]
    }
   ],
   "source": [
    "from datetime import timedelta\n",
    "\n",
    "delta = timedelta(\n",
    "    days = 50,\n",
    "    seconds = 27,\n",
    "    microseconds = 10,\n",
    "    milliseconds = 29000,\n",
    "    minutes = 5,\n",
    "    hours = 8,\n",
    "    weeks = 2)\n",
    "\n",
    "print(delta)"
   ]
  },
  {
   "cell_type": "code",
   "execution_count": 17,
   "id": "37765f2b",
   "metadata": {},
   "outputs": [
    {
     "name": "stdout",
     "output_type": "stream",
     "text": [
      "2000-06-02 00:00:00\n"
     ]
    }
   ],
   "source": [
    "from datetime import timedelta\n",
    "\n",
    "d = datetime.datetime(2000, 5, 3)\n",
    "\n",
    "delta = datetime.timedelta(days = 30)\n",
    "\n",
    "print(d + delta)"
   ]
  },
  {
   "cell_type": "code",
   "execution_count": 18,
   "id": "e0a2a6da",
   "metadata": {},
   "outputs": [
    {
     "name": "stdout",
     "output_type": "stream",
     "text": [
      "2024-03-01 14:50:46.046888\n",
      "2024-12-30 14:50:46.046888\n"
     ]
    }
   ],
   "source": [
    "from datetime import datetime\n",
    "\n",
    "now = datetime.now()\n",
    "\n",
    "print(now)\n",
    "\n",
    "replace_time = now.replace(month = 12, day = 30)\n",
    "\n",
    "print(replace_time)"
   ]
  },
  {
   "cell_type": "markdown",
   "id": "0fb30956",
   "metadata": {},
   "source": [
    "#### os module"
   ]
  },
  {
   "cell_type": "code",
   "execution_count": 19,
   "id": "f22bf633",
   "metadata": {},
   "outputs": [
    {
     "data": {
      "text/plain": [
       "'/Users/anbschool0032/Desktop/python/22.Library and Custom Module'"
      ]
     },
     "execution_count": 19,
     "metadata": {},
     "output_type": "execute_result"
    }
   ],
   "source": [
    "import os\n",
    "os.getcwd()"
   ]
  },
  {
   "cell_type": "code",
   "execution_count": 20,
   "id": "8e4121ca",
   "metadata": {},
   "outputs": [
    {
     "data": {
      "text/plain": [
       "['.DS_Store',\n",
       " 'fund_cal.ipynb',\n",
       " 'key concept.ipynb',\n",
       " '__pycache__',\n",
       " 'cal_n.ipynb',\n",
       " 'cal_n.py',\n",
       " '.ipynb_checkpoints',\n",
       " 'fund_cal.py']"
      ]
     },
     "execution_count": 20,
     "metadata": {},
     "output_type": "execute_result"
    }
   ],
   "source": [
    "import os\n",
    "os.listdir()"
   ]
  },
  {
   "cell_type": "markdown",
   "id": "026d5238",
   "metadata": {},
   "source": [
    "#### turtle graphic module"
   ]
  },
  {
   "cell_type": "code",
   "execution_count": null,
   "id": "a3b63f8c",
   "metadata": {},
   "outputs": [],
   "source": [
    "import turtle as t\n",
    "\n",
    "t.setup(width = 400, height = 400)\n",
    "for i in range(200):\n",
    "    t.forward(i)\n",
    "    t.left(93)\n",
    "t.done()"
   ]
  },
  {
   "cell_type": "code",
   "execution_count": 13,
   "id": "c511106b",
   "metadata": {},
   "outputs": [
    {
     "ename": "Terminator",
     "evalue": "",
     "output_type": "error",
     "traceback": [
      "\u001b[0;31m---------------------------------------------------------------------------\u001b[0m",
      "\u001b[0;31mTerminator\u001b[0m                                Traceback (most recent call last)",
      "Cell \u001b[0;32mIn[13], line 4\u001b[0m\n\u001b[1;32m      2\u001b[0m \u001b[38;5;28;01mimport\u001b[39;00m \u001b[38;5;21;01mmath\u001b[39;00m\n\u001b[1;32m      3\u001b[0m \u001b[38;5;66;03m# u\u001b[39;00m\n\u001b[0;32m----> 4\u001b[0m t\u001b[38;5;241m.\u001b[39mpenup()\n\u001b[1;32m      5\u001b[0m t\u001b[38;5;241m.\u001b[39mgoto(\u001b[38;5;241m-\u001b[39m\u001b[38;5;241m210\u001b[39m, \u001b[38;5;241m100\u001b[39m)\n\u001b[1;32m      6\u001b[0m t\u001b[38;5;241m.\u001b[39mpendown()\n",
      "File \u001b[0;32m<string>:5\u001b[0m, in \u001b[0;36mpenup\u001b[0;34m()\u001b[0m\n",
      "\u001b[0;31mTerminator\u001b[0m: "
     ]
    }
   ],
   "source": [
    "import turtle as t\n",
    "import math\n",
    "# u\n",
    "t.penup()\n",
    "t.goto(-210, 100)\n",
    "t.pendown()\n",
    "t.right(90)\n",
    "t.forward(100)\n",
    "t.left(90)\n",
    "t.forward(80)\n",
    "t.left(90)\n",
    "t.forward(100)\n",
    "\n",
    "\n",
    "t.penup()\n",
    "t.goto(-110, 100)\n",
    "t.pendown()\n",
    "\n",
    "# r\n",
    "t.left(180)\n",
    "t.forward(100)\n",
    "t.goto(-110, 80)\n",
    "t.left(130)\n",
    "t.forward(34)\n",
    "\n",
    "\n",
    "t.penup()\n",
    "t.goto(50, 80)\n",
    "t.pendown()\n",
    "\n",
    "#G\n",
    "t.left(50)\n",
    "t.forward(20)\n",
    "t.left(90)\n",
    "t.forward(80)\n",
    "t.left(90)\n",
    "t.forward(100)\n",
    "t.left(90)\n",
    "t.forward(80)\n",
    "t.left(90)\n",
    "t.forward(20)\n",
    "t.left(90)\n",
    "t.forward(20)\n",
    "\n",
    "\n",
    "\n",
    "t.penup()\n",
    "t.goto(70, 0)\n",
    "t.right(113)\n",
    "t.pendown()\n",
    "\n",
    "#A\n",
    "t.forward(108)\n",
    "t.left(226)\n",
    "t.forward(108)\n",
    "t.penup()\n",
    "t.goto(90, 50)\n",
    "t.left(67)\n",
    "t.pendown()\n",
    "t.forward(45)\n",
    "\n",
    "\n",
    "\n",
    "t.penup()\n",
    "t.right(90)\n",
    "t.goto(170, 100)\n",
    "t.pendown()\n",
    "\n",
    "#e\n",
    "t.forward(100)\n",
    "t.left(90)\n",
    "t.forward(80)\n",
    "t.penup()\n",
    "t.goto(170, 50)\n",
    "t.pendown()\n",
    "t.forward(80)\n",
    "t.penup()\n",
    "t.goto(170, 100)\n",
    "t.pendown()\n",
    "t.forward(80)\n",
    "t.hideturtle()\n",
    "t.done()\n"
   ]
  },
  {
   "cell_type": "code",
   "execution_count": 1,
   "id": "7dc89d17",
   "metadata": {},
   "outputs": [
    {
     "ename": "NameError",
     "evalue": "name 'aidne' is not defined",
     "output_type": "error",
     "traceback": [
      "\u001b[0;31m---------------------------------------------------------------------------\u001b[0m",
      "\u001b[0;31mNameError\u001b[0m                                 Traceback (most recent call last)",
      "Cell \u001b[0;32mIn[1], line 21\u001b[0m\n\u001b[1;32m     19\u001b[0m     aiden\u001b[38;5;241m.\u001b[39mcircle(\u001b[38;5;241m5\u001b[39m)\n\u001b[1;32m     20\u001b[0m     aiden\u001b[38;5;241m.\u001b[39mpenup()\n\u001b[0;32m---> 21\u001b[0m     aidne\u001b[38;5;241m.\u001b[39mbackward(\u001b[38;5;241m220\u001b[39m)\n\u001b[1;32m     22\u001b[0m     aiden\u001b[38;5;241m.\u001b[39mright(\u001b[38;5;241m10\u001b[39m)\n\u001b[1;32m     24\u001b[0m aiden\u001b[38;5;241m.\u001b[39mhideturtle()\n",
      "\u001b[0;31mNameError\u001b[0m: name 'aidne' is not defined"
     ]
    }
   ],
   "source": [
    "import turtle\n",
    "colors = ['red', 'yellow', 'blue', 'orange', 'green', 'red']\n",
    "\n",
    "aiden = turtle.Turtle()\n",
    "turtle.bgcolor('black')\n",
    "\n",
    "for n in range(36):\n",
    "    for i in range(6):\n",
    "        aiden.color(colors[i])\n",
    "        aiden.forward(100)\n",
    "        aiden.left(60)\n",
    "    aiden.right(10)\n",
    "    \n",
    "aiden.penup()\n",
    "aiden.color(\"white\")\n",
    "for i in range(36):\n",
    "    aiden.forward(220)\n",
    "    aiden.pendown()\n",
    "    aiden.circle(5)\n",
    "    aiden.penup()\n",
    "    aidne.backward(220)\n",
    "    aiden.right(10)\n",
    "    \n",
    "aiden.hideturtle()"
   ]
  },
  {
   "cell_type": "markdown",
   "id": "c7797fd7",
   "metadata": {},
   "source": [
    "### regular expression"
   ]
  },
  {
   "cell_type": "code",
   "execution_count": 2,
   "id": "7d37ced3",
   "metadata": {},
   "outputs": [
    {
     "name": "stdout",
     "output_type": "stream",
     "text": [
      "<re.Match object; span=(0, 4), match='Life'>\n"
     ]
    }
   ],
   "source": [
    "import re\n",
    "\n",
    "txt1 = 'Life is too short, you need python.'\n",
    "txt2 = 'The best moments of my life.'\n",
    "print(re.search('Life', txt1))"
   ]
  },
  {
   "cell_type": "code",
   "execution_count": 3,
   "id": "efb17c83",
   "metadata": {},
   "outputs": [
    {
     "name": "stdout",
     "output_type": "stream",
     "text": [
      "None\n"
     ]
    }
   ],
   "source": [
    "print(re.search('Life', txt2))"
   ]
  },
  {
   "cell_type": "code",
   "execution_count": 4,
   "id": "c04916df",
   "metadata": {},
   "outputs": [
    {
     "data": {
      "text/plain": [
       "'Life'"
      ]
     },
     "execution_count": 4,
     "metadata": {},
     "output_type": "execute_result"
    }
   ],
   "source": [
    "match = re.search('Life', txt1)\n",
    "match.group()"
   ]
  },
  {
   "cell_type": "code",
   "execution_count": 5,
   "id": "acb08060",
   "metadata": {},
   "outputs": [
    {
     "data": {
      "text/plain": [
       "0"
      ]
     },
     "execution_count": 5,
     "metadata": {},
     "output_type": "execute_result"
    }
   ],
   "source": [
    "match.start()"
   ]
  },
  {
   "cell_type": "code",
   "execution_count": 6,
   "id": "5a11d240",
   "metadata": {},
   "outputs": [
    {
     "data": {
      "text/plain": [
       "4"
      ]
     },
     "execution_count": 6,
     "metadata": {},
     "output_type": "execute_result"
    }
   ],
   "source": [
    "match.end()"
   ]
  },
  {
   "cell_type": "code",
   "execution_count": 7,
   "id": "2440af60",
   "metadata": {},
   "outputs": [
    {
     "data": {
      "text/plain": [
       "(0, 4)"
      ]
     },
     "execution_count": 7,
     "metadata": {},
     "output_type": "execute_result"
    }
   ],
   "source": [
    "match.span()"
   ]
  },
  {
   "cell_type": "code",
   "execution_count": 8,
   "id": "00b563ce",
   "metadata": {},
   "outputs": [
    {
     "data": {
      "text/plain": [
       "'Life'"
      ]
     },
     "execution_count": 8,
     "metadata": {},
     "output_type": "execute_result"
    }
   ],
   "source": [
    "txt1[0:4]"
   ]
  },
  {
   "cell_type": "code",
   "execution_count": 9,
   "id": "5dacd0b7",
   "metadata": {},
   "outputs": [
    {
     "name": "stdout",
     "output_type": "stream",
     "text": [
      "010-2345-1234\n"
     ]
    }
   ],
   "source": [
    "import re\n",
    "\n",
    "text = 'please call 010-2345-1234'\n",
    "regex = re.compile('(\\d{3})-(\\d{4}-\\d{4})')\n",
    "match_obj = regex.search(text)\n",
    "print(match_obj.group())"
   ]
  },
  {
   "cell_type": "code",
   "execution_count": 10,
   "id": "98552c9b",
   "metadata": {},
   "outputs": [
    {
     "name": "stdout",
     "output_type": "stream",
     "text": [
      "010\n"
     ]
    }
   ],
   "source": [
    "print(match_obj.group(1))"
   ]
  },
  {
   "cell_type": "code",
   "execution_count": 11,
   "id": "945121bf",
   "metadata": {},
   "outputs": [
    {
     "name": "stdout",
     "output_type": "stream",
     "text": [
      "2345-1234\n"
     ]
    }
   ],
   "source": [
    "print(match_obj.group(2))"
   ]
  },
  {
   "cell_type": "code",
   "execution_count": 12,
   "id": "d7bcf5f7",
   "metadata": {},
   "outputs": [
    {
     "name": "stdout",
     "output_type": "stream",
     "text": [
      "None\n"
     ]
    }
   ],
   "source": [
    "txt2 = 'The best moments of my life.'\n",
    "print(re.search('Life', txt2))"
   ]
  },
  {
   "cell_type": "code",
   "execution_count": 14,
   "id": "4e8575f4",
   "metadata": {},
   "outputs": [
    {
     "name": "stdout",
     "output_type": "stream",
     "text": [
      "<re.Match object; span=(23, 27), match='life'>\n"
     ]
    }
   ],
   "source": [
    "print(re.search('Life|life', txt2))"
   ]
  },
  {
   "cell_type": "code",
   "execution_count": 15,
   "id": "65843f9e",
   "metadata": {},
   "outputs": [
    {
     "name": "stdout",
     "output_type": "stream",
     "text": [
      "<re.Match object; span=(23, 27), match='life'>\n"
     ]
    }
   ],
   "source": [
    "# Meta character: [], -, and |\n",
    "print(re.search('[Ll]ife', txt2))"
   ]
  },
  {
   "cell_type": "code",
   "execution_count": 20,
   "id": "c281b516",
   "metadata": {},
   "outputs": [
    {
     "name": "stdout",
     "output_type": "stream",
     "text": [
      "<re.Match object; span=(0, 4), match='Life'>\n"
     ]
    }
   ],
   "source": [
    "txt1 = 'Life is too short, you need python.'\n",
    "txt2 = 'The best moments of my life.'\n",
    "txt3 = 'My life my choice'\n",
    "\n",
    "print(re.search('^Life', txt1))  # ^ : only first character are searched"
   ]
  },
  {
   "cell_type": "code",
   "execution_count": 17,
   "id": "3058c0a2",
   "metadata": {},
   "outputs": [
    {
     "name": "stdout",
     "output_type": "stream",
     "text": [
      "None\n"
     ]
    }
   ],
   "source": [
    "print(re.search('^Life', txt2))"
   ]
  },
  {
   "cell_type": "code",
   "execution_count": 19,
   "id": "2832aa9f",
   "metadata": {},
   "outputs": [
    {
     "name": "stdout",
     "output_type": "stream",
     "text": [
      "None\n"
     ]
    }
   ],
   "source": [
    "print(re.search('^Life', txt3))"
   ]
  },
  {
   "cell_type": "code",
   "execution_count": 21,
   "id": "444ab0a6",
   "metadata": {},
   "outputs": [
    {
     "name": "stdout",
     "output_type": "stream",
     "text": [
      "None\n"
     ]
    }
   ],
   "source": [
    "# regular expression\n",
    "txt1 = 'Who are you to judge the Life I live'\n",
    "txt2 = 'The best moments of my life'\n",
    "print(re.search('life$', txt1))  # $: find at the last word"
   ]
  },
  {
   "cell_type": "code",
   "execution_count": 22,
   "id": "c23229f6",
   "metadata": {},
   "outputs": [
    {
     "name": "stdout",
     "output_type": "stream",
     "text": [
      "<re.Match object; span=(23, 27), match='life'>\n"
     ]
    }
   ],
   "source": [
    "print(re.search('life$', txt2))"
   ]
  },
  {
   "cell_type": "code",
   "execution_count": 23,
   "id": "6d6168de",
   "metadata": {},
   "outputs": [
    {
     "name": "stdout",
     "output_type": "stream",
     "text": [
      "None\n",
      "<re.Match object; span=(0, 4), match='ABBA'>\n",
      "None\n"
     ]
    }
   ],
   "source": [
    "print(re.search('A..A', 'ABA'))\n",
    "print(re.search('A..A', 'ABBA'))\n",
    "print(re.search('A..A', 'ABBBA'))"
   ]
  },
  {
   "cell_type": "code",
   "execution_count": 25,
   "id": "ed0e92b0",
   "metadata": {},
   "outputs": [
    {
     "name": "stdout",
     "output_type": "stream",
     "text": [
      "<re.Match object; span=(0, 1), match='A'>\n",
      "<re.Match object; span=(0, 1), match='A'>\n",
      "None\n",
      "<re.Match object; span=(3, 4), match='A'>\n",
      "<re.Match object; span=(1, 4), match='ABB'>\n",
      "<re.Match object; span=(1, 6), match='ABBBB'>\n"
     ]
    }
   ],
   "source": [
    "print(re.search('AB*', 'A'))\n",
    "print(re.search('AB*', 'AA'))\n",
    "print(re.search('AB*', 'J-HOP'))\n",
    "print(re.search('AB*', 'X-MAN'))\n",
    "print(re.search('AB*', 'CABBA'))\n",
    "print(re.search('AB*', 'CABBBBA'))"
   ]
  },
  {
   "cell_type": "code",
   "execution_count": 27,
   "id": "2923ae9b",
   "metadata": {},
   "outputs": [
    {
     "name": "stdout",
     "output_type": "stream",
     "text": [
      "<re.Match object; span=(0, 1), match='A'>\n",
      "<re.Match object; span=(0, 1), match='A'>\n",
      "None\n",
      "<re.Match object; span=(3, 4), match='A'>\n",
      "<re.Match object; span=(1, 3), match='AB'>\n",
      "<re.Match object; span=(1, 3), match='AB'>\n"
     ]
    }
   ],
   "source": [
    "print(re.search('AB?', 'A'))\n",
    "print(re.search('AB?', 'AA'))\n",
    "print(re.search('AB?', 'J-HOP'))\n",
    "print(re.search('AB?', 'X-MAN'))\n",
    "print(re.search('AB?', 'CABBA'))\n",
    "print(re.search('AB?', 'CABBBBA'))"
   ]
  },
  {
   "cell_type": "code",
   "execution_count": 28,
   "id": "d81a7a5d",
   "metadata": {},
   "outputs": [
    {
     "name": "stdout",
     "output_type": "stream",
     "text": [
      "None\n",
      "None\n",
      "None\n",
      "None\n",
      "<re.Match object; span=(1, 4), match='ABB'>\n",
      "<re.Match object; span=(1, 6), match='ABBBB'>\n"
     ]
    }
   ],
   "source": [
    "print(re.search('AB+', 'A'))\n",
    "print(re.search('AB+', 'AA'))\n",
    "print(re.search('AB+', 'J-HOP'))\n",
    "print(re.search('AB+', 'X-MAN'))\n",
    "print(re.search('AB+', 'CABBA'))\n",
    "print(re.search('AB+', 'CABBBBA'))"
   ]
  },
  {
   "cell_type": "code",
   "execution_count": 29,
   "id": "41eb7604",
   "metadata": {},
   "outputs": [
    {
     "data": {
      "text/plain": [
       "['My', 'my', 'my']"
      ]
     },
     "execution_count": 29,
     "metadata": {},
     "output_type": "execute_result"
    }
   ],
   "source": [
    "# findall\n",
    "\n",
    "txt3 = 'My life my life my life in the sunshine'\n",
    "re.findall('[Mm]y', txt3)"
   ]
  },
  {
   "cell_type": "code",
   "execution_count": null,
   "id": "f7ce45bc",
   "metadata": {},
   "outputs": [],
   "source": []
  }
 ],
 "metadata": {
  "kernelspec": {
   "display_name": "Python 3 (ipykernel)",
   "language": "python",
   "name": "python3"
  },
  "language_info": {
   "codemirror_mode": {
    "name": "ipython",
    "version": 3
   },
   "file_extension": ".py",
   "mimetype": "text/x-python",
   "name": "python",
   "nbconvert_exporter": "python",
   "pygments_lexer": "ipython3",
   "version": "3.11.5"
  }
 },
 "nbformat": 4,
 "nbformat_minor": 5
}
