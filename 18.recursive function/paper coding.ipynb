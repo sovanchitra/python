{
 "cells": [
  {
   "cell_type": "markdown",
   "id": "d1deccab",
   "metadata": {},
   "source": [
    "### calculate the sum from 1 to n with recursive function call"
   ]
  },
  {
   "cell_type": "code",
   "execution_count": 1,
   "id": "60fe2223",
   "metadata": {},
   "outputs": [
    {
     "name": "stdout",
     "output_type": "stream",
     "text": [
      "Enter the number: 20\n",
      "6765\n"
     ]
    }
   ],
   "source": [
    "def sum_n(n):\n",
    "    if n == 0:\n",
    "        return 0\n",
    "    elif n == 1:\n",
    "        return 1\n",
    "    else:\n",
    "        return sum_n(n - 1) + sum_n(n - 2)\n",
    "    \n",
    "number = int(input(\"Enter the number: \"))\n",
    "print(sum_n(number))"
   ]
  },
  {
   "cell_type": "markdown",
   "id": "0b53acb4",
   "metadata": {},
   "source": [
    "### exponentiation"
   ]
  },
  {
   "cell_type": "code",
   "execution_count": 3,
   "id": "c70c333e",
   "metadata": {},
   "outputs": [
    {
     "name": "stdout",
     "output_type": "stream",
     "text": [
      "Enter the value of x: 2\n",
      "Enter the value of n: 10\n",
      "1024\n"
     ]
    }
   ],
   "source": [
    "x = int(input(\"Enter the value of x: \"))\n",
    "n = int(input(\"Enter the value of n: \"))\n",
    "def expo(x , n):\n",
    "    if n == 0:\n",
    "        return 1\n",
    "    else:\n",
    "        return x * expo(x, n - 1)\n",
    "\n",
    "print(expo(x, n))"
   ]
  },
  {
   "cell_type": "code",
   "execution_count": null,
   "id": "74359d8c",
   "metadata": {},
   "outputs": [],
   "source": []
  }
 ],
 "metadata": {
  "kernelspec": {
   "display_name": "Python 3 (ipykernel)",
   "language": "python",
   "name": "python3"
  },
  "language_info": {
   "codemirror_mode": {
    "name": "ipython",
    "version": 3
   },
   "file_extension": ".py",
   "mimetype": "text/x-python",
   "name": "python",
   "nbconvert_exporter": "python",
   "pygments_lexer": "ipython3",
   "version": "3.11.5"
  }
 },
 "nbformat": 4,
 "nbformat_minor": 5
}
