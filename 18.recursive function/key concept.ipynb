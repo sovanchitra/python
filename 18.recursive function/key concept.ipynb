{
 "cells": [
  {
   "cell_type": "markdown",
   "id": "69074fa5",
   "metadata": {},
   "source": [
    "### factorial and loop with iterable function"
   ]
  },
  {
   "cell_type": "code",
   "execution_count": 1,
   "id": "59a0962e",
   "metadata": {},
   "outputs": [
    {
     "name": "stdout",
     "output_type": "stream",
     "text": [
      "Enter a number: 5\n",
      "5! = 120\n"
     ]
    }
   ],
   "source": [
    "n = int(input(\"Enter a number: \"))\n",
    "fact = 1\n",
    "for i in range(1, n+1):\n",
    "    fact = fact * i\n",
    "    \n",
    "print(f\"{n}! = {fact}\")"
   ]
  },
  {
   "cell_type": "markdown",
   "id": "9576a0c9",
   "metadata": {},
   "source": [
    "### factorial and loop with recursive function"
   ]
  },
  {
   "cell_type": "code",
   "execution_count": 1,
   "id": "749ff647",
   "metadata": {},
   "outputs": [
    {
     "name": "stdout",
     "output_type": "stream",
     "text": [
      "5! = 120\n"
     ]
    }
   ],
   "source": [
    "def factorial(n):\n",
    "    if n <= 1:\n",
    "        return 1\n",
    "    else:\n",
    "        return n * factorial(n - 1)\n",
    "n = 5\n",
    "print(f\"{n}! = {factorial(n)}\")"
   ]
  },
  {
   "cell_type": "markdown",
   "id": "08dfee34",
   "metadata": {},
   "source": [
    "### fibonacci sequence and recursion"
   ]
  },
  {
   "cell_type": "code",
   "execution_count": 2,
   "id": "1f224f26",
   "metadata": {},
   "outputs": [
    {
     "name": "stdout",
     "output_type": "stream",
     "text": [
      "How many Fibonacci number do you want? 5\n",
      "Fibonacci Sequence :0 1 1 2 3 "
     ]
    }
   ],
   "source": [
    "# recursive call operate backwards`\n",
    "\n",
    "def fibonacci(n):\n",
    "    if n <= 1:\n",
    "        return n\n",
    "    else:\n",
    "        return(fibonacci(n - 1) + fibonacci(n - 2))\n",
    "    \n",
    "nterms = int(input(\"How many Fibonacci number do you want? \"))\n",
    "\n",
    "if nterms <= 0:\n",
    "    print(\"Error : enter positive number.\")\n",
    "else:\n",
    "    print(\"Fibonacci Sequence :\", end = '')\n",
    "    for i in range(nterms):\n",
    "        print(fibonacci(i),end = ' ')"
   ]
  },
  {
   "cell_type": "code",
   "execution_count": 22,
   "id": "73b5f293",
   "metadata": {},
   "outputs": [
    {
     "name": "stdout",
     "output_type": "stream",
     "text": [
      "55\n"
     ]
    }
   ],
   "source": [
    "def fibonacci(n):\n",
    "    if n == 0:\n",
    "        return 0\n",
    "    elif n == 1:\n",
    "        return 1\n",
    "    else:\n",
    "        return fibonacci(n - 1) + fibonacci(n - 2)\n",
    "    \n",
    "print(fibonacci(10))"
   ]
  },
  {
   "cell_type": "markdown",
   "id": "13c259af",
   "metadata": {},
   "source": [
    "### efficiency of fibonacci sequence function implemented with recursive call"
   ]
  },
  {
   "cell_type": "code",
   "execution_count": 13,
   "id": "3f3174ec",
   "metadata": {},
   "outputs": [
    {
     "name": "stdout",
     "output_type": "stream",
     "text": [
      "fibonacci_1(30) * 20 times:  1.759161875000018 seconds\n"
     ]
    }
   ],
   "source": [
    "# recursive functions are inefficient,\n",
    "# unnecessarily repeat calculating even for values already been computed\n",
    "\n",
    "from timeit import *\n",
    "\n",
    "def fibonacci_1(n):\n",
    "    if n == 0:\n",
    "        return 0\n",
    "    elif n == 1:\n",
    "        return 1\n",
    "    else:\n",
    "        return fibonacci_1(n-1) + fibonacci_1(n-2)\n",
    "    \n",
    "t3 = Timer(\"fibonacci_1(30)\", \"from __main__ import fibonacci_1\")\n",
    "print(\"fibonacci_1(30) * 20 times: \", t3.timeit(number = 20), \"seconds\")"
   ]
  },
  {
   "cell_type": "markdown",
   "id": "9e9484b3",
   "metadata": {},
   "source": [
    "### fibonacci sequence function and memoization"
   ]
  },
  {
   "cell_type": "code",
   "execution_count": 20,
   "id": "b29e6256",
   "metadata": {},
   "outputs": [
    {
     "name": "stdout",
     "output_type": "stream",
     "text": [
      "fibonacci_2(30) * 20 times:  1.645800011829124e-05 seconds\n"
     ]
    }
   ],
   "source": [
    "# use memoization to store previously calculated values, result in faster execution\n",
    "\n",
    "from timeit import *\n",
    "\n",
    "dic = {0: 0, 1: 1}  # global\n",
    "def fibonacci_2(n):\n",
    "    if n in dic:  # if calculated result already in dic, return it w/o recursive call\n",
    "        return dic[n]\n",
    "    \n",
    "    dic[n] = fibonacci_2(n - 1) + fibonacci_2(n - 2)  # if not in dic, make recursive call then store in dic\n",
    "    return dic[n]\n",
    "\n",
    "t2 = Timer(\"fibonacci_2(30)\", \"from __main__ import fibonacci_2\")\n",
    "print(\"fibonacci_2(30) * 20 times: \", t2.timeit(number = 20), \"seconds\")"
   ]
  },
  {
   "cell_type": "code",
   "execution_count": null,
   "id": "637c2858",
   "metadata": {},
   "outputs": [],
   "source": []
  },
  {
   "cell_type": "code",
   "execution_count": null,
   "id": "38baf399",
   "metadata": {},
   "outputs": [],
   "source": []
  }
 ],
 "metadata": {
  "kernelspec": {
   "display_name": "Python 3 (ipykernel)",
   "language": "python",
   "name": "python3"
  },
  "language_info": {
   "codemirror_mode": {
    "name": "ipython",
    "version": 3
   },
   "file_extension": ".py",
   "mimetype": "text/x-python",
   "name": "python",
   "nbconvert_exporter": "python",
   "pygments_lexer": "ipython3",
   "version": "3.11.5"
  }
 },
 "nbformat": 4,
 "nbformat_minor": 5
}
