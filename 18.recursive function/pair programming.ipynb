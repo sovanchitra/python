{
 "cells": [
  {
   "cell_type": "markdown",
   "id": "89c924ff",
   "metadata": {},
   "source": [
    "### euclidean algorithm"
   ]
  },
  {
   "cell_type": "code",
   "execution_count": 2,
   "id": "1652b2d9",
   "metadata": {},
   "outputs": [
    {
     "name": "stdout",
     "output_type": "stream",
     "text": [
      "Enter the number: 48\n",
      "Enter the number: 60\n",
      "12\n"
     ]
    }
   ],
   "source": [
    "def main() :\n",
    "    nu = int(input(\"Enter the number: \"))\n",
    "    num = int(input(\"Enter the number: \"))\n",
    "    if nu > num :\n",
    "        a = nu\n",
    "        b = num\n",
    "    else:\n",
    "        a = num\n",
    "        b = nu\n",
    "    print(gcd(a, b))\n",
    "\n",
    "def gcd(a, b) :\n",
    "    if b == 0:\n",
    "        return a\n",
    "    else :\n",
    "        return(gcd(b, a % b))\n",
    "\n",
    "if __name__ == \"__main__\":\n",
    "    main()"
   ]
  },
  {
   "cell_type": "markdown",
   "id": "6902a2c0",
   "metadata": {},
   "source": [
    "### euler's rule"
   ]
  },
  {
   "cell_type": "code",
   "execution_count": 1,
   "id": "4dfb44c7",
   "metadata": {},
   "outputs": [
    {
     "name": "stdout",
     "output_type": "stream",
     "text": [
      " e(n) , n = 56\n",
      "euler(56) = 2.71828\n"
     ]
    }
   ],
   "source": [
    "\n",
    "def main():\n",
    "    n = int(input(\" e(n) , n = \"))\n",
    "    print(\"euler({}) = {:.5f}\".format(n, euler(n)))\n",
    "\n",
    "def fact(k) :\n",
    "    if k <= 1 :\n",
    "        return 1\n",
    "    else:\n",
    "        return k * fact(k - 1)\n",
    "\n",
    "\n",
    "def euler(n) :\n",
    "    if n <= 0 :\n",
    "        return 1\n",
    "    else:\n",
    "        return 1/(fact(n)) + euler(n - 1)\n",
    "\n",
    "\n",
    "if __name__ == \"__main__\":\n",
    "    main()"
   ]
  },
  {
   "cell_type": "code",
   "execution_count": null,
   "id": "2a8cba36",
   "metadata": {},
   "outputs": [],
   "source": []
  }
 ],
 "metadata": {
  "kernelspec": {
   "display_name": "Python 3 (ipykernel)",
   "language": "python",
   "name": "python3"
  },
  "language_info": {
   "codemirror_mode": {
    "name": "ipython",
    "version": 3
   },
   "file_extension": ".py",
   "mimetype": "text/x-python",
   "name": "python",
   "nbconvert_exporter": "python",
   "pygments_lexer": "ipython3",
   "version": "3.11.5"
  }
 },
 "nbformat": 4,
 "nbformat_minor": 5
}
