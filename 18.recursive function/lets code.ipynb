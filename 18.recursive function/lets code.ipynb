{
 "cells": [
  {
   "cell_type": "markdown",
   "id": "eba7a9ad",
   "metadata": {},
   "source": [
    "### tower of hanoi"
   ]
  },
  {
   "cell_type": "code",
   "execution_count": 13,
   "id": "7f9cc722",
   "metadata": {},
   "outputs": [
    {
     "name": "stdout",
     "output_type": "stream",
     "text": [
      "Enter number of disks to move: 3\n",
      "Move disk 1 from A to B\n",
      "Move disk 2 from A to C\n",
      "Move disk 1 from B to C\n",
      "Move disk 3 from A to B\n",
      "Move disk 1 from C to A\n",
      "Move disk 2 from C to B\n",
      "Move disk 1 from A to B\n"
     ]
    }
   ],
   "source": [
    "n = int(input(\"Enter number of disks to move: \"))\n",
    "\n",
    "def hanoi(n, from_, to_, via_):\n",
    "    if n == 1:\n",
    "        print('Move disk {} from {} to {}'.format(n, from_, to_))\n",
    "    else:\n",
    "        hanoi(n - 1, from_, via_, to_)\n",
    "        print('Move disk {} from {} to {}'.format(n, from_, to_))\n",
    "        hanoi(n - 1, via_, to_, from_)\n",
    "        \n",
    "hanoi(n, \"A\", \"B\", \"C\")"
   ]
  },
  {
   "cell_type": "markdown",
   "id": "500c5520",
   "metadata": {},
   "source": [
    "### test"
   ]
  },
  {
   "cell_type": "code",
   "execution_count": 14,
   "id": "108c644c",
   "metadata": {},
   "outputs": [
    {
     "name": "stdout",
     "output_type": "stream",
     "text": [
      "24\n"
     ]
    }
   ],
   "source": [
    "def func(n):\n",
    "    if n <= 1:\n",
    "        return 1\n",
    "    else:\n",
    "        return n * func(n -1)\n",
    "    \n",
    "print(func(4))"
   ]
  },
  {
   "cell_type": "code",
   "execution_count": 16,
   "id": "9b65e488",
   "metadata": {},
   "outputs": [
    {
     "name": "stdout",
     "output_type": "stream",
     "text": [
      "0 1 1 2 3 5 8 "
     ]
    }
   ],
   "source": [
    "def fibonacci(n):\n",
    "    if n <= 1:\n",
    "        return n\n",
    "    else:\n",
    "        return(fibonacci(n - 1) + fibonacci(n - 2))\n",
    "    \n",
    "for i in range(7):\n",
    "    print(fibonacci(i), end = ' ')"
   ]
  },
  {
   "cell_type": "code",
   "execution_count": 17,
   "id": "2849f44d",
   "metadata": {},
   "outputs": [
    {
     "name": "stdout",
     "output_type": "stream",
     "text": [
      "0 1 1 2 3 "
     ]
    }
   ],
   "source": [
    "def func(n, memo = {}):\n",
    "    if n <= 1:\n",
    "        return n\n",
    "    elif n not in memo:\n",
    "        memo[n] = func(n -1, memo) + func(n - 2, memo)\n",
    "    return memo[n]\n",
    "\n",
    "for i in range(5):\n",
    "    print(func(i), end = ' ')"
   ]
  },
  {
   "cell_type": "code",
   "execution_count": 18,
   "id": "eb01d9e9",
   "metadata": {},
   "outputs": [
    {
     "name": "stdout",
     "output_type": "stream",
     "text": [
      "10\n"
     ]
    }
   ],
   "source": [
    "def sum_of_digits(n):\n",
    "    if n < 10:\n",
    "        return n\n",
    "    else:\n",
    "        return n % 10 + sum_of_digits(n // 10)\n",
    "    \n",
    "result = sum_of_digits(1234)\n",
    "print(result)"
   ]
  },
  {
   "cell_type": "code",
   "execution_count": 19,
   "id": "a0c2f3ba",
   "metadata": {},
   "outputs": [
    {
     "name": "stdout",
     "output_type": "stream",
     "text": [
      "15\n"
     ]
    }
   ],
   "source": [
    "def sum_of_integers(n):\n",
    "    if n == 0:\n",
    "        return 0\n",
    "    else:\n",
    "        return n + sum_of_integers(n - 1)\n",
    "    \n",
    "result = sum_of_integers(5)\n",
    "print(result)"
   ]
  },
  {
   "cell_type": "code",
   "execution_count": null,
   "id": "258dcd4b",
   "metadata": {},
   "outputs": [],
   "source": []
  }
 ],
 "metadata": {
  "kernelspec": {
   "display_name": "Python 3 (ipykernel)",
   "language": "python",
   "name": "python3"
  },
  "language_info": {
   "codemirror_mode": {
    "name": "ipython",
    "version": 3
   },
   "file_extension": ".py",
   "mimetype": "text/x-python",
   "name": "python",
   "nbconvert_exporter": "python",
   "pygments_lexer": "ipython3",
   "version": "3.11.5"
  }
 },
 "nbformat": 4,
 "nbformat_minor": 5
}
