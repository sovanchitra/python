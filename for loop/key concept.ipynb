{
 "cells": [
  {
   "cell_type": "code",
   "execution_count": 1,
   "id": "8d11ae1e",
   "metadata": {},
   "outputs": [
    {
     "name": "stdout",
     "output_type": "stream",
     "text": [
      "Welcome to everyone!\n",
      "Welcome to everyone!\n",
      "Welcome to everyone!\n",
      "Welcome to everyone!\n",
      "Welcome to everyone!\n"
     ]
    }
   ],
   "source": [
    "for i in range(5):\n",
    "    print(\"Welcome to everyone!\")"
   ]
  },
  {
   "cell_type": "code",
   "execution_count": 2,
   "id": "bd1370bf",
   "metadata": {},
   "outputs": [
    {
     "name": "stdout",
     "output_type": "stream",
     "text": [
      "Welcome to everyone!\n",
      "Welcome to everyone!\n",
      "Welcome to everyone!\n",
      "Welcome to everyone!\n",
      "Welcome to everyone!\n"
     ]
    }
   ],
   "source": [
    "i = 0\n",
    "while i < 5:\n",
    "    print(\"Welcome to everyone!\")\n",
    "    i += 1"
   ]
  },
  {
   "cell_type": "code",
   "execution_count": 7,
   "id": "536cd592",
   "metadata": {},
   "outputs": [
    {
     "name": "stdout",
     "output_type": "stream",
     "text": [
      "h.e.l.l.o."
     ]
    }
   ],
   "source": [
    "for ch in 'hello':\n",
    "    print(ch, end = '.')"
   ]
  },
  {
   "cell_type": "code",
   "execution_count": 13,
   "id": "924819a7",
   "metadata": {},
   "outputs": [
    {
     "name": "stdout",
     "output_type": "stream",
     "text": [
      "Sum of list item values : 150\n"
     ]
    }
   ],
   "source": [
    "numbers = [10, 20, 30, 40, 50]\n",
    "s = 0\n",
    "for n in numbers:\n",
    "    s += n\n",
    "print(\"Sum of list item values :\", s)"
   ]
  },
  {
   "cell_type": "code",
   "execution_count": 11,
   "id": "49af4cf5",
   "metadata": {},
   "outputs": [
    {
     "name": "stdout",
     "output_type": "stream",
     "text": [
      "The sum of 1 to 10: 55\n"
     ]
    }
   ],
   "source": [
    "s = 0 \n",
    "for n in range(1,11):\n",
    "    s += n\n",
    "print(\"The sum of 1 to 10:\", s)"
   ]
  },
  {
   "cell_type": "code",
   "execution_count": 10,
   "id": "d46c5149",
   "metadata": {},
   "outputs": [
    {
     "name": "stdout",
     "output_type": "stream",
     "text": [
      "[0, 1, 2, 3, 4]\n"
     ]
    }
   ],
   "source": [
    "print(list(range(0,5)))"
   ]
  },
  {
   "cell_type": "code",
   "execution_count": 16,
   "id": "c9d598eb",
   "metadata": {},
   "outputs": [
    {
     "name": "stdout",
     "output_type": "stream",
     "text": [
      "Enter a number: 5\n",
      "5! = 120\n"
     ]
    }
   ],
   "source": [
    "n = int(input(\"Enter a number: \"))\n",
    "fact = 1\n",
    "for i in range(1, n+1):\n",
    "    fact = fact * i\n",
    "print(str(n) + \"! =\", fact)\n",
    "\n",
    "for apple in apples:\n",
    "          "
   ]
  },
  {
   "cell_type": "code",
   "execution_count": 2,
   "id": "346edc3d",
   "metadata": {},
   "outputs": [
    {
     "name": "stdout",
     "output_type": "stream",
     "text": [
      "1 x 2 =  2,  2 x 2 =  4,  3 x 2 =  6,  4 x 2 =  8,  5 x 2 = 10,  6 x 2 = 12,  7 x 2 = 14,  8 x 2 = 16,  9 x 2 = 18,  1 x 3 =  3,  2 x 3 =  6,  3 x 3 =  9,  4 x 3 = 12,  5 x 3 = 15,  6 x 3 = 18,  7 x 3 = 21,  8 x 3 = 24,  9 x 3 = 27,  1 x 4 =  4,  2 x 4 =  8,  3 x 4 = 12,  4 x 4 = 16,  5 x 4 = 20,  6 x 4 = 24,  7 x 4 = 28,  8 x 4 = 32,  9 x 4 = 36,  1 x 5 =  5,  2 x 5 = 10,  3 x 5 = 15,  4 x 5 = 20,  5 x 5 = 25,  6 x 5 = 30,  7 x 5 = 35,  8 x 5 = 40,  9 x 5 = 45,  1 x 6 =  6,  2 x 6 = 12,  3 x 6 = 18,  4 x 6 = 24,  5 x 6 = 30,  6 x 6 = 36,  7 x 6 = 42,  8 x 6 = 48,  9 x 6 = 54,  1 x 7 =  7,  2 x 7 = 14,  3 x 7 = 21,  4 x 7 = 28,  5 x 7 = 35,  6 x 7 = 42,  7 x 7 = 49,  8 x 7 = 56,  9 x 7 = 63,  1 x 8 =  8,  2 x 8 = 16,  3 x 8 = 24,  4 x 8 = 32,  5 x 8 = 40,  6 x 8 = 48,  7 x 8 = 56,  8 x 8 = 64,  9 x 8 = 72,  1 x 9 =  9,  2 x 9 = 18,  3 x 9 = 27,  4 x 9 = 36,  5 x 9 = 45,  6 x 9 = 54,  7 x 9 = 63,  8 x 9 = 72,  9 x 9 = 81,  \n"
     ]
    }
   ],
   "source": [
    "for i in range(2,10):\n",
    "    for j in range(1,10):\n",
    "        print(\"{} x {} = {:2d}, \".format(j, i, i * j), end = \" \")\n",
    "print()"
   ]
  },
  {
   "cell_type": "code",
   "execution_count": null,
   "id": "dca12078",
   "metadata": {},
   "outputs": [],
   "source": []
  }
 ],
 "metadata": {
  "kernelspec": {
   "display_name": "Python 3 (ipykernel)",
   "language": "python",
   "name": "python3"
  },
  "language_info": {
   "codemirror_mode": {
    "name": "ipython",
    "version": 3
   },
   "file_extension": ".py",
   "mimetype": "text/x-python",
   "name": "python",
   "nbconvert_exporter": "python",
   "pygments_lexer": "ipython3",
   "version": "3.11.5"
  }
 },
 "nbformat": 4,
 "nbformat_minor": 5
}
