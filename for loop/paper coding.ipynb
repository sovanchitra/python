{
 "cells": [
  {
   "cell_type": "markdown",
   "id": "e4a2830f",
   "metadata": {},
   "source": [
    "### bts"
   ]
  },
  {
   "cell_type": "code",
   "execution_count": 2,
   "id": "a68aee16",
   "metadata": {},
   "outputs": [
    {
     "name": "stdout",
     "output_type": "stream",
     "text": [
      "V\n",
      "J-Hope\n",
      "RM\n",
      "Jungkook\n",
      "Jin\n",
      "Jimin\n",
      "Suga\n"
     ]
    }
   ],
   "source": [
    "bts = ['V', 'J-Hope', 'RM', 'Jungkook', 'Jin', 'Jimin', 'Suga']\n",
    "for _ in bts:\n",
    "    print(_)"
   ]
  },
  {
   "cell_type": "markdown",
   "id": "d969d3cd",
   "metadata": {},
   "source": [
    "### sum of 1-100"
   ]
  },
  {
   "cell_type": "code",
   "execution_count": 11,
   "id": "193d6d3a",
   "metadata": {},
   "outputs": [
    {
     "name": "stdout",
     "output_type": "stream",
     "text": [
      "Sum of integers from 1 to 100: 5050\n"
     ]
    }
   ],
   "source": [
    "total = 0\n",
    "for n in range(1,101):\n",
    "    total = total + n\n",
    "print(f\"Sum of integers from 1 to 100: {total}\")"
   ]
  },
  {
   "cell_type": "markdown",
   "id": "0e1a6fd0",
   "metadata": {},
   "source": [
    "### sum of multiple of 3 and 5 in 1-99"
   ]
  },
  {
   "cell_type": "code",
   "execution_count": 8,
   "id": "6067be3c",
   "metadata": {},
   "outputs": [
    {
     "name": "stdout",
     "output_type": "stream",
     "text": [
      "99\n"
     ]
    }
   ],
   "source": [
    "t = 0\n",
    "for i in range(1,100):\n",
    "    if i % 3 == 0 or i % 5 ==0:\n",
    "        t += i\n",
    "print(i)"
   ]
  },
  {
   "cell_type": "markdown",
   "id": "9fdb88aa",
   "metadata": {},
   "source": [
    "### sum of even num from 1 to 100"
   ]
  },
  {
   "cell_type": "code",
   "execution_count": 12,
   "id": "a8b3c0f4",
   "metadata": {},
   "outputs": [
    {
     "name": "stdout",
     "output_type": "stream",
     "text": [
      "Sum of even numbers from 1 to 100: 2550\n"
     ]
    }
   ],
   "source": [
    "total1 = 0\n",
    "for even in range(0,101,2):\n",
    "    total1 += even\n",
    "print(f\"Sum of even numbers from 1 to 100: {total1}\")"
   ]
  },
  {
   "cell_type": "markdown",
   "id": "932f2949",
   "metadata": {},
   "source": [
    "### sum of odd from 1 to 100"
   ]
  },
  {
   "cell_type": "code",
   "execution_count": 3,
   "id": "ef323eb4",
   "metadata": {},
   "outputs": [
    {
     "name": "stdout",
     "output_type": "stream",
     "text": [
      "Sum of odd numbers from 1 to 100: 2500\n"
     ]
    }
   ],
   "source": [
    "total2 = 0\n",
    "for odd in range(1,101,2):\n",
    "    total2 += odd\n",
    "print(f\"Sum of odd numbers from 1 to 100: {total2}\")"
   ]
  },
  {
   "cell_type": "markdown",
   "id": "bd6730ef",
   "metadata": {},
   "source": [
    "### nested loop for multiplication table"
   ]
  },
  {
   "cell_type": "code",
   "execution_count": 53,
   "id": "ace8450e",
   "metadata": {},
   "outputs": [
    {
     "name": "stdout",
     "output_type": "stream",
     "text": [
      "3 x 2 = 6\t 5 x 2 = 10\t 7 x 2 = 14\t \n",
      "3 x 3 = 9\t 5 x 3 = 15\t 7 x 3 = 21\t \n",
      "3 x 4 = 12\t 5 x 4 = 20\t 7 x 4 = 28\t \n",
      "3 x 5 = 15\t 5 x 5 = 25\t 7 x 5 = 35\t \n",
      "3 x 6 = 18\t 5 x 6 = 30\t 7 x 6 = 42\t \n"
     ]
    }
   ],
   "source": [
    "list1 = [3,5,7]\n",
    "list2 = [2,3,4,5,6]\n",
    "for j in list2:\n",
    "    for i in list1:\n",
    "        print(f\"{i} x {j} = {i*j}\\t\", end=\" \")\n",
    "    print()"
   ]
  },
  {
   "cell_type": "code",
   "execution_count": 6,
   "id": "ff7f9584",
   "metadata": {},
   "outputs": [
    {
     "name": "stdout",
     "output_type": "stream",
     "text": [
      "2 x 1 = 2\n",
      "2 x 2 = 4\n",
      "2 x 3 = 6\n",
      "2 x 4 = 8\n",
      "2 x 5 = 10\n",
      "2 x 6 = 12\n",
      "2 x 7 = 14\n",
      "2 x 8 = 16\n",
      "2 x 9 = 18\n"
     ]
    }
   ],
   "source": [
    "i = 1\n",
    "while i <= 9 :\n",
    "    print(f\"{2} x {i} = {2*i}\")\n",
    "    i += 1"
   ]
  },
  {
   "cell_type": "code",
   "execution_count": 9,
   "id": "64ba0763",
   "metadata": {},
   "outputs": [
    {
     "name": "stdout",
     "output_type": "stream",
     "text": [
      "2 x 1 = 2\n",
      "2 x 2 = 4\n",
      "2 x 3 = 6\n",
      "2 x 4 = 8\n",
      "2 x 5 = 10\n",
      "2 x 6 = 12\n",
      "2 x 7 = 14\n",
      "2 x 8 = 16\n",
      "2 x 9 = 18\n"
     ]
    }
   ],
   "source": [
    "i = 1\n",
    "while True:\n",
    "    print(f\"{2} x {i} = {2*i}\")\n",
    "    i += 1\n",
    "    if i > 9:\n",
    "        break"
   ]
  },
  {
   "cell_type": "code",
   "execution_count": 19,
   "id": "aa5d4c42",
   "metadata": {
    "scrolled": true
   },
   "outputs": [
    {
     "name": "stdout",
     "output_type": "stream",
     "text": [
      "1 x 2 = 2\n",
      "1 x 3 = 3\n",
      "1 x 4 = 4\n",
      "1 x 5 = 5\n",
      "1 x 6 = 6\n",
      "1 x 7 = 7\n",
      "1 x 8 = 8\n",
      "1 x 9 = 9\n",
      "2 x 2 = 4\n",
      "2 x 3 = 6\n",
      "2 x 4 = 8\n",
      "2 x 5 = 10\n",
      "2 x 6 = 12\n",
      "2 x 7 = 14\n",
      "2 x 8 = 16\n",
      "2 x 9 = 18\n",
      "3 x 2 = 6\n",
      "3 x 3 = 9\n",
      "3 x 4 = 12\n",
      "3 x 5 = 15\n",
      "3 x 6 = 18\n",
      "3 x 7 = 21\n",
      "3 x 8 = 24\n",
      "3 x 9 = 27\n",
      "4 x 2 = 8\n",
      "4 x 3 = 12\n",
      "4 x 4 = 16\n",
      "4 x 5 = 20\n",
      "4 x 6 = 24\n",
      "4 x 7 = 28\n",
      "4 x 8 = 32\n",
      "4 x 9 = 36\n",
      "5 x 2 = 10\n",
      "5 x 3 = 15\n",
      "5 x 4 = 20\n",
      "5 x 5 = 25\n",
      "5 x 6 = 30\n",
      "5 x 7 = 35\n",
      "5 x 8 = 40\n",
      "5 x 9 = 45\n",
      "6 x 2 = 12\n",
      "6 x 3 = 18\n",
      "6 x 4 = 24\n",
      "6 x 5 = 30\n",
      "6 x 6 = 36\n",
      "6 x 7 = 42\n",
      "6 x 8 = 48\n",
      "6 x 9 = 54\n",
      "7 x 2 = 14\n",
      "7 x 3 = 21\n",
      "7 x 4 = 28\n",
      "7 x 5 = 35\n",
      "7 x 6 = 42\n",
      "7 x 7 = 49\n",
      "7 x 8 = 56\n",
      "7 x 9 = 63\n",
      "8 x 2 = 16\n",
      "8 x 3 = 24\n",
      "8 x 4 = 32\n",
      "8 x 5 = 40\n",
      "8 x 6 = 48\n",
      "8 x 7 = 56\n",
      "8 x 8 = 64\n",
      "8 x 9 = 72\n",
      "9 x 2 = 18\n",
      "9 x 3 = 27\n",
      "9 x 4 = 36\n",
      "9 x 5 = 45\n",
      "9 x 6 = 54\n",
      "9 x 7 = 63\n",
      "9 x 8 = 72\n",
      "9 x 9 = 81\n"
     ]
    }
   ],
   "source": [
    "i = 1\n",
    "while i <= 9:\n",
    "    j = 1\n",
    "    while j < 9:\n",
    "        j += 1\n",
    "        print(f\"{i} x {j} = {i*j}\")\n",
    "    i += 1"
   ]
  },
  {
   "cell_type": "code",
   "execution_count": 29,
   "id": "f236ac08",
   "metadata": {},
   "outputs": [
    {
     "name": "stdout",
     "output_type": "stream",
     "text": [
      "1 x 1 = 1\t 1 x 2 = 2\t 1 x 3 = 3\t 1 x 4 = 4\t 1 x 5 = 5\t 1 x 6 = 6\t 1 x 7 = 7\t 1 x 8 = 8\t 1 x 9 = 9\t 2 x 1 = 2\t 2 x 2 = 4\t 2 x 3 = 6\t 2 x 4 = 8\t 2 x 5 = 10\t 2 x 6 = 12\t 2 x 7 = 14\t 2 x 8 = 16\t 2 x 9 = 18\t 3 x 1 = 3\t 3 x 2 = 6\t 3 x 3 = 9\t 3 x 4 = 12\t 3 x 5 = 15\t 3 x 6 = 18\t 3 x 7 = 21\t 3 x 8 = 24\t 3 x 9 = 27\t 4 x 1 = 4\t 4 x 2 = 8\t 4 x 3 = 12\t 4 x 4 = 16\t 4 x 5 = 20\t 4 x 6 = 24\t 4 x 7 = 28\t 4 x 8 = 32\t 4 x 9 = 36\t 5 x 1 = 5\t 5 x 2 = 10\t 5 x 3 = 15\t 5 x 4 = 20\t 5 x 5 = 25\t 5 x 6 = 30\t 5 x 7 = 35\t 5 x 8 = 40\t 5 x 9 = 45\t 6 x 1 = 6\t 6 x 2 = 12\t 6 x 3 = 18\t 6 x 4 = 24\t 6 x 5 = 30\t 6 x 6 = 36\t 6 x 7 = 42\t 6 x 8 = 48\t 6 x 9 = 54\t 7 x 1 = 7\t 7 x 2 = 14\t 7 x 3 = 21\t 7 x 4 = 28\t 7 x 5 = 35\t 7 x 6 = 42\t 7 x 7 = 49\t 7 x 8 = 56\t 7 x 9 = 63\t 8 x 1 = 8\t 8 x 2 = 16\t 8 x 3 = 24\t 8 x 4 = 32\t 8 x 5 = 40\t 8 x 6 = 48\t 8 x 7 = 56\t 8 x 8 = 64\t 8 x 9 = 72\t "
     ]
    }
   ],
   "source": [
    "i = 1\n",
    "while i < 9:\n",
    "    j = 1\n",
    "    while j <= 9:\n",
    "        print(f\"{i} x {j} = {i*j}\\t\", end = ' ')\n",
    "        j += 1\n",
    "    i += 1"
   ]
  },
  {
   "cell_type": "code",
   "execution_count": null,
   "id": "ccbf0fed",
   "metadata": {},
   "outputs": [],
   "source": []
  }
 ],
 "metadata": {
  "kernelspec": {
   "display_name": "Python 3 (ipykernel)",
   "language": "python",
   "name": "python3"
  },
  "language_info": {
   "codemirror_mode": {
    "name": "ipython",
    "version": 3
   },
   "file_extension": ".py",
   "mimetype": "text/x-python",
   "name": "python",
   "nbconvert_exporter": "python",
   "pygments_lexer": "ipython3",
   "version": "3.11.5"
  }
 },
 "nbformat": 4,
 "nbformat_minor": 5
}
