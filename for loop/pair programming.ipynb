{
 "cells": [
  {
   "cell_type": "markdown",
   "id": "2a2bbe2c",
   "metadata": {},
   "source": [
    "### snake matrix"
   ]
  },
  {
   "cell_type": "code",
   "execution_count": 13,
   "id": "d7f96d60",
   "metadata": {},
   "outputs": [
    {
     "name": "stdout",
     "output_type": "stream",
     "text": [
      "Enter n: 3\n"
     ]
    },
    {
     "ename": "TypeError",
     "evalue": "'int' object is not subscriptable",
     "output_type": "error",
     "traceback": [
      "\u001b[0;31m---------------------------------------------------------------------------\u001b[0m",
      "\u001b[0;31mTypeError\u001b[0m                                 Traceback (most recent call last)",
      "Cell \u001b[0;32mIn[13], line 5\u001b[0m\n\u001b[1;32m      3\u001b[0m \u001b[38;5;28mlist\u001b[39m(\u001b[38;5;28mstr\u001b[39m(sqrt))\n\u001b[1;32m      4\u001b[0m \u001b[38;5;28;01mfor\u001b[39;00m i \u001b[38;5;129;01min\u001b[39;00m \u001b[38;5;28mrange\u001b[39m(\u001b[38;5;241m1\u001b[39m,sqrt):\n\u001b[0;32m----> 5\u001b[0m     \u001b[38;5;28;01mif\u001b[39;00m i[\u001b[38;5;241m0\u001b[39m] \u001b[38;5;241m%\u001b[39m \u001b[38;5;241m2\u001b[39m \u001b[38;5;241m==\u001b[39m \u001b[38;5;241m0\u001b[39m:\n\u001b[1;32m      6\u001b[0m         \u001b[38;5;28mprint\u001b[39m(i)\n",
      "\u001b[0;31mTypeError\u001b[0m: 'int' object is not subscriptable"
     ]
    }
   ],
   "source": [
    "n = int(input(\"Enter n: \"))\n",
    "sqrt = (n*n)+1\n",
    "list(str(sqrt))\n",
    "for i in range(1,sqrt):\n",
    "    "
   ]
  },
  {
   "cell_type": "code",
   "execution_count": 15,
   "id": "b8abec3c",
   "metadata": {},
   "outputs": [
    {
     "name": "stdout",
     "output_type": "stream",
     "text": [
      "Enter n: 3\n",
      "[0, 0, 0, 2, 1, 0, 2, 2, 2]\n"
     ]
    }
   ],
   "source": [
    "n = int(input(\"Enter n: \"))\n",
    "snake = []\n",
    "for i in range(n):\n",
    "    if i % 2 == 0:\n",
    "        for j in range(n):\n",
    "            snake.append(i)\n",
    "    else:\n",
    "        for j in range(n-1, -1, -1):\n",
    "            snake.append(j)\n",
    "print(snake)"
   ]
  },
  {
   "cell_type": "code",
   "execution_count": 29,
   "id": "ee87d167",
   "metadata": {},
   "outputs": [
    {
     "name": "stdout",
     "output_type": "stream",
     "text": [
      "Enter n: 5\n",
      "    1    2    3    4    5\n",
      "   10    9    8    7    6\n",
      "   11   12   13   14   15\n",
      "   20   19   18   17   16\n",
      "   21   22   23   24   25\n"
     ]
    }
   ],
   "source": [
    "n = int(input(\"Enter n: \"))\n",
    "start_n = 1\n",
    "end_n = n\n",
    "step_n = 1\n",
    "\n",
    "for i in range(n):\n",
    "    if step_n == 1:\n",
    "        for num in range(start_n, end_n + 1, step_n):\n",
    "            print(f\"{num:5d}\", end='')\n",
    "    elif step_n == -1:\n",
    "        for num in range(start_n, end_n - 1, step_n):\n",
    "            print(f\"{num:5d}\", end='')\n",
    "            \n",
    "    print()\n",
    "    start_n, end_n, step_n = end_n + n, start_n + n,step_n *-1"
   ]
  },
  {
   "cell_type": "code",
   "execution_count": 27,
   "id": "e9f62d8a",
   "metadata": {},
   "outputs": [
    {
     "name": "stdout",
     "output_type": "stream",
     "text": [
      "Enter n: 5\n",
      "    1     2     3     4     5 \n",
      "   10     9     8     7     6 \n",
      "   11    12    13    14    15 \n",
      "   20    19    18    17    16 \n",
      "   21    22    23    24    25 \n"
     ]
    }
   ],
   "source": [
    "a = 0\n",
    "n = int(input(\"Enter n: \"))\n",
    "for i in range(1, n+1):\n",
    "    list1 = []\n",
    "    for j in range(1,n+1):\n",
    "        a += 1\n",
    "        list1.append(a)\n",
    "    if i % 2 == 0:\n",
    "        for j in list1[::-1]:\n",
    "            print(f\"{j:5d}\", end = \" \")\n",
    "    else: \n",
    "        for j in list1:\n",
    "            print(f\"{j:5d}\", end = \" \")\n",
    "    print()"
   ]
  },
  {
   "cell_type": "code",
   "execution_count": 30,
   "id": "20adc256",
   "metadata": {},
   "outputs": [
    {
     "name": "stdout",
     "output_type": "stream",
     "text": [
      "4\n"
     ]
    }
   ],
   "source": [
    "print(sum(range(1,5,2)))"
   ]
  },
  {
   "cell_type": "code",
   "execution_count": 31,
   "id": "907b8944",
   "metadata": {},
   "outputs": [
    {
     "name": "stdout",
     "output_type": "stream",
     "text": [
      "30\n"
     ]
    }
   ],
   "source": [
    "num = 0\n",
    "for _ in range(3):\n",
    "    for i in [1,2,3,4]:\n",
    "        num += i\n",
    "print(num)"
   ]
  },
  {
   "cell_type": "code",
   "execution_count": null,
   "id": "81e83d21",
   "metadata": {},
   "outputs": [],
   "source": []
  }
 ],
 "metadata": {
  "kernelspec": {
   "display_name": "Python 3 (ipykernel)",
   "language": "python",
   "name": "python3"
  },
  "language_info": {
   "codemirror_mode": {
    "name": "ipython",
    "version": 3
   },
   "file_extension": ".py",
   "mimetype": "text/x-python",
   "name": "python",
   "nbconvert_exporter": "python",
   "pygments_lexer": "ipython3",
   "version": "3.11.5"
  }
 },
 "nbformat": 4,
 "nbformat_minor": 5
}
