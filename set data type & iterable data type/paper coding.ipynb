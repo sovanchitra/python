{
 "cells": [
  {
   "cell_type": "markdown",
   "id": "30aee111",
   "metadata": {},
   "source": [
    "### create set from list"
   ]
  },
  {
   "cell_type": "code",
   "execution_count": 1,
   "id": "c8e49d77",
   "metadata": {},
   "outputs": [
    {
     "name": "stdout",
     "output_type": "stream",
     "text": [
      "{'mango', 'banana', 'apple'}\n"
     ]
    }
   ],
   "source": [
    "lst = ['apple', 'mango', 'banana']\n",
    "s1 = set(lst)\n",
    "print(s1)"
   ]
  },
  {
   "cell_type": "markdown",
   "id": "70af0165",
   "metadata": {},
   "source": [
    "### operation"
   ]
  },
  {
   "cell_type": "code",
   "execution_count": 2,
   "id": "72c61310",
   "metadata": {},
   "outputs": [
    {
     "data": {
      "text/plain": [
       "{10, 20, 30, 40, 50, 60, 70}"
      ]
     },
     "execution_count": 2,
     "metadata": {},
     "output_type": "execute_result"
    }
   ],
   "source": [
    "s1 = {10,20,30,40}\n",
    "s2 = {30,40,50,60,70}\n",
    "s1 | s2"
   ]
  },
  {
   "cell_type": "code",
   "execution_count": 3,
   "id": "885f2f8d",
   "metadata": {},
   "outputs": [
    {
     "data": {
      "text/plain": [
       "{30, 40}"
      ]
     },
     "execution_count": 3,
     "metadata": {},
     "output_type": "execute_result"
    }
   ],
   "source": [
    "s1 & s2"
   ]
  },
  {
   "cell_type": "code",
   "execution_count": 4,
   "id": "806fb62b",
   "metadata": {},
   "outputs": [
    {
     "data": {
      "text/plain": [
       "{10, 20}"
      ]
     },
     "execution_count": 4,
     "metadata": {},
     "output_type": "execute_result"
    }
   ],
   "source": [
    "s1 - s2"
   ]
  },
  {
   "cell_type": "code",
   "execution_count": 5,
   "id": "efd1a89e",
   "metadata": {},
   "outputs": [
    {
     "data": {
      "text/plain": [
       "{10, 20, 50, 60, 70}"
      ]
     },
     "execution_count": 5,
     "metadata": {},
     "output_type": "execute_result"
    }
   ],
   "source": [
    "s1 ^ s2"
   ]
  },
  {
   "cell_type": "code",
   "execution_count": 6,
   "id": "45f310bd",
   "metadata": {},
   "outputs": [
    {
     "data": {
      "text/plain": [
       "False"
      ]
     },
     "execution_count": 6,
     "metadata": {},
     "output_type": "execute_result"
    }
   ],
   "source": [
    "s1.issubset(s2)"
   ]
  },
  {
   "cell_type": "code",
   "execution_count": 7,
   "id": "87b4ea59",
   "metadata": {},
   "outputs": [
    {
     "data": {
      "text/plain": [
       "False"
      ]
     },
     "execution_count": 7,
     "metadata": {},
     "output_type": "execute_result"
    }
   ],
   "source": [
    "s1.issuperset(s2)"
   ]
  },
  {
   "cell_type": "code",
   "execution_count": 8,
   "id": "0f359527",
   "metadata": {},
   "outputs": [
    {
     "data": {
      "text/plain": [
       "False"
      ]
     },
     "execution_count": 8,
     "metadata": {},
     "output_type": "execute_result"
    }
   ],
   "source": [
    "s1.isdisjoint(s2)"
   ]
  },
  {
   "cell_type": "markdown",
   "id": "8b0f5d5a",
   "metadata": {},
   "source": [
    "### monopoly"
   ]
  },
  {
   "cell_type": "code",
   "execution_count": 3,
   "id": "4c9178bd",
   "metadata": {},
   "outputs": [
    {
     "name": "stdout",
     "output_type": "stream",
     "text": [
      "{(2, 2, 2), (3, 5, 6), (1, 6, 6), (2, 2, 5), (4, 4, 4), (1, 2, 2), (1, 3, 3), (1, 2, 5), (4, 5, 6), (3, 3, 5), (1, 3, 6), (3, 4, 4), (1, 4, 5), (5, 5, 6), (2, 4, 5), (2, 3, 3), (2, 3, 6), (1, 1, 3), (1, 1, 6), (1, 5, 6), (2, 2, 4), (3, 5, 5), (4, 4, 6), (1, 2, 4), (2, 5, 6), (4, 5, 5), (4, 6, 6), (6, 6, 6), (1, 4, 4), (5, 5, 5), (3, 4, 6), (3, 3, 4), (1, 3, 5), (3, 6, 6), (2, 3, 5), (1, 1, 2), (2, 4, 4), (1, 1, 5), (1, 5, 5), (5, 6, 6), (2, 2, 3), (2, 2, 6), (2, 5, 5), (1, 2, 6), (2, 6, 6), (4, 4, 5), (1, 2, 3), (1, 4, 6), (1, 3, 4), (3, 3, 3), (3, 3, 6), (3, 4, 5), (2, 3, 4), (1, 1, 4), (2, 4, 6), (1, 1, 1)}\n",
      "There are 56 cases that can occur by throwing the dice three times.\n",
      "Probability of obtaining more than  3 by the sum of the spots of a dice: 100.00%\n",
      "Probability of obtaining more than  4 by the sum of the spots of a dice: 98.21%\n",
      "Probability of obtaining more than  5 by the sum of the spots of a dice: 96.43%\n",
      "Probability of obtaining more than  6 by the sum of the spots of a dice: 92.86%\n",
      "Probability of obtaining more than  7 by the sum of the spots of a dice: 87.50%\n",
      "Probability of obtaining more than  8 by the sum of the spots of a dice: 80.36%\n",
      "Probability of obtaining more than  9 by the sum of the spots of a dice: 71.43%\n",
      "Probability of obtaining more than 10 by the sum of the spots of a dice: 60.71%\n",
      "Probability of obtaining more than 11 by the sum of the spots of a dice: 50.00%\n",
      "Probability of obtaining more than 12 by the sum of the spots of a dice: 39.29%\n",
      "Probability of obtaining more than 13 by the sum of the spots of a dice: 28.57%\n",
      "Probability of obtaining more than 14 by the sum of the spots of a dice: 19.64%\n",
      "Probability of obtaining more than 15 by the sum of the spots of a dice: 12.50%\n",
      "Probability of obtaining more than 16 by the sum of the spots of a dice: 7.14%\n",
      "Probability of obtaining more than 17 by the sum of the spots of a dice: 3.57%\n",
      "Probability of obtaining more than 18 by the sum of the spots of a dice: 1.79%\n"
     ]
    }
   ],
   "source": [
    "cases_3times = set()\n",
    "for i in range(1,7):\n",
    "    for j in range(i, 7):\n",
    "        for k in range(j, 7):\n",
    "            cases_3times.add((i,j,k))\n",
    "            \n",
    "print(cases_3times)\n",
    "\n",
    "\n",
    "total_cases = len(cases_3times)\n",
    "\n",
    "print(f\"There are {total_cases} cases that can occur by throwing the dice three times.\")\n",
    "\n",
    "for i in range(3,19):\n",
    "    n_cases = 0\n",
    "    for c in cases_3times:\n",
    "        if sum(c) >= i:\n",
    "            n_cases += 1\n",
    "    prob = n_cases * 100/total_cases\n",
    "\n",
    "    print(f\"Probability of obtaining more than {i:2d} by the sum of the spots of a dice: {prob:1.2f}%\")"
   ]
  },
  {
   "cell_type": "code",
   "execution_count": null,
   "id": "f54607ea",
   "metadata": {},
   "outputs": [],
   "source": []
  }
 ],
 "metadata": {
  "kernelspec": {
   "display_name": "Python 3 (ipykernel)",
   "language": "python",
   "name": "python3"
  },
  "language_info": {
   "codemirror_mode": {
    "name": "ipython",
    "version": 3
   },
   "file_extension": ".py",
   "mimetype": "text/x-python",
   "name": "python",
   "nbconvert_exporter": "python",
   "pygments_lexer": "ipython3",
   "version": "3.11.5"
  }
 },
 "nbformat": 4,
 "nbformat_minor": 5
}
