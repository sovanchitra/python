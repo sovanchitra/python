{
 "cells": [
  {
   "cell_type": "markdown",
   "id": "8a6daa50",
   "metadata": {},
   "source": [
    "### iterable data type"
   ]
  },
  {
   "cell_type": "code",
   "execution_count": 1,
   "id": "0261e345",
   "metadata": {},
   "outputs": [
    {
     "ename": "TypeError",
     "evalue": "'int' object is not iterable",
     "output_type": "error",
     "traceback": [
      "\u001b[0;31m---------------------------------------------------------------------------\u001b[0m",
      "\u001b[0;31mTypeError\u001b[0m                                 Traceback (most recent call last)",
      "Cell \u001b[0;32mIn[1], line 2\u001b[0m\n\u001b[1;32m      1\u001b[0m n \u001b[38;5;241m=\u001b[39m \u001b[38;5;241m100\u001b[39m\n\u001b[0;32m----> 2\u001b[0m n_iter \u001b[38;5;241m=\u001b[39m \u001b[38;5;28miter\u001b[39m(n)\n",
      "\u001b[0;31mTypeError\u001b[0m: 'int' object is not iterable"
     ]
    }
   ],
   "source": [
    "n = 100\n",
    "n_iter = iter(n)"
   ]
  },
  {
   "cell_type": "code",
   "execution_count": null,
   "id": "27a3fb58",
   "metadata": {},
   "outputs": [],
   "source": [
    "try:\n",
    "    n = 100\n",
    "    iterator = iter(n) # try to convert integer n to an iterable data type\n",
    "except TypeError:\n",
    "    print(\"Number is not iterable data type.\")\n",
    "else:\n",
    "    print(\"Number is terable data type.\")"
   ]
  },
  {
   "cell_type": "code",
   "execution_count": null,
   "id": "60787530",
   "metadata": {},
   "outputs": [],
   "source": [
    "try:\n",
    "    l = [10,20,30]\n",
    "    iterator = iter(l)\n",
    "except TypeError:\n",
    "    print(\"List is not iterable data type.\")\n",
    "else:\n",
    "    print(\"List iterable data type.\")"
   ]
  },
  {
   "cell_type": "code",
   "execution_count": null,
   "id": "c23a5104",
   "metadata": {},
   "outputs": [],
   "source": [
    "try:\n",
    "    t = (10,20,30)\n",
    "    iterator = iter(t)\n",
    "except TypeError:\n",
    "    print(\"Tuple is not iterable data type.\")\n",
    "else:\n",
    "    print(\"Tuple is iterable data type\")"
   ]
  },
  {
   "cell_type": "code",
   "execution_count": null,
   "id": "f76814f4",
   "metadata": {},
   "outputs": [],
   "source": [
    "try:\n",
    "    s = 'string'\n",
    "    iterator = iter(s)\n",
    "except TypeError:\n",
    "    print(\"String is not iterable data type.\")\n",
    "else:\n",
    "    print(\"String is iterable data type\")"
   ]
  },
  {
   "cell_type": "markdown",
   "id": "6412e08c",
   "metadata": {},
   "source": [
    "### built-in function that take iterable data types as parameters"
   ]
  },
  {
   "cell_type": "code",
   "execution_count": null,
   "id": "1fc565c6",
   "metadata": {},
   "outputs": [],
   "source": [
    "# all function \n",
    "\n",
    "l1 = [1,2,3,4]\n",
    "l2 = [0,2,4,8]\n",
    "l3 = [0,0,0,0]\n",
    "all(l1)"
   ]
  },
  {
   "cell_type": "code",
   "execution_count": null,
   "id": "1dc22402",
   "metadata": {},
   "outputs": [],
   "source": [
    "all(l2)"
   ]
  },
  {
   "cell_type": "code",
   "execution_count": null,
   "id": "c1562ac3",
   "metadata": {},
   "outputs": [],
   "source": [
    "all(l3)"
   ]
  },
  {
   "cell_type": "code",
   "execution_count": null,
   "id": "00252820",
   "metadata": {},
   "outputs": [],
   "source": [
    "# next function\n",
    "\n",
    "iter_a = iter([10,20,30])\n",
    "next(iter_a)"
   ]
  },
  {
   "cell_type": "code",
   "execution_count": null,
   "id": "5883cae0",
   "metadata": {},
   "outputs": [],
   "source": [
    "next(iter_a)"
   ]
  },
  {
   "cell_type": "code",
   "execution_count": null,
   "id": "d0a55f3b",
   "metadata": {},
   "outputs": [],
   "source": [
    "next(iter_a)"
   ]
  },
  {
   "cell_type": "code",
   "execution_count": null,
   "id": "5f25d980",
   "metadata": {},
   "outputs": [],
   "source": [
    "next(iter_a)"
   ]
  },
  {
   "cell_type": "code",
   "execution_count": null,
   "id": "e112952c",
   "metadata": {},
   "outputs": [],
   "source": [
    "a = [10,20,30]\n",
    "next(a)"
   ]
  },
  {
   "cell_type": "code",
   "execution_count": null,
   "id": "e589b6e9",
   "metadata": {},
   "outputs": [],
   "source": [
    "r_iter = iter(range(3))\n",
    "next(r_iter)"
   ]
  },
  {
   "cell_type": "code",
   "execution_count": null,
   "id": "694d9523",
   "metadata": {},
   "outputs": [],
   "source": [
    "iter1 = iter([10,20,30])\n",
    "print(iter1)\n",
    "print(list(iter1))\n",
    "print(tuple(iter1)) # cant convert again"
   ]
  },
  {
   "cell_type": "markdown",
   "id": "69ac7719",
   "metadata": {},
   "source": [
    "## Set"
   ]
  },
  {
   "cell_type": "code",
   "execution_count": null,
   "id": "28172b19",
   "metadata": {},
   "outputs": [],
   "source": [
    "# declaring set\n",
    "\n",
    "set0 = set()\n",
    "\n",
    "set1 = {1,2,3,4}\n",
    "\n",
    "n_tuple = (1,2,3,4)\n",
    "set2 = set(n_tuple)\n",
    "\n",
    "n_list = [1,2,3,4]\n",
    "set3 = set(n_list)\n",
    "set3"
   ]
  },
  {
   "cell_type": "code",
   "execution_count": null,
   "id": "5896185e",
   "metadata": {},
   "outputs": [],
   "source": [
    "days_list = ['Mon', 'Tue', 'Wed', 'Thu', 'Fri', 'Sat', 'Sun']\n",
    "days_set = set(days_list)\n",
    "days_set  # unordered, so cannot use indexing"
   ]
  },
  {
   "cell_type": "code",
   "execution_count": null,
   "id": "260935ec",
   "metadata": {},
   "outputs": [],
   "source": [
    "fruits_tuple = ('apple', 'orange', 'water melon')\n",
    "fruits_set = set(fruits_tuple)\n",
    "fruits_set"
   ]
  },
  {
   "cell_type": "code",
   "execution_count": null,
   "id": "145b8522",
   "metadata": {},
   "outputs": [],
   "source": [
    "# duplication\n",
    "\n",
    "l = set([10,10,20,40,50,30,40])\n",
    "print(l)"
   ]
  },
  {
   "cell_type": "code",
   "execution_count": null,
   "id": "6bbc8a6c",
   "metadata": {},
   "outputs": [],
   "source": [
    "# set with strings\n",
    "# create element of each character\n",
    "set('hello')"
   ]
  },
  {
   "cell_type": "markdown",
   "id": "04cf873b",
   "metadata": {},
   "source": [
    "### set operator"
   ]
  },
  {
   "cell_type": "code",
   "execution_count": null,
   "id": "c040dd6d",
   "metadata": {},
   "outputs": [],
   "source": [
    "# in, not in\n",
    "numbers = {2,1,3}\n",
    "if 1 in numbers:\n",
    "    print(\"There is a 1 in the set.\")\n",
    "    \n",
    "if 7 not in numbers:\n",
    "    print(\"There is no 7 in the set.\")"
   ]
  },
  {
   "cell_type": "markdown",
   "id": "3a70f3e1",
   "metadata": {},
   "source": [
    "### method in set"
   ]
  },
  {
   "cell_type": "code",
   "execution_count": null,
   "id": "1cd6acc3",
   "metadata": {},
   "outputs": [],
   "source": [
    "numbers = {1,2,3}\n",
    "numbers.add(4) # take one argument\n",
    "numbers.remove(2) # take one argument \n",
    "numbers.discard(3) # take one argument\n",
    "numbers.clear() # take no argument\n",
    "numbers"
   ]
  },
  {
   "cell_type": "code",
   "execution_count": null,
   "id": "74219781",
   "metadata": {},
   "outputs": [],
   "source": [
    "# if A are all in B, A is a subset of B\n",
    "# since B include A, B is a superset of A\n",
    "\n",
    "# issubsets(s): return True/False indicating whether the set is a subset of s\n",
    "# issuperset(s): return True/Fasle indicating whether the set is a superset of set s\n",
    "# isdisjoint(s): return True/False indicating whether the set is disjoijt from set s\n",
    "\n",
    "s1 = {1,2,3,4,5}\n",
    "s2 = {1,2,3}\n",
    "s3 = {1,2,6}\n",
    "s2.issubset(s1)"
   ]
  },
  {
   "cell_type": "code",
   "execution_count": null,
   "id": "7565f955",
   "metadata": {},
   "outputs": [],
   "source": [
    "s3.issubset(s1)"
   ]
  },
  {
   "cell_type": "code",
   "execution_count": null,
   "id": "957df6ea",
   "metadata": {},
   "outputs": [],
   "source": [
    "s1.issuperset(s2)"
   ]
  },
  {
   "cell_type": "code",
   "execution_count": null,
   "id": "ba06240d",
   "metadata": {},
   "outputs": [],
   "source": [
    "s1.issuperset(s3)"
   ]
  },
  {
   "cell_type": "code",
   "execution_count": null,
   "id": "3b942c83",
   "metadata": {},
   "outputs": [],
   "source": [
    "# disjoint method: return true if sets are different\n",
    "\n",
    "s1 = {1,2,3}\n",
    "s2 = {10,20,30}\n",
    "s1.isdisjoint(s2)"
   ]
  },
  {
   "cell_type": "markdown",
   "id": "b762855d",
   "metadata": {},
   "source": [
    "### iterating set"
   ]
  },
  {
   "cell_type": "code",
   "execution_count": null,
   "id": "a37fbcf2",
   "metadata": {},
   "outputs": [],
   "source": [
    "numbers = {3,2,1,6,5,8,9,4}\n",
    "for x in numbers:\n",
    "    print(x, end = ' ')\n",
    "    \n",
    "print()\n",
    "\n",
    "for y in sorted(numbers):\n",
    "    print(y, end = ' ')\n",
    "    \n",
    "numbers = sorted(numbers) #set is converted to list using sorted function\n",
    "numbers"
   ]
  },
  {
   "cell_type": "markdown",
   "id": "ab41d0df",
   "metadata": {},
   "source": [
    "### one-liner loop expression"
   ]
  },
  {
   "cell_type": "code",
   "execution_count": null,
   "id": "39f62d57",
   "metadata": {},
   "outputs": [],
   "source": [
    "# {i : create a new set of items\n",
    "# for i in : for each element i in the data type\n",
    "# 'apple' } : lists, tuples, strings, etc\n",
    "\n",
    "a = {i for i in 'apple'}\n",
    "print(a)\n",
    "\n",
    "\n",
    "# with for loop and if statement\n",
    "a = {i for i in 'pineapple' if i not in 'apl'}\n",
    "a"
   ]
  },
  {
   "cell_type": "markdown",
   "id": "375de495",
   "metadata": {},
   "source": [
    "### built-in functions that take set as parameter"
   ]
  },
  {
   "cell_type": "code",
   "execution_count": null,
   "id": "e160f9de",
   "metadata": {},
   "outputs": [],
   "source": [
    "a_set = {1,5,4,3,7,4}\n",
    "len(a_set)"
   ]
  },
  {
   "cell_type": "code",
   "execution_count": null,
   "id": "1fefb0f2",
   "metadata": {},
   "outputs": [],
   "source": [
    "max(a_set)"
   ]
  },
  {
   "cell_type": "code",
   "execution_count": null,
   "id": "cb7c4720",
   "metadata": {},
   "outputs": [],
   "source": [
    "min(a_set)"
   ]
  },
  {
   "cell_type": "code",
   "execution_count": null,
   "id": "36e1bfb1",
   "metadata": {},
   "outputs": [],
   "source": [
    "sorted(a_set)"
   ]
  },
  {
   "cell_type": "code",
   "execution_count": null,
   "id": "a84cf1ec",
   "metadata": {},
   "outputs": [],
   "source": [
    "sum(a_set)"
   ]
  },
  {
   "cell_type": "code",
   "execution_count": null,
   "id": "a6d33f58",
   "metadata": {},
   "outputs": [],
   "source": [
    "# logical function, like all and any, can be applied to data with multiple items\n",
    "# all: returns true if all iterable data items inside it evaluate to true\n",
    "# any: returns true if at least one of iterable data items inside evaluate to true\n",
    "\n",
    "a_set = {1,0,2,3,3}\n",
    "all(a_set), any(a_set)"
   ]
  },
  {
   "cell_type": "markdown",
   "id": "07fb2e4b",
   "metadata": {},
   "source": [
    "### set operator and method"
   ]
  },
  {
   "cell_type": "code",
   "execution_count": null,
   "id": "0cd8a6d3",
   "metadata": {},
   "outputs": [],
   "source": [
    "# s1 = 1 3 2\n",
    "# s2 = 7 8 9\n",
    "# intersection = 4 5 6\n",
    "\n",
    "\n",
    "# union operator and method\n",
    "# s1 | s2 = {1,2,3,4,5,6,7,8,9} or s1.union(s2)\n",
    "\n",
    "# intersection operator and method\n",
    "# s1 & s2 = {4,5,6} or s1.intersection(s2)\n",
    "\n",
    "# difference operator and method\n",
    "# s1 - s2 = {1,2,3} or s1.difference(s2)\n",
    "\n",
    "# symmetric difference operator and method\n",
    "# s1 ^ s2 = {1,2,3,7,8,9} or s1.symmetric_difference(s2)"
   ]
  },
  {
   "cell_type": "code",
   "execution_count": null,
   "id": "82c297bf",
   "metadata": {},
   "outputs": [],
   "source": [
    "s1 = {1,2,3,4,5,6}\n",
    "s2 = {4,5,6,7,8,9}\n",
    "s1 | s2"
   ]
  },
  {
   "cell_type": "code",
   "execution_count": null,
   "id": "3c515197",
   "metadata": {},
   "outputs": [],
   "source": [
    "s1 & s2"
   ]
  },
  {
   "cell_type": "code",
   "execution_count": null,
   "id": "527101de",
   "metadata": {},
   "outputs": [],
   "source": [
    "s1 - s2"
   ]
  },
  {
   "cell_type": "code",
   "execution_count": null,
   "id": "8df3a7bf",
   "metadata": {},
   "outputs": [],
   "source": [
    "s1 ^ s2"
   ]
  },
  {
   "cell_type": "code",
   "execution_count": null,
   "id": "19489457",
   "metadata": {},
   "outputs": [],
   "source": [
    "s1.union(s2)"
   ]
  },
  {
   "cell_type": "code",
   "execution_count": null,
   "id": "249b50f4",
   "metadata": {},
   "outputs": [],
   "source": [
    "s1.intersection(s2)"
   ]
  },
  {
   "cell_type": "code",
   "execution_count": null,
   "id": "52bc7b39",
   "metadata": {},
   "outputs": [],
   "source": [
    "s1.difference(s2)"
   ]
  },
  {
   "cell_type": "code",
   "execution_count": null,
   "id": "e10ce2d3",
   "metadata": {},
   "outputs": [],
   "source": [
    "s1.symmetric_difference(s2)"
   ]
  },
  {
   "cell_type": "code",
   "execution_count": null,
   "id": "3a3237cc",
   "metadata": {},
   "outputs": [],
   "source": [
    "# using sequential operators"
   ]
  },
  {
   "cell_type": "code",
   "execution_count": null,
   "id": "5eab16c4",
   "metadata": {},
   "outputs": [],
   "source": [
    "s1 = {1,2,3,4,5,6}\n",
    "s2 = {4,5,6,7,8,9}\n",
    "s3 = {5,6,9,10,11}\n",
    "s1 & s2 & s3"
   ]
  },
  {
   "cell_type": "code",
   "execution_count": null,
   "id": "e57dbcf6",
   "metadata": {},
   "outputs": [],
   "source": [
    "s1 - s2 - s3"
   ]
  },
  {
   "cell_type": "markdown",
   "id": "401d414a",
   "metadata": {},
   "source": [
    "### cartesian product"
   ]
  },
  {
   "cell_type": "code",
   "execution_count": null,
   "id": "f6890de5",
   "metadata": {},
   "outputs": [],
   "source": [
    "A = {1,3}\n",
    "B = {2,4}\n",
    "res = set()\n",
    "for i in A:  # line 4-6: perform union operation between (i,j) elements and res\n",
    "    for j in B:  # completes the tuples with each elements as a component, and are not duplicated\n",
    "        res = res | {(i, j)}\n",
    "AxB = res\n",
    "print('A =', A)\n",
    "print(\"B =\", B)\n",
    "print(\"AxB =\", AxB)"
   ]
  },
  {
   "cell_type": "markdown",
   "id": "77981fcd",
   "metadata": {},
   "source": [
    "### set and comparison operator"
   ]
  },
  {
   "cell_type": "code",
   "execution_count": null,
   "id": "464f0cc9",
   "metadata": {},
   "outputs": [],
   "source": [
    "A = {1,2,3}\n",
    "B = {1,2,3}\n",
    "print(A == B)\n",
    "\n",
    "A = {1,2,3,4,5}\n",
    "B = {1,2,3}\n",
    "print(A > B)"
   ]
  },
  {
   "cell_type": "code",
   "execution_count": null,
   "id": "e5f8f7d3",
   "metadata": {},
   "outputs": [],
   "source": [
    "# example of finding divisors and greatest common divisor of two numbers\n",
    "num = 10\n",
    "divisors = []\n",
    "\n",
    "for i in range(2, num):\n",
    "    if num % i == 0:\n",
    "        divisors.append(i)\n",
    "        \n",
    "print(\"proper divisor of\", num, \" :\", divisors)\n",
    "\n",
    "# with set\n",
    "num = 10\n",
    "divisors = set()\n",
    "\n",
    "for i in range(2, num):\n",
    "    if num % i == 0:\n",
    "        divisors.add(i)\n",
    "        \n",
    "print(\"proper divisor of\", num, \" :\", divisors)"
   ]
  },
  {
   "cell_type": "code",
   "execution_count": 2,
   "id": "e589ef03",
   "metadata": {},
   "outputs": [
    {
     "name": "stdout",
     "output_type": "stream",
     "text": [
      "proper divisor of 48  : {2, 3, 4, 6, 8, 12, 16, 24}\n",
      "proper divisor of 60  : {2, 3, 4, 5, 6, 10, 12, 15, 20, 30}\n",
      "{2, 3, 4, 6, 12}\n",
      "The common factor of 48, 60 : 12\n"
     ]
    }
   ],
   "source": [
    "num1 = 48\n",
    "divisors1 = set()\n",
    "\n",
    "for i in range(2, num1):\n",
    "    if num1 % i == 0:\n",
    "        divisors1.add(i)\n",
    "        \n",
    "print(\"proper divisor of\", num1, \" :\", divisors1)\n",
    "\n",
    "\n",
    "num2 = 60\n",
    "divisors2 = set()\n",
    "\n",
    "for i in range(2, num2):\n",
    "    if num2 % i == 0:\n",
    "        divisors2.add(i)\n",
    "        \n",
    "print(\"proper divisor of\", num2, \" :\", divisors2)\n",
    "\n",
    "print(divisors2.intersection(divisors1))\n",
    "print(f\"The common factor of {num1}, {num2} :\", max(divisors1.intersection(divisors2)))"
   ]
  },
  {
   "cell_type": "code",
   "execution_count": null,
   "id": "1821f8cd",
   "metadata": {},
   "outputs": [],
   "source": []
  }
 ],
 "metadata": {
  "kernelspec": {
   "display_name": "Python 3 (ipykernel)",
   "language": "python",
   "name": "python3"
  },
  "language_info": {
   "codemirror_mode": {
    "name": "ipython",
    "version": 3
   },
   "file_extension": ".py",
   "mimetype": "text/x-python",
   "name": "python",
   "nbconvert_exporter": "python",
   "pygments_lexer": "ipython3",
   "version": "3.11.5"
  }
 },
 "nbformat": 4,
 "nbformat_minor": 5
}
