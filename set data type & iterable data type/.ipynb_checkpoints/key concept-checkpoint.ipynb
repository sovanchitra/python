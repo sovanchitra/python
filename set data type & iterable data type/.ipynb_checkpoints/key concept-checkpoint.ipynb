{
 "cells": [
  {
   "cell_type": "markdown",
   "id": "5f268ea9",
   "metadata": {},
   "source": [
    "### iterable data type"
   ]
  },
  {
   "cell_type": "code",
   "execution_count": 1,
   "id": "f85a8841",
   "metadata": {},
   "outputs": [
    {
     "ename": "TypeError",
     "evalue": "'int' object is not iterable",
     "output_type": "error",
     "traceback": [
      "\u001b[0;31m---------------------------------------------------------------------------\u001b[0m",
      "\u001b[0;31mTypeError\u001b[0m                                 Traceback (most recent call last)",
      "Cell \u001b[0;32mIn[1], line 2\u001b[0m\n\u001b[1;32m      1\u001b[0m n \u001b[38;5;241m=\u001b[39m \u001b[38;5;241m100\u001b[39m\n\u001b[0;32m----> 2\u001b[0m n_iter \u001b[38;5;241m=\u001b[39m \u001b[38;5;28miter\u001b[39m(n)\n",
      "\u001b[0;31mTypeError\u001b[0m: 'int' object is not iterable"
     ]
    }
   ],
   "source": [
    "n = 100\n",
    "n_iter = iter(n)"
   ]
  },
  {
   "cell_type": "code",
   "execution_count": 2,
   "id": "a307a807",
   "metadata": {},
   "outputs": [
    {
     "name": "stdout",
     "output_type": "stream",
     "text": [
      "Number is not iterable data type.\n"
     ]
    }
   ],
   "source": [
    "try:\n",
    "    n = 100\n",
    "    iterator = iter(n) # try to convert integer n to an iterable data type\n",
    "except TypeError:\n",
    "    print(\"Number is not iterable data type.\")\n",
    "else:\n",
    "    print(\"Number is terable data type.\")"
   ]
  },
  {
   "cell_type": "code",
   "execution_count": 3,
   "id": "5d55b53a",
   "metadata": {},
   "outputs": [
    {
     "name": "stdout",
     "output_type": "stream",
     "text": [
      "List iterable data type.\n"
     ]
    }
   ],
   "source": [
    "try:\n",
    "    l = [10,20,30]\n",
    "    iterator = iter(l)\n",
    "except TypeError:\n",
    "    print(\"List is not iterable data type.\")\n",
    "else:\n",
    "    print(\"List iterable data type.\")"
   ]
  },
  {
   "cell_type": "code",
   "execution_count": 4,
   "id": "1691c1f6",
   "metadata": {},
   "outputs": [
    {
     "name": "stdout",
     "output_type": "stream",
     "text": [
      "Tuple is iterable data type\n"
     ]
    }
   ],
   "source": [
    "try:\n",
    "    t = (10,20,30)\n",
    "    iterator = iter(t)\n",
    "except TypeError:\n",
    "    print(\"Tuple is not iterable data type.\")\n",
    "else:\n",
    "    print(\"Tuple is iterable data type\")"
   ]
  },
  {
   "cell_type": "code",
   "execution_count": null,
   "id": "e5b34c16",
   "metadata": {},
   "outputs": [],
   "source": [
    "try:\n",
    "    s = 'string'\n",
    "    iterator = iter(s)\n",
    "except TypeError:\n",
    "    print(\"String is not iterable data type.\")\n",
    "else:\n",
    "    print(\"String is iterable data type\")"
   ]
  },
  {
   "cell_type": "markdown",
   "id": "fef5b676",
   "metadata": {},
   "source": [
    "### built-in function that take iterable data types as parameters"
   ]
  },
  {
   "cell_type": "code",
   "execution_count": 5,
   "id": "c2c7a75a",
   "metadata": {},
   "outputs": [
    {
     "data": {
      "text/plain": [
       "True"
      ]
     },
     "execution_count": 5,
     "metadata": {},
     "output_type": "execute_result"
    }
   ],
   "source": [
    "# all function \n",
    "\n",
    "l1 = [1,2,3,4]\n",
    "l2 = [0,2,4,8]\n",
    "l3 = [0,0,0,0]\n",
    "all(l1)"
   ]
  },
  {
   "cell_type": "code",
   "execution_count": 6,
   "id": "5cf26b02",
   "metadata": {},
   "outputs": [
    {
     "data": {
      "text/plain": [
       "False"
      ]
     },
     "execution_count": 6,
     "metadata": {},
     "output_type": "execute_result"
    }
   ],
   "source": [
    "all(l2)"
   ]
  },
  {
   "cell_type": "code",
   "execution_count": 7,
   "id": "7e120d0a",
   "metadata": {},
   "outputs": [
    {
     "data": {
      "text/plain": [
       "False"
      ]
     },
     "execution_count": 7,
     "metadata": {},
     "output_type": "execute_result"
    }
   ],
   "source": [
    "all(l3)"
   ]
  },
  {
   "cell_type": "code",
   "execution_count": 8,
   "id": "87c00d69",
   "metadata": {},
   "outputs": [
    {
     "data": {
      "text/plain": [
       "10"
      ]
     },
     "execution_count": 8,
     "metadata": {},
     "output_type": "execute_result"
    }
   ],
   "source": [
    "# next function\n",
    "\n",
    "iter_a = iter([10,20,30])\n",
    "next(iter_a)"
   ]
  },
  {
   "cell_type": "code",
   "execution_count": 9,
   "id": "45e00aa7",
   "metadata": {},
   "outputs": [
    {
     "data": {
      "text/plain": [
       "20"
      ]
     },
     "execution_count": 9,
     "metadata": {},
     "output_type": "execute_result"
    }
   ],
   "source": [
    "next(iter_a)"
   ]
  },
  {
   "cell_type": "code",
   "execution_count": 10,
   "id": "1785ef42",
   "metadata": {},
   "outputs": [
    {
     "data": {
      "text/plain": [
       "30"
      ]
     },
     "execution_count": 10,
     "metadata": {},
     "output_type": "execute_result"
    }
   ],
   "source": [
    "next(iter_a)"
   ]
  },
  {
   "cell_type": "code",
   "execution_count": 11,
   "id": "de0ccbc4",
   "metadata": {},
   "outputs": [
    {
     "ename": "StopIteration",
     "evalue": "",
     "output_type": "error",
     "traceback": [
      "\u001b[0;31m---------------------------------------------------------------------------\u001b[0m",
      "\u001b[0;31mStopIteration\u001b[0m                             Traceback (most recent call last)",
      "Cell \u001b[0;32mIn[11], line 1\u001b[0m\n\u001b[0;32m----> 1\u001b[0m \u001b[38;5;28mnext\u001b[39m(iter_a)\n",
      "\u001b[0;31mStopIteration\u001b[0m: "
     ]
    }
   ],
   "source": [
    "next(iter_a)"
   ]
  },
  {
   "cell_type": "code",
   "execution_count": 12,
   "id": "6e4ef5f7",
   "metadata": {},
   "outputs": [
    {
     "ename": "TypeError",
     "evalue": "'list' object is not an iterator",
     "output_type": "error",
     "traceback": [
      "\u001b[0;31m---------------------------------------------------------------------------\u001b[0m",
      "\u001b[0;31mTypeError\u001b[0m                                 Traceback (most recent call last)",
      "Cell \u001b[0;32mIn[12], line 2\u001b[0m\n\u001b[1;32m      1\u001b[0m a \u001b[38;5;241m=\u001b[39m [\u001b[38;5;241m10\u001b[39m,\u001b[38;5;241m20\u001b[39m,\u001b[38;5;241m30\u001b[39m]\n\u001b[0;32m----> 2\u001b[0m \u001b[38;5;28mnext\u001b[39m(a)\n",
      "\u001b[0;31mTypeError\u001b[0m: 'list' object is not an iterator"
     ]
    }
   ],
   "source": [
    "a = [10,20,30]\n",
    "next(a)"
   ]
  },
  {
   "cell_type": "code",
   "execution_count": 13,
   "id": "27ac853f",
   "metadata": {},
   "outputs": [
    {
     "data": {
      "text/plain": [
       "0"
      ]
     },
     "execution_count": 13,
     "metadata": {},
     "output_type": "execute_result"
    }
   ],
   "source": [
    "r_iter = iter(range(3))\n",
    "next(r_iter)"
   ]
  },
  {
   "cell_type": "code",
   "execution_count": 14,
   "id": "d5af6c2d",
   "metadata": {},
   "outputs": [
    {
     "name": "stdout",
     "output_type": "stream",
     "text": [
      "<list_iterator object at 0x1085165c0>\n",
      "[10, 20, 30]\n",
      "()\n",
      "()\n"
     ]
    }
   ],
   "source": [
    "iter1 = iter([10,20,30])\n",
    "print(iter1)\n",
    "print(list(iter1))\n",
    "print(tuple(iter1)) # cant convert again"
   ]
  },
  {
   "cell_type": "markdown",
   "id": "abfc3bf5",
   "metadata": {},
   "source": [
    "## Set"
   ]
  },
  {
   "cell_type": "code",
   "execution_count": 16,
   "id": "00848b2c",
   "metadata": {},
   "outputs": [
    {
     "data": {
      "text/plain": [
       "{1, 2, 3, 4}"
      ]
     },
     "execution_count": 16,
     "metadata": {},
     "output_type": "execute_result"
    }
   ],
   "source": [
    "# declaring set\n",
    "\n",
    "set0 = set()\n",
    "\n",
    "set1 = {1,2,3,4}\n",
    "\n",
    "n_tuple = (1,2,3,4)\n",
    "set2 = set(n_tuple)\n",
    "\n",
    "n_list = [1,2,3,4]\n",
    "set3 = set(n_list)\n",
    "set3"
   ]
  },
  {
   "cell_type": "code",
   "execution_count": 17,
   "id": "9e1d83c8",
   "metadata": {},
   "outputs": [
    {
     "data": {
      "text/plain": [
       "{'Fri', 'Mon', 'Sat', 'Sun', 'Thu', 'Tue', 'Wed'}"
      ]
     },
     "execution_count": 17,
     "metadata": {},
     "output_type": "execute_result"
    }
   ],
   "source": [
    "days_list = ['Mon', 'Tue', 'Wed', 'Thu', 'Fri', 'Sat', 'Sun']\n",
    "days_set = set(days_list)\n",
    "days_set  # unordered, so cannot use indexing"
   ]
  },
  {
   "cell_type": "code",
   "execution_count": 18,
   "id": "f8049675",
   "metadata": {},
   "outputs": [
    {
     "data": {
      "text/plain": [
       "{'apple', 'orange', 'water melon'}"
      ]
     },
     "execution_count": 18,
     "metadata": {},
     "output_type": "execute_result"
    }
   ],
   "source": [
    "fruits_tuple = ('apple', 'orange', 'water melon')\n",
    "fruits_set = set(fruits_tuple)\n",
    "fruits_set"
   ]
  },
  {
   "cell_type": "code",
   "execution_count": 20,
   "id": "164b6a4f",
   "metadata": {},
   "outputs": [
    {
     "name": "stdout",
     "output_type": "stream",
     "text": [
      "{40, 10, 50, 20, 30}\n"
     ]
    }
   ],
   "source": [
    "# duplication\n",
    "\n",
    "l = set([10,10,20,40,50,30,40])\n",
    "print(l)"
   ]
  },
  {
   "cell_type": "code",
   "execution_count": 23,
   "id": "c5cd192c",
   "metadata": {},
   "outputs": [
    {
     "data": {
      "text/plain": [
       "{'e', 'h', 'l', 'o'}"
      ]
     },
     "execution_count": 23,
     "metadata": {},
     "output_type": "execute_result"
    }
   ],
   "source": [
    "# set with strings\n",
    "# create element of each character\n",
    "set('hello')"
   ]
  },
  {
   "cell_type": "markdown",
   "id": "04a6745b",
   "metadata": {},
   "source": [
    "### set operator"
   ]
  },
  {
   "cell_type": "code",
   "execution_count": 26,
   "id": "4831b1dd",
   "metadata": {},
   "outputs": [
    {
     "name": "stdout",
     "output_type": "stream",
     "text": [
      "There is a 1 in the set.\n",
      "There is no 7 in the set.\n"
     ]
    }
   ],
   "source": [
    "# in, not in\n",
    "numbers = {2,1,3}\n",
    "if 1 in numbers:\n",
    "    print(\"There is a 1 in the set.\")\n",
    "    \n",
    "if 7 not in numbers:\n",
    "    print(\"There is no 7 in the set.\")"
   ]
  },
  {
   "cell_type": "markdown",
   "id": "2a8106e7",
   "metadata": {},
   "source": [
    "### method in set"
   ]
  },
  {
   "cell_type": "code",
   "execution_count": 71,
   "id": "157bba71",
   "metadata": {},
   "outputs": [
    {
     "ename": "TypeError",
     "evalue": "set.discard() takes exactly one argument (2 given)",
     "output_type": "error",
     "traceback": [
      "\u001b[0;31m---------------------------------------------------------------------------\u001b[0m",
      "\u001b[0;31mTypeError\u001b[0m                                 Traceback (most recent call last)",
      "Cell \u001b[0;32mIn[71], line 4\u001b[0m\n\u001b[1;32m      2\u001b[0m numbers\u001b[38;5;241m.\u001b[39madd(\u001b[38;5;241m4\u001b[39m) \u001b[38;5;66;03m# take one argument\u001b[39;00m\n\u001b[1;32m      3\u001b[0m numbers\u001b[38;5;241m.\u001b[39mremove(\u001b[38;5;241m2\u001b[39m) \u001b[38;5;66;03m# take one argument \u001b[39;00m\n\u001b[0;32m----> 4\u001b[0m numbers\u001b[38;5;241m.\u001b[39mdiscard(\u001b[38;5;241m3\u001b[39m,\u001b[38;5;241m4\u001b[39m) \u001b[38;5;66;03m# \u001b[39;00m\n\u001b[1;32m      5\u001b[0m numbers\u001b[38;5;241m.\u001b[39mclear()\n\u001b[1;32m      6\u001b[0m numbers\n",
      "\u001b[0;31mTypeError\u001b[0m: set.discard() takes exactly one argument (2 given)"
     ]
    }
   ],
   "source": [
    "numbers = {1,2,3}\n",
    "numbers.add(4) # take one argument\n",
    "numbers.remove(2) # take one argument \n",
    "numbers.discard(3) # take one argument\n",
    "numbers.clear() # take no argument\n",
    "# issubsets(s): return True/False indicating whether the set is a subset of s\n",
    "# issuperset(s): return True/Fasle indicating whether the set is a superset of set s\n",
    "# isdisjoint(s): return True/False indicating whether the set is disjoijt from set s\n",
    "numbers"
   ]
  },
  {
   "cell_type": "code",
   "execution_count": 72,
   "id": "69769238",
   "metadata": {},
   "outputs": [
    {
     "data": {
      "text/plain": [
       "True"
      ]
     },
     "execution_count": 72,
     "metadata": {},
     "output_type": "execute_result"
    }
   ],
   "source": [
    "# if A are all in B, A is a subset of B\n",
    "# since B include A, B is a superset of A\n",
    "\n",
    "# issubsets(s): return True/False indicating whether the set is a subset of s\n",
    "# issuperset(s): return True/Fasle indicating whether the set is a superset of set s\n",
    "# isdisjoint(s): return True/False indicating whether the set is disjoijt from set s\n",
    "\n",
    "s1 = {1,2,3,4,5}\n",
    "s2 = {1,2,3}\n",
    "s3 = {1,2,6}\n",
    "s2.issubset(s1)"
   ]
  },
  {
   "cell_type": "code",
   "execution_count": 73,
   "id": "e00de34d",
   "metadata": {},
   "outputs": [
    {
     "data": {
      "text/plain": [
       "False"
      ]
     },
     "execution_count": 73,
     "metadata": {},
     "output_type": "execute_result"
    }
   ],
   "source": [
    "s3.issubset(s1)"
   ]
  },
  {
   "cell_type": "code",
   "execution_count": 74,
   "id": "7fe95bc2",
   "metadata": {},
   "outputs": [
    {
     "data": {
      "text/plain": [
       "True"
      ]
     },
     "execution_count": 74,
     "metadata": {},
     "output_type": "execute_result"
    }
   ],
   "source": [
    "s1.issuperset(s2)"
   ]
  },
  {
   "cell_type": "code",
   "execution_count": null,
   "id": "b1ef9085",
   "metadata": {},
   "outputs": [],
   "source": []
  },
  {
   "cell_type": "markdown",
   "id": "ae56269c",
   "metadata": {},
   "source": [
    "### iterating set"
   ]
  },
  {
   "cell_type": "code",
   "execution_count": 35,
   "id": "84c93c60",
   "metadata": {},
   "outputs": [
    {
     "name": "stdout",
     "output_type": "stream",
     "text": [
      "1 2 3 4 5 6 8 9 \n",
      "1 2 3 4 5 6 8 9 "
     ]
    },
    {
     "data": {
      "text/plain": [
       "[1, 2, 3, 4, 5, 6, 8, 9]"
      ]
     },
     "execution_count": 35,
     "metadata": {},
     "output_type": "execute_result"
    }
   ],
   "source": [
    "numbers = {3,2,1,6,5,8,9,4}\n",
    "for x in numbers:\n",
    "    print(x, end = ' ')\n",
    "    \n",
    "print()\n",
    "\n",
    "for y in sorted(numbers):\n",
    "    print(y, end = ' ')\n",
    "    \n",
    "numbers = sorted(numbers) #set is converted to list using sorted function\n",
    "numbers"
   ]
  },
  {
   "cell_type": "markdown",
   "id": "153b97da",
   "metadata": {},
   "source": [
    "### one-liner loop expression"
   ]
  },
  {
   "cell_type": "code",
   "execution_count": 42,
   "id": "911d47f8",
   "metadata": {},
   "outputs": [
    {
     "name": "stdout",
     "output_type": "stream",
     "text": [
      "{'l', 'n', 'i', 'a', 'p', 'e'}\n"
     ]
    },
    {
     "data": {
      "text/plain": [
       "{'e', 'i', 'n'}"
      ]
     },
     "execution_count": 42,
     "metadata": {},
     "output_type": "execute_result"
    }
   ],
   "source": [
    "# {i : create a new set of items\n",
    "# for i in : for each element i in the data type\n",
    "# 'apple' } : lists, tuples, strings, etc\n",
    "\n",
    "a = {i for i in 'apple'}\n",
    "print(a)\n",
    "\n",
    "\n",
    "# with for loop and if statement\n",
    "a = {i for i in 'pineapple' if i not in 'apl'}\n",
    "a"
   ]
  },
  {
   "cell_type": "markdown",
   "id": "a4abb1ec",
   "metadata": {},
   "source": [
    "### built-in functions that take set as parameter"
   ]
  },
  {
   "cell_type": "code",
   "execution_count": 43,
   "id": "ab6aa4f2",
   "metadata": {},
   "outputs": [
    {
     "data": {
      "text/plain": [
       "5"
      ]
     },
     "execution_count": 43,
     "metadata": {},
     "output_type": "execute_result"
    }
   ],
   "source": [
    "a_set = {1,5,4,3,7,4}\n",
    "len(a_set)"
   ]
  },
  {
   "cell_type": "code",
   "execution_count": 44,
   "id": "5d56b42a",
   "metadata": {},
   "outputs": [
    {
     "data": {
      "text/plain": [
       "7"
      ]
     },
     "execution_count": 44,
     "metadata": {},
     "output_type": "execute_result"
    }
   ],
   "source": [
    "max(a_set)"
   ]
  },
  {
   "cell_type": "code",
   "execution_count": 45,
   "id": "0df7a225",
   "metadata": {},
   "outputs": [
    {
     "data": {
      "text/plain": [
       "1"
      ]
     },
     "execution_count": 45,
     "metadata": {},
     "output_type": "execute_result"
    }
   ],
   "source": [
    "min(a_set)"
   ]
  },
  {
   "cell_type": "code",
   "execution_count": 46,
   "id": "9d10440b",
   "metadata": {},
   "outputs": [
    {
     "data": {
      "text/plain": [
       "[1, 3, 4, 5, 7]"
      ]
     },
     "execution_count": 46,
     "metadata": {},
     "output_type": "execute_result"
    }
   ],
   "source": [
    "sorted(a_set)"
   ]
  },
  {
   "cell_type": "code",
   "execution_count": 47,
   "id": "09b5a1ac",
   "metadata": {},
   "outputs": [
    {
     "data": {
      "text/plain": [
       "20"
      ]
     },
     "execution_count": 47,
     "metadata": {},
     "output_type": "execute_result"
    }
   ],
   "source": [
    "sum(a_set)"
   ]
  },
  {
   "cell_type": "code",
   "execution_count": 48,
   "id": "85c72f65",
   "metadata": {},
   "outputs": [
    {
     "data": {
      "text/plain": [
       "(False, True)"
      ]
     },
     "execution_count": 48,
     "metadata": {},
     "output_type": "execute_result"
    }
   ],
   "source": [
    "# logical function, like all and any, can be applied to data with multiple items\n",
    "# all: returns true if all iterable data items inside it evaluate to true\n",
    "# any: returns true if at least one of iterable data items inside evaluate to true\n",
    "\n",
    "a_set = {1,0,2,3,3}\n",
    "all(a_set), any(a_set)"
   ]
  },
  {
   "cell_type": "markdown",
   "id": "baa1365f",
   "metadata": {},
   "source": [
    "### set operator and method"
   ]
  },
  {
   "cell_type": "code",
   "execution_count": 50,
   "id": "2deb100d",
   "metadata": {},
   "outputs": [
    {
     "ename": "SyntaxError",
     "evalue": "cannot assign to expression here. Maybe you meant '==' instead of '='? (4249388282.py, line 2)",
     "output_type": "error",
     "traceback": [
      "\u001b[0;36m  Cell \u001b[0;32mIn[50], line 2\u001b[0;36m\u001b[0m\n\u001b[0;31m    s1 | s2 = {1,2,3,4,5,6,7,8,9} == s1.union(s2)\u001b[0m\n\u001b[0m    ^\u001b[0m\n\u001b[0;31mSyntaxError\u001b[0m\u001b[0;31m:\u001b[0m cannot assign to expression here. Maybe you meant '==' instead of '='?\n"
     ]
    }
   ],
   "source": [
    "# s1 = 1 3 2\n",
    "# s2 = 7 8 9\n",
    "# intersection = 4 5 6\n",
    "\n",
    "\n",
    "# union operator and method\n",
    "# s1 | s2 = {1,2,3,4,5,6,7,8,9} or s1.union(s2)\n",
    "\n",
    "# intersection operator and method\n",
    "# s1 & s2 = {4,5,6} or s1.intersection(s2)\n",
    "\n",
    "# difference operator and method\n",
    "# s1 - s2 = {1,2,3} or s1.difference(s2)\n",
    "\n",
    "# symmetric difference operator and method\n",
    "# s1 ^ s2 = {1,2,3,7,8,9} or s1.symmetric_difference(s2)"
   ]
  },
  {
   "cell_type": "code",
   "execution_count": 51,
   "id": "be1cefc1",
   "metadata": {},
   "outputs": [
    {
     "data": {
      "text/plain": [
       "{1, 2, 3, 4, 5, 6, 7, 8, 9}"
      ]
     },
     "execution_count": 51,
     "metadata": {},
     "output_type": "execute_result"
    }
   ],
   "source": [
    "s1 = {1,2,3,4,5,6}\n",
    "s2 = {4,5,6,7,8,9}\n",
    "s1 | s2"
   ]
  },
  {
   "cell_type": "code",
   "execution_count": 52,
   "id": "93f7faff",
   "metadata": {},
   "outputs": [
    {
     "data": {
      "text/plain": [
       "{4, 5, 6}"
      ]
     },
     "execution_count": 52,
     "metadata": {},
     "output_type": "execute_result"
    }
   ],
   "source": [
    "s1 & s2"
   ]
  },
  {
   "cell_type": "code",
   "execution_count": 60,
   "id": "148566ac",
   "metadata": {},
   "outputs": [
    {
     "data": {
      "text/plain": [
       "{7, 8, 9}"
      ]
     },
     "execution_count": 60,
     "metadata": {},
     "output_type": "execute_result"
    }
   ],
   "source": [
    "s1 - s2"
   ]
  },
  {
   "cell_type": "code",
   "execution_count": 54,
   "id": "54250e31",
   "metadata": {},
   "outputs": [
    {
     "data": {
      "text/plain": [
       "{1, 2, 3, 7, 8, 9}"
      ]
     },
     "execution_count": 54,
     "metadata": {},
     "output_type": "execute_result"
    }
   ],
   "source": [
    "s1 ^ s2"
   ]
  },
  {
   "cell_type": "code",
   "execution_count": 57,
   "id": "93472a07",
   "metadata": {},
   "outputs": [
    {
     "data": {
      "text/plain": [
       "{1, 2, 3, 4, 5, 6, 7, 8, 9}"
      ]
     },
     "execution_count": 57,
     "metadata": {},
     "output_type": "execute_result"
    }
   ],
   "source": [
    "s1.union(s2)"
   ]
  },
  {
   "cell_type": "code",
   "execution_count": 56,
   "id": "c5781c61",
   "metadata": {},
   "outputs": [
    {
     "data": {
      "text/plain": [
       "{4, 5, 6}"
      ]
     },
     "execution_count": 56,
     "metadata": {},
     "output_type": "execute_result"
    }
   ],
   "source": [
    "s1.intersection(s2)"
   ]
  },
  {
   "cell_type": "code",
   "execution_count": 58,
   "id": "e8a022be",
   "metadata": {},
   "outputs": [
    {
     "data": {
      "text/plain": [
       "{1, 2, 3}"
      ]
     },
     "execution_count": 58,
     "metadata": {},
     "output_type": "execute_result"
    }
   ],
   "source": [
    "s1.difference(s2)"
   ]
  },
  {
   "cell_type": "code",
   "execution_count": 59,
   "id": "80713624",
   "metadata": {},
   "outputs": [
    {
     "data": {
      "text/plain": [
       "{1, 2, 3, 7, 8, 9}"
      ]
     },
     "execution_count": 59,
     "metadata": {},
     "output_type": "execute_result"
    }
   ],
   "source": [
    "s1.symmetric_difference(s2)"
   ]
  },
  {
   "cell_type": "code",
   "execution_count": 61,
   "id": "05dd9fe6",
   "metadata": {},
   "outputs": [],
   "source": [
    "# using sequential operators"
   ]
  },
  {
   "cell_type": "code",
   "execution_count": 62,
   "id": "2eb05d4b",
   "metadata": {},
   "outputs": [
    {
     "data": {
      "text/plain": [
       "{5, 6}"
      ]
     },
     "execution_count": 62,
     "metadata": {},
     "output_type": "execute_result"
    }
   ],
   "source": [
    "s1 = {1,2,3,4,5,6}\n",
    "s2 = {4,5,6,7,8,9}\n",
    "s3 = {5,6,9,10,11}\n",
    "s1 & s2 & s3"
   ]
  },
  {
   "cell_type": "code",
   "execution_count": 63,
   "id": "582f1468",
   "metadata": {},
   "outputs": [
    {
     "data": {
      "text/plain": [
       "{1, 2, 3}"
      ]
     },
     "execution_count": 63,
     "metadata": {},
     "output_type": "execute_result"
    }
   ],
   "source": [
    "s1 - s2 - s3"
   ]
  },
  {
   "cell_type": "code",
   "execution_count": null,
   "id": "9d8a4a55",
   "metadata": {},
   "outputs": [],
   "source": []
  }
 ],
 "metadata": {
  "kernelspec": {
   "display_name": "Python 3 (ipykernel)",
   "language": "python",
   "name": "python3"
  },
  "language_info": {
   "codemirror_mode": {
    "name": "ipython",
    "version": 3
   },
   "file_extension": ".py",
   "mimetype": "text/x-python",
   "name": "python",
   "nbconvert_exporter": "python",
   "pygments_lexer": "ipython3",
   "version": "3.11.5"
  }
 },
 "nbformat": 4,
 "nbformat_minor": 5
}
