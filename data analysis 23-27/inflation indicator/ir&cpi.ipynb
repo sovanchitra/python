{
 "cells": [
  {
   "cell_type": "code",
   "execution_count": 1,
   "id": "f1a848d8",
   "metadata": {},
   "outputs": [],
   "source": [
    "import pandas as pd\n",
    "import matplotlib.pyplot as plt\n",
    "import seaborn as sns\n",
    "import pandas_datareader as pdr"
   ]
  },
  {
   "cell_type": "code",
   "execution_count": 3,
   "id": "b929faaf",
   "metadata": {},
   "outputs": [
    {
     "data": {
      "text/html": [
       "<div>\n",
       "<style scoped>\n",
       "    .dataframe tbody tr th:only-of-type {\n",
       "        vertical-align: middle;\n",
       "    }\n",
       "\n",
       "    .dataframe tbody tr th {\n",
       "        vertical-align: top;\n",
       "    }\n",
       "\n",
       "    .dataframe thead th {\n",
       "        text-align: right;\n",
       "    }\n",
       "</style>\n",
       "<table border=\"1\" class=\"dataframe\">\n",
       "  <thead>\n",
       "    <tr style=\"text-align: right;\">\n",
       "      <th></th>\n",
       "      <th>IR</th>\n",
       "    </tr>\n",
       "    <tr>\n",
       "      <th>DATE</th>\n",
       "      <th></th>\n",
       "    </tr>\n",
       "  </thead>\n",
       "  <tbody>\n",
       "    <tr>\n",
       "      <th>2018-01-01</th>\n",
       "      <td>126.5</td>\n",
       "    </tr>\n",
       "    <tr>\n",
       "      <th>2018-02-01</th>\n",
       "      <td>126.8</td>\n",
       "    </tr>\n",
       "    <tr>\n",
       "      <th>2018-03-01</th>\n",
       "      <td>126.5</td>\n",
       "    </tr>\n",
       "    <tr>\n",
       "      <th>2018-04-01</th>\n",
       "      <td>127.1</td>\n",
       "    </tr>\n",
       "    <tr>\n",
       "      <th>2018-05-01</th>\n",
       "      <td>128.2</td>\n",
       "    </tr>\n",
       "    <tr>\n",
       "      <th>...</th>\n",
       "      <td>...</td>\n",
       "    </tr>\n",
       "    <tr>\n",
       "      <th>2024-01-01</th>\n",
       "      <td>139.4</td>\n",
       "    </tr>\n",
       "    <tr>\n",
       "      <th>2024-02-01</th>\n",
       "      <td>139.7</td>\n",
       "    </tr>\n",
       "    <tr>\n",
       "      <th>2024-03-01</th>\n",
       "      <td>140.5</td>\n",
       "    </tr>\n",
       "    <tr>\n",
       "      <th>2024-04-01</th>\n",
       "      <td>141.8</td>\n",
       "    </tr>\n",
       "    <tr>\n",
       "      <th>2024-05-01</th>\n",
       "      <td>141.2</td>\n",
       "    </tr>\n",
       "  </tbody>\n",
       "</table>\n",
       "<p>77 rows × 1 columns</p>\n",
       "</div>"
      ],
      "text/plain": [
       "               IR\n",
       "DATE             \n",
       "2018-01-01  126.5\n",
       "2018-02-01  126.8\n",
       "2018-03-01  126.5\n",
       "2018-04-01  127.1\n",
       "2018-05-01  128.2\n",
       "...           ...\n",
       "2024-01-01  139.4\n",
       "2024-02-01  139.7\n",
       "2024-03-01  140.5\n",
       "2024-04-01  141.8\n",
       "2024-05-01  141.2\n",
       "\n",
       "[77 rows x 1 columns]"
      ]
     },
     "execution_count": 3,
     "metadata": {},
     "output_type": "execute_result"
    }
   ],
   "source": [
    "ir = pdr.get_data_fred('IR', '2018-01-01')\n",
    "ir"
   ]
  },
  {
   "cell_type": "code",
   "execution_count": 8,
   "id": "fc7f4f8d",
   "metadata": {},
   "outputs": [
    {
     "name": "stdout",
     "output_type": "stream",
     "text": [
      "<class 'pandas.core.frame.DataFrame'>\n",
      "DatetimeIndex: 77 entries, 2018-01-01 to 2024-05-01\n",
      "Data columns (total 1 columns):\n",
      " #   Column  Non-Null Count  Dtype  \n",
      "---  ------  --------------  -----  \n",
      " 0   IR      77 non-null     float64\n",
      "dtypes: float64(1)\n",
      "memory usage: 1.2 KB\n"
     ]
    }
   ],
   "source": [
    "ir.info()"
   ]
  },
  {
   "cell_type": "code",
   "execution_count": 9,
   "id": "eb4e7192",
   "metadata": {},
   "outputs": [
    {
     "data": {
      "text/html": [
       "<div>\n",
       "<style scoped>\n",
       "    .dataframe tbody tr th:only-of-type {\n",
       "        vertical-align: middle;\n",
       "    }\n",
       "\n",
       "    .dataframe tbody tr th {\n",
       "        vertical-align: top;\n",
       "    }\n",
       "\n",
       "    .dataframe thead th {\n",
       "        text-align: right;\n",
       "    }\n",
       "</style>\n",
       "<table border=\"1\" class=\"dataframe\">\n",
       "  <thead>\n",
       "    <tr style=\"text-align: right;\">\n",
       "      <th></th>\n",
       "      <th>IR</th>\n",
       "    </tr>\n",
       "  </thead>\n",
       "  <tbody>\n",
       "    <tr>\n",
       "      <th>count</th>\n",
       "      <td>77.000000</td>\n",
       "    </tr>\n",
       "    <tr>\n",
       "      <th>mean</th>\n",
       "      <td>132.670130</td>\n",
       "    </tr>\n",
       "    <tr>\n",
       "      <th>std</th>\n",
       "      <td>8.283974</td>\n",
       "    </tr>\n",
       "    <tr>\n",
       "      <th>min</th>\n",
       "      <td>118.200000</td>\n",
       "    </tr>\n",
       "    <tr>\n",
       "      <th>25%</th>\n",
       "      <td>125.600000</td>\n",
       "    </tr>\n",
       "    <tr>\n",
       "      <th>50%</th>\n",
       "      <td>129.900000</td>\n",
       "    </tr>\n",
       "    <tr>\n",
       "      <th>75%</th>\n",
       "      <td>140.100000</td>\n",
       "    </tr>\n",
       "    <tr>\n",
       "      <th>max</th>\n",
       "      <td>148.500000</td>\n",
       "    </tr>\n",
       "  </tbody>\n",
       "</table>\n",
       "</div>"
      ],
      "text/plain": [
       "               IR\n",
       "count   77.000000\n",
       "mean   132.670130\n",
       "std      8.283974\n",
       "min    118.200000\n",
       "25%    125.600000\n",
       "50%    129.900000\n",
       "75%    140.100000\n",
       "max    148.500000"
      ]
     },
     "execution_count": 9,
     "metadata": {},
     "output_type": "execute_result"
    }
   ],
   "source": [
    "ir.describe()"
   ]
  },
  {
   "cell_type": "code",
   "execution_count": 11,
   "id": "44b2eec3",
   "metadata": {},
   "outputs": [
    {
     "data": {
      "image/png": "[encoded data removed]",
      "text/plain": [
       "<Figure size 1500x500 with 1 Axes>"
      ]
     },
     "metadata": {},
     "output_type": "display_data"
    }
   ],
   "source": [
    "ir.plot(xlabel='YEAR', ylabel='IR',  title='Growth of IR', figsize=(15, 5), grid=True)\n",
    "plt.legend(title='Source: U.S. Bureau of Labor Statistics')\n",
    "plt.savefig('ir_plot.png', format='png')\n",
    "plt.show()"
   ]
  },
  {
   "cell_type": "code",
   "execution_count": 15,
   "id": "a519a936",
   "metadata": {},
   "outputs": [
    {
     "name": "stdout",
     "output_type": "stream",
     "text": [
      "               value  rolling_mean  forecast\n",
      "2020-01-06  0.691294      0.561737  0.444355\n",
      "2020-01-07  0.443997      0.488291  0.561737\n",
      "2020-01-08  0.125548      0.370114  0.488291\n",
      "2020-01-09  0.264716      0.378057  0.370114\n",
      "2020-01-10  0.025807      0.310272  0.378057\n",
      "...              ...           ...       ...\n",
      "2020-04-05  0.744447      0.701470  0.705946\n",
      "2020-04-06  0.169135      0.606508  0.701470\n",
      "2020-04-07  0.578239      0.615543  0.606508\n",
      "2020-04-08  0.144538      0.503623  0.615543\n",
      "2020-04-09  0.899797      0.507231  0.503623\n",
      "\n",
      "[95 rows x 3 columns]\n"
     ]
    }
   ],
   "source": [
    "import pandas as pd\n",
    "import numpy as np\n",
    "\n",
    "# Sample time series data\n",
    "dates = pd.date_range(start='2020-01-01', periods=100, freq='D')\n",
    "data = np.random.rand(100)\n",
    "df = pd.DataFrame(data, index=dates, columns=['value'])\n",
    "\n",
    "# Define the rolling window size\n",
    "window_size = 5\n",
    "\n",
    "# Compute the rolling mean\n",
    "df['rolling_mean'] = df['value'].rolling(window=window_size).mean()\n",
    "\n",
    "# Shift the rolling mean to use it as a forecast\n",
    "df['forecast'] = df['rolling_mean'].shift(1)\n",
    "\n",
    "# Drop NaN values resulting from the rolling and shift operations\n",
    "df.dropna(inplace=True)\n",
    "\n",
    "print(df)\n"
   ]
  },
  {
   "cell_type": "code",
   "execution_count": 16,
   "id": "c222f358",
   "metadata": {},
   "outputs": [
    {
     "name": "stdout",
     "output_type": "stream",
     "text": [
      "               value  rolling_mean  forecast\n",
      "2020-01-06  0.687725      0.431512  0.417039\n",
      "2020-01-07  0.079038      0.417039  0.431512\n",
      "2020-01-08  0.460513      0.460513  0.417039\n",
      "2020-01-09  0.440831      0.460513  0.460513\n",
      "2020-01-10  0.344844      0.440831  0.460513\n",
      "...              ...           ...       ...\n",
      "2020-04-05  0.159150      0.370606  0.410939\n",
      "2020-04-06  0.555877      0.410939  0.370606\n",
      "2020-04-07  0.141739      0.410939  0.410939\n",
      "2020-04-08  0.578642      0.410939  0.410939\n",
      "2020-04-09  0.980470      0.555877  0.410939\n",
      "\n",
      "[95 rows x 3 columns]\n"
     ]
    }
   ],
   "source": [
    "import pandas as pd\n",
    "import numpy as np\n",
    "\n",
    "# Sample time series data\n",
    "dates = pd.date_range(start='2020-01-01', periods=100, freq='D')\n",
    "data = np.random.rand(100)\n",
    "df = pd.DataFrame(data, index=dates, columns=['value'])\n",
    "\n",
    "# Define the rolling window size\n",
    "window_size = 5\n",
    "\n",
    "# Compute the rolling mean\n",
    "df['rolling_mean'] = df['value'].rolling(window=window_size).median()\n",
    "\n",
    "# Shift the rolling mean to use it as a forecast\n",
    "df['forecast'] = df['rolling_mean'].shift(1)\n",
    "\n",
    "# Drop NaN values resulting from the rolling and shift operations\n",
    "df.dropna(inplace=True)\n",
    "\n",
    "print(df)"
   ]
  },
  {
   "cell_type": "code",
   "execution_count": 17,
   "id": "ac888c4f",
   "metadata": {},
   "outputs": [
    {
     "ename": "AttributeError",
     "evalue": "'Series' object has no attribute 'append'",
     "output_type": "error",
     "traceback": [
      "\u001b[0;31m---------------------------------------------------------------------------\u001b[0m",
      "\u001b[0;31mAttributeError\u001b[0m                            Traceback (most recent call last)",
      "\u001b[0;32m/var/folders/kq/n9fv8tys74s58y31hg96y6f80000gn/T/ipykernel_4354/3673032666.py\u001b[0m in \u001b[0;36m?\u001b[0;34m()\u001b[0m\n\u001b[1;32m     24\u001b[0m \u001b[0;34m\u001b[0m\u001b[0m\n\u001b[1;32m     25\u001b[0m \u001b[0;31m# Forecast for the next 5 months\u001b[0m\u001b[0;34m\u001b[0m\u001b[0;34m\u001b[0m\u001b[0m\n\u001b[1;32m     26\u001b[0m \u001b[0;32mfor\u001b[0m \u001b[0mi\u001b[0m \u001b[0;32min\u001b[0m \u001b[0mrange\u001b[0m\u001b[0;34m(\u001b[0m\u001b[0;36m1\u001b[0m\u001b[0;34m,\u001b[0m \u001b[0;36m6\u001b[0m\u001b[0;34m)\u001b[0m\u001b[0;34m:\u001b[0m\u001b[0;34m\u001b[0m\u001b[0;34m\u001b[0m\u001b[0m\n\u001b[1;32m     27\u001b[0m     \u001b[0;31m# Get the last `window_size` values from the 'value' and 'forecast' columns\u001b[0m\u001b[0;34m\u001b[0m\u001b[0;34m\u001b[0m\u001b[0m\n\u001b[0;32m---> 28\u001b[0;31m     \u001b[0mlast_values\u001b[0m \u001b[0;34m=\u001b[0m \u001b[0mdf\u001b[0m\u001b[0;34m[\u001b[0m\u001b[0;34m'value'\u001b[0m\u001b[0;34m]\u001b[0m\u001b[0;34m.\u001b[0m\u001b[0mdropna\u001b[0m\u001b[0;34m(\u001b[0m\u001b[0;34m)\u001b[0m\u001b[0;34m.\u001b[0m\u001b[0mappend\u001b[0m\u001b[0;34m(\u001b[0m\u001b[0mdf\u001b[0m\u001b[0;34m[\u001b[0m\u001b[0;34m'forecast'\u001b[0m\u001b[0;34m]\u001b[0m\u001b[0;34m.\u001b[0m\u001b[0mdropna\u001b[0m\u001b[0;34m(\u001b[0m\u001b[0;34m)\u001b[0m\u001b[0;34m)\u001b[0m\u001b[0;34m[\u001b[0m\u001b[0;34m-\u001b[0m\u001b[0mwindow_size\u001b[0m\u001b[0;34m:\u001b[0m\u001b[0;34m]\u001b[0m\u001b[0;34m\u001b[0m\u001b[0;34m\u001b[0m\u001b[0m\n\u001b[0m\u001b[1;32m     29\u001b[0m \u001b[0;34m\u001b[0m\u001b[0m\n\u001b[1;32m     30\u001b[0m     \u001b[0;31m# Compute the new rolling mean based on the last `window_size` values\u001b[0m\u001b[0;34m\u001b[0m\u001b[0;34m\u001b[0m\u001b[0m\n\u001b[1;32m     31\u001b[0m     \u001b[0mnew_forecast\u001b[0m \u001b[0;34m=\u001b[0m \u001b[0mlast_values\u001b[0m\u001b[0;34m.\u001b[0m\u001b[0mmean\u001b[0m\u001b[0;34m(\u001b[0m\u001b[0;34m)\u001b[0m\u001b[0;34m\u001b[0m\u001b[0;34m\u001b[0m\u001b[0m\n",
      "\u001b[0;32m~/anaconda3/lib/python3.11/site-packages/pandas/core/generic.py\u001b[0m in \u001b[0;36m?\u001b[0;34m(self, name)\u001b[0m\n\u001b[1;32m   5985\u001b[0m             \u001b[0;32mand\u001b[0m \u001b[0mname\u001b[0m \u001b[0;32mnot\u001b[0m \u001b[0;32min\u001b[0m \u001b[0mself\u001b[0m\u001b[0;34m.\u001b[0m\u001b[0m_accessors\u001b[0m\u001b[0;34m\u001b[0m\u001b[0;34m\u001b[0m\u001b[0m\n\u001b[1;32m   5986\u001b[0m             \u001b[0;32mand\u001b[0m \u001b[0mself\u001b[0m\u001b[0;34m.\u001b[0m\u001b[0m_info_axis\u001b[0m\u001b[0;34m.\u001b[0m\u001b[0m_can_hold_identifiers_and_holds_name\u001b[0m\u001b[0;34m(\u001b[0m\u001b[0mname\u001b[0m\u001b[0;34m)\u001b[0m\u001b[0;34m\u001b[0m\u001b[0;34m\u001b[0m\u001b[0m\n\u001b[1;32m   5987\u001b[0m         ):\n\u001b[1;32m   5988\u001b[0m             \u001b[0;32mreturn\u001b[0m \u001b[0mself\u001b[0m\u001b[0;34m[\u001b[0m\u001b[0mname\u001b[0m\u001b[0;34m]\u001b[0m\u001b[0;34m\u001b[0m\u001b[0;34m\u001b[0m\u001b[0m\n\u001b[0;32m-> 5989\u001b[0;31m         \u001b[0;32mreturn\u001b[0m \u001b[0mobject\u001b[0m\u001b[0;34m.\u001b[0m\u001b[0m__getattribute__\u001b[0m\u001b[0;34m(\u001b[0m\u001b[0mself\u001b[0m\u001b[0;34m,\u001b[0m \u001b[0mname\u001b[0m\u001b[0;34m)\u001b[0m\u001b[0;34m\u001b[0m\u001b[0;34m\u001b[0m\u001b[0m\n\u001b[0m",
      "\u001b[0;31mAttributeError\u001b[0m: 'Series' object has no attribute 'append'"
     ]
    }
   ],
   "source": [
    "import pandas as pd\n",
    "import numpy as np\n",
    "\n",
    "# Sample monthly time series data\n",
    "dates = pd.date_range(start='2020-01', periods=10, freq='M')\n",
    "data = np.random.rand(10)\n",
    "df = pd.DataFrame(data, index=dates, columns=['value'])\n",
    "\n",
    "# Define the rolling window size\n",
    "window_size = 3\n",
    "\n",
    "# Compute the initial rolling mean\n",
    "df['rolling_mean'] = df['value'].rolling(window=window_size).mean()\n",
    "\n",
    "# Shift the rolling mean to use it as a forecast\n",
    "df['forecast'] = df['rolling_mean'].shift(1)\n",
    "\n",
    "# Extend the DataFrame to include the next 5 months\n",
    "future_dates = pd.date_range(start=df.index[-1] + pd.DateOffset(months=1), periods=5, freq='M')\n",
    "future_df = pd.DataFrame(index=future_dates, columns=df.columns)\n",
    "\n",
    "# Combine the original and future DataFrames\n",
    "df = pd.concat([df, future_df])\n",
    "\n",
    "# Forecast for the next 5 months\n",
    "for i in range(1, 6):\n",
    "    # Get the last `window_size` values from the 'value' and 'forecast' columns\n",
    "    last_values = df['value'].dropna().append(df['forecast'].dropna())[-window_size:]\n",
    "    \n",
    "    # Compute the new rolling mean based on the last `window_size` values\n",
    "    new_forecast = last_values.mean()\n",
    "    \n",
    "    # Assign the new forecast to the next period\n",
    "    df.iloc[-i, df.columns.get_loc('forecast')] = new_forecast\n",
    "\n",
    "print(df)\n"
   ]
  },
  {
   "cell_type": "code",
   "execution_count": null,
   "id": "a2ddd1bb",
   "metadata": {},
   "outputs": [],
   "source": []
  }
 ],
 "metadata": {
  "kernelspec": {
   "display_name": "Python 3 (ipykernel)",
   "language": "python",
   "name": "python3"
  },
  "language_info": {
   "codemirror_mode": {
    "name": "ipython",
    "version": 3
   },
   "file_extension": ".py",
   "mimetype": "text/x-python",
   "name": "python",
   "nbconvert_exporter": "python",
   "pygments_lexer": "ipython3",
   "version": "3.11.5"
  }
 },
 "nbformat": 4,
 "nbformat_minor": 5
}
