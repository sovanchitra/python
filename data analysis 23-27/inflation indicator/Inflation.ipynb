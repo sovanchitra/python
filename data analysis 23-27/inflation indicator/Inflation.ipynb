{
 "cells": [
  {
   "cell_type": "code",
   "execution_count": 1,
   "id": "6b7aad01",
   "metadata": {},
   "outputs": [],
   "source": [
    "import pandas as pd\n",
    "import matplotlib.pyplot as plt\n",
    "import seaborn as sns"
   ]
  },
  {
   "cell_type": "markdown",
   "id": "4facd477",
   "metadata": {},
   "source": [
    "# 1. Load data"
   ]
  },
  {
   "cell_type": "code",
   "execution_count": 2,
   "id": "5dc4092f",
   "metadata": {},
   "outputs": [],
   "source": [
    "cpi = pd.read_csv('CPIAUCSL.csv',index_col='DATE', parse_dates=True) # Consumer Price Index\n",
    "cpi_ls_fe = pd.read_csv('CPILFESL.csv',index_col='DATE', parse_dates=True) # Consumer Price Index Less Food and Engery\n",
    "eci = pd.read_csv('ECIWAG.csv',index_col='DATE', parse_dates=True) # Employement Price Index\n",
    "\n",
    "ppi = pd.read_csv('PPIACO.csv', index_col='DATE', parse_dates=True) # Producer Price Index\n",
    "gdp_def = pd.read_csv('GDPDEF.csv',index_col='DATE', parse_dates=True) # GPD Defaltor\n",
    "imi = pd.read_csv('IR.csv',index_col='DATE', parse_dates=True) # Import Price Index\n",
    "m2 = pd.read_csv('M2SL.csv',index_col='DATE', parse_dates=True) # Money2\n",
    "pce = pd.read_csv('PCE.csv',index_col='DATE', parse_dates=True) # Personal Consumption Ex \n",
    "csi = pd.read_csv('UMCSENT.csv',index_col='DATE', parse_dates=True) # Consumer Sentiment Index"
   ]
  },
  {
   "cell_type": "code",
   "execution_count": 3,
   "id": "a50746a8",
   "metadata": {},
   "outputs": [],
   "source": [
    "# eci = pd.read_csv('./data/CIS1020000000000I.csv',index_col='DATE', parse_dates=True) # Employement Price Index"
   ]
  },
  {
   "cell_type": "code",
   "execution_count": 4,
   "id": "4abc11ae",
   "metadata": {},
   "outputs": [
    {
     "name": "stdout",
     "output_type": "stream",
     "text": [
      "<class 'pandas.core.frame.DataFrame'>\n",
      "DatetimeIndex: 929 entries, 1947-01-01 to 2024-05-01\n",
      "Data columns (total 1 columns):\n",
      " #   Column    Non-Null Count  Dtype  \n",
      "---  ------    --------------  -----  \n",
      " 0   CPIAUCSL  929 non-null    float64\n",
      "dtypes: float64(1)\n",
      "memory usage: 14.5 KB\n",
      "<class 'pandas.core.frame.DataFrame'>\n",
      "DatetimeIndex: 809 entries, 1957-01-01 to 2024-05-01\n",
      "Data columns (total 1 columns):\n",
      " #   Column    Non-Null Count  Dtype  \n",
      "---  ------    --------------  -----  \n",
      " 0   CPILFESL  809 non-null    float64\n",
      "dtypes: float64(1)\n",
      "memory usage: 12.6 KB\n"
     ]
    }
   ],
   "source": [
    "cpi.info()\n",
    "cpi_ls_fe.info()"
   ]
  },
  {
   "cell_type": "code",
   "execution_count": 5,
   "id": "fa2fc949",
   "metadata": {},
   "outputs": [
    {
     "data": {
      "text/html": [
       "<div>\n",
       "<style scoped>\n",
       "    .dataframe tbody tr th:only-of-type {\n",
       "        vertical-align: middle;\n",
       "    }\n",
       "\n",
       "    .dataframe tbody tr th {\n",
       "        vertical-align: top;\n",
       "    }\n",
       "\n",
       "    .dataframe thead th {\n",
       "        text-align: right;\n",
       "    }\n",
       "</style>\n",
       "<table border=\"1\" class=\"dataframe\">\n",
       "  <thead>\n",
       "    <tr style=\"text-align: right;\">\n",
       "      <th></th>\n",
       "      <th>CPIAUCSL</th>\n",
       "      <th>PCE</th>\n",
       "    </tr>\n",
       "  </thead>\n",
       "  <tbody>\n",
       "    <tr>\n",
       "      <th>CPIAUCSL</th>\n",
       "      <td>1.000000</td>\n",
       "      <td>0.983941</td>\n",
       "    </tr>\n",
       "    <tr>\n",
       "      <th>PCE</th>\n",
       "      <td>0.983941</td>\n",
       "      <td>1.000000</td>\n",
       "    </tr>\n",
       "  </tbody>\n",
       "</table>\n",
       "</div>"
      ],
      "text/plain": [
       "          CPIAUCSL       PCE\n",
       "CPIAUCSL  1.000000  0.983941\n",
       "PCE       0.983941  1.000000"
      ]
     },
     "execution_count": 5,
     "metadata": {},
     "output_type": "execute_result"
    }
   ],
   "source": [
    "cpi_pce = cpi.join(pce, how='inner')\n",
    "\n",
    "cpi_pce['2018':].corr()\n",
    "# cpi_pce"
   ]
  },
  {
   "cell_type": "markdown",
   "id": "e465c7d5",
   "metadata": {},
   "source": [
    "# 2. Explore Data and Clean Data"
   ]
  },
  {
   "cell_type": "code",
   "execution_count": 6,
   "id": "0a417d83",
   "metadata": {},
   "outputs": [
    {
     "name": "stdout",
     "output_type": "stream",
     "text": [
      "<class 'pandas.core.frame.DataFrame'>\n",
      "DatetimeIndex: 929 entries, 1947-01-01 to 2024-05-01\n",
      "Data columns (total 1 columns):\n",
      " #   Column    Non-Null Count  Dtype  \n",
      "---  ------    --------------  -----  \n",
      " 0   CPIAUCSL  929 non-null    float64\n",
      "dtypes: float64(1)\n",
      "memory usage: 46.8 KB\n"
     ]
    },
    {
     "data": {
      "text/html": [
       "<div>\n",
       "<style scoped>\n",
       "    .dataframe tbody tr th:only-of-type {\n",
       "        vertical-align: middle;\n",
       "    }\n",
       "\n",
       "    .dataframe tbody tr th {\n",
       "        vertical-align: top;\n",
       "    }\n",
       "\n",
       "    .dataframe thead th {\n",
       "        text-align: right;\n",
       "    }\n",
       "</style>\n",
       "<table border=\"1\" class=\"dataframe\">\n",
       "  <thead>\n",
       "    <tr style=\"text-align: right;\">\n",
       "      <th></th>\n",
       "      <th>CPIAUCSL</th>\n",
       "    </tr>\n",
       "    <tr>\n",
       "      <th>DATE</th>\n",
       "      <th></th>\n",
       "    </tr>\n",
       "  </thead>\n",
       "  <tbody>\n",
       "    <tr>\n",
       "      <th>1947-01-01</th>\n",
       "      <td>21.48</td>\n",
       "    </tr>\n",
       "    <tr>\n",
       "      <th>1947-02-01</th>\n",
       "      <td>21.62</td>\n",
       "    </tr>\n",
       "    <tr>\n",
       "      <th>1947-03-01</th>\n",
       "      <td>22.00</td>\n",
       "    </tr>\n",
       "    <tr>\n",
       "      <th>1947-04-01</th>\n",
       "      <td>22.00</td>\n",
       "    </tr>\n",
       "    <tr>\n",
       "      <th>1947-05-01</th>\n",
       "      <td>21.95</td>\n",
       "    </tr>\n",
       "  </tbody>\n",
       "</table>\n",
       "</div>"
      ],
      "text/plain": [
       "            CPIAUCSL\n",
       "DATE                \n",
       "1947-01-01     21.48\n",
       "1947-02-01     21.62\n",
       "1947-03-01     22.00\n",
       "1947-04-01     22.00\n",
       "1947-05-01     21.95"
      ]
     },
     "execution_count": 6,
     "metadata": {},
     "output_type": "execute_result"
    }
   ],
   "source": [
    "\n",
    "cpi.info()\n",
    "cpi.head()"
   ]
  },
  {
   "cell_type": "code",
   "execution_count": 7,
   "id": "17ef5333",
   "metadata": {},
   "outputs": [
    {
     "data": {
      "text/html": [
       "<div>\n",
       "<style scoped>\n",
       "    .dataframe tbody tr th:only-of-type {\n",
       "        vertical-align: middle;\n",
       "    }\n",
       "\n",
       "    .dataframe tbody tr th {\n",
       "        vertical-align: top;\n",
       "    }\n",
       "\n",
       "    .dataframe thead th {\n",
       "        text-align: right;\n",
       "    }\n",
       "</style>\n",
       "<table border=\"1\" class=\"dataframe\">\n",
       "  <thead>\n",
       "    <tr style=\"text-align: right;\">\n",
       "      <th></th>\n",
       "      <th>CPIAUCSL</th>\n",
       "    </tr>\n",
       "    <tr>\n",
       "      <th>DATE</th>\n",
       "      <th></th>\n",
       "    </tr>\n",
       "  </thead>\n",
       "  <tbody>\n",
       "    <tr>\n",
       "      <th>2024-01-01</th>\n",
       "      <td>309.685</td>\n",
       "    </tr>\n",
       "    <tr>\n",
       "      <th>2024-02-01</th>\n",
       "      <td>311.054</td>\n",
       "    </tr>\n",
       "    <tr>\n",
       "      <th>2024-03-01</th>\n",
       "      <td>312.230</td>\n",
       "    </tr>\n",
       "    <tr>\n",
       "      <th>2024-04-01</th>\n",
       "      <td>313.207</td>\n",
       "    </tr>\n",
       "    <tr>\n",
       "      <th>2024-05-01</th>\n",
       "      <td>313.225</td>\n",
       "    </tr>\n",
       "  </tbody>\n",
       "</table>\n",
       "</div>"
      ],
      "text/plain": [
       "            CPIAUCSL\n",
       "DATE                \n",
       "2024-01-01   309.685\n",
       "2024-02-01   311.054\n",
       "2024-03-01   312.230\n",
       "2024-04-01   313.207\n",
       "2024-05-01   313.225"
      ]
     },
     "execution_count": 7,
     "metadata": {},
     "output_type": "execute_result"
    }
   ],
   "source": [
    "cpi.tail() # Dtype already float"
   ]
  },
  {
   "cell_type": "code",
   "execution_count": 8,
   "id": "6b73a302",
   "metadata": {},
   "outputs": [
    {
     "data": {
      "text/plain": [
       "CPIAUCSL    0\n",
       "dtype: int64"
      ]
     },
     "execution_count": 8,
     "metadata": {},
     "output_type": "execute_result"
    }
   ],
   "source": [
    "cpi.isnull().sum()"
   ]
  },
  {
   "cell_type": "code",
   "execution_count": 9,
   "id": "b97aedc0",
   "metadata": {},
   "outputs": [
    {
     "name": "stdout",
     "output_type": "stream",
     "text": [
      "<class 'pandas.core.frame.DataFrame'>\n",
      "DatetimeIndex: 93 entries, 2001-01-01 to 2024-01-01\n",
      "Data columns (total 1 columns):\n",
      " #   Column  Non-Null Count  Dtype  \n",
      "---  ------  --------------  -----  \n",
      " 0   ECIWAG  93 non-null     float64\n",
      "dtypes: float64(1)\n",
      "memory usage: 1.5 KB\n"
     ]
    },
    {
     "data": {
      "text/html": [
       "<div>\n",
       "<style scoped>\n",
       "    .dataframe tbody tr th:only-of-type {\n",
       "        vertical-align: middle;\n",
       "    }\n",
       "\n",
       "    .dataframe tbody tr th {\n",
       "        vertical-align: top;\n",
       "    }\n",
       "\n",
       "    .dataframe thead th {\n",
       "        text-align: right;\n",
       "    }\n",
       "</style>\n",
       "<table border=\"1\" class=\"dataframe\">\n",
       "  <thead>\n",
       "    <tr style=\"text-align: right;\">\n",
       "      <th></th>\n",
       "      <th>ECIWAG</th>\n",
       "    </tr>\n",
       "    <tr>\n",
       "      <th>DATE</th>\n",
       "      <th></th>\n",
       "    </tr>\n",
       "  </thead>\n",
       "  <tbody>\n",
       "    <tr>\n",
       "      <th>2001-01-01</th>\n",
       "      <td>87.6</td>\n",
       "    </tr>\n",
       "    <tr>\n",
       "      <th>2001-04-01</th>\n",
       "      <td>88.4</td>\n",
       "    </tr>\n",
       "    <tr>\n",
       "      <th>2001-07-01</th>\n",
       "      <td>89.2</td>\n",
       "    </tr>\n",
       "    <tr>\n",
       "      <th>2001-10-01</th>\n",
       "      <td>90.0</td>\n",
       "    </tr>\n",
       "    <tr>\n",
       "      <th>2002-01-01</th>\n",
       "      <td>90.7</td>\n",
       "    </tr>\n",
       "  </tbody>\n",
       "</table>\n",
       "</div>"
      ],
      "text/plain": [
       "            ECIWAG\n",
       "DATE              \n",
       "2001-01-01    87.6\n",
       "2001-04-01    88.4\n",
       "2001-07-01    89.2\n",
       "2001-10-01    90.0\n",
       "2002-01-01    90.7"
      ]
     },
     "execution_count": 9,
     "metadata": {},
     "output_type": "execute_result"
    }
   ],
   "source": [
    "eci.info()\n",
    "eci.head()\n"
   ]
  },
  {
   "cell_type": "code",
   "execution_count": 10,
   "id": "ccf9c76f",
   "metadata": {},
   "outputs": [
    {
     "data": {
      "text/plain": [
       "ECIWAG    0\n",
       "dtype: int64"
      ]
     },
     "execution_count": 10,
     "metadata": {},
     "output_type": "execute_result"
    }
   ],
   "source": [
    "eci.tail()\n",
    "eci.isnull().sum()"
   ]
  },
  {
   "cell_type": "code",
   "execution_count": 11,
   "id": "e20b95ac",
   "metadata": {},
   "outputs": [
    {
     "name": "stdout",
     "output_type": "stream",
     "text": [
      "<class 'pandas.core.frame.DataFrame'>\n",
      "DatetimeIndex: 1337 entries, 1913-01-01 to 2024-05-01\n",
      "Data columns (total 1 columns):\n",
      " #   Column  Non-Null Count  Dtype  \n",
      "---  ------  --------------  -----  \n",
      " 0   PPIACO  1337 non-null   float64\n",
      "dtypes: float64(1)\n",
      "memory usage: 20.9 KB\n"
     ]
    },
    {
     "data": {
      "text/html": [
       "<div>\n",
       "<style scoped>\n",
       "    .dataframe tbody tr th:only-of-type {\n",
       "        vertical-align: middle;\n",
       "    }\n",
       "\n",
       "    .dataframe tbody tr th {\n",
       "        vertical-align: top;\n",
       "    }\n",
       "\n",
       "    .dataframe thead th {\n",
       "        text-align: right;\n",
       "    }\n",
       "</style>\n",
       "<table border=\"1\" class=\"dataframe\">\n",
       "  <thead>\n",
       "    <tr style=\"text-align: right;\">\n",
       "      <th></th>\n",
       "      <th>PPIACO</th>\n",
       "    </tr>\n",
       "    <tr>\n",
       "      <th>DATE</th>\n",
       "      <th></th>\n",
       "    </tr>\n",
       "  </thead>\n",
       "  <tbody>\n",
       "    <tr>\n",
       "      <th>1913-01-01</th>\n",
       "      <td>12.1</td>\n",
       "    </tr>\n",
       "    <tr>\n",
       "      <th>1913-02-01</th>\n",
       "      <td>12.0</td>\n",
       "    </tr>\n",
       "    <tr>\n",
       "      <th>1913-03-01</th>\n",
       "      <td>12.0</td>\n",
       "    </tr>\n",
       "    <tr>\n",
       "      <th>1913-04-01</th>\n",
       "      <td>12.0</td>\n",
       "    </tr>\n",
       "    <tr>\n",
       "      <th>1913-05-01</th>\n",
       "      <td>11.9</td>\n",
       "    </tr>\n",
       "  </tbody>\n",
       "</table>\n",
       "</div>"
      ],
      "text/plain": [
       "            PPIACO\n",
       "DATE              \n",
       "1913-01-01    12.1\n",
       "1913-02-01    12.0\n",
       "1913-03-01    12.0\n",
       "1913-04-01    12.0\n",
       "1913-05-01    11.9"
      ]
     },
     "execution_count": 11,
     "metadata": {},
     "output_type": "execute_result"
    }
   ],
   "source": [
    "ppi.info()\n",
    "ppi.head()"
   ]
  },
  {
   "cell_type": "code",
   "execution_count": 12,
   "id": "792ded41",
   "metadata": {},
   "outputs": [
    {
     "name": "stdout",
     "output_type": "stream",
     "text": [
      "<class 'pandas.core.frame.DataFrame'>\n",
      "DatetimeIndex: 309 entries, 1947-01-01 to 2024-01-01\n",
      "Data columns (total 1 columns):\n",
      " #   Column  Non-Null Count  Dtype  \n",
      "---  ------  --------------  -----  \n",
      " 0   GDPDEF  309 non-null    float64\n",
      "dtypes: float64(1)\n",
      "memory usage: 4.8 KB\n"
     ]
    },
    {
     "data": {
      "text/html": [
       "<div>\n",
       "<style scoped>\n",
       "    .dataframe tbody tr th:only-of-type {\n",
       "        vertical-align: middle;\n",
       "    }\n",
       "\n",
       "    .dataframe tbody tr th {\n",
       "        vertical-align: top;\n",
       "    }\n",
       "\n",
       "    .dataframe thead th {\n",
       "        text-align: right;\n",
       "    }\n",
       "</style>\n",
       "<table border=\"1\" class=\"dataframe\">\n",
       "  <thead>\n",
       "    <tr style=\"text-align: right;\">\n",
       "      <th></th>\n",
       "      <th>GDPDEF</th>\n",
       "    </tr>\n",
       "    <tr>\n",
       "      <th>DATE</th>\n",
       "      <th></th>\n",
       "    </tr>\n",
       "  </thead>\n",
       "  <tbody>\n",
       "    <tr>\n",
       "      <th>1947-01-01</th>\n",
       "      <td>11.141</td>\n",
       "    </tr>\n",
       "    <tr>\n",
       "      <th>1947-04-01</th>\n",
       "      <td>11.299</td>\n",
       "    </tr>\n",
       "    <tr>\n",
       "      <th>1947-07-01</th>\n",
       "      <td>11.489</td>\n",
       "    </tr>\n",
       "    <tr>\n",
       "      <th>1947-10-01</th>\n",
       "      <td>11.772</td>\n",
       "    </tr>\n",
       "    <tr>\n",
       "      <th>1948-01-01</th>\n",
       "      <td>11.865</td>\n",
       "    </tr>\n",
       "  </tbody>\n",
       "</table>\n",
       "</div>"
      ],
      "text/plain": [
       "            GDPDEF\n",
       "DATE              \n",
       "1947-01-01  11.141\n",
       "1947-04-01  11.299\n",
       "1947-07-01  11.489\n",
       "1947-10-01  11.772\n",
       "1948-01-01  11.865"
      ]
     },
     "execution_count": 12,
     "metadata": {},
     "output_type": "execute_result"
    }
   ],
   "source": [
    "gdp_def.info()\n",
    "gdp_def.head()"
   ]
  },
  {
   "cell_type": "code",
   "execution_count": 13,
   "id": "a2d71dec",
   "metadata": {},
   "outputs": [
    {
     "data": {
      "text/plain": [
       "GDPDEF    0\n",
       "dtype: int64"
      ]
     },
     "execution_count": 13,
     "metadata": {},
     "output_type": "execute_result"
    }
   ],
   "source": [
    "gdp_def.tail()\n",
    "gdp_def.isnull().sum()"
   ]
  },
  {
   "cell_type": "code",
   "execution_count": null,
   "id": "594fcf77",
   "metadata": {},
   "outputs": [],
   "source": []
  },
  {
   "cell_type": "code",
   "execution_count": 14,
   "id": "b5b729d2",
   "metadata": {},
   "outputs": [
    {
     "name": "stdout",
     "output_type": "stream",
     "text": [
      "<class 'pandas.core.frame.DataFrame'>\n",
      "DatetimeIndex: 501 entries, 1982-09-01 to 2024-05-01\n",
      "Data columns (total 1 columns):\n",
      " #   Column  Non-Null Count  Dtype \n",
      "---  ------  --------------  ----- \n",
      " 0   IR      501 non-null    object\n",
      "dtypes: object(1)\n",
      "memory usage: 7.8+ KB\n"
     ]
    },
    {
     "data": {
      "text/html": [
       "<div>\n",
       "<style scoped>\n",
       "    .dataframe tbody tr th:only-of-type {\n",
       "        vertical-align: middle;\n",
       "    }\n",
       "\n",
       "    .dataframe tbody tr th {\n",
       "        vertical-align: top;\n",
       "    }\n",
       "\n",
       "    .dataframe thead th {\n",
       "        text-align: right;\n",
       "    }\n",
       "</style>\n",
       "<table border=\"1\" class=\"dataframe\">\n",
       "  <thead>\n",
       "    <tr style=\"text-align: right;\">\n",
       "      <th></th>\n",
       "      <th>IR</th>\n",
       "    </tr>\n",
       "    <tr>\n",
       "      <th>DATE</th>\n",
       "      <th></th>\n",
       "    </tr>\n",
       "  </thead>\n",
       "  <tbody>\n",
       "    <tr>\n",
       "      <th>1982-09-01</th>\n",
       "      <td>80.0</td>\n",
       "    </tr>\n",
       "    <tr>\n",
       "      <th>1982-10-01</th>\n",
       "      <td>.</td>\n",
       "    </tr>\n",
       "    <tr>\n",
       "      <th>1982-11-01</th>\n",
       "      <td>.</td>\n",
       "    </tr>\n",
       "    <tr>\n",
       "      <th>1982-12-01</th>\n",
       "      <td>79.9</td>\n",
       "    </tr>\n",
       "    <tr>\n",
       "      <th>1983-01-01</th>\n",
       "      <td>.</td>\n",
       "    </tr>\n",
       "  </tbody>\n",
       "</table>\n",
       "</div>"
      ],
      "text/plain": [
       "              IR\n",
       "DATE            \n",
       "1982-09-01  80.0\n",
       "1982-10-01     .\n",
       "1982-11-01     .\n",
       "1982-12-01  79.9\n",
       "1983-01-01     ."
      ]
     },
     "execution_count": 14,
     "metadata": {},
     "output_type": "execute_result"
    }
   ],
   "source": [
    "imi.info()\n",
    "imi.head() # data is an object"
   ]
  },
  {
   "cell_type": "code",
   "execution_count": 15,
   "id": "b14d89e2",
   "metadata": {},
   "outputs": [
    {
     "data": {
      "text/html": [
       "<div>\n",
       "<style scoped>\n",
       "    .dataframe tbody tr th:only-of-type {\n",
       "        vertical-align: middle;\n",
       "    }\n",
       "\n",
       "    .dataframe tbody tr th {\n",
       "        vertical-align: top;\n",
       "    }\n",
       "\n",
       "    .dataframe thead th {\n",
       "        text-align: right;\n",
       "    }\n",
       "</style>\n",
       "<table border=\"1\" class=\"dataframe\">\n",
       "  <thead>\n",
       "    <tr style=\"text-align: right;\">\n",
       "      <th></th>\n",
       "      <th>IR</th>\n",
       "    </tr>\n",
       "    <tr>\n",
       "      <th>DATE</th>\n",
       "      <th></th>\n",
       "    </tr>\n",
       "  </thead>\n",
       "  <tbody>\n",
       "    <tr>\n",
       "      <th>1982-09-01</th>\n",
       "      <td>80.0</td>\n",
       "    </tr>\n",
       "    <tr>\n",
       "      <th>1982-10-01</th>\n",
       "      <td>.</td>\n",
       "    </tr>\n",
       "    <tr>\n",
       "      <th>1982-11-01</th>\n",
       "      <td>.</td>\n",
       "    </tr>\n",
       "    <tr>\n",
       "      <th>1982-12-01</th>\n",
       "      <td>79.9</td>\n",
       "    </tr>\n",
       "    <tr>\n",
       "      <th>1983-01-01</th>\n",
       "      <td>.</td>\n",
       "    </tr>\n",
       "    <tr>\n",
       "      <th>1983-02-01</th>\n",
       "      <td>.</td>\n",
       "    </tr>\n",
       "    <tr>\n",
       "      <th>1983-03-01</th>\n",
       "      <td>77.7</td>\n",
       "    </tr>\n",
       "    <tr>\n",
       "      <th>1983-04-01</th>\n",
       "      <td>.</td>\n",
       "    </tr>\n",
       "    <tr>\n",
       "      <th>1983-05-01</th>\n",
       "      <td>.</td>\n",
       "    </tr>\n",
       "    <tr>\n",
       "      <th>1983-06-01</th>\n",
       "      <td>77.8</td>\n",
       "    </tr>\n",
       "    <tr>\n",
       "      <th>1983-07-01</th>\n",
       "      <td>.</td>\n",
       "    </tr>\n",
       "    <tr>\n",
       "      <th>1983-08-01</th>\n",
       "      <td>.</td>\n",
       "    </tr>\n",
       "    <tr>\n",
       "      <th>1983-09-01</th>\n",
       "      <td>77.6</td>\n",
       "    </tr>\n",
       "    <tr>\n",
       "      <th>1983-10-01</th>\n",
       "      <td>.</td>\n",
       "    </tr>\n",
       "    <tr>\n",
       "      <th>1983-11-01</th>\n",
       "      <td>.</td>\n",
       "    </tr>\n",
       "    <tr>\n",
       "      <th>1983-12-01</th>\n",
       "      <td>78.0</td>\n",
       "    </tr>\n",
       "    <tr>\n",
       "      <th>1984-01-01</th>\n",
       "      <td>.</td>\n",
       "    </tr>\n",
       "    <tr>\n",
       "      <th>1984-02-01</th>\n",
       "      <td>.</td>\n",
       "    </tr>\n",
       "    <tr>\n",
       "      <th>1984-03-01</th>\n",
       "      <td>78.7</td>\n",
       "    </tr>\n",
       "    <tr>\n",
       "      <th>1984-04-01</th>\n",
       "      <td>.</td>\n",
       "    </tr>\n",
       "  </tbody>\n",
       "</table>\n",
       "</div>"
      ],
      "text/plain": [
       "              IR\n",
       "DATE            \n",
       "1982-09-01  80.0\n",
       "1982-10-01     .\n",
       "1982-11-01     .\n",
       "1982-12-01  79.9\n",
       "1983-01-01     .\n",
       "1983-02-01     .\n",
       "1983-03-01  77.7\n",
       "1983-04-01     .\n",
       "1983-05-01     .\n",
       "1983-06-01  77.8\n",
       "1983-07-01     .\n",
       "1983-08-01     .\n",
       "1983-09-01  77.6\n",
       "1983-10-01     .\n",
       "1983-11-01     .\n",
       "1983-12-01  78.0\n",
       "1984-01-01     .\n",
       "1984-02-01     .\n",
       "1984-03-01  78.7\n",
       "1984-04-01     ."
      ]
     },
     "execution_count": 15,
     "metadata": {},
     "output_type": "execute_result"
    }
   ],
   "source": [
    "imi.head(20)"
   ]
  },
  {
   "cell_type": "code",
   "execution_count": 16,
   "id": "c7cf3ffa",
   "metadata": {},
   "outputs": [
    {
     "data": {
      "text/plain": [
       "IR   \n",
       ".        50\n",
       "139.4     8\n",
       "142.2     5\n",
       "141.2     5\n",
       "94.0      5\n",
       "         ..\n",
       "141.6     1\n",
       "141.7     1\n",
       "121.6     1\n",
       "141.9     1\n",
       "76.9      1\n",
       "Name: count, Length: 283, dtype: int64"
      ]
     },
     "execution_count": 16,
     "metadata": {},
     "output_type": "execute_result"
    }
   ],
   "source": [
    "imi.value_counts() # We have . 50 in our data"
   ]
  },
  {
   "cell_type": "code",
   "execution_count": 17,
   "id": "80b235f9",
   "metadata": {},
   "outputs": [
    {
     "data": {
      "text/plain": [
       "IR   \n",
       "139.4    4\n",
       "123.4    2\n",
       "139.7    2\n",
       "140.1    2\n",
       "140.3    2\n",
       "141.0    2\n",
       "141.8    2\n",
       "144.6    1\n",
       "143.1    1\n",
       "142.7    1\n",
       "142.6    1\n",
       "138.4    1\n",
       "141.6    1\n",
       "141.3    1\n",
       "141.2    1\n",
       "146.4    1\n",
       "140.5    1\n",
       "146.8    1\n",
       "147.5    1\n",
       "139.9    1\n",
       "148.2    1\n",
       "118.2    1\n",
       "137.9    1\n",
       "119.0    1\n",
       "126.5    1\n",
       "120.6    1\n",
       "121.3    1\n",
       "122.1    1\n",
       "123.2    1\n",
       "123.3    1\n",
       "124.3    1\n",
       "124.6    1\n",
       "125.2    1\n",
       "128.0    1\n",
       "137.4    1\n",
       "129.9    1\n",
       "131.1    1\n",
       "132.8    1\n",
       "134.2    1\n",
       "134.3    1\n",
       "134.6    1\n",
       "134.9    1\n",
       "136.9    1\n",
       "148.5    1\n",
       "Name: count, dtype: int64"
      ]
     },
     "execution_count": 17,
     "metadata": {},
     "output_type": "execute_result"
    }
   ],
   "source": [
    "imi['2020':].value_counts() # There is no value of '.' after 2020 so we gonna fill '.' with 0"
   ]
  },
  {
   "cell_type": "code",
   "execution_count": 18,
   "id": "4f100adc",
   "metadata": {},
   "outputs": [
    {
     "name": "stdout",
     "output_type": "stream",
     "text": [
      "<class 'pandas.core.frame.DataFrame'>\n",
      "DatetimeIndex: 501 entries, 1982-09-01 to 2024-05-01\n",
      "Data columns (total 1 columns):\n",
      " #   Column  Non-Null Count  Dtype  \n",
      "---  ------  --------------  -----  \n",
      " 0   IR      501 non-null    float64\n",
      "dtypes: float64(1)\n",
      "memory usage: 24.0 KB\n"
     ]
    }
   ],
   "source": [
    "imi.replace('.', 0,inplace=True)\n",
    "imi['IR'] = imi.astype('float')\n",
    "imi.info()"
   ]
  },
  {
   "cell_type": "code",
   "execution_count": 19,
   "id": "63562234",
   "metadata": {
    "scrolled": false
   },
   "outputs": [
    {
     "data": {
      "image/png": "[encoded data removed]",
      "text/plain": [
       "<Figure size 1500x500 with 1 Axes>"
      ]
     },
     "metadata": {},
     "output_type": "display_data"
    }
   ],
   "source": [
    "imi['2018-01-01':].plot(figsize=(15, 5), xlabel='YEAR', ylabel='IR', title='Growth of IR', grid=True)\n",
    "plt.legend(title=['Source: U.S. Bureau of Economic Analysis'])\n",
    "plt.show()"
   ]
  },
  {
   "cell_type": "code",
   "execution_count": 20,
   "id": "66a3a85e",
   "metadata": {},
   "outputs": [
    {
     "name": "stdout",
     "output_type": "stream",
     "text": [
      "<class 'pandas.core.frame.DataFrame'>\n",
      "DatetimeIndex: 785 entries, 1959-01-01 to 2024-05-01\n",
      "Data columns (total 1 columns):\n",
      " #   Column  Non-Null Count  Dtype  \n",
      "---  ------  --------------  -----  \n",
      " 0   M2SL    785 non-null    float64\n",
      "dtypes: float64(1)\n",
      "memory usage: 12.3 KB\n"
     ]
    },
    {
     "data": {
      "text/html": [
       "<div>\n",
       "<style scoped>\n",
       "    .dataframe tbody tr th:only-of-type {\n",
       "        vertical-align: middle;\n",
       "    }\n",
       "\n",
       "    .dataframe tbody tr th {\n",
       "        vertical-align: top;\n",
       "    }\n",
       "\n",
       "    .dataframe thead th {\n",
       "        text-align: right;\n",
       "    }\n",
       "</style>\n",
       "<table border=\"1\" class=\"dataframe\">\n",
       "  <thead>\n",
       "    <tr style=\"text-align: right;\">\n",
       "      <th></th>\n",
       "      <th>M2SL</th>\n",
       "    </tr>\n",
       "    <tr>\n",
       "      <th>DATE</th>\n",
       "      <th></th>\n",
       "    </tr>\n",
       "  </thead>\n",
       "  <tbody>\n",
       "    <tr>\n",
       "      <th>1959-01-01</th>\n",
       "      <td>286.6</td>\n",
       "    </tr>\n",
       "    <tr>\n",
       "      <th>1959-02-01</th>\n",
       "      <td>287.7</td>\n",
       "    </tr>\n",
       "    <tr>\n",
       "      <th>1959-03-01</th>\n",
       "      <td>289.2</td>\n",
       "    </tr>\n",
       "    <tr>\n",
       "      <th>1959-04-01</th>\n",
       "      <td>290.1</td>\n",
       "    </tr>\n",
       "    <tr>\n",
       "      <th>1959-05-01</th>\n",
       "      <td>292.2</td>\n",
       "    </tr>\n",
       "  </tbody>\n",
       "</table>\n",
       "</div>"
      ],
      "text/plain": [
       "             M2SL\n",
       "DATE             \n",
       "1959-01-01  286.6\n",
       "1959-02-01  287.7\n",
       "1959-03-01  289.2\n",
       "1959-04-01  290.1\n",
       "1959-05-01  292.2"
      ]
     },
     "execution_count": 20,
     "metadata": {},
     "output_type": "execute_result"
    }
   ],
   "source": [
    "m2.info()\n",
    "m2.head()"
   ]
  },
  {
   "cell_type": "code",
   "execution_count": 21,
   "id": "dfae0893",
   "metadata": {},
   "outputs": [
    {
     "name": "stdout",
     "output_type": "stream",
     "text": [
      "<class 'pandas.core.frame.DataFrame'>\n",
      "DatetimeIndex: 785 entries, 1959-01-01 to 2024-05-01\n",
      "Data columns (total 1 columns):\n",
      " #   Column  Non-Null Count  Dtype  \n",
      "---  ------  --------------  -----  \n",
      " 0   PCE     785 non-null    float64\n",
      "dtypes: float64(1)\n",
      "memory usage: 28.4 KB\n"
     ]
    },
    {
     "data": {
      "text/html": [
       "<div>\n",
       "<style scoped>\n",
       "    .dataframe tbody tr th:only-of-type {\n",
       "        vertical-align: middle;\n",
       "    }\n",
       "\n",
       "    .dataframe tbody tr th {\n",
       "        vertical-align: top;\n",
       "    }\n",
       "\n",
       "    .dataframe thead th {\n",
       "        text-align: right;\n",
       "    }\n",
       "</style>\n",
       "<table border=\"1\" class=\"dataframe\">\n",
       "  <thead>\n",
       "    <tr style=\"text-align: right;\">\n",
       "      <th></th>\n",
       "      <th>PCE</th>\n",
       "    </tr>\n",
       "    <tr>\n",
       "      <th>DATE</th>\n",
       "      <th></th>\n",
       "    </tr>\n",
       "  </thead>\n",
       "  <tbody>\n",
       "    <tr>\n",
       "      <th>1959-01-01</th>\n",
       "      <td>306.1</td>\n",
       "    </tr>\n",
       "    <tr>\n",
       "      <th>1959-02-01</th>\n",
       "      <td>309.6</td>\n",
       "    </tr>\n",
       "    <tr>\n",
       "      <th>1959-03-01</th>\n",
       "      <td>312.7</td>\n",
       "    </tr>\n",
       "    <tr>\n",
       "      <th>1959-04-01</th>\n",
       "      <td>312.2</td>\n",
       "    </tr>\n",
       "    <tr>\n",
       "      <th>1959-05-01</th>\n",
       "      <td>316.1</td>\n",
       "    </tr>\n",
       "  </tbody>\n",
       "</table>\n",
       "</div>"
      ],
      "text/plain": [
       "              PCE\n",
       "DATE             \n",
       "1959-01-01  306.1\n",
       "1959-02-01  309.6\n",
       "1959-03-01  312.7\n",
       "1959-04-01  312.2\n",
       "1959-05-01  316.1"
      ]
     },
     "execution_count": 21,
     "metadata": {},
     "output_type": "execute_result"
    }
   ],
   "source": [
    "pce.info()\n",
    "pce.head()"
   ]
  },
  {
   "cell_type": "code",
   "execution_count": 22,
   "id": "8e6e7d6f",
   "metadata": {},
   "outputs": [
    {
     "data": {
      "image/png": "[encoded data removed]",
      "text/plain": [
       "<Figure size 1500x500 with 1 Axes>"
      ]
     },
     "metadata": {},
     "output_type": "display_data"
    }
   ],
   "source": [
    "pce['2018':].plot(figsize=(15, 5), xlabel='YEAR', ylabel='PCE', title='Growth of PCE', grid=True)\n",
    "plt.legend(title=['Source: U.S. Bureau of Economic Analysis'])\n",
    "plt.show()"
   ]
  },
  {
   "cell_type": "code",
   "execution_count": 23,
   "id": "a3f81ee1",
   "metadata": {},
   "outputs": [],
   "source": [
    "# oil.info()\n",
    "# oil.head()"
   ]
  },
  {
   "cell_type": "code",
   "execution_count": 24,
   "id": "0742081b",
   "metadata": {},
   "outputs": [
    {
     "name": "stdout",
     "output_type": "stream",
     "text": [
      "<class 'pandas.core.frame.DataFrame'>\n",
      "DatetimeIndex: 859 entries, 1952-11-01 to 2024-05-01\n",
      "Data columns (total 1 columns):\n",
      " #   Column   Non-Null Count  Dtype \n",
      "---  ------   --------------  ----- \n",
      " 0   UMCSENT  859 non-null    object\n",
      "dtypes: object(1)\n",
      "memory usage: 13.4+ KB\n"
     ]
    },
    {
     "data": {
      "text/html": [
       "<div>\n",
       "<style scoped>\n",
       "    .dataframe tbody tr th:only-of-type {\n",
       "        vertical-align: middle;\n",
       "    }\n",
       "\n",
       "    .dataframe tbody tr th {\n",
       "        vertical-align: top;\n",
       "    }\n",
       "\n",
       "    .dataframe thead th {\n",
       "        text-align: right;\n",
       "    }\n",
       "</style>\n",
       "<table border=\"1\" class=\"dataframe\">\n",
       "  <thead>\n",
       "    <tr style=\"text-align: right;\">\n",
       "      <th></th>\n",
       "      <th>UMCSENT</th>\n",
       "    </tr>\n",
       "    <tr>\n",
       "      <th>DATE</th>\n",
       "      <th></th>\n",
       "    </tr>\n",
       "  </thead>\n",
       "  <tbody>\n",
       "    <tr>\n",
       "      <th>1952-11-01</th>\n",
       "      <td>86.2</td>\n",
       "    </tr>\n",
       "    <tr>\n",
       "      <th>1952-12-01</th>\n",
       "      <td>.</td>\n",
       "    </tr>\n",
       "    <tr>\n",
       "      <th>1953-01-01</th>\n",
       "      <td>.</td>\n",
       "    </tr>\n",
       "    <tr>\n",
       "      <th>1953-02-01</th>\n",
       "      <td>90.7</td>\n",
       "    </tr>\n",
       "    <tr>\n",
       "      <th>1953-03-01</th>\n",
       "      <td>.</td>\n",
       "    </tr>\n",
       "  </tbody>\n",
       "</table>\n",
       "</div>"
      ],
      "text/plain": [
       "           UMCSENT\n",
       "DATE              \n",
       "1952-11-01    86.2\n",
       "1952-12-01       .\n",
       "1953-01-01       .\n",
       "1953-02-01    90.7\n",
       "1953-03-01       ."
      ]
     },
     "execution_count": 24,
     "metadata": {},
     "output_type": "execute_result"
    }
   ],
   "source": [
    "csi.info()\n",
    "csi.head()"
   ]
  },
  {
   "cell_type": "code",
   "execution_count": 25,
   "id": "5a6e5517",
   "metadata": {},
   "outputs": [
    {
     "data": {
      "text/plain": [
       "UMCSENT\n",
       ".          210\n",
       "91.5         8\n",
       "95.9         6\n",
       "92.4         6\n",
       "91.7         6\n",
       "          ... \n",
       "84.7         1\n",
       "85.1         1\n",
       "85.4         1\n",
       "85.5         1\n",
       "62           1\n",
       "Name: count, Length: 362, dtype: int64"
      ]
     },
     "execution_count": 25,
     "metadata": {},
     "output_type": "execute_result"
    }
   ],
   "source": [
    "csi.value_counts()"
   ]
  },
  {
   "cell_type": "code",
   "execution_count": 26,
   "id": "9e3c9509",
   "metadata": {},
   "outputs": [
    {
     "data": {
      "text/plain": [
       "UMCSENT\n",
       "63.7       3\n",
       "82.5       3\n",
       "73.6       3\n",
       "98.2       3\n",
       "67.8       2\n",
       "          ..\n",
       "71.6       1\n",
       "70.6       1\n",
       "70.3       1\n",
       "69.9       1\n",
       "99.8       1\n",
       "Name: count, Length: 145, dtype: int64"
      ]
     },
     "execution_count": 26,
     "metadata": {},
     "output_type": "execute_result"
    }
   ],
   "source": [
    "csi['2010':].value_counts() # There is no . after 2000"
   ]
  },
  {
   "cell_type": "code",
   "execution_count": 27,
   "id": "d9551381",
   "metadata": {},
   "outputs": [
    {
     "name": "stdout",
     "output_type": "stream",
     "text": [
      "<class 'pandas.core.frame.DataFrame'>\n",
      "DatetimeIndex: 859 entries, 1952-11-01 to 2024-05-01\n",
      "Data columns (total 1 columns):\n",
      " #   Column   Non-Null Count  Dtype  \n",
      "---  ------   --------------  -----  \n",
      " 0   UMCSENT  859 non-null    float64\n",
      "dtypes: float64(1)\n",
      "memory usage: 45.7 KB\n"
     ]
    }
   ],
   "source": [
    "csi.replace('.', 0,inplace=True)\n",
    "csi['UMCSENT'] = csi['UMCSENT'].astype('float')\n",
    "csi.info()\n"
   ]
  },
  {
   "cell_type": "code",
   "execution_count": 28,
   "id": "17c27bb7",
   "metadata": {},
   "outputs": [
    {
     "data": {
      "text/html": [
       "<div>\n",
       "<style scoped>\n",
       "    .dataframe tbody tr th:only-of-type {\n",
       "        vertical-align: middle;\n",
       "    }\n",
       "\n",
       "    .dataframe tbody tr th {\n",
       "        vertical-align: top;\n",
       "    }\n",
       "\n",
       "    .dataframe thead th {\n",
       "        text-align: right;\n",
       "    }\n",
       "</style>\n",
       "<table border=\"1\" class=\"dataframe\">\n",
       "  <thead>\n",
       "    <tr style=\"text-align: right;\">\n",
       "      <th></th>\n",
       "      <th>UMCSENT</th>\n",
       "    </tr>\n",
       "    <tr>\n",
       "      <th>DATE</th>\n",
       "      <th></th>\n",
       "    </tr>\n",
       "  </thead>\n",
       "  <tbody>\n",
       "    <tr>\n",
       "      <th>1952-11-01</th>\n",
       "      <td>86.2</td>\n",
       "    </tr>\n",
       "    <tr>\n",
       "      <th>1952-12-01</th>\n",
       "      <td>0.0</td>\n",
       "    </tr>\n",
       "    <tr>\n",
       "      <th>1953-01-01</th>\n",
       "      <td>0.0</td>\n",
       "    </tr>\n",
       "    <tr>\n",
       "      <th>1953-02-01</th>\n",
       "      <td>90.7</td>\n",
       "    </tr>\n",
       "    <tr>\n",
       "      <th>1953-03-01</th>\n",
       "      <td>0.0</td>\n",
       "    </tr>\n",
       "  </tbody>\n",
       "</table>\n",
       "</div>"
      ],
      "text/plain": [
       "            UMCSENT\n",
       "DATE               \n",
       "1952-11-01     86.2\n",
       "1952-12-01      0.0\n",
       "1953-01-01      0.0\n",
       "1953-02-01     90.7\n",
       "1953-03-01      0.0"
      ]
     },
     "execution_count": 28,
     "metadata": {},
     "output_type": "execute_result"
    }
   ],
   "source": [
    "csi.head()"
   ]
  },
  {
   "cell_type": "code",
   "execution_count": 29,
   "id": "58e29076",
   "metadata": {},
   "outputs": [
    {
     "data": {
      "text/plain": [
       "DATE\n",
       "1952-11-01    False\n",
       "1952-12-01    False\n",
       "1953-01-01     True\n",
       "1953-02-01    False\n",
       "1953-03-01     True\n",
       "              ...  \n",
       "2024-01-01     True\n",
       "2024-02-01     True\n",
       "2024-03-01    False\n",
       "2024-04-01     True\n",
       "2024-05-01     True\n",
       "Length: 859, dtype: bool"
      ]
     },
     "execution_count": 29,
     "metadata": {},
     "output_type": "execute_result"
    }
   ],
   "source": [
    "csi.duplicated()"
   ]
  },
  {
   "cell_type": "markdown",
   "id": "5f0c8cd4",
   "metadata": {},
   "source": [
    "# 3. Transform Data"
   ]
  },
  {
   "cell_type": "code",
   "execution_count": 30,
   "id": "95fe218c-4d6a-40df-9ee6-0b085d8bad54",
   "metadata": {},
   "outputs": [
    {
     "data": {
      "text/html": [
       "<div>\n",
       "<style scoped>\n",
       "    .dataframe tbody tr th:only-of-type {\n",
       "        vertical-align: middle;\n",
       "    }\n",
       "\n",
       "    .dataframe tbody tr th {\n",
       "        vertical-align: top;\n",
       "    }\n",
       "\n",
       "    .dataframe thead th {\n",
       "        text-align: right;\n",
       "    }\n",
       "</style>\n",
       "<table border=\"1\" class=\"dataframe\">\n",
       "  <thead>\n",
       "    <tr style=\"text-align: right;\">\n",
       "      <th></th>\n",
       "      <th>CPIAUCSL</th>\n",
       "      <th>PPIACO</th>\n",
       "      <th>M2SL</th>\n",
       "    </tr>\n",
       "    <tr>\n",
       "      <th>DATE</th>\n",
       "      <th></th>\n",
       "      <th></th>\n",
       "      <th></th>\n",
       "    </tr>\n",
       "  </thead>\n",
       "  <tbody>\n",
       "    <tr>\n",
       "      <th>2023-08-01</th>\n",
       "      <td>306.187</td>\n",
       "      <td>257.680</td>\n",
       "      <td>20765.3</td>\n",
       "    </tr>\n",
       "    <tr>\n",
       "      <th>2023-09-01</th>\n",
       "      <td>307.288</td>\n",
       "      <td>258.934</td>\n",
       "      <td>20710.9</td>\n",
       "    </tr>\n",
       "    <tr>\n",
       "      <th>2023-10-01</th>\n",
       "      <td>307.531</td>\n",
       "      <td>255.192</td>\n",
       "      <td>20691.7</td>\n",
       "    </tr>\n",
       "    <tr>\n",
       "      <th>2023-11-01</th>\n",
       "      <td>308.024</td>\n",
       "      <td>252.856</td>\n",
       "      <td>20705.1</td>\n",
       "    </tr>\n",
       "    <tr>\n",
       "      <th>2023-12-01</th>\n",
       "      <td>308.742</td>\n",
       "      <td>249.866</td>\n",
       "      <td>20754.0</td>\n",
       "    </tr>\n",
       "    <tr>\n",
       "      <th>2024-01-01</th>\n",
       "      <td>309.685</td>\n",
       "      <td>251.306</td>\n",
       "      <td>20754.4</td>\n",
       "    </tr>\n",
       "    <tr>\n",
       "      <th>2024-02-01</th>\n",
       "      <td>311.054</td>\n",
       "      <td>254.914</td>\n",
       "      <td>20748.6</td>\n",
       "    </tr>\n",
       "    <tr>\n",
       "      <th>2024-03-01</th>\n",
       "      <td>312.230</td>\n",
       "      <td>255.116</td>\n",
       "      <td>20842.1</td>\n",
       "    </tr>\n",
       "    <tr>\n",
       "      <th>2024-04-01</th>\n",
       "      <td>313.207</td>\n",
       "      <td>257.153</td>\n",
       "      <td>20870.2</td>\n",
       "    </tr>\n",
       "    <tr>\n",
       "      <th>2024-05-01</th>\n",
       "      <td>313.225</td>\n",
       "      <td>254.971</td>\n",
       "      <td>20963.4</td>\n",
       "    </tr>\n",
       "  </tbody>\n",
       "</table>\n",
       "</div>"
      ],
      "text/plain": [
       "            CPIAUCSL   PPIACO     M2SL\n",
       "DATE                                  \n",
       "2023-08-01   306.187  257.680  20765.3\n",
       "2023-09-01   307.288  258.934  20710.9\n",
       "2023-10-01   307.531  255.192  20691.7\n",
       "2023-11-01   308.024  252.856  20705.1\n",
       "2023-12-01   308.742  249.866  20754.0\n",
       "2024-01-01   309.685  251.306  20754.4\n",
       "2024-02-01   311.054  254.914  20748.6\n",
       "2024-03-01   312.230  255.116  20842.1\n",
       "2024-04-01   313.207  257.153  20870.2\n",
       "2024-05-01   313.225  254.971  20963.4"
      ]
     },
     "execution_count": 30,
     "metadata": {},
     "output_type": "execute_result"
    }
   ],
   "source": [
    "mer_cpi = cpi.join([ppi, m2], how='inner')\n",
    "mer_cpi.tail(10)"
   ]
  },
  {
   "cell_type": "code",
   "execution_count": 31,
   "id": "0ebc2545-61d7-4c85-9e27-fefc049e1a39",
   "metadata": {},
   "outputs": [
    {
     "name": "stdout",
     "output_type": "stream",
     "text": [
      "<class 'pandas.core.frame.DataFrame'>\n",
      "DatetimeIndex: 785 entries, 1959-01-01 to 2024-05-01\n",
      "Freq: MS\n",
      "Data columns (total 3 columns):\n",
      " #   Column    Non-Null Count  Dtype  \n",
      "---  ------    --------------  -----  \n",
      " 0   CPIAUCSL  785 non-null    float64\n",
      " 1   PPIACO    785 non-null    float64\n",
      " 2   M2SL      785 non-null    float64\n",
      "dtypes: float64(3)\n",
      "memory usage: 24.5 KB\n"
     ]
    },
    {
     "data": {
      "text/html": [
       "<div>\n",
       "<style scoped>\n",
       "    .dataframe tbody tr th:only-of-type {\n",
       "        vertical-align: middle;\n",
       "    }\n",
       "\n",
       "    .dataframe tbody tr th {\n",
       "        vertical-align: top;\n",
       "    }\n",
       "\n",
       "    .dataframe thead th {\n",
       "        text-align: right;\n",
       "    }\n",
       "</style>\n",
       "<table border=\"1\" class=\"dataframe\">\n",
       "  <thead>\n",
       "    <tr style=\"text-align: right;\">\n",
       "      <th></th>\n",
       "      <th>CPIAUCSL</th>\n",
       "      <th>PPIACO</th>\n",
       "      <th>M2SL</th>\n",
       "    </tr>\n",
       "    <tr>\n",
       "      <th>DATE</th>\n",
       "      <th></th>\n",
       "      <th></th>\n",
       "      <th></th>\n",
       "    </tr>\n",
       "  </thead>\n",
       "  <tbody>\n",
       "    <tr>\n",
       "      <th>1959-01-01</th>\n",
       "      <td>28.993333</td>\n",
       "      <td>31.700000</td>\n",
       "      <td>287.833333</td>\n",
       "    </tr>\n",
       "    <tr>\n",
       "      <th>1959-04-01</th>\n",
       "      <td>29.043333</td>\n",
       "      <td>31.766667</td>\n",
       "      <td>292.133333</td>\n",
       "    </tr>\n",
       "    <tr>\n",
       "      <th>1959-07-01</th>\n",
       "      <td>29.193333</td>\n",
       "      <td>31.666667</td>\n",
       "      <td>296.100000</td>\n",
       "    </tr>\n",
       "    <tr>\n",
       "      <th>1959-10-01</th>\n",
       "      <td>29.370000</td>\n",
       "      <td>31.533333</td>\n",
       "      <td>297.133333</td>\n",
       "    </tr>\n",
       "    <tr>\n",
       "      <th>1960-01-01</th>\n",
       "      <td>29.396667</td>\n",
       "      <td>31.666667</td>\n",
       "      <td>298.633333</td>\n",
       "    </tr>\n",
       "    <tr>\n",
       "      <th>...</th>\n",
       "      <td>...</td>\n",
       "      <td>...</td>\n",
       "      <td>...</td>\n",
       "    </tr>\n",
       "    <tr>\n",
       "      <th>2023-04-01</th>\n",
       "      <td>303.466667</td>\n",
       "      <td>254.812667</td>\n",
       "      <td>20800.933333</td>\n",
       "    </tr>\n",
       "    <tr>\n",
       "      <th>2023-07-01</th>\n",
       "      <td>306.034333</td>\n",
       "      <td>256.816333</td>\n",
       "      <td>20756.500000</td>\n",
       "    </tr>\n",
       "    <tr>\n",
       "      <th>2023-10-01</th>\n",
       "      <td>308.099000</td>\n",
       "      <td>252.638000</td>\n",
       "      <td>20716.933333</td>\n",
       "    </tr>\n",
       "    <tr>\n",
       "      <th>2024-01-01</th>\n",
       "      <td>310.989667</td>\n",
       "      <td>253.778667</td>\n",
       "      <td>20781.700000</td>\n",
       "    </tr>\n",
       "    <tr>\n",
       "      <th>2024-04-01</th>\n",
       "      <td>313.216000</td>\n",
       "      <td>256.062000</td>\n",
       "      <td>20916.800000</td>\n",
       "    </tr>\n",
       "  </tbody>\n",
       "</table>\n",
       "<p>262 rows × 3 columns</p>\n",
       "</div>"
      ],
      "text/plain": [
       "              CPIAUCSL      PPIACO          M2SL\n",
       "DATE                                            \n",
       "1959-01-01   28.993333   31.700000    287.833333\n",
       "1959-04-01   29.043333   31.766667    292.133333\n",
       "1959-07-01   29.193333   31.666667    296.100000\n",
       "1959-10-01   29.370000   31.533333    297.133333\n",
       "1960-01-01   29.396667   31.666667    298.633333\n",
       "...                ...         ...           ...\n",
       "2023-04-01  303.466667  254.812667  20800.933333\n",
       "2023-07-01  306.034333  256.816333  20756.500000\n",
       "2023-10-01  308.099000  252.638000  20716.933333\n",
       "2024-01-01  310.989667  253.778667  20781.700000\n",
       "2024-04-01  313.216000  256.062000  20916.800000\n",
       "\n",
       "[262 rows x 3 columns]"
      ]
     },
     "execution_count": 31,
     "metadata": {},
     "output_type": "execute_result"
    }
   ],
   "source": [
    "mer_cpi.info()\n",
    "mer_cpi_quatery = mer_cpi.resample('QS').mean()\n",
    "mer_cpi_quatery"
   ]
  },
  {
   "cell_type": "code",
   "execution_count": 32,
   "id": "c7446c7f",
   "metadata": {},
   "outputs": [
    {
     "data": {
      "text/html": [
       "<div>\n",
       "<style scoped>\n",
       "    .dataframe tbody tr th:only-of-type {\n",
       "        vertical-align: middle;\n",
       "    }\n",
       "\n",
       "    .dataframe tbody tr th {\n",
       "        vertical-align: top;\n",
       "    }\n",
       "\n",
       "    .dataframe thead th {\n",
       "        text-align: right;\n",
       "    }\n",
       "</style>\n",
       "<table border=\"1\" class=\"dataframe\">\n",
       "  <thead>\n",
       "    <tr style=\"text-align: right;\">\n",
       "      <th></th>\n",
       "      <th>CPIAUCSL</th>\n",
       "    </tr>\n",
       "    <tr>\n",
       "      <th>DATE</th>\n",
       "      <th></th>\n",
       "    </tr>\n",
       "  </thead>\n",
       "  <tbody>\n",
       "    <tr>\n",
       "      <th>1947-01-01</th>\n",
       "      <td>21.700000</td>\n",
       "    </tr>\n",
       "    <tr>\n",
       "      <th>1947-04-01</th>\n",
       "      <td>22.010000</td>\n",
       "    </tr>\n",
       "    <tr>\n",
       "      <th>1947-07-01</th>\n",
       "      <td>22.490000</td>\n",
       "    </tr>\n",
       "    <tr>\n",
       "      <th>1947-10-01</th>\n",
       "      <td>23.126667</td>\n",
       "    </tr>\n",
       "    <tr>\n",
       "      <th>1948-01-01</th>\n",
       "      <td>23.616667</td>\n",
       "    </tr>\n",
       "    <tr>\n",
       "      <th>...</th>\n",
       "      <td>...</td>\n",
       "    </tr>\n",
       "    <tr>\n",
       "      <th>2023-04-01</th>\n",
       "      <td>303.466667</td>\n",
       "    </tr>\n",
       "    <tr>\n",
       "      <th>2023-07-01</th>\n",
       "      <td>306.034333</td>\n",
       "    </tr>\n",
       "    <tr>\n",
       "      <th>2023-10-01</th>\n",
       "      <td>308.099000</td>\n",
       "    </tr>\n",
       "    <tr>\n",
       "      <th>2024-01-01</th>\n",
       "      <td>310.989667</td>\n",
       "    </tr>\n",
       "    <tr>\n",
       "      <th>2024-04-01</th>\n",
       "      <td>313.216000</td>\n",
       "    </tr>\n",
       "  </tbody>\n",
       "</table>\n",
       "<p>310 rows × 1 columns</p>\n",
       "</div>"
      ],
      "text/plain": [
       "              CPIAUCSL\n",
       "DATE                  \n",
       "1947-01-01   21.700000\n",
       "1947-04-01   22.010000\n",
       "1947-07-01   22.490000\n",
       "1947-10-01   23.126667\n",
       "1948-01-01   23.616667\n",
       "...                ...\n",
       "2023-04-01  303.466667\n",
       "2023-07-01  306.034333\n",
       "2023-10-01  308.099000\n",
       "2024-01-01  310.989667\n",
       "2024-04-01  313.216000\n",
       "\n",
       "[310 rows x 1 columns]"
      ]
     },
     "execution_count": 32,
     "metadata": {},
     "output_type": "execute_result"
    }
   ],
   "source": [
    "# Resample CPI to quaterly\n",
    "\n",
    "cpi = cpi.resample('QS').mean()\n",
    "cpi"
   ]
  },
  {
   "cell_type": "code",
   "execution_count": 33,
   "id": "b949fd9a",
   "metadata": {},
   "outputs": [
    {
     "data": {
      "text/html": [
       "<div>\n",
       "<style scoped>\n",
       "    .dataframe tbody tr th:only-of-type {\n",
       "        vertical-align: middle;\n",
       "    }\n",
       "\n",
       "    .dataframe tbody tr th {\n",
       "        vertical-align: top;\n",
       "    }\n",
       "\n",
       "    .dataframe thead th {\n",
       "        text-align: right;\n",
       "    }\n",
       "</style>\n",
       "<table border=\"1\" class=\"dataframe\">\n",
       "  <thead>\n",
       "    <tr style=\"text-align: right;\">\n",
       "      <th></th>\n",
       "      <th>PPIACO</th>\n",
       "    </tr>\n",
       "    <tr>\n",
       "      <th>DATE</th>\n",
       "      <th></th>\n",
       "    </tr>\n",
       "  </thead>\n",
       "  <tbody>\n",
       "    <tr>\n",
       "      <th>1913-01-01</th>\n",
       "      <td>12.033333</td>\n",
       "    </tr>\n",
       "    <tr>\n",
       "      <th>1913-04-01</th>\n",
       "      <td>11.933333</td>\n",
       "    </tr>\n",
       "    <tr>\n",
       "      <th>1913-07-01</th>\n",
       "      <td>12.066667</td>\n",
       "    </tr>\n",
       "    <tr>\n",
       "      <th>1913-10-01</th>\n",
       "      <td>12.066667</td>\n",
       "    </tr>\n",
       "    <tr>\n",
       "      <th>1914-01-01</th>\n",
       "      <td>11.766667</td>\n",
       "    </tr>\n",
       "    <tr>\n",
       "      <th>...</th>\n",
       "      <td>...</td>\n",
       "    </tr>\n",
       "    <tr>\n",
       "      <th>2023-04-01</th>\n",
       "      <td>254.812667</td>\n",
       "    </tr>\n",
       "    <tr>\n",
       "      <th>2023-07-01</th>\n",
       "      <td>256.816333</td>\n",
       "    </tr>\n",
       "    <tr>\n",
       "      <th>2023-10-01</th>\n",
       "      <td>252.638000</td>\n",
       "    </tr>\n",
       "    <tr>\n",
       "      <th>2024-01-01</th>\n",
       "      <td>253.778667</td>\n",
       "    </tr>\n",
       "    <tr>\n",
       "      <th>2024-04-01</th>\n",
       "      <td>256.062000</td>\n",
       "    </tr>\n",
       "  </tbody>\n",
       "</table>\n",
       "<p>446 rows × 1 columns</p>\n",
       "</div>"
      ],
      "text/plain": [
       "                PPIACO\n",
       "DATE                  \n",
       "1913-01-01   12.033333\n",
       "1913-04-01   11.933333\n",
       "1913-07-01   12.066667\n",
       "1913-10-01   12.066667\n",
       "1914-01-01   11.766667\n",
       "...                ...\n",
       "2023-04-01  254.812667\n",
       "2023-07-01  256.816333\n",
       "2023-10-01  252.638000\n",
       "2024-01-01  253.778667\n",
       "2024-04-01  256.062000\n",
       "\n",
       "[446 rows x 1 columns]"
      ]
     },
     "execution_count": 33,
     "metadata": {},
     "output_type": "execute_result"
    }
   ],
   "source": [
    "ppi = ppi.resample('QS').mean()\n",
    "ppi"
   ]
  },
  {
   "cell_type": "code",
   "execution_count": 34,
   "id": "379e598b",
   "metadata": {},
   "outputs": [
    {
     "data": {
      "image/png": "[encoded data removed]",
      "text/plain": [
       "<Figure size 1500x500 with 1 Axes>"
      ]
     },
     "metadata": {},
     "output_type": "display_data"
    }
   ],
   "source": [
    "ppi['2018-01-01':].plot(figsize=(15, 5), xlabel='YEAR', ylabel='PPI', title='Growth of PPI', grid=True)\n",
    "plt.legend(title=['Source: U.S. Bureau of Economic Analysis'])\n",
    "plt.show()"
   ]
  },
  {
   "cell_type": "code",
   "execution_count": 35,
   "id": "fd46662a",
   "metadata": {},
   "outputs": [
    {
     "data": {
      "text/html": [
       "<div>\n",
       "<style scoped>\n",
       "    .dataframe tbody tr th:only-of-type {\n",
       "        vertical-align: middle;\n",
       "    }\n",
       "\n",
       "    .dataframe tbody tr th {\n",
       "        vertical-align: top;\n",
       "    }\n",
       "\n",
       "    .dataframe thead th {\n",
       "        text-align: right;\n",
       "    }\n",
       "</style>\n",
       "<table border=\"1\" class=\"dataframe\">\n",
       "  <thead>\n",
       "    <tr style=\"text-align: right;\">\n",
       "      <th></th>\n",
       "      <th>IR</th>\n",
       "    </tr>\n",
       "    <tr>\n",
       "      <th>DATE</th>\n",
       "      <th></th>\n",
       "    </tr>\n",
       "  </thead>\n",
       "  <tbody>\n",
       "    <tr>\n",
       "      <th>1982-09-01</th>\n",
       "      <td>80.0</td>\n",
       "    </tr>\n",
       "    <tr>\n",
       "      <th>1982-10-01</th>\n",
       "      <td>0.0</td>\n",
       "    </tr>\n",
       "    <tr>\n",
       "      <th>1982-11-01</th>\n",
       "      <td>0.0</td>\n",
       "    </tr>\n",
       "    <tr>\n",
       "      <th>1982-12-01</th>\n",
       "      <td>79.9</td>\n",
       "    </tr>\n",
       "    <tr>\n",
       "      <th>1983-01-01</th>\n",
       "      <td>0.0</td>\n",
       "    </tr>\n",
       "    <tr>\n",
       "      <th>...</th>\n",
       "      <td>...</td>\n",
       "    </tr>\n",
       "    <tr>\n",
       "      <th>2024-01-01</th>\n",
       "      <td>139.4</td>\n",
       "    </tr>\n",
       "    <tr>\n",
       "      <th>2024-02-01</th>\n",
       "      <td>139.7</td>\n",
       "    </tr>\n",
       "    <tr>\n",
       "      <th>2024-03-01</th>\n",
       "      <td>140.5</td>\n",
       "    </tr>\n",
       "    <tr>\n",
       "      <th>2024-04-01</th>\n",
       "      <td>141.8</td>\n",
       "    </tr>\n",
       "    <tr>\n",
       "      <th>2024-05-01</th>\n",
       "      <td>141.2</td>\n",
       "    </tr>\n",
       "  </tbody>\n",
       "</table>\n",
       "<p>501 rows × 1 columns</p>\n",
       "</div>"
      ],
      "text/plain": [
       "               IR\n",
       "DATE             \n",
       "1982-09-01   80.0\n",
       "1982-10-01    0.0\n",
       "1982-11-01    0.0\n",
       "1982-12-01   79.9\n",
       "1983-01-01    0.0\n",
       "...           ...\n",
       "2024-01-01  139.4\n",
       "2024-02-01  139.7\n",
       "2024-03-01  140.5\n",
       "2024-04-01  141.8\n",
       "2024-05-01  141.2\n",
       "\n",
       "[501 rows x 1 columns]"
      ]
     },
     "execution_count": 35,
     "metadata": {},
     "output_type": "execute_result"
    }
   ],
   "source": [
    "imi"
   ]
  },
  {
   "cell_type": "code",
   "execution_count": 36,
   "id": "188f4323",
   "metadata": {},
   "outputs": [
    {
     "data": {
      "text/html": [
       "<div>\n",
       "<style scoped>\n",
       "    .dataframe tbody tr th:only-of-type {\n",
       "        vertical-align: middle;\n",
       "    }\n",
       "\n",
       "    .dataframe tbody tr th {\n",
       "        vertical-align: top;\n",
       "    }\n",
       "\n",
       "    .dataframe thead th {\n",
       "        text-align: right;\n",
       "    }\n",
       "</style>\n",
       "<table border=\"1\" class=\"dataframe\">\n",
       "  <thead>\n",
       "    <tr style=\"text-align: right;\">\n",
       "      <th></th>\n",
       "      <th>IR</th>\n",
       "    </tr>\n",
       "    <tr>\n",
       "      <th>DATE</th>\n",
       "      <th></th>\n",
       "    </tr>\n",
       "  </thead>\n",
       "  <tbody>\n",
       "    <tr>\n",
       "      <th>1982-07-01</th>\n",
       "      <td>80.000000</td>\n",
       "    </tr>\n",
       "    <tr>\n",
       "      <th>1982-10-01</th>\n",
       "      <td>26.633333</td>\n",
       "    </tr>\n",
       "    <tr>\n",
       "      <th>1983-01-01</th>\n",
       "      <td>25.900000</td>\n",
       "    </tr>\n",
       "    <tr>\n",
       "      <th>1983-04-01</th>\n",
       "      <td>25.933333</td>\n",
       "    </tr>\n",
       "    <tr>\n",
       "      <th>1983-07-01</th>\n",
       "      <td>25.866667</td>\n",
       "    </tr>\n",
       "    <tr>\n",
       "      <th>...</th>\n",
       "      <td>...</td>\n",
       "    </tr>\n",
       "    <tr>\n",
       "      <th>2023-04-01</th>\n",
       "      <td>139.800000</td>\n",
       "    </tr>\n",
       "    <tr>\n",
       "      <th>2023-07-01</th>\n",
       "      <td>140.233333</td>\n",
       "    </tr>\n",
       "    <tr>\n",
       "      <th>2023-10-01</th>\n",
       "      <td>139.300000</td>\n",
       "    </tr>\n",
       "    <tr>\n",
       "      <th>2024-01-01</th>\n",
       "      <td>139.866667</td>\n",
       "    </tr>\n",
       "    <tr>\n",
       "      <th>2024-04-01</th>\n",
       "      <td>141.500000</td>\n",
       "    </tr>\n",
       "  </tbody>\n",
       "</table>\n",
       "<p>168 rows × 1 columns</p>\n",
       "</div>"
      ],
      "text/plain": [
       "                    IR\n",
       "DATE                  \n",
       "1982-07-01   80.000000\n",
       "1982-10-01   26.633333\n",
       "1983-01-01   25.900000\n",
       "1983-04-01   25.933333\n",
       "1983-07-01   25.866667\n",
       "...                ...\n",
       "2023-04-01  139.800000\n",
       "2023-07-01  140.233333\n",
       "2023-10-01  139.300000\n",
       "2024-01-01  139.866667\n",
       "2024-04-01  141.500000\n",
       "\n",
       "[168 rows x 1 columns]"
      ]
     },
     "execution_count": 36,
     "metadata": {},
     "output_type": "execute_result"
    }
   ],
   "source": [
    "imi = imi.resample('QS').mean()\n",
    "imi"
   ]
  },
  {
   "cell_type": "code",
   "execution_count": 37,
   "id": "11dc2c79",
   "metadata": {},
   "outputs": [
    {
     "name": "stdout",
     "output_type": "stream",
     "text": [
      "<class 'pandas.core.frame.DataFrame'>\n",
      "DatetimeIndex: 785 entries, 1959-01-01 to 2024-05-01\n",
      "Data columns (total 1 columns):\n",
      " #   Column  Non-Null Count  Dtype  \n",
      "---  ------  --------------  -----  \n",
      " 0   M2SL    785 non-null    float64\n",
      "dtypes: float64(1)\n",
      "memory usage: 28.4 KB\n"
     ]
    }
   ],
   "source": [
    "m2.info()"
   ]
  },
  {
   "cell_type": "code",
   "execution_count": 38,
   "id": "ab93ac82",
   "metadata": {},
   "outputs": [
    {
     "data": {
      "text/html": [
       "<div>\n",
       "<style scoped>\n",
       "    .dataframe tbody tr th:only-of-type {\n",
       "        vertical-align: middle;\n",
       "    }\n",
       "\n",
       "    .dataframe tbody tr th {\n",
       "        vertical-align: top;\n",
       "    }\n",
       "\n",
       "    .dataframe thead th {\n",
       "        text-align: right;\n",
       "    }\n",
       "</style>\n",
       "<table border=\"1\" class=\"dataframe\">\n",
       "  <thead>\n",
       "    <tr style=\"text-align: right;\">\n",
       "      <th></th>\n",
       "      <th>M2SL</th>\n",
       "    </tr>\n",
       "    <tr>\n",
       "      <th>DATE</th>\n",
       "      <th></th>\n",
       "    </tr>\n",
       "  </thead>\n",
       "  <tbody>\n",
       "    <tr>\n",
       "      <th>1959-01-01</th>\n",
       "      <td>287.833333</td>\n",
       "    </tr>\n",
       "    <tr>\n",
       "      <th>1959-04-01</th>\n",
       "      <td>292.133333</td>\n",
       "    </tr>\n",
       "    <tr>\n",
       "      <th>1959-07-01</th>\n",
       "      <td>296.100000</td>\n",
       "    </tr>\n",
       "    <tr>\n",
       "      <th>1959-10-01</th>\n",
       "      <td>297.133333</td>\n",
       "    </tr>\n",
       "    <tr>\n",
       "      <th>1960-01-01</th>\n",
       "      <td>298.633333</td>\n",
       "    </tr>\n",
       "    <tr>\n",
       "      <th>...</th>\n",
       "      <td>...</td>\n",
       "    </tr>\n",
       "    <tr>\n",
       "      <th>2023-04-01</th>\n",
       "      <td>20800.933333</td>\n",
       "    </tr>\n",
       "    <tr>\n",
       "      <th>2023-07-01</th>\n",
       "      <td>20756.500000</td>\n",
       "    </tr>\n",
       "    <tr>\n",
       "      <th>2023-10-01</th>\n",
       "      <td>20716.933333</td>\n",
       "    </tr>\n",
       "    <tr>\n",
       "      <th>2024-01-01</th>\n",
       "      <td>20781.700000</td>\n",
       "    </tr>\n",
       "    <tr>\n",
       "      <th>2024-04-01</th>\n",
       "      <td>20916.800000</td>\n",
       "    </tr>\n",
       "  </tbody>\n",
       "</table>\n",
       "<p>262 rows × 1 columns</p>\n",
       "</div>"
      ],
      "text/plain": [
       "                    M2SL\n",
       "DATE                    \n",
       "1959-01-01    287.833333\n",
       "1959-04-01    292.133333\n",
       "1959-07-01    296.100000\n",
       "1959-10-01    297.133333\n",
       "1960-01-01    298.633333\n",
       "...                  ...\n",
       "2023-04-01  20800.933333\n",
       "2023-07-01  20756.500000\n",
       "2023-10-01  20716.933333\n",
       "2024-01-01  20781.700000\n",
       "2024-04-01  20916.800000\n",
       "\n",
       "[262 rows x 1 columns]"
      ]
     },
     "execution_count": 38,
     "metadata": {},
     "output_type": "execute_result"
    }
   ],
   "source": [
    "m2 = m2.resample('QS').mean()\n",
    "m2"
   ]
  },
  {
   "cell_type": "code",
   "execution_count": 39,
   "id": "c0527ca8",
   "metadata": {},
   "outputs": [],
   "source": [
    "# oil"
   ]
  },
  {
   "cell_type": "code",
   "execution_count": 40,
   "id": "93214707",
   "metadata": {},
   "outputs": [],
   "source": [
    "# oil = oil.resample('QS').mean()\n",
    "# oil"
   ]
  },
  {
   "cell_type": "code",
   "execution_count": 41,
   "id": "b5966a65",
   "metadata": {},
   "outputs": [
    {
     "data": {
      "text/html": [
       "<div>\n",
       "<style scoped>\n",
       "    .dataframe tbody tr th:only-of-type {\n",
       "        vertical-align: middle;\n",
       "    }\n",
       "\n",
       "    .dataframe tbody tr th {\n",
       "        vertical-align: top;\n",
       "    }\n",
       "\n",
       "    .dataframe thead th {\n",
       "        text-align: right;\n",
       "    }\n",
       "</style>\n",
       "<table border=\"1\" class=\"dataframe\">\n",
       "  <thead>\n",
       "    <tr style=\"text-align: right;\">\n",
       "      <th></th>\n",
       "      <th>UMCSENT</th>\n",
       "    </tr>\n",
       "    <tr>\n",
       "      <th>DATE</th>\n",
       "      <th></th>\n",
       "    </tr>\n",
       "  </thead>\n",
       "  <tbody>\n",
       "    <tr>\n",
       "      <th>1952-11-01</th>\n",
       "      <td>86.2</td>\n",
       "    </tr>\n",
       "    <tr>\n",
       "      <th>1952-12-01</th>\n",
       "      <td>0.0</td>\n",
       "    </tr>\n",
       "    <tr>\n",
       "      <th>1953-01-01</th>\n",
       "      <td>0.0</td>\n",
       "    </tr>\n",
       "    <tr>\n",
       "      <th>1953-02-01</th>\n",
       "      <td>90.7</td>\n",
       "    </tr>\n",
       "    <tr>\n",
       "      <th>1953-03-01</th>\n",
       "      <td>0.0</td>\n",
       "    </tr>\n",
       "    <tr>\n",
       "      <th>...</th>\n",
       "      <td>...</td>\n",
       "    </tr>\n",
       "    <tr>\n",
       "      <th>2024-01-01</th>\n",
       "      <td>79.0</td>\n",
       "    </tr>\n",
       "    <tr>\n",
       "      <th>2024-02-01</th>\n",
       "      <td>76.9</td>\n",
       "    </tr>\n",
       "    <tr>\n",
       "      <th>2024-03-01</th>\n",
       "      <td>79.4</td>\n",
       "    </tr>\n",
       "    <tr>\n",
       "      <th>2024-04-01</th>\n",
       "      <td>77.2</td>\n",
       "    </tr>\n",
       "    <tr>\n",
       "      <th>2024-05-01</th>\n",
       "      <td>69.1</td>\n",
       "    </tr>\n",
       "  </tbody>\n",
       "</table>\n",
       "<p>859 rows × 1 columns</p>\n",
       "</div>"
      ],
      "text/plain": [
       "            UMCSENT\n",
       "DATE               \n",
       "1952-11-01     86.2\n",
       "1952-12-01      0.0\n",
       "1953-01-01      0.0\n",
       "1953-02-01     90.7\n",
       "1953-03-01      0.0\n",
       "...             ...\n",
       "2024-01-01     79.0\n",
       "2024-02-01     76.9\n",
       "2024-03-01     79.4\n",
       "2024-04-01     77.2\n",
       "2024-05-01     69.1\n",
       "\n",
       "[859 rows x 1 columns]"
      ]
     },
     "execution_count": 41,
     "metadata": {},
     "output_type": "execute_result"
    }
   ],
   "source": [
    "csi "
   ]
  },
  {
   "cell_type": "code",
   "execution_count": 42,
   "id": "88ab1dab",
   "metadata": {},
   "outputs": [
    {
     "data": {
      "text/html": [
       "<div>\n",
       "<style scoped>\n",
       "    .dataframe tbody tr th:only-of-type {\n",
       "        vertical-align: middle;\n",
       "    }\n",
       "\n",
       "    .dataframe tbody tr th {\n",
       "        vertical-align: top;\n",
       "    }\n",
       "\n",
       "    .dataframe thead th {\n",
       "        text-align: right;\n",
       "    }\n",
       "</style>\n",
       "<table border=\"1\" class=\"dataframe\">\n",
       "  <thead>\n",
       "    <tr style=\"text-align: right;\">\n",
       "      <th></th>\n",
       "      <th>M2SL</th>\n",
       "    </tr>\n",
       "    <tr>\n",
       "      <th>DATE</th>\n",
       "      <th></th>\n",
       "    </tr>\n",
       "  </thead>\n",
       "  <tbody>\n",
       "    <tr>\n",
       "      <th>1959-01-01</th>\n",
       "      <td>287.833333</td>\n",
       "    </tr>\n",
       "    <tr>\n",
       "      <th>1959-04-01</th>\n",
       "      <td>292.133333</td>\n",
       "    </tr>\n",
       "    <tr>\n",
       "      <th>1959-07-01</th>\n",
       "      <td>296.100000</td>\n",
       "    </tr>\n",
       "    <tr>\n",
       "      <th>1959-10-01</th>\n",
       "      <td>297.133333</td>\n",
       "    </tr>\n",
       "    <tr>\n",
       "      <th>1960-01-01</th>\n",
       "      <td>298.633333</td>\n",
       "    </tr>\n",
       "    <tr>\n",
       "      <th>...</th>\n",
       "      <td>...</td>\n",
       "    </tr>\n",
       "    <tr>\n",
       "      <th>2023-04-01</th>\n",
       "      <td>20800.933333</td>\n",
       "    </tr>\n",
       "    <tr>\n",
       "      <th>2023-07-01</th>\n",
       "      <td>20756.500000</td>\n",
       "    </tr>\n",
       "    <tr>\n",
       "      <th>2023-10-01</th>\n",
       "      <td>20716.933333</td>\n",
       "    </tr>\n",
       "    <tr>\n",
       "      <th>2024-01-01</th>\n",
       "      <td>20781.700000</td>\n",
       "    </tr>\n",
       "    <tr>\n",
       "      <th>2024-04-01</th>\n",
       "      <td>20916.800000</td>\n",
       "    </tr>\n",
       "  </tbody>\n",
       "</table>\n",
       "<p>262 rows × 1 columns</p>\n",
       "</div>"
      ],
      "text/plain": [
       "                    M2SL\n",
       "DATE                    \n",
       "1959-01-01    287.833333\n",
       "1959-04-01    292.133333\n",
       "1959-07-01    296.100000\n",
       "1959-10-01    297.133333\n",
       "1960-01-01    298.633333\n",
       "...                  ...\n",
       "2023-04-01  20800.933333\n",
       "2023-07-01  20756.500000\n",
       "2023-10-01  20716.933333\n",
       "2024-01-01  20781.700000\n",
       "2024-04-01  20916.800000\n",
       "\n",
       "[262 rows x 1 columns]"
      ]
     },
     "execution_count": 42,
     "metadata": {},
     "output_type": "execute_result"
    }
   ],
   "source": [
    "csi = csi.resample('QS').mean()\n",
    "csi\n",
    "m2"
   ]
  },
  {
   "cell_type": "code",
   "execution_count": 43,
   "id": "fa48200e-1acd-4863-bfe3-d207894169dd",
   "metadata": {},
   "outputs": [
    {
     "data": {
      "image/png": "[encoded data removed]",
      "text/plain": [
       "<Figure size 1500x500 with 1 Axes>"
      ]
     },
     "metadata": {},
     "output_type": "display_data"
    }
   ],
   "source": [
    "m2['2018':].plot(xlabel='YEAR', ylabel='M2', title='Growth of M2', grid=True, figsize=(15, 5))\n",
    "plt.legend(title=['Source: U.S. Bureau of Economic Analysis'])\n",
    "plt.show()"
   ]
  },
  {
   "cell_type": "code",
   "execution_count": 44,
   "id": "28d33ab0-e4d3-465c-a083-799808b8ee4b",
   "metadata": {},
   "outputs": [
    {
     "data": {
      "text/html": [
       "<div>\n",
       "<style scoped>\n",
       "    .dataframe tbody tr th:only-of-type {\n",
       "        vertical-align: middle;\n",
       "    }\n",
       "\n",
       "    .dataframe tbody tr th {\n",
       "        vertical-align: top;\n",
       "    }\n",
       "\n",
       "    .dataframe thead th {\n",
       "        text-align: right;\n",
       "    }\n",
       "</style>\n",
       "<table border=\"1\" class=\"dataframe\">\n",
       "  <thead>\n",
       "    <tr style=\"text-align: right;\">\n",
       "      <th></th>\n",
       "      <th>CPIAUCSL</th>\n",
       "      <th>PPIACO</th>\n",
       "      <th>M2SL</th>\n",
       "    </tr>\n",
       "    <tr>\n",
       "      <th>DATE</th>\n",
       "      <th></th>\n",
       "      <th></th>\n",
       "      <th></th>\n",
       "    </tr>\n",
       "  </thead>\n",
       "  <tbody>\n",
       "    <tr>\n",
       "      <th>1959-01-01</th>\n",
       "      <td>29.010</td>\n",
       "      <td>31.700</td>\n",
       "      <td>286.6</td>\n",
       "    </tr>\n",
       "    <tr>\n",
       "      <th>1959-02-01</th>\n",
       "      <td>29.000</td>\n",
       "      <td>31.700</td>\n",
       "      <td>287.7</td>\n",
       "    </tr>\n",
       "    <tr>\n",
       "      <th>1959-03-01</th>\n",
       "      <td>28.970</td>\n",
       "      <td>31.700</td>\n",
       "      <td>289.2</td>\n",
       "    </tr>\n",
       "    <tr>\n",
       "      <th>1959-04-01</th>\n",
       "      <td>28.980</td>\n",
       "      <td>31.800</td>\n",
       "      <td>290.1</td>\n",
       "    </tr>\n",
       "    <tr>\n",
       "      <th>1959-05-01</th>\n",
       "      <td>29.040</td>\n",
       "      <td>31.800</td>\n",
       "      <td>292.2</td>\n",
       "    </tr>\n",
       "    <tr>\n",
       "      <th>...</th>\n",
       "      <td>...</td>\n",
       "      <td>...</td>\n",
       "      <td>...</td>\n",
       "    </tr>\n",
       "    <tr>\n",
       "      <th>2024-01-01</th>\n",
       "      <td>309.685</td>\n",
       "      <td>251.306</td>\n",
       "      <td>20754.4</td>\n",
       "    </tr>\n",
       "    <tr>\n",
       "      <th>2024-02-01</th>\n",
       "      <td>311.054</td>\n",
       "      <td>254.914</td>\n",
       "      <td>20748.6</td>\n",
       "    </tr>\n",
       "    <tr>\n",
       "      <th>2024-03-01</th>\n",
       "      <td>312.230</td>\n",
       "      <td>255.116</td>\n",
       "      <td>20842.1</td>\n",
       "    </tr>\n",
       "    <tr>\n",
       "      <th>2024-04-01</th>\n",
       "      <td>313.207</td>\n",
       "      <td>257.153</td>\n",
       "      <td>20870.2</td>\n",
       "    </tr>\n",
       "    <tr>\n",
       "      <th>2024-05-01</th>\n",
       "      <td>313.225</td>\n",
       "      <td>254.971</td>\n",
       "      <td>20963.4</td>\n",
       "    </tr>\n",
       "  </tbody>\n",
       "</table>\n",
       "<p>785 rows × 3 columns</p>\n",
       "</div>"
      ],
      "text/plain": [
       "            CPIAUCSL   PPIACO     M2SL\n",
       "DATE                                  \n",
       "1959-01-01    29.010   31.700    286.6\n",
       "1959-02-01    29.000   31.700    287.7\n",
       "1959-03-01    28.970   31.700    289.2\n",
       "1959-04-01    28.980   31.800    290.1\n",
       "1959-05-01    29.040   31.800    292.2\n",
       "...              ...      ...      ...\n",
       "2024-01-01   309.685  251.306  20754.4\n",
       "2024-02-01   311.054  254.914  20748.6\n",
       "2024-03-01   312.230  255.116  20842.1\n",
       "2024-04-01   313.207  257.153  20870.2\n",
       "2024-05-01   313.225  254.971  20963.4\n",
       "\n",
       "[785 rows x 3 columns]"
      ]
     },
     "execution_count": 44,
     "metadata": {},
     "output_type": "execute_result"
    }
   ],
   "source": [
    "mer_cpi"
   ]
  },
  {
   "cell_type": "code",
   "execution_count": 45,
   "id": "dc30b45d-1d4e-4510-aa35-d80958874dcb",
   "metadata": {},
   "outputs": [
    {
     "data": {
      "text/html": [
       "<div>\n",
       "<style scoped>\n",
       "    .dataframe tbody tr th:only-of-type {\n",
       "        vertical-align: middle;\n",
       "    }\n",
       "\n",
       "    .dataframe tbody tr th {\n",
       "        vertical-align: top;\n",
       "    }\n",
       "\n",
       "    .dataframe thead th {\n",
       "        text-align: right;\n",
       "    }\n",
       "</style>\n",
       "<table border=\"1\" class=\"dataframe\">\n",
       "  <thead>\n",
       "    <tr style=\"text-align: right;\">\n",
       "      <th></th>\n",
       "      <th>CPIAUCSL</th>\n",
       "      <th>PPIACO</th>\n",
       "      <th>M2SL</th>\n",
       "      <th>PCE</th>\n",
       "      <th>ECIWAG</th>\n",
       "    </tr>\n",
       "    <tr>\n",
       "      <th>DATE</th>\n",
       "      <th></th>\n",
       "      <th></th>\n",
       "      <th></th>\n",
       "      <th></th>\n",
       "      <th></th>\n",
       "    </tr>\n",
       "  </thead>\n",
       "  <tbody>\n",
       "    <tr>\n",
       "      <th>2001-01-01</th>\n",
       "      <td>175.900000</td>\n",
       "      <td>137.766667</td>\n",
       "      <td>5020.600000</td>\n",
       "      <td>6987.4</td>\n",
       "      <td>87.6</td>\n",
       "    </tr>\n",
       "    <tr>\n",
       "      <th>2001-04-01</th>\n",
       "      <td>177.133333</td>\n",
       "      <td>136.233333</td>\n",
       "      <td>5147.466667</td>\n",
       "      <td>7004.2</td>\n",
       "      <td>88.4</td>\n",
       "    </tr>\n",
       "    <tr>\n",
       "      <th>2001-07-01</th>\n",
       "      <td>177.633333</td>\n",
       "      <td>133.366667</td>\n",
       "      <td>5263.000000</td>\n",
       "      <td>7082.3</td>\n",
       "      <td>89.2</td>\n",
       "    </tr>\n",
       "    <tr>\n",
       "      <th>2001-10-01</th>\n",
       "      <td>177.500000</td>\n",
       "      <td>129.400000</td>\n",
       "      <td>5383.900000</td>\n",
       "      <td>7212.9</td>\n",
       "      <td>90.0</td>\n",
       "    </tr>\n",
       "    <tr>\n",
       "      <th>2002-01-01</th>\n",
       "      <td>178.066667</td>\n",
       "      <td>128.900000</td>\n",
       "      <td>5477.566667</td>\n",
       "      <td>7184.6</td>\n",
       "      <td>90.7</td>\n",
       "    </tr>\n",
       "    <tr>\n",
       "      <th>...</th>\n",
       "      <td>...</td>\n",
       "      <td>...</td>\n",
       "      <td>...</td>\n",
       "      <td>...</td>\n",
       "      <td>...</td>\n",
       "    </tr>\n",
       "    <tr>\n",
       "      <th>2023-01-01</th>\n",
       "      <td>301.203000</td>\n",
       "      <td>258.652667</td>\n",
       "      <td>21092.100000</td>\n",
       "      <td>18229.6</td>\n",
       "      <td>159.4</td>\n",
       "    </tr>\n",
       "    <tr>\n",
       "      <th>2023-04-01</th>\n",
       "      <td>303.466667</td>\n",
       "      <td>254.812667</td>\n",
       "      <td>20800.933333</td>\n",
       "      <td>18363.8</td>\n",
       "      <td>161.1</td>\n",
       "    </tr>\n",
       "    <tr>\n",
       "      <th>2023-07-01</th>\n",
       "      <td>306.034333</td>\n",
       "      <td>256.816333</td>\n",
       "      <td>20756.500000</td>\n",
       "      <td>18595.4</td>\n",
       "      <td>162.7</td>\n",
       "    </tr>\n",
       "    <tr>\n",
       "      <th>2023-10-01</th>\n",
       "      <td>308.099000</td>\n",
       "      <td>252.638000</td>\n",
       "      <td>20716.933333</td>\n",
       "      <td>18826.8</td>\n",
       "      <td>164.4</td>\n",
       "    </tr>\n",
       "    <tr>\n",
       "      <th>2024-01-01</th>\n",
       "      <td>310.989667</td>\n",
       "      <td>253.778667</td>\n",
       "      <td>20781.700000</td>\n",
       "      <td>19028.0</td>\n",
       "      <td>166.2</td>\n",
       "    </tr>\n",
       "  </tbody>\n",
       "</table>\n",
       "<p>93 rows × 5 columns</p>\n",
       "</div>"
      ],
      "text/plain": [
       "              CPIAUCSL      PPIACO          M2SL      PCE  ECIWAG\n",
       "DATE                                                             \n",
       "2001-01-01  175.900000  137.766667   5020.600000   6987.4    87.6\n",
       "2001-04-01  177.133333  136.233333   5147.466667   7004.2    88.4\n",
       "2001-07-01  177.633333  133.366667   5263.000000   7082.3    89.2\n",
       "2001-10-01  177.500000  129.400000   5383.900000   7212.9    90.0\n",
       "2002-01-01  178.066667  128.900000   5477.566667   7184.6    90.7\n",
       "...                ...         ...           ...      ...     ...\n",
       "2023-01-01  301.203000  258.652667  21092.100000  18229.6   159.4\n",
       "2023-04-01  303.466667  254.812667  20800.933333  18363.8   161.1\n",
       "2023-07-01  306.034333  256.816333  20756.500000  18595.4   162.7\n",
       "2023-10-01  308.099000  252.638000  20716.933333  18826.8   164.4\n",
       "2024-01-01  310.989667  253.778667  20781.700000  19028.0   166.2\n",
       "\n",
       "[93 rows x 5 columns]"
      ]
     },
     "execution_count": 45,
     "metadata": {},
     "output_type": "execute_result"
    }
   ],
   "source": [
    "# New Merge mer_cpi_quater with other indicator cpi have ([ppi, imi,m2, oil, csi], how='inner')\n",
    "merge_weak_cpi = cpi.join([m2, csi], how='inner')\n",
    "df_quat = mer_cpi_quatery.join([pce,eci], how='inner')\n",
    "df_quat['2001':]"
   ]
  },
  {
   "cell_type": "code",
   "execution_count": 65,
   "id": "35ed3429-745c-4f17-9c8a-c1edc7800437",
   "metadata": {},
   "outputs": [
    {
     "name": "stderr",
     "output_type": "stream",
     "text": [
      "/Users/anbschool0032/anaconda3/lib/python3.11/site-packages/seaborn/axisgrid.py:118: UserWarning: The figure layout has changed to tight\n",
      "  self._figure.tight_layout(*args, **kwargs)\n"
     ]
    },
    {
     "data": {
      "text/plain": [
       "<seaborn.axisgrid.PairGrid at 0x1302f8b90>"
      ]
     },
     "execution_count": 65,
     "metadata": {},
     "output_type": "execute_result"
    },
    {
     "data": {
      "image/png": "[encoded data removed]",
      "text/plain": [
       "<Figure size 1250x1250 with 30 Axes>"
      ]
     },
     "metadata": {},
     "output_type": "display_data"
    }
   ],
   "source": [
    "sns.pairplot(df_quat['2018-01-01':])"
   ]
  },
  {
   "cell_type": "code",
   "execution_count": 47,
   "id": "41549968-8408-4f1f-b3ba-ed2448aafbc8",
   "metadata": {},
   "outputs": [],
   "source": [
    "df_quat.columns = ['CPI', \"PPI\", 'M2SL', \"PCE\", 'ECI']\n"
   ]
  },
  {
   "cell_type": "code",
   "execution_count": 48,
   "id": "fb751e18",
   "metadata": {},
   "outputs": [
    {
     "data": {
      "image/png": "[encoded data removed]",
      "text/plain": [
       "<Figure size 640x480 with 1 Axes>"
      ]
     },
     "metadata": {},
     "output_type": "display_data"
    }
   ],
   "source": [
    "df_quat[['CPI', \"PPI\",'ECI']].plot()\n",
    "plt.show()"
   ]
  },
  {
   "cell_type": "code",
   "execution_count": 49,
   "id": "e4f39ebe",
   "metadata": {},
   "outputs": [
    {
     "data": {
      "image/png": "[encoded data removed]",
      "text/plain": [
       "<Figure size 640x480 with 1 Axes>"
      ]
     },
     "metadata": {},
     "output_type": "display_data"
    }
   ],
   "source": [
    "df_quat[['M2SL', \"PCE\"]].plot()\n",
    "plt.title('M2 and PCE')\n",
    "plt.show()"
   ]
  },
  {
   "cell_type": "code",
   "execution_count": 64,
   "id": "42350bcf-c387-4110-be84-55cbc442bbb0",
   "metadata": {},
   "outputs": [
    {
     "data": {
      "text/html": [
       "<div>\n",
       "<style scoped>\n",
       "    .dataframe tbody tr th:only-of-type {\n",
       "        vertical-align: middle;\n",
       "    }\n",
       "\n",
       "    .dataframe tbody tr th {\n",
       "        vertical-align: top;\n",
       "    }\n",
       "\n",
       "    .dataframe thead th {\n",
       "        text-align: right;\n",
       "    }\n",
       "</style>\n",
       "<table border=\"1\" class=\"dataframe\">\n",
       "  <thead>\n",
       "    <tr style=\"text-align: right;\">\n",
       "      <th></th>\n",
       "      <th>CPI</th>\n",
       "      <th>PPI</th>\n",
       "      <th>M2SL</th>\n",
       "      <th>PCE</th>\n",
       "      <th>ECI</th>\n",
       "    </tr>\n",
       "  </thead>\n",
       "  <tbody>\n",
       "    <tr>\n",
       "      <th>CPI</th>\n",
       "      <td>1.000000</td>\n",
       "      <td>0.925910</td>\n",
       "      <td>0.832295</td>\n",
       "      <td>0.971952</td>\n",
       "      <td>0.988882</td>\n",
       "    </tr>\n",
       "    <tr>\n",
       "      <th>PPI</th>\n",
       "      <td>0.925910</td>\n",
       "      <td>1.000000</td>\n",
       "      <td>0.834667</td>\n",
       "      <td>0.928060</td>\n",
       "      <td>0.884793</td>\n",
       "    </tr>\n",
       "    <tr>\n",
       "      <th>M2SL</th>\n",
       "      <td>0.832295</td>\n",
       "      <td>0.834667</td>\n",
       "      <td>1.000000</td>\n",
       "      <td>0.801829</td>\n",
       "      <td>0.870208</td>\n",
       "    </tr>\n",
       "    <tr>\n",
       "      <th>PCE</th>\n",
       "      <td>0.971952</td>\n",
       "      <td>0.928060</td>\n",
       "      <td>0.801829</td>\n",
       "      <td>1.000000</td>\n",
       "      <td>0.953382</td>\n",
       "    </tr>\n",
       "    <tr>\n",
       "      <th>ECI</th>\n",
       "      <td>0.988882</td>\n",
       "      <td>0.884793</td>\n",
       "      <td>0.870208</td>\n",
       "      <td>0.953382</td>\n",
       "      <td>1.000000</td>\n",
       "    </tr>\n",
       "  </tbody>\n",
       "</table>\n",
       "</div>"
      ],
      "text/plain": [
       "           CPI       PPI      M2SL       PCE       ECI\n",
       "CPI   1.000000  0.925910  0.832295  0.971952  0.988882\n",
       "PPI   0.925910  1.000000  0.834667  0.928060  0.884793\n",
       "M2SL  0.832295  0.834667  1.000000  0.801829  0.870208\n",
       "PCE   0.971952  0.928060  0.801829  1.000000  0.953382\n",
       "ECI   0.988882  0.884793  0.870208  0.953382  1.000000"
      ]
     },
     "execution_count": 64,
     "metadata": {},
     "output_type": "execute_result"
    }
   ],
   "source": [
    "# How correlation period 2018 to present\n",
    "df_quat['2018':].corr()"
   ]
  },
  {
   "cell_type": "code",
   "execution_count": 51,
   "id": "e9d97baa-0d41-4270-864a-ea813596892f",
   "metadata": {},
   "outputs": [
    {
     "data": {
      "text/plain": [
       "<Axes: >"
      ]
     },
     "execution_count": 51,
     "metadata": {},
     "output_type": "execute_result"
    },
    {
     "data": {
      "image/png": "[encoded data removed]",
      "text/plain": [
       "<Figure size 640x480 with 2 Axes>"
      ]
     },
     "metadata": {},
     "output_type": "display_data"
    }
   ],
   "source": [
    "sns.heatmap(df_quat['2018':].corr(),annot= True)"
   ]
  },
  {
   "cell_type": "code",
   "execution_count": 52,
   "id": "6012dccd-267b-487f-ac56-58cf12bb9bce",
   "metadata": {},
   "outputs": [
    {
     "name": "stdout",
     "output_type": "stream",
     "text": [
      "<class 'pandas.core.frame.DataFrame'>\n",
      "DatetimeIndex: 26 entries, 2018-01-01 to 2024-04-01\n",
      "Freq: QS-JAN\n",
      "Data columns (total 3 columns):\n",
      " #   Column    Non-Null Count  Dtype  \n",
      "---  ------    --------------  -----  \n",
      " 0   CPIAUCSL  26 non-null     float64\n",
      " 1   M2SL      26 non-null     float64\n",
      " 2   UMCSENT   26 non-null     float64\n",
      "dtypes: float64(3)\n",
      "memory usage: 832.0 bytes\n"
     ]
    },
    {
     "data": {
      "text/html": [
       "<div>\n",
       "<style scoped>\n",
       "    .dataframe tbody tr th:only-of-type {\n",
       "        vertical-align: middle;\n",
       "    }\n",
       "\n",
       "    .dataframe tbody tr th {\n",
       "        vertical-align: top;\n",
       "    }\n",
       "\n",
       "    .dataframe thead th {\n",
       "        text-align: right;\n",
       "    }\n",
       "</style>\n",
       "<table border=\"1\" class=\"dataframe\">\n",
       "  <thead>\n",
       "    <tr style=\"text-align: right;\">\n",
       "      <th></th>\n",
       "      <th>CPIAUCSL</th>\n",
       "      <th>M2SL</th>\n",
       "      <th>UMCSENT</th>\n",
       "    </tr>\n",
       "    <tr>\n",
       "      <th>DATE</th>\n",
       "      <th></th>\n",
       "      <th></th>\n",
       "      <th></th>\n",
       "    </tr>\n",
       "  </thead>\n",
       "  <tbody>\n",
       "    <tr>\n",
       "      <th>2018-01-01</th>\n",
       "      <td>249.321667</td>\n",
       "      <td>13906.400000</td>\n",
       "      <td>98.933333</td>\n",
       "    </tr>\n",
       "    <tr>\n",
       "      <th>2018-04-01</th>\n",
       "      <td>250.679000</td>\n",
       "      <td>14044.666667</td>\n",
       "      <td>98.333333</td>\n",
       "    </tr>\n",
       "    <tr>\n",
       "      <th>2018-07-01</th>\n",
       "      <td>251.686333</td>\n",
       "      <td>14187.700000</td>\n",
       "      <td>98.066667</td>\n",
       "    </tr>\n",
       "    <tr>\n",
       "      <th>2018-10-01</th>\n",
       "      <td>252.711000</td>\n",
       "      <td>14278.333333</td>\n",
       "      <td>98.133333</td>\n",
       "    </tr>\n",
       "    <tr>\n",
       "      <th>2019-01-01</th>\n",
       "      <td>253.385667</td>\n",
       "      <td>14456.066667</td>\n",
       "      <td>94.466667</td>\n",
       "    </tr>\n",
       "    <tr>\n",
       "      <th>2019-04-01</th>\n",
       "      <td>255.247333</td>\n",
       "      <td>14646.600000</td>\n",
       "      <td>98.466667</td>\n",
       "    </tr>\n",
       "    <tr>\n",
       "      <th>2019-07-01</th>\n",
       "      <td>256.089333</td>\n",
       "      <td>14931.966667</td>\n",
       "      <td>93.800000</td>\n",
       "    </tr>\n",
       "    <tr>\n",
       "      <th>2019-10-01</th>\n",
       "      <td>257.888000</td>\n",
       "      <td>15240.266667</td>\n",
       "      <td>97.200000</td>\n",
       "    </tr>\n",
       "    <tr>\n",
       "      <th>2020-01-01</th>\n",
       "      <td>258.767333</td>\n",
       "      <td>15591.633333</td>\n",
       "      <td>96.633333</td>\n",
       "    </tr>\n",
       "    <tr>\n",
       "      <th>2020-04-01</th>\n",
       "      <td>256.326000</td>\n",
       "      <td>17659.200000</td>\n",
       "      <td>74.066667</td>\n",
       "    </tr>\n",
       "    <tr>\n",
       "      <th>2020-07-01</th>\n",
       "      <td>259.241667</td>\n",
       "      <td>18416.633333</td>\n",
       "      <td>75.666667</td>\n",
       "    </tr>\n",
       "    <tr>\n",
       "      <th>2020-10-01</th>\n",
       "      <td>261.049667</td>\n",
       "      <td>18933.366667</td>\n",
       "      <td>79.800000</td>\n",
       "    </tr>\n",
       "    <tr>\n",
       "      <th>2021-01-01</th>\n",
       "      <td>263.670333</td>\n",
       "      <td>19560.700000</td>\n",
       "      <td>80.233333</td>\n",
       "    </tr>\n",
       "    <tr>\n",
       "      <th>2021-04-01</th>\n",
       "      <td>268.622667</td>\n",
       "      <td>20342.600000</td>\n",
       "      <td>85.566667</td>\n",
       "    </tr>\n",
       "    <tr>\n",
       "      <th>2021-07-01</th>\n",
       "      <td>272.890000</td>\n",
       "      <td>20808.733333</td>\n",
       "      <td>74.766667</td>\n",
       "    </tr>\n",
       "    <tr>\n",
       "      <th>2021-10-01</th>\n",
       "      <td>278.680333</td>\n",
       "      <td>21322.433333</td>\n",
       "      <td>69.900000</td>\n",
       "    </tr>\n",
       "    <tr>\n",
       "      <th>2022-01-01</th>\n",
       "      <td>284.826000</td>\n",
       "      <td>21631.433333</td>\n",
       "      <td>63.133333</td>\n",
       "    </tr>\n",
       "    <tr>\n",
       "      <th>2022-04-01</th>\n",
       "      <td>291.706333</td>\n",
       "      <td>21688.000000</td>\n",
       "      <td>57.866667</td>\n",
       "    </tr>\n",
       "    <tr>\n",
       "      <th>2022-07-01</th>\n",
       "      <td>295.509000</td>\n",
       "      <td>21600.333333</td>\n",
       "      <td>56.100000</td>\n",
       "    </tr>\n",
       "    <tr>\n",
       "      <th>2022-10-01</th>\n",
       "      <td>298.441000</td>\n",
       "      <td>21395.333333</td>\n",
       "      <td>58.800000</td>\n",
       "    </tr>\n",
       "    <tr>\n",
       "      <th>2023-01-01</th>\n",
       "      <td>301.203000</td>\n",
       "      <td>21092.100000</td>\n",
       "      <td>64.600000</td>\n",
       "    </tr>\n",
       "    <tr>\n",
       "      <th>2023-04-01</th>\n",
       "      <td>303.466667</td>\n",
       "      <td>20800.933333</td>\n",
       "      <td>62.300000</td>\n",
       "    </tr>\n",
       "    <tr>\n",
       "      <th>2023-07-01</th>\n",
       "      <td>306.034333</td>\n",
       "      <td>20756.500000</td>\n",
       "      <td>69.566667</td>\n",
       "    </tr>\n",
       "    <tr>\n",
       "      <th>2023-10-01</th>\n",
       "      <td>308.099000</td>\n",
       "      <td>20716.933333</td>\n",
       "      <td>64.933333</td>\n",
       "    </tr>\n",
       "    <tr>\n",
       "      <th>2024-01-01</th>\n",
       "      <td>310.989667</td>\n",
       "      <td>20781.700000</td>\n",
       "      <td>78.433333</td>\n",
       "    </tr>\n",
       "    <tr>\n",
       "      <th>2024-04-01</th>\n",
       "      <td>313.216000</td>\n",
       "      <td>20916.800000</td>\n",
       "      <td>73.150000</td>\n",
       "    </tr>\n",
       "  </tbody>\n",
       "</table>\n",
       "</div>"
      ],
      "text/plain": [
       "              CPIAUCSL          M2SL    UMCSENT\n",
       "DATE                                           \n",
       "2018-01-01  249.321667  13906.400000  98.933333\n",
       "2018-04-01  250.679000  14044.666667  98.333333\n",
       "2018-07-01  251.686333  14187.700000  98.066667\n",
       "2018-10-01  252.711000  14278.333333  98.133333\n",
       "2019-01-01  253.385667  14456.066667  94.466667\n",
       "2019-04-01  255.247333  14646.600000  98.466667\n",
       "2019-07-01  256.089333  14931.966667  93.800000\n",
       "2019-10-01  257.888000  15240.266667  97.200000\n",
       "2020-01-01  258.767333  15591.633333  96.633333\n",
       "2020-04-01  256.326000  17659.200000  74.066667\n",
       "2020-07-01  259.241667  18416.633333  75.666667\n",
       "2020-10-01  261.049667  18933.366667  79.800000\n",
       "2021-01-01  263.670333  19560.700000  80.233333\n",
       "2021-04-01  268.622667  20342.600000  85.566667\n",
       "2021-07-01  272.890000  20808.733333  74.766667\n",
       "2021-10-01  278.680333  21322.433333  69.900000\n",
       "2022-01-01  284.826000  21631.433333  63.133333\n",
       "2022-04-01  291.706333  21688.000000  57.866667\n",
       "2022-07-01  295.509000  21600.333333  56.100000\n",
       "2022-10-01  298.441000  21395.333333  58.800000\n",
       "2023-01-01  301.203000  21092.100000  64.600000\n",
       "2023-04-01  303.466667  20800.933333  62.300000\n",
       "2023-07-01  306.034333  20756.500000  69.566667\n",
       "2023-10-01  308.099000  20716.933333  64.933333\n",
       "2024-01-01  310.989667  20781.700000  78.433333\n",
       "2024-04-01  313.216000  20916.800000  73.150000"
      ]
     },
     "execution_count": 52,
     "metadata": {},
     "output_type": "execute_result"
    }
   ],
   "source": [
    "merge_weak_cpi['2018':].info()\n",
    "merge_weak_cpi['2018':]"
   ]
  },
  {
   "cell_type": "code",
   "execution_count": 53,
   "id": "299040a5-aa1b-47a3-b29d-b16dc76d233e",
   "metadata": {},
   "outputs": [
    {
     "data": {
      "text/html": [
       "<div>\n",
       "<style scoped>\n",
       "    .dataframe tbody tr th:only-of-type {\n",
       "        vertical-align: middle;\n",
       "    }\n",
       "\n",
       "    .dataframe tbody tr th {\n",
       "        vertical-align: top;\n",
       "    }\n",
       "\n",
       "    .dataframe thead th {\n",
       "        text-align: right;\n",
       "    }\n",
       "</style>\n",
       "<table border=\"1\" class=\"dataframe\">\n",
       "  <thead>\n",
       "    <tr style=\"text-align: right;\">\n",
       "      <th></th>\n",
       "      <th>CPIAUCSL</th>\n",
       "      <th>M2SL</th>\n",
       "      <th>UMCSENT</th>\n",
       "    </tr>\n",
       "  </thead>\n",
       "  <tbody>\n",
       "    <tr>\n",
       "      <th>CPIAUCSL</th>\n",
       "      <td>1.000000</td>\n",
       "      <td>0.827926</td>\n",
       "      <td>-0.795664</td>\n",
       "    </tr>\n",
       "    <tr>\n",
       "      <th>M2SL</th>\n",
       "      <td>0.827926</td>\n",
       "      <td>1.000000</td>\n",
       "      <td>-0.924153</td>\n",
       "    </tr>\n",
       "    <tr>\n",
       "      <th>UMCSENT</th>\n",
       "      <td>-0.795664</td>\n",
       "      <td>-0.924153</td>\n",
       "      <td>1.000000</td>\n",
       "    </tr>\n",
       "  </tbody>\n",
       "</table>\n",
       "</div>"
      ],
      "text/plain": [
       "          CPIAUCSL      M2SL   UMCSENT\n",
       "CPIAUCSL  1.000000  0.827926 -0.795664\n",
       "M2SL      0.827926  1.000000 -0.924153\n",
       "UMCSENT  -0.795664 -0.924153  1.000000"
      ]
     },
     "execution_count": 53,
     "metadata": {},
     "output_type": "execute_result"
    }
   ],
   "source": [
    "merge_weak_cpi['2018':].corr()"
   ]
  },
  {
   "cell_type": "code",
   "execution_count": 54,
   "id": "83d42942-72e4-49ce-9a37-953133bbdf0d",
   "metadata": {},
   "outputs": [
    {
     "data": {
      "text/html": [
       "<div>\n",
       "<style scoped>\n",
       "    .dataframe tbody tr th:only-of-type {\n",
       "        vertical-align: middle;\n",
       "    }\n",
       "\n",
       "    .dataframe tbody tr th {\n",
       "        vertical-align: top;\n",
       "    }\n",
       "\n",
       "    .dataframe thead th {\n",
       "        text-align: right;\n",
       "    }\n",
       "</style>\n",
       "<table border=\"1\" class=\"dataframe\">\n",
       "  <thead>\n",
       "    <tr style=\"text-align: right;\">\n",
       "      <th></th>\n",
       "      <th>ECIWAG</th>\n",
       "    </tr>\n",
       "    <tr>\n",
       "      <th>DATE</th>\n",
       "      <th></th>\n",
       "    </tr>\n",
       "  </thead>\n",
       "  <tbody>\n",
       "    <tr>\n",
       "      <th>2001-01-01</th>\n",
       "      <td>87.6</td>\n",
       "    </tr>\n",
       "    <tr>\n",
       "      <th>2001-04-01</th>\n",
       "      <td>88.4</td>\n",
       "    </tr>\n",
       "    <tr>\n",
       "      <th>2001-07-01</th>\n",
       "      <td>89.2</td>\n",
       "    </tr>\n",
       "    <tr>\n",
       "      <th>2001-10-01</th>\n",
       "      <td>90.0</td>\n",
       "    </tr>\n",
       "    <tr>\n",
       "      <th>2002-01-01</th>\n",
       "      <td>90.7</td>\n",
       "    </tr>\n",
       "    <tr>\n",
       "      <th>...</th>\n",
       "      <td>...</td>\n",
       "    </tr>\n",
       "    <tr>\n",
       "      <th>2023-01-01</th>\n",
       "      <td>159.4</td>\n",
       "    </tr>\n",
       "    <tr>\n",
       "      <th>2023-04-01</th>\n",
       "      <td>161.1</td>\n",
       "    </tr>\n",
       "    <tr>\n",
       "      <th>2023-07-01</th>\n",
       "      <td>162.7</td>\n",
       "    </tr>\n",
       "    <tr>\n",
       "      <th>2023-10-01</th>\n",
       "      <td>164.4</td>\n",
       "    </tr>\n",
       "    <tr>\n",
       "      <th>2024-01-01</th>\n",
       "      <td>166.2</td>\n",
       "    </tr>\n",
       "  </tbody>\n",
       "</table>\n",
       "<p>93 rows × 1 columns</p>\n",
       "</div>"
      ],
      "text/plain": [
       "            ECIWAG\n",
       "DATE              \n",
       "2001-01-01    87.6\n",
       "2001-04-01    88.4\n",
       "2001-07-01    89.2\n",
       "2001-10-01    90.0\n",
       "2002-01-01    90.7\n",
       "...            ...\n",
       "2023-01-01   159.4\n",
       "2023-04-01   161.1\n",
       "2023-07-01   162.7\n",
       "2023-10-01   164.4\n",
       "2024-01-01   166.2\n",
       "\n",
       "[93 rows x 1 columns]"
      ]
     },
     "execution_count": 54,
     "metadata": {},
     "output_type": "execute_result"
    }
   ],
   "source": [
    "eci"
   ]
  },
  {
   "cell_type": "code",
   "execution_count": null,
   "id": "40ce68e6-ca89-4b53-85f4-c87d4e8e7103",
   "metadata": {},
   "outputs": [],
   "source": []
  },
  {
   "cell_type": "code",
   "execution_count": 55,
   "id": "6b09bfd5",
   "metadata": {},
   "outputs": [
    {
     "ename": "NameError",
     "evalue": "name 'oil' is not defined",
     "output_type": "error",
     "traceback": [
      "\u001b[0;31m---------------------------------------------------------------------------\u001b[0m",
      "\u001b[0;31mNameError\u001b[0m                                 Traceback (most recent call last)",
      "Cell \u001b[0;32mIn[55], line 3\u001b[0m\n\u001b[1;32m      1\u001b[0m \u001b[38;5;66;03m# ECI as main to have quaterly index\u001b[39;00m\n\u001b[1;32m      2\u001b[0m \u001b[38;5;66;03m# cpi_ls_fe\u001b[39;00m\n\u001b[0;32m----> 3\u001b[0m merge_data \u001b[38;5;241m=\u001b[39m eci\u001b[38;5;241m.\u001b[39mjoin([cpi, ppi, gdp_def, imi, m2, pce, oil, csi])\n\u001b[1;32m      4\u001b[0m \u001b[38;5;66;03m# Change Columns name\u001b[39;00m\n\u001b[1;32m      5\u001b[0m merge_data\u001b[38;5;241m.\u001b[39mcolumns \u001b[38;5;241m=\u001b[39m [\u001b[38;5;124m'\u001b[39m\u001b[38;5;124mECI\u001b[39m\u001b[38;5;124m'\u001b[39m, \u001b[38;5;124m'\u001b[39m\u001b[38;5;124mCPI\u001b[39m\u001b[38;5;124m'\u001b[39m, \u001b[38;5;124m'\u001b[39m\u001b[38;5;124mPPI\u001b[39m\u001b[38;5;124m'\u001b[39m, \u001b[38;5;124m'\u001b[39m\u001b[38;5;124mGDP_DFL\u001b[39m\u001b[38;5;124m'\u001b[39m, \u001b[38;5;124m'\u001b[39m\u001b[38;5;124mIPI\u001b[39m\u001b[38;5;124m'\u001b[39m, \u001b[38;5;124m'\u001b[39m\u001b[38;5;124mM2\u001b[39m\u001b[38;5;124m'\u001b[39m, \u001b[38;5;124m'\u001b[39m\u001b[38;5;124mPCE\u001b[39m\u001b[38;5;124m'\u001b[39m, \u001b[38;5;124m'\u001b[39m\u001b[38;5;124mOIL Price\u001b[39m\u001b[38;5;124m'\u001b[39m, \u001b[38;5;124m'\u001b[39m\u001b[38;5;124mCSI\u001b[39m\u001b[38;5;124m'\u001b[39m]\n",
      "\u001b[0;31mNameError\u001b[0m: name 'oil' is not defined"
     ]
    }
   ],
   "source": [
    "# ECI as main to have quaterly index\n",
    "# cpi_ls_fe\n",
    "merge_data = eci.join([cpi, ppi, gdp_def, imi, m2, pce, oil, csi])\n",
    "# Change Columns name\n",
    "merge_data.columns = ['ECI', 'CPI', 'PPI', 'GDP_DFL', 'IPI', 'M2', 'PCE', 'OIL Price', 'CSI']\n",
    "merge_data "
   ]
  },
  {
   "cell_type": "code",
   "execution_count": null,
   "id": "a1696439-d00b-48cc-96bb-59fb830be3be",
   "metadata": {},
   "outputs": [],
   "source": [
    "merge_data"
   ]
  },
  {
   "cell_type": "code",
   "execution_count": null,
   "id": "45886ee2-c630-4fa4-a38c-5b7ad5fb99fd",
   "metadata": {},
   "outputs": [],
   "source": []
  },
  {
   "cell_type": "code",
   "execution_count": null,
   "id": "495f76c4-5951-4022-bf65-597c9e6a8c39",
   "metadata": {},
   "outputs": [],
   "source": []
  },
  {
   "cell_type": "code",
   "execution_count": null,
   "id": "94f65df6",
   "metadata": {},
   "outputs": [],
   "source": [
    "merge_cpi = cpi.join([ppi, gdp_def, imi, m2, pce, csi,eci],how=\"inner\")\n",
    "merge_cpi['2018':].corr()"
   ]
  },
  {
   "cell_type": "code",
   "execution_count": null,
   "id": "fb0ade90-36d1-4e7a-8508-f32959840ef5",
   "metadata": {},
   "outputs": [],
   "source": [
    "cpi_ls_fe = cpi_ls_fe.resample('QS').mean()\n",
    "cpi_ls_fe"
   ]
  },
  {
   "cell_type": "code",
   "execution_count": null,
   "id": "e596584d-f8d7-4d48-81c5-6b7ee21ec313",
   "metadata": {},
   "outputs": [],
   "source": [
    "eci"
   ]
  },
  {
   "cell_type": "code",
   "execution_count": null,
   "id": "c2d7d3b3-81a8-496a-b2b2-a25b5681d797",
   "metadata": {},
   "outputs": [],
   "source": [
    "ppi_quart = mer_cpi_quatery['PPIACO']\n",
    "# ipi_quart = mer_cpi_quatery['IR']\n"
   ]
  },
  {
   "cell_type": "code",
   "execution_count": null,
   "id": "348cddda-f29a-40c7-92e6-4eb1b68fe75a",
   "metadata": {},
   "outputs": [],
   "source": [
    "merge_cpi_ls_fe = cpi_ls_fe.join([eci,pce,ppi_quart,ipi_quart])\n",
    "merge_cpi_ls_fe['2018':]"
   ]
  },
  {
   "cell_type": "code",
   "execution_count": null,
   "id": "5329d7b9-efa4-4e4b-b940-eb0c9f126d7d",
   "metadata": {},
   "outputs": [],
   "source": [
    "merge_cpi_ls_fe['2018':].corr()"
   ]
  },
  {
   "cell_type": "code",
   "execution_count": null,
   "id": "50eac6cb-a4ce-4689-a18f-5fcc26b625fd",
   "metadata": {},
   "outputs": [],
   "source": [
    "# Period from 2018\n",
    "merge_cpi_ls_fe = merge_cpi_ls_fe['2018':]"
   ]
  },
  {
   "cell_type": "code",
   "execution_count": null,
   "id": "ee780994-c6c9-421d-a415-18ae559c251d",
   "metadata": {},
   "outputs": [],
   "source": [
    "mer_cpi_quatery"
   ]
  },
  {
   "cell_type": "code",
   "execution_count": null,
   "id": "e6a29081-62a9-4fdf-bb22-c479055d05b6",
   "metadata": {},
   "outputs": [],
   "source": [
    "merge_cpi_ls_fe.dropna(axis=0, inplace=True)\n"
   ]
  },
  {
   "cell_type": "code",
   "execution_count": null,
   "id": "129e8cd9-2d08-4905-8f61-a577221e153d",
   "metadata": {},
   "outputs": [],
   "source": [
    "merge_cpi_ls_fe.corr()"
   ]
  },
  {
   "cell_type": "code",
   "execution_count": null,
   "id": "1f294895",
   "metadata": {},
   "outputs": [],
   "source": [
    "# Merge CPI Less Food Engergy and ECI\n",
    "\n",
    "\n",
    "sns.heatmap(merge_cpi_ls_fe.corr(),annot=True)"
   ]
  },
  {
   "cell_type": "code",
   "execution_count": null,
   "id": "d7e76487",
   "metadata": {},
   "outputs": [],
   "source": [
    "cor_18 = merge_data['2018':].corr()\n",
    "cor_18[cor_18 != 1].max()"
   ]
  },
  {
   "cell_type": "code",
   "execution_count": null,
   "id": "7543db5e",
   "metadata": {},
   "outputs": [],
   "source": [
    "# merge_cor = merge_data['2010':].corr(method='pearson')\n",
    "\n",
    "# merge_18 = merge_data['2018':]"
   ]
  },
  {
   "cell_type": "code",
   "execution_count": null,
   "id": "712302aa",
   "metadata": {},
   "outputs": [],
   "source": [
    "# merge_18.corr()"
   ]
  },
  {
   "cell_type": "code",
   "execution_count": null,
   "id": "6f9c31e0",
   "metadata": {},
   "outputs": [],
   "source": [
    "merge_18[['CPI', 'ECI', 'GDPDEF', 'PCE']].corr(method='pearson')"
   ]
  },
  {
   "cell_type": "code",
   "execution_count": null,
   "id": "a50370de",
   "metadata": {},
   "outputs": [],
   "source": [
    "sns.heatmap(merge_data.corr(method='pearson'), annot=True)"
   ]
  },
  {
   "cell_type": "code",
   "execution_count": null,
   "id": "b6f66e6e-3d47-4bd4-8219-3927215a38b3",
   "metadata": {},
   "outputs": [],
   "source": [
    "# sns. merge_cpi_ls_fe['2018':].corr()"
   ]
  },
  {
   "cell_type": "code",
   "execution_count": null,
   "id": "ccbf086e",
   "metadata": {},
   "outputs": [],
   "source": [
    "sns.heatmap(merge_data['2018':].corr(method='pearson'),annot=True)"
   ]
  },
  {
   "cell_type": "markdown",
   "id": "2dfde401-5286-42c8-9307-83d778f8e413",
   "metadata": {},
   "source": [
    "# Forecast"
   ]
  },
  {
   "cell_type": "code",
   "execution_count": null,
   "id": "bedcd6f5-a44c-4e85-89f2-b3d201a6d1bc",
   "metadata": {},
   "outputs": [],
   "source": []
  }
 ],
 "metadata": {
  "kernelspec": {
   "display_name": "Python 3 (ipykernel)",
   "language": "python",
   "name": "python3"
  },
  "language_info": {
   "codemirror_mode": {
    "name": "ipython",
    "version": 3
   },
   "file_extension": ".py",
   "mimetype": "text/x-python",
   "name": "python",
   "nbconvert_exporter": "python",
   "pygments_lexer": "ipython3",
   "version": "3.11.5"
  }
 },
 "nbformat": 4,
 "nbformat_minor": 5
}
