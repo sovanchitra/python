{
 "cells": [
  {
   "cell_type": "markdown",
   "id": "3a95a247",
   "metadata": {},
   "source": [
    "### dog class that barks"
   ]
  },
  {
   "cell_type": "code",
   "execution_count": 11,
   "id": "4cb1a454",
   "metadata": {},
   "outputs": [
    {
     "name": "stdout",
     "output_type": "stream",
     "text": [
      "Bow-wow\n"
     ]
    }
   ],
   "source": [
    "class Dog:\n",
    "    # instance\n",
    "    def __init__(self):\n",
    "        pass\n",
    "    \n",
    "    # method\n",
    "    def bark(self):\n",
    "        return 'Bow-wow'\n",
    "\n",
    "dog_bark = Dog('Bow-wow')\n",
    "print(dog_bark.bark())"
   ]
  },
  {
   "cell_type": "markdown",
   "id": "dbe51620",
   "metadata": {},
   "source": [
    "### with parameter"
   ]
  },
  {
   "cell_type": "code",
   "execution_count": 15,
   "id": "d015dbff",
   "metadata": {},
   "outputs": [
    {
     "name": "stdout",
     "output_type": "stream",
     "text": [
      "Bingo : Bow-wow\n"
     ]
    }
   ],
   "source": [
    "class Dog:\n",
    "    def __init__(self, name):\n",
    "        self.name = name\n",
    "        \n",
    "    def bark(self):\n",
    "        return '{} : Bow-wow'.format(self.name)\n",
    "    \n",
    "dog_bark = Dog('Bingo')\n",
    "print(dog_bark.bark())"
   ]
  },
  {
   "cell_type": "code",
   "execution_count": null,
   "id": "0feb8e14",
   "metadata": {},
   "outputs": [],
   "source": []
  }
 ],
 "metadata": {
  "kernelspec": {
   "display_name": "Python 3 (ipykernel)",
   "language": "python",
   "name": "python3"
  },
  "language_info": {
   "codemirror_mode": {
    "name": "ipython",
    "version": 3
   },
   "file_extension": ".py",
   "mimetype": "text/x-python",
   "name": "python",
   "nbconvert_exporter": "python",
   "pygments_lexer": "ipython3",
   "version": "3.11.5"
  }
 },
 "nbformat": 4,
 "nbformat_minor": 5
}
