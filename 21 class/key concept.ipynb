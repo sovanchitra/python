{
 "cells": [
  {
   "cell_type": "markdown",
   "id": "cc809d81",
   "metadata": {},
   "source": [
    "### classes, instances, objects"
   ]
  },
  {
   "cell_type": "code",
   "execution_count": 4,
   "id": "79adce9e",
   "metadata": {},
   "outputs": [
    {
     "data": {
      "text/plain": [
       "['cat', 'dog', 'lion', 'tiger']"
      ]
     },
     "execution_count": 4,
     "metadata": {},
     "output_type": "execute_result"
    }
   ],
   "source": [
    "animals = ['lion', 'tiger', 'cat', 'dog']  # animal is the obj\n",
    "animals.sort()\n",
    "animals"
   ]
  },
  {
   "cell_type": "code",
   "execution_count": 5,
   "id": "bd6a8001",
   "metadata": {},
   "outputs": [
    {
     "data": {
      "text/plain": [
       "['cat', 'dog', 'lion', 'tiger', 'ant']"
      ]
     },
     "execution_count": 5,
     "metadata": {},
     "output_type": "execute_result"
    }
   ],
   "source": [
    "animals.append('ant')\n",
    "animals"
   ]
  },
  {
   "cell_type": "code",
   "execution_count": 6,
   "id": "64590b94",
   "metadata": {},
   "outputs": [
    {
     "data": {
      "text/plain": [
       "['ant', 'tiger', 'lion', 'dog', 'cat']"
      ]
     },
     "execution_count": 6,
     "metadata": {},
     "output_type": "execute_result"
    }
   ],
   "source": [
    "animals.reverse()\n",
    "animals"
   ]
  },
  {
   "cell_type": "code",
   "execution_count": 7,
   "id": "7abd9c9f",
   "metadata": {},
   "outputs": [],
   "source": [
    "n = 100 + 200\n",
    "# equals to\n",
    "n = (100).__add__(200)\n",
    "# so the + operator is a method too"
   ]
  },
  {
   "cell_type": "markdown",
   "id": "d44aa3f9",
   "metadata": {},
   "source": [
    "### defining a class"
   ]
  },
  {
   "cell_type": "code",
   "execution_count": 8,
   "id": "1843d3ec",
   "metadata": {},
   "outputs": [
    {
     "name": "stdout",
     "output_type": "stream",
     "text": [
      "<__main__.Cat object at 0x110d31b90>\n"
     ]
    }
   ],
   "source": [
    "class Cat:   # creating a class called Cat\n",
    "    pass\n",
    "\n",
    "nabi = Cat() # creating a Cat instance, () required\n",
    "print(nabi)  #id value of object is printed in hexadecimal"
   ]
  },
  {
   "cell_type": "markdown",
   "id": "6fdabf8e",
   "metadata": {},
   "source": [
    "### writing attribute and method"
   ]
  },
  {
   "cell_type": "code",
   "execution_count": 10,
   "id": "4e58a521",
   "metadata": {},
   "outputs": [
    {
     "name": "stdout",
     "output_type": "stream",
     "text": [
      "<__main__.Cat object at 0x1120bc710>\n"
     ]
    }
   ],
   "source": [
    "class Cat:\n",
    "    def __init__(self, name, color):\n",
    "        self.name = name    # attribute name\n",
    "        self.color = color  # attribute color\n",
    "\n",
    "# these are methods\n",
    "# parameter 'self' must be included as the first papameter of the method\n",
    "\n",
    "    def meow(self):         # behavior meow\n",
    "        pass\n",
    "    def run(self):          # behavior run\n",
    "        pass\n",
    "    def walk(self):         # behavior walk\n",
    "        pass\n",
    "    \n",
    "nabi = Cat('Nabi', 'Black')\n",
    "nero = Cat('Nero', 'White')\n",
    "print(nabi)"
   ]
  },
  {
   "cell_type": "markdown",
   "id": "7050cdcf",
   "metadata": {},
   "source": [
    "### calling class method"
   ]
  },
  {
   "cell_type": "code",
   "execution_count": 11,
   "id": "583462e6",
   "metadata": {},
   "outputs": [
    {
     "name": "stdout",
     "output_type": "stream",
     "text": [
      "My name is Nabi, color is Black, meow meow~~\n",
      "My name is Nero, color is White, meow meow~~\n",
      "My name is Mimi, color is Brown, meow meow~~\n"
     ]
    }
   ],
   "source": [
    "class Cat:\n",
    "    def __init__(self, name, color):\n",
    "        self.name = name\n",
    "        self.color = color\n",
    "        \n",
    "    def meow(self):\n",
    "        print(f\"My name is {self.name}, color is {self.color}, meow meow~~\")\n",
    "        \n",
    "nabi = Cat('Nabi', 'Black')  # pass into name and color of __init__\n",
    "nero = Cat('Nero', 'White')\n",
    "mimi = Cat('Mimi', 'Brown')\n",
    "\n",
    "nabi.meow()\n",
    "nero.meow()\n",
    "mimi.meow()"
   ]
  },
  {
   "cell_type": "markdown",
   "id": "f2dea9e2",
   "metadata": {},
   "source": [
    "### instance variable"
   ]
  },
  {
   "cell_type": "code",
   "execution_count": 13,
   "id": "8fcdd42a",
   "metadata": {},
   "outputs": [
    {
     "name": "stdout",
     "output_type": "stream",
     "text": [
      "Area of c1: 50.24\n",
      "Area of c2: 78.525\n",
      "Area of c3: 113.09400000000001\n"
     ]
    }
   ],
   "source": [
    "class Circle:\n",
    "    def __init__(self, name, radius, PI):\n",
    "        self.__name = name     #these three are called instance variable\n",
    "        self.__radius = radius # having double underscore is to make it difficult to access this instance from outside\n",
    "        self.__PI = PI\n",
    "        \n",
    "    def area(self):\n",
    "        return self.__PI * self.__radius ** 2\n",
    "    \n",
    "c1 = Circle('C1', 4, 3.14)\n",
    "print(\"Area of c1:\", c1.area())\n",
    "c2 = Circle('C2', 5, 3.141)\n",
    "print(\"Area of c2:\", c2.area())\n",
    "c3 = Circle('C3', 6, 3.1415)\n",
    "print(\"Area of c3:\", c3.area())"
   ]
  },
  {
   "cell_type": "markdown",
   "id": "5179e9c8",
   "metadata": {},
   "source": [
    "### class variable"
   ]
  },
  {
   "cell_type": "code",
   "execution_count": 14,
   "id": "c4d70b49",
   "metadata": {},
   "outputs": [
    {
     "name": "stdout",
     "output_type": "stream",
     "text": [
      "Area of c1: 50.264\n",
      "Area of c2: 78.53750000000001\n",
      "Area of c3: 113.09400000000001\n"
     ]
    }
   ],
   "source": [
    "class Circle:\n",
    "    PI = 3.1415  # class variable: a constant that instances have access to\n",
    "    def __init__(self, name, radius):\n",
    "        self.__name = name      # instance variable\n",
    "        self.__radius = radius    # instace varaible\n",
    "        \n",
    "    def area(self):  # method\n",
    "        return Circle.PI * self.__radius ** 2  # area use PI by calling Circle.PI\n",
    "    \n",
    "c1 = Circle('C1', 4)\n",
    "print(\"Area of c1:\", c1.area())\n",
    "c2 = Circle('C2', 5)\n",
    "print(\"Area of c2:\", c2.area())\n",
    "c3 = Circle('C3', 6)\n",
    "print(\"Area of c3:\", c3.area())"
   ]
  },
  {
   "cell_type": "markdown",
   "id": "811a074c",
   "metadata": {},
   "source": [
    "### dunder method"
   ]
  },
  {
   "cell_type": "code",
   "execution_count": 20,
   "id": "4aa1a900",
   "metadata": {},
   "outputs": [
    {
     "ename": "TypeError",
     "evalue": "unsupported operand type(s) for +: 'Vector2D' and 'Vector2D'",
     "output_type": "error",
     "traceback": [
      "\u001b[0;31m---------------------------------------------------------------------------\u001b[0m",
      "\u001b[0;31mTypeError\u001b[0m                                 Traceback (most recent call last)",
      "Cell \u001b[0;32mIn[20], line 8\u001b[0m\n\u001b[1;32m      6\u001b[0m v1 \u001b[38;5;241m=\u001b[39m Vector2D(\u001b[38;5;241m30\u001b[39m, \u001b[38;5;241m40\u001b[39m)\n\u001b[1;32m      7\u001b[0m v2 \u001b[38;5;241m=\u001b[39m Vector2D(\u001b[38;5;241m10\u001b[39m, \u001b[38;5;241m20\u001b[39m)\n\u001b[0;32m----> 8\u001b[0m v3 \u001b[38;5;241m=\u001b[39m v1 \u001b[38;5;241m+\u001b[39m v2  \u001b[38;5;66;03m# the program doesnt know what + is, have to create an add method\u001b[39;00m\n\u001b[1;32m      9\u001b[0m \u001b[38;5;28mprint\u001b[39m(\u001b[38;5;124m'\u001b[39m\u001b[38;5;124mv1 + v2 =\u001b[39m\u001b[38;5;124m'\u001b[39m, v3)\n",
      "\u001b[0;31mTypeError\u001b[0m: unsupported operand type(s) for +: 'Vector2D' and 'Vector2D'"
     ]
    }
   ],
   "source": [
    "class Vector2D:\n",
    "    def __init__(self, x, y):\n",
    "        self.x = x\n",
    "        self.y = y\n",
    "        \n",
    "v1 = Vector2D(30, 40)\n",
    "v2 = Vector2D(10, 20)\n",
    "v3 = v1 + v2  # the program doesnt know what + is, have to create an add method\n",
    "print('v1 + v2 =', v3)"
   ]
  },
  {
   "cell_type": "code",
   "execution_count": 40,
   "id": "4be3b4ad",
   "metadata": {},
   "outputs": [
    {
     "name": "stdout",
     "output_type": "stream",
     "text": [
      "v1.add(v2) = (40, 60)\n"
     ]
    }
   ],
   "source": [
    "class Vector2D:\n",
    "    def __init__(self, x, y):\n",
    "        self.x = x\n",
    "        self.y = y\n",
    "        \n",
    "    def __str__(self):\n",
    "        return '({}, {})'.format(self.x, self.y)\n",
    "    \n",
    "    def add(self, other):  # add method is created\n",
    "        return Vector2D(self.x + other.x, self.y + other.y)\n",
    "        \n",
    "        \n",
    "v1 = Vector2D(30, 40)\n",
    "v2 = Vector2D(10, 20)\n",
    "v3 = v1.add(v2)\n",
    "print('v1.add(v2) =', v3)"
   ]
  },
  {
   "cell_type": "code",
   "execution_count": 41,
   "id": "f226f28b",
   "metadata": {},
   "outputs": [
    {
     "name": "stdout",
     "output_type": "stream",
     "text": [
      "v1 + v2 = (40, 60)\n"
     ]
    }
   ],
   "source": [
    "class Vector2D:\n",
    "    def __init__(self, x, y):\n",
    "        self.x = x\n",
    "        self.y = y\n",
    "        \n",
    "    def __str__(self):\n",
    "        return '({}, {})'.format(self.x, self.y)\n",
    "    \n",
    "    def __add__(self, other):  # add __ __ to add method, allow the use of +, instead of add()\n",
    "        return Vector2D(self.x + other.x, self.y + other.y)\n",
    "        \n",
    "        \n",
    "v1 = Vector2D(30, 40)\n",
    "v2 = Vector2D(10, 20)\n",
    "v3 = v1 + v2  # with dunder method can use + \n",
    "print('v1 + v2 =', v3)"
   ]
  },
  {
   "cell_type": "markdown",
   "id": "bf6c4b40",
   "metadata": {},
   "source": [
    "##### dunder string method"
   ]
  },
  {
   "cell_type": "code",
   "execution_count": 42,
   "id": "2586e3d5",
   "metadata": {},
   "outputs": [
    {
     "name": "stdout",
     "output_type": "stream",
     "text": [
      "v1.add(v2) = <__main__.Vector2D object at 0x114051850>\n",
      "v1 + v2 = <__main__.Vector2D object at 0x114069510>\n"
     ]
    }
   ],
   "source": [
    "class Vector2D:\n",
    "    def __init__(self, x, y):\n",
    "        self.x = x\n",
    "        self.y = y\n",
    "        \n",
    "# the dunder string method provide the info of an obj in the string form\n",
    "    \n",
    "    def add(self, other):  \n",
    "        return Vector2D(self.x + other.x, self.y + other.y)\n",
    "    \n",
    "    def __add__(self, other):  \n",
    "        return Vector2D(self.x + other.x, self.y + other.y)\n",
    "        \n",
    "        \n",
    "v1 = Vector2D(30, 40)\n",
    "v2 = Vector2D(10, 20)\n",
    "v3 = v1.add(v2)\n",
    "print('v1.add(v2) =', v3)\n",
    "v3 = v1 + v2\n",
    "print('v1 + v2 =', v3)"
   ]
  },
  {
   "cell_type": "code",
   "execution_count": 44,
   "id": "91c87378",
   "metadata": {},
   "outputs": [
    {
     "name": "stdout",
     "output_type": "stream",
     "text": [
      "<__main__.Cat object at 0x11411ad10>\n",
      "<__main__.Cat object at 0x1141b8650>\n"
     ]
    }
   ],
   "source": [
    "class Cat:\n",
    "    def __init__(self, name, color):\n",
    "        self.name = name   \n",
    "        self.color = color  \n",
    "        \n",
    "    def __str__(self):\n",
    "        return 'Cat(name=' + self.name + ', color=' + self.color + ')'\n",
    "    \n",
    "nabi = Cat('Nabi', 'Black')\n",
    "nero = Cat('Nero', 'White')\n",
    "\n",
    "print(nabi)\n",
    "print(nero)\n",
    "print"
   ]
  },
  {
   "cell_type": "markdown",
   "id": "afac5cca",
   "metadata": {},
   "source": [
    "##### dunder sub method"
   ]
  },
  {
   "cell_type": "code",
   "execution_count": 45,
   "id": "c969629a",
   "metadata": {},
   "outputs": [
    {
     "name": "stdout",
     "output_type": "stream",
     "text": [
      "v1 + v2 = (40, 60)\n",
      "v1 - v2 = (20, 20)\n"
     ]
    }
   ],
   "source": [
    "class Vector2D:\n",
    "    def __init__(self, x, y):\n",
    "        self.x = x\n",
    "        self.y = y\n",
    "        \n",
    "    def __str__(self):\n",
    "        return '({}, {})'.format(self.x, self.y)\n",
    "    \n",
    "    def __add__(self, other):  \n",
    "        return Vector2D(self.x + other.x, self.y + other.y)\n",
    "        \n",
    "    def __sub__(self, other):\n",
    "        return Vector2D(self.x - other.x, self.y - other.y)\n",
    "        \n",
    "v1 = Vector2D(30, 40)\n",
    "v2 = Vector2D(10, 20)\n",
    "v3 = v1 + v2  # with dunder method can use + \n",
    "print('v1 + v2 =', v3)\n",
    "v4 = v1 - v2\n",
    "print('v1 - v2 =', v4)"
   ]
  },
  {
   "cell_type": "markdown",
   "id": "7f727d5c",
   "metadata": {},
   "source": [
    "### built-in functions and dunder method"
   ]
  },
  {
   "cell_type": "code",
   "execution_count": 46,
   "id": "09e622f0",
   "metadata": {},
   "outputs": [
    {
     "name": "stdout",
     "output_type": "stream",
     "text": [
      "10\n",
      "20\n"
     ]
    }
   ],
   "source": [
    "lst = [10, 20, 30]\n",
    "l_iter = iter(lst)\n",
    "print(next(l_iter))  # next function\n",
    "print(l_iter.__next__())   # dunder next method"
   ]
  },
  {
   "cell_type": "code",
   "execution_count": 48,
   "id": "d3cf2c25",
   "metadata": {},
   "outputs": [
    {
     "name": "stdout",
     "output_type": "stream",
     "text": [
      "Attributes of c1: {'name': 'C1', 'radius': 4}\n",
      "Value of the name variable in c1: C1\n",
      "Value of the radius variable in c1: 4\n"
     ]
    }
   ],
   "source": [
    "class Circle:\n",
    "    PI = 3.14\n",
    "    def __init__(self, name, radius):\n",
    "        self.name = name\n",
    "        self.radius = radius\n",
    "        \n",
    "c1 = Circle('C1', 4)\n",
    "print(\"Attributes of c1:\", c1.__dict__)\n",
    "print(\"Value of the name variable in c1:\", c1.__dict__['name'])\n",
    "print(\"Value of the radius variable in c1:\", c1.__dict__['radius'])"
   ]
  },
  {
   "cell_type": "code",
   "execution_count": 53,
   "id": "1ffb09fa",
   "metadata": {},
   "outputs": [
    {
     "name": "stdout",
     "output_type": "stream",
     "text": [
      "Attributes of c1: {'_Circle__name': 'C1', '_Circle__radius': 4}\n",
      "Value of the name variable in c1: C1\n",
      "Value of the radius variable in c1: 4\n"
     ]
    }
   ],
   "source": [
    "class Circle:\n",
    "    PI = 3.14\n",
    "    def __init__(self, name, radius):\n",
    "        self.__name = name   # when theres instances starting with __ \n",
    "        self.__radius = radius\n",
    "        \n",
    "c1 = Circle('C1', 4)\n",
    "print(\"Attributes of c1:\", c1.__dict__)\n",
    "print(\"Value of the name variable in c1:\", c1.__dict__['_Circle__name']) # call it this way\n",
    "print(\"Value of the radius variable in c1:\", c1.__dict__['_Circle__radius'])"
   ]
  },
  {
   "cell_type": "markdown",
   "id": "b1b9aef7",
   "metadata": {},
   "source": [
    "### class design and encapsulation"
   ]
  },
  {
   "cell_type": "code",
   "execution_count": 55,
   "id": "3b501404",
   "metadata": {},
   "outputs": [
    {
     "name": "stdout",
     "output_type": "stream",
     "text": [
      "Cat(name= Nabi, age= 3)\n",
      "Cat(name= Nabi, age= -5)\n"
     ]
    }
   ],
   "source": [
    "class Cat:\n",
    "    def __init__(self, name, age):\n",
    "        self.name = name\n",
    "        self.age = age\n",
    "    def __str__(self):\n",
    "        return 'Cat(name= ' + self.name + ', age= ' + str(self.age) + ')'\n",
    "    \n",
    "nabi = Cat('Nabi', 3)\n",
    "print(nabi)\n",
    "nabi.age = 4\n",
    "nabi.age = -5  # logical error cuz age becomes negative and still printing\n",
    "print(nabi)"
   ]
  },
  {
   "cell_type": "markdown",
   "id": "12c99f90",
   "metadata": {},
   "source": [
    "#### setter and getter"
   ]
  },
  {
   "cell_type": "code",
   "execution_count": 60,
   "id": "d89d6a7e",
   "metadata": {},
   "outputs": [
    {
     "name": "stdout",
     "output_type": "stream",
     "text": [
      "Cat(name= Nabi, age= 3)\n",
      "Cat(name= Nabi, age= 4)\n"
     ]
    }
   ],
   "source": [
    "class Cat:\n",
    "    def __init__(self, name, age):\n",
    "        self.__name = name\n",
    "        self.__age = age\n",
    "        \n",
    "    def __str__(self):\n",
    "        return 'Cat(name= ' + self.__name + ', age= ' + str(self.__age) + ')'\n",
    "    \n",
    "    def set_age(self, age):\n",
    "        if age > 0:\n",
    "            self.__age = age\n",
    "    \n",
    "    def get_age(self, age):\n",
    "        return self.__age\n",
    "    \n",
    "nabi = Cat('Nabi', 3)\n",
    "print(nabi)\n",
    "nabi.set_age(4)\n",
    "nabi.set_age(-5)\n",
    "print(nabi)"
   ]
  },
  {
   "cell_type": "markdown",
   "id": "ea0675f6",
   "metadata": {},
   "source": [
    "### class inheritance "
   ]
  },
  {
   "cell_type": "code",
   "execution_count": 62,
   "id": "726212ed",
   "metadata": {},
   "outputs": [
    {
     "name": "stdout",
     "output_type": "stream",
     "text": [
      "a.PI = 3.14\n",
      "b.PI = 3.14\n"
     ]
    }
   ],
   "source": [
    "class A:\n",
    "    PI = 3.14\n",
    "    \n",
    "class B(A):\n",
    "    pass\n",
    "\n",
    "a = A()\n",
    "b = B()\n",
    "print('a.PI =', a.PI)\n",
    "print('b.PI =', b.PI)  \n",
    "# though class B doesnt have PI but class B is the subclass\n",
    "# of class A so it can access the PI value"
   ]
  },
  {
   "cell_type": "code",
   "execution_count": 65,
   "id": "340a4f6d",
   "metadata": {},
   "outputs": [
    {
     "name": "stdout",
     "output_type": "stream",
     "text": [
      "Employee: David Doe, staff ID: 1111\n",
      "Employee: Paul Carter, staff ID: 2222\n",
      "Employer: Anna Smith, Position CFO\n"
     ]
    }
   ],
   "source": [
    "class Person:\n",
    "    def __init__(self, name):\n",
    "        self.name = name\n",
    "    def get_name(self):\n",
    "        return self.name\n",
    "    \n",
    "class Employee(Person):\n",
    "    def __init__(self, name, staff_id):\n",
    "        Person.__init__(self, name)\n",
    "        self.staff_id = staff_id\n",
    "    def info(self):\n",
    "        return 'Employee: ' + self.get_name() + ', staff ID: ' + str(self.staff_id)\n",
    "    \n",
    "class Manager(Person):\n",
    "    def __init__(self, name, position):\n",
    "        Person.__init__(self, name)\n",
    "        self.position = position\n",
    "    def info(self):\n",
    "        return 'Employer: ' + self.get_name() + ', Position ' + str(self.position)\n",
    "    \n",
    "worker1 = Employee('David Doe', 1111)\n",
    "worker2 = Employee('Paul Carter', 2222)\n",
    "cfo = Manager('Anna Smith', 'CFO')\n",
    "\n",
    "print(worker1.info())\n",
    "print(worker2.info())\n",
    "print(cfo.info())"
   ]
  },
  {
   "cell_type": "code",
   "execution_count": null,
   "id": "fac4317b",
   "metadata": {},
   "outputs": [],
   "source": []
  }
 ],
 "metadata": {
  "kernelspec": {
   "display_name": "Python 3 (ipykernel)",
   "language": "python",
   "name": "python3"
  },
  "language_info": {
   "codemirror_mode": {
    "name": "ipython",
    "version": 3
   },
   "file_extension": ".py",
   "mimetype": "text/x-python",
   "name": "python",
   "nbconvert_exporter": "python",
   "pygments_lexer": "ipython3",
   "version": "3.11.5"
  }
 },
 "nbformat": 4,
 "nbformat_minor": 5
}
