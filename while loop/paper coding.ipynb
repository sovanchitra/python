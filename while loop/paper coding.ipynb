{
 "cells": [
  {
   "cell_type": "markdown",
   "id": "699e8118",
   "metadata": {},
   "source": [
    "### multiplication table"
   ]
  },
  {
   "cell_type": "code",
   "execution_count": 8,
   "id": "5d218643",
   "metadata": {},
   "outputs": [
    {
     "name": "stdout",
     "output_type": "stream",
     "text": [
      "Enter a number: 5\n",
      "5 x 1 = 5\n",
      "5 x 2 = 10\n",
      "5 x 3 = 15\n",
      "5 x 4 = 20\n",
      "5 x 5 = 25\n",
      "5 x 6 = 30\n",
      "5 x 7 = 35\n",
      "5 x 8 = 40\n",
      "5 x 9 = 45\n"
     ]
    }
   ],
   "source": [
    "i = -1\n",
    "while i <= 0:\n",
    "    i = int(input(\"Enter a number: \"))  # use i to change the value of i, cuz i <= 0\n",
    "\n",
    "n = 1\n",
    "while n <= 9:\n",
    "    print(\"{} x {} = {}\".format(i, n, i*n))\n",
    "    n += 1"
   ]
  },
  {
   "cell_type": "markdown",
   "id": "3add1e5f",
   "metadata": {},
   "source": [
    "### multiplication table from1 to 9"
   ]
  },
  {
   "cell_type": "code",
   "execution_count": 56,
   "id": "fac758c1",
   "metadata": {
    "scrolled": true
   },
   "outputs": [
    {
     "name": "stdout",
     "output_type": "stream",
     "text": [
      "Enter a number: 4\n",
      "1 x 1 = 1\n",
      "1 x 2 = 2\n",
      "1 x 3 = 3\n",
      "1 x 4 = 4\n",
      "1 x 5 = 5\n",
      "1 x 6 = 6\n",
      "1 x 7 = 7\n",
      "1 x 8 = 8\n",
      "1 x 9 = 9\n"
     ]
    }
   ],
   "source": [
    "g = int(input(\"Enter a number: \"))\n",
    "n = 1\n",
    "\n",
    "while n <= g:\n",
    "    \n",
    "    i = 0 # i has to be assigned inside of n loop, if outside it will  break out of the loop after the first loop\n",
    "    while i < 9:\n",
    "        i += 1  # i = i + 1\n",
    "        print(f\"{n} x {i} = {i*n}\")\n",
    "        \n",
    "    n += 1 # every round of the loop n increment by 1 until it reaches g"
   ]
  },
  {
   "cell_type": "code",
   "execution_count": null,
   "id": "144045c1",
   "metadata": {},
   "outputs": [],
   "source": []
  }
 ],
 "metadata": {
  "kernelspec": {
   "display_name": "Python 3 (ipykernel)",
   "language": "python",
   "name": "python3"
  },
  "language_info": {
   "codemirror_mode": {
    "name": "ipython",
    "version": 3
   },
   "file_extension": ".py",
   "mimetype": "text/x-python",
   "name": "python",
   "nbconvert_exporter": "python",
   "pygments_lexer": "ipython3",
   "version": "3.11.5"
  }
 },
 "nbformat": 4,
 "nbformat_minor": 5
}
