{
 "cells": [
  {
   "cell_type": "markdown",
   "id": "47faeb0b",
   "metadata": {},
   "source": [
    "### palindrome number"
   ]
  },
  {
   "cell_type": "code",
   "execution_count": 25,
   "id": "e81784bd",
   "metadata": {},
   "outputs": [
    {
     "name": "stdout",
     "output_type": "stream",
     "text": [
      "Enter an integer: 252\n"
     ]
    },
    {
     "ename": "TypeError",
     "evalue": "'int' object is not subscriptable",
     "output_type": "error",
     "traceback": [
      "\u001b[0;31m---------------------------------------------------------------------------\u001b[0m",
      "\u001b[0;31mTypeError\u001b[0m                                 Traceback (most recent call last)",
      "Cell \u001b[0;32mIn[25], line 3\u001b[0m\n\u001b[1;32m      1\u001b[0m n \u001b[38;5;241m=\u001b[39m \u001b[38;5;28mint\u001b[39m(\u001b[38;5;28minput\u001b[39m(\u001b[38;5;124m\"\u001b[39m\u001b[38;5;124mEnter an integer: \u001b[39m\u001b[38;5;124m\"\u001b[39m))\n\u001b[1;32m      2\u001b[0m l \u001b[38;5;241m=\u001b[39m \u001b[38;5;28mint\u001b[39m(n)\n\u001b[0;32m----> 3\u001b[0m m \u001b[38;5;241m=\u001b[39m n[::\u001b[38;5;241m-\u001b[39m\u001b[38;5;241m1\u001b[39m] \u001b[38;5;66;03m# use for stirng only\u001b[39;00m\n\u001b[1;32m      5\u001b[0m \u001b[38;5;28;01mif\u001b[39;00m m \u001b[38;5;241m!=\u001b[39m n:\n\u001b[1;32m      6\u001b[0m     \u001b[38;5;28mprint\u001b[39m(\u001b[38;5;124mf\u001b[39m\u001b[38;5;124m\"\u001b[39m\u001b[38;5;132;01m{\u001b[39;00mn\u001b[38;5;132;01m}\u001b[39;00m\u001b[38;5;124m is not a palindrome number\u001b[39m\u001b[38;5;124m\"\u001b[39m)\n",
      "\u001b[0;31mTypeError\u001b[0m: 'int' object is not subscriptable"
     ]
    }
   ],
   "source": [
    "n = int(input(\"Enter an integer: \"))\n",
    "l = int(n)\n",
    "m = n[::-1] # use for stirng only\n",
    "       \n",
    "if m != n:\n",
    "    print(f\"{n} is not a palindrome number\")\n",
    "    print(int(n)/2)\n",
    "else:\n",
    "    print(f\"{n} is a palindrome number\")\n",
    "    print(n/2)\n",
    "    \n",
    "    \n",
    "    \n",
    "# if len(n) == 3:\n",
    "#     if n[0] == n[-1]:\n",
    "#         print(f\"{n} is a palindrome number\")\n",
    "#     else:\n",
    "\n",
    "#         print(f\"{n} is not a palindrome number\")\n",
    "        \n",
    "# if len(n) == 4:\n",
    "#     if n[0] == n[-1]:\n",
    "#         if n[1] == n[-2]:\n",
    "#             print(f\"{n} is a palindrome number\")\n",
    "#     else:\n",
    "#         print(f\"{n} is not a palindrome number\")"
   ]
  },
  {
   "cell_type": "markdown",
   "id": "a0ae7496",
   "metadata": {},
   "source": [
    "### guessing game"
   ]
  },
  {
   "cell_type": "code",
   "execution_count": 18,
   "id": "70e3cc5d",
   "metadata": {},
   "outputs": [
    {
     "name": "stdout",
     "output_type": "stream",
     "text": [
      "Guess a number between 1 and 100.\n",
      "Enter an integer: 50\n",
      "ur number is lower\n",
      "Enter an integer: 75\n",
      "ur number is lower\n",
      "Enter an integer: 80\n",
      "ur number is higher\n",
      "Enter an integer: 77\n",
      "ur number is higher\n",
      "Congratulations! Total number of attempts = 4\n"
     ]
    }
   ],
   "source": [
    "import random as rd\n",
    "\n",
    "print(\"Guess a number between 1 and 100.\")\n",
    "com_n = rd.randint(1,100)\n",
    "\n",
    "a = 0\n",
    "user_n = 0\n",
    "while user_n != com_n:\n",
    "    user_n = int(input(\"Enter an integer: \"))\n",
    "    \n",
    "    if user_n < com_n:\n",
    "        print(\"your number is lower.\")\n",
    "    else:\n",
    "        print(\"your number is higher.\")\n",
    "        \n",
    "    a += 1\n",
    "        \n",
    "print(f\"Congratulations! Total number of attempts = {a}\")"
   ]
  },
  {
   "cell_type": "markdown",
   "id": "945ae759",
   "metadata": {},
   "source": [
    "6w4\n",
    "67## i = 0\n",
    "for i < 3:\n",
    "    i += 1\n",
    "print(i)"
   ]
  },
  {
   "cell_type": "markdown",
   "id": "941ece26",
   "metadata": {},
   "source": [
    "### Test"
   ]
  },
  {
   "cell_type": "code",
   "execution_count": 7,
   "id": "b6b37123",
   "metadata": {},
   "outputs": [
    {
     "name": "stdout",
     "output_type": "stream",
     "text": [
      "1\n"
     ]
    }
   ],
   "source": [
    "num = 0\n",
    "for i in range(3):\n",
    "    for j in range(3):\n",
    "        if j == 1:\n",
    "            break\n",
    "        num += j\n",
    "    if i%2 ==0:\n",
    "        continue\n",
    "    num += i\n",
    "print(num)"
   ]
  },
  {
   "cell_type": "code",
   "execution_count": null,
   "id": "cef8734e",
   "metadata": {},
   "outputs": [],
   "source": [
    "end = True\n",
    "while end:\n",
    "    response = input(\"Type in q: \")\n",
    "    if response == \"q\":\n",
    "        end = False\n",
    "print(\"loop exit\")"
   ]
  },
  {
   "cell_type": "code",
   "execution_count": 12,
   "id": "136fd902",
   "metadata": {},
   "outputs": [
    {
     "name": "stdout",
     "output_type": "stream",
     "text": [
      "3\n"
     ]
    },
    {
     "data": {
      "text/plain": [
       "3"
      ]
     },
     "execution_count": 12,
     "metadata": {},
     "output_type": "execute_result"
    }
   ],
   "source": [
    "i = 0\n",
    "while i in range(3):\n",
    "    i += 1\n",
    "print(i)\n",
    "i"
   ]
  },
  {
   "cell_type": "code",
   "execution_count": null,
   "id": "2b1f7efd",
   "metadata": {},
   "outputs": [],
   "source": [
    "import sys"
   ]
  }
 ],
 "metadata": {
  "kernelspec": {
   "display_name": "Python 3 (ipykernel)",
   "language": "python",
   "name": "python3"
  },
  "language_info": {
   "codemirror_mode": {
    "name": "ipython",
    "version": 3
   },
   "file_extension": ".py",
   "mimetype": "text/x-python",
   "name": "python",
   "nbconvert_exporter": "python",
   "pygments_lexer": "ipython3",
   "version": "3.11.5"
  }
 },
 "nbformat": 4,
 "nbformat_minor": 5
}
