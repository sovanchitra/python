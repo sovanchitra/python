{
 "cells": [
  {
   "cell_type": "code",
   "execution_count": 3,
   "id": "35ef8629",
   "metadata": {},
   "outputs": [
    {
     "name": "stdout",
     "output_type": "stream",
     "text": [
      "Welcome to everyone\n",
      "Welcome to everyone\n",
      "Welcome to everyone\n",
      "We're glad to see you\n"
     ]
    },
    {
     "data": {
      "text/plain": [
       "3"
      ]
     },
     "execution_count": 3,
     "metadata": {},
     "output_type": "execute_result"
    }
   ],
   "source": [
    "i = 0        #initailze i to 0\n",
    "while i < 3:   # give condition to i to stop at a certain comparison\n",
    "    i += 1     # let i increment 1 each time the loop runs\n",
    "    print(\"Welcome to everyone\")  # then print each time the loop runs\n",
    "                                  # print until i reached 3 it stops and doesnt print the i=3 loop\n",
    "print(\"We're glad to see you\")\n",
    "i  # i reached 3 when it stops, cuz i<3 so it stopped at 3"
   ]
  },
  {
   "cell_type": "code",
   "execution_count": 7,
   "id": "feb6a566",
   "metadata": {},
   "outputs": [
    {
     "name": "stdout",
     "output_type": "stream",
     "text": [
      "Welcome to everyone\n",
      "Welcome to everyone\n",
      "Welcome to everyone\n",
      "We're glad to see you\n"
     ]
    },
    {
     "data": {
      "text/plain": [
       "2"
      ]
     },
     "execution_count": 7,
     "metadata": {},
     "output_type": "execute_result"
    }
   ],
   "source": [
    "for i in range(3): # let it run 3 times:0,1,2\n",
    "    print(\"Welcome to everyone\")\n",
    "print(\"We're glad to see you\")\n",
    "i   # i reached 2 when the range() reached its limitation (2, count from 0)"
   ]
  },
  {
   "cell_type": "markdown",
   "id": "93c68ce2",
   "metadata": {},
   "source": [
    "### break and continue"
   ]
  },
  {
   "cell_type": "code",
   "execution_count": 8,
   "id": "d1f0fa7f",
   "metadata": {},
   "outputs": [
    {
     "name": "stdout",
     "output_type": "stream",
     "text": [
      "Welcome to everyone\n",
      "We're glad to see you\n"
     ]
    },
    {
     "data": {
      "text/plain": [
       "1"
      ]
     },
     "execution_count": 8,
     "metadata": {},
     "output_type": "execute_result"
    }
   ],
   "source": [
    "for i in range(3):\n",
    "    if i == 1:\n",
    "        break\n",
    "    print(\"Welcome to everyone\")\n",
    "print(\"We're glad to see you\")\n",
    "i  # in interation flow, i with 0,1,2 was limited to 1 by \"break\" and the loop ended"
   ]
  },
  {
   "cell_type": "code",
   "execution_count": 9,
   "id": "5442a707",
   "metadata": {},
   "outputs": [
    {
     "name": "stdout",
     "output_type": "stream",
     "text": [
      "Welcome to everyone\n",
      "We're glad to see you\n"
     ]
    },
    {
     "data": {
      "text/plain": [
       "2"
      ]
     },
     "execution_count": 9,
     "metadata": {},
     "output_type": "execute_result"
    }
   ],
   "source": [
    "for i in range(3):\n",
    "    if i >= 1:\n",
    "        continue\n",
    "    print(\"Welcome to everyone\")\n",
    "print(\"We're glad to see you\")\n",
    "i"
   ]
  },
  {
   "cell_type": "code",
   "execution_count": 28,
   "id": "7ab63c1f",
   "metadata": {},
   "outputs": [
    {
     "name": "stdout",
     "output_type": "stream",
     "text": [
      "We're glad to see you\n"
     ]
    },
    {
     "data": {
      "text/plain": [
       "1"
      ]
     },
     "execution_count": 28,
     "metadata": {},
     "output_type": "execute_result"
    }
   ],
   "source": [
    "i = 0\n",
    "while i < 3:\n",
    "    i += 1\n",
    "    print(\"Welcome to everyone\")\n",
    "    if i == 1:\n",
    "        break\n",
    "    \n",
    "print(\"We're glad to see you\")\n",
    "i\n",
    "\n",
    "# \"break\" statement is encountered inside a loop, the loop is immediately terminated, \n",
    "# and the program execution continues with the next statement after the loop."
   ]
  },
  {
   "cell_type": "code",
   "execution_count": 27,
   "id": "b167e64d",
   "metadata": {},
   "outputs": [
    {
     "name": "stdout",
     "output_type": "stream",
     "text": [
      "Welcome to everyone\n",
      "We're glad to see you\n"
     ]
    },
    {
     "data": {
      "text/plain": [
       "3"
      ]
     },
     "execution_count": 27,
     "metadata": {},
     "output_type": "execute_result"
    }
   ],
   "source": [
    "i = 0\n",
    "while i < 3:\n",
    "    i += 1  \n",
    "    if i > 1:\n",
    "        continue\n",
    "    print(\"Welcome to everyone\")\n",
    "print(\"We're glad to see you\")\n",
    "i\n",
    "\n",
    "# \"continue\" statement is causing the loop to skip the rest of the code \n",
    "# for the current iteration and move on to the next iteration.\n",
    "\n",
    "# first loop\n",
    "# i become 1 with i += 1 then into if statement and its not true cuz i is not > 1 \n",
    "# so it prints the \"Welcome to everyone\" and \"We're glad to see you\"\n",
    "\n",
    "# second loop \n",
    "# i become 2 with i += 1 then into if statement\n",
    "# it doesnt print cuz 2 > 1 is true and it continues\n",
    "\n",
    "# third loop \n",
    "# i become 3 with i += 1 then into if statement\n",
    "# it doesnt print cuz 3 > 1 is true and it continues\n",
    "\n",
    "# forth loop\n",
    "# while i < 3 is not true anymore cuz 3 < 3 is false\n",
    "# break out of loop"
   ]
  },
  {
   "cell_type": "code",
   "execution_count": 29,
   "id": "8c04c0ee",
   "metadata": {},
   "outputs": [
    {
     "name": "stdout",
     "output_type": "stream",
     "text": [
      "We're glad to see you\n"
     ]
    },
    {
     "data": {
      "text/plain": [
       "2"
      ]
     },
     "execution_count": 29,
     "metadata": {},
     "output_type": "execute_result"
    }
   ],
   "source": [
    "for i in range(3):\n",
    "    continue\n",
    "    print(\"Welcome to everyone\")\n",
    "print(\"We're glad to see you\")\n",
    "i\n",
    "\n",
    "# continue skipped every line below it (of while loop block) \n",
    "# i is in range(3): 0,1,2 and latest i is at 2"
   ]
  },
  {
   "cell_type": "code",
   "execution_count": 30,
   "id": "0a32e6c1",
   "metadata": {},
   "outputs": [
    {
     "name": "stdout",
     "output_type": "stream",
     "text": [
      "we're glad to see you\n"
     ]
    },
    {
     "data": {
      "text/plain": [
       "3"
      ]
     },
     "execution_count": 30,
     "metadata": {},
     "output_type": "execute_result"
    }
   ],
   "source": [
    "i = 0\n",
    "while i < 3:\n",
    "    i += 1\n",
    "    continue\n",
    "    print(\"Welcome to everyone\")\n",
    "print(\"we're glad to see you\")\n",
    "i\n",
    "\n",
    "# the loop keep on looping and adding until it reach \n",
    "# continue keep on skipping the rest of the iteration each time the loop runs"
   ]
  },
  {
   "cell_type": "markdown",
   "id": "a421805d",
   "metadata": {},
   "source": [
    "### while and for loop comparison"
   ]
  },
  {
   "cell_type": "code",
   "execution_count": 49,
   "id": "694b05dc",
   "metadata": {},
   "outputs": [
    {
     "name": "stdout",
     "output_type": "stream",
     "text": [
      "The sum from 1 to 5 is 15\n"
     ]
    }
   ],
   "source": [
    "n = -1\n",
    "while n <= 0:  # if n <= 0 it will prompt again if not pass the while loop\n",
    "    n = int(input(\"Enter a positive integer to sum: \"))\n",
    "    \n",
    "s = 0\n",
    "for i in range(1, n+1):  # when the number to iterate is clear\n",
    "    s = s + i\n",
    "    \n",
    "print(\"The sum from 1 to {} is {}\".format(n,s))"
   ]
  },
  {
   "cell_type": "code",
   "execution_count": 44,
   "id": "bae10ea0",
   "metadata": {},
   "outputs": [
    {
     "name": "stdout",
     "output_type": "stream",
     "text": [
      "Choose between Rock, Paper, Scissors: i\n",
      "Choose between Rock, Paper, Scissors: Rock\n",
      "The selected value is : Rock\n"
     ]
    }
   ],
   "source": [
    "selected = None #still work without innitalizing selected = None\n",
    "while selected not in ['Rock', 'Paper', 'Scissors']: #if selected not in the list prompt again with while loop \n",
    "    selected = input(\"Choose between Rock, Paper, Scissors: \")\n",
    "print(\"The selected value is :\", selected)"
   ]
  },
  {
   "cell_type": "markdown",
   "id": "72008dcb",
   "metadata": {},
   "source": [
    "### while statement and infinite loop control"
   ]
  },
  {
   "cell_type": "code",
   "execution_count": 56,
   "id": "49e26b78",
   "metadata": {},
   "outputs": [
    {
     "name": "stdout",
     "output_type": "stream",
     "text": [
      "Has the construction been completed? yes\n",
      "You have escaped the loop.\n"
     ]
    }
   ],
   "source": [
    "under_construction = True\n",
    "while under_construction:\n",
    "    response = input(\"Has the construction been completed? \")\n",
    "    if response.lower() == \"yes\":\n",
    "        under_construction = False\n",
    "        \n",
    "print(\"You have escaped the loop.\")\n",
    "# print(\"You have escaped the loop.\") statement is placed outside the while loop. \n",
    "# In this code structure, the print statement is only reached after the loop has terminated, \n",
    "# and the loop termination condition depends on the user entering \"yes.\""
   ]
  },
  {
   "cell_type": "code",
   "execution_count": 1,
   "id": "50e45d61",
   "metadata": {},
   "outputs": [
    {
     "name": "stdout",
     "output_type": "stream",
     "text": [
      "Enter password: hi\n",
      "Enter password: pythonisfun\n",
      "**Login Successful**\n"
     ]
    }
   ],
   "source": [
    "# entering password\n",
    "\n",
    "password = \"hi\"\n",
    "while password != \"pythonisfun\":\n",
    "    password = input(\"Enter password: \")\n",
    "print(\"**Login Successful**\")"
   ]
  },
  {
   "cell_type": "code",
   "execution_count": 5,
   "id": "38060e0f",
   "metadata": {},
   "outputs": [
    {
     "name": "stdout",
     "output_type": "stream",
     "text": [
      "Sum of number is: 0\n"
     ]
    }
   ],
   "source": [
    "# sum of input numbers\n",
    "\n",
    "total = 0\n",
    "answer = 'yes'\n",
    "while answer == 'yes':\n",
    "    number = int(input(\"Please enter numbers: \"))\n",
    "    total = total + number\n",
    "    answer = input(\"continue? (yes/no): \") # change the value of answer each time\n",
    "print(\"Sum of number is:\", total)"
   ]
  },
  {
   "cell_type": "markdown",
   "id": "c7463535",
   "metadata": {},
   "source": [
    "# example of continue statement"
   ]
  },
  {
   "cell_type": "code",
   "execution_count": 27,
   "id": "56daef8e",
   "metadata": {},
   "outputs": [
    {
     "name": "stdout",
     "output_type": "stream",
     "text": [
      "Enter any word: sursdey\n",
      "s\n",
      "r\n",
      "s\n",
      "d\n",
      "y\n",
      "The end\n"
     ]
    }
   ],
   "source": [
    "st = input(\"Enter any word: \")\n",
    "for ch in st:\n",
    "    if ch in ['a','e','i','o','u',' ']:\n",
    "        continue\n",
    "    print(ch)\n",
    "print(\"The end\")\n"
   ]
  },
  {
   "cell_type": "markdown",
   "id": "3de91d0f",
   "metadata": {},
   "source": [
    "# the continue statement continue the loop from where it encounters ch in list, doesnt start again"
   ]
  },
  {
   "cell_type": "code",
   "execution_count": 64,
   "id": "4774fcea",
   "metadata": {},
   "outputs": [
    {
     "name": "stdout",
     "output_type": "stream",
     "text": [
      "Enter any word: programming\n",
      "p\n",
      "r\n",
      "The end\n"
     ]
    }
   ],
   "source": [
    "# example of break statement\n",
    "\n",
    "st = input(\"Enter any word: \")\n",
    "for ch in st:\n",
    "    if ch in ['a','e','i','o','u']:\n",
    "        break\n",
    "    print(ch)\n",
    "print(\"The end\")"
   ]
  },
  {
   "cell_type": "code",
   "execution_count": 74,
   "id": "314eeb6c",
   "metadata": {},
   "outputs": [
    {
     "name": "stdout",
     "output_type": "stream",
     "text": [
      "Enter a number: -1\n",
      "Enter a number: -2\n",
      "Enter a number: -3\n",
      "Enter a number: -4\n",
      "Enter a number: 0\n",
      "Enter a number: 9\n",
      "9 x 1 = 9\n",
      "9 x 2 = 18\n",
      "9 x 3 = 27\n",
      "9 x 4 = 36\n",
      "9 x 5 = 45\n",
      "9 x 6 = 54\n",
      "9 x 7 = 63\n",
      "9 x 8 = 72\n",
      "9 x 9 = 81\n"
     ]
    }
   ],
   "source": [
    "i = -1\n",
    "while i <= 0:\n",
    "    i = int(input(\"Enter a number: \"))\n",
    "    \n",
    "n = 0\n",
    "while n < 9:\n",
    "    n += 1\n",
    "    print(f\"{i} x {n} = {i*n}\")"
   ]
  },
  {
   "cell_type": "code",
   "execution_count": null,
   "id": "3a13eb04",
   "metadata": {},
   "outputs": [],
   "source": []
  }
 ],
 "metadata": {
  "kernelspec": {
   "display_name": "Python 3 (ipykernel)",
   "language": "python",
   "name": "python3"
  },
  "language_info": {
   "codemirror_mode": {
    "name": "ipython",
    "version": 3
   },
   "file_extension": ".py",
   "mimetype": "text/x-python",
   "name": "python",
   "nbconvert_exporter": "python",
   "pygments_lexer": "ipython3",
   "version": "3.11.5"
  }
 },
 "nbformat": 4,
 "nbformat_minor": 5
}
