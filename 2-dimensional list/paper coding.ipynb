{
 "cells": [
  {
   "cell_type": "markdown",
   "id": "950ed627",
   "metadata": {},
   "source": [
    "### indexing 2D list"
   ]
  },
  {
   "cell_type": "code",
   "execution_count": 1,
   "id": "b9602723",
   "metadata": {},
   "outputs": [
    {
     "name": "stdout",
     "output_type": "stream",
     "text": [
      "30\n"
     ]
    }
   ],
   "source": [
    "watermelon = [[10,20], [30,40], [50,60]]\n",
    "print(watermelon[1][0])"
   ]
  },
  {
   "cell_type": "markdown",
   "id": "cfae54a5",
   "metadata": {},
   "source": [
    "### 4x4 2D list from 1-16"
   ]
  },
  {
   "cell_type": "code",
   "execution_count": 5,
   "id": "7647d945",
   "metadata": {},
   "outputs": [
    {
     "name": "stdout",
     "output_type": "stream",
     "text": [
      "1 2 3 4 \n",
      "5 6 7 8 \n",
      "9 10 11 12 \n",
      "13 14 15 16 \n"
     ]
    }
   ],
   "source": [
    "mango = [[1,2,3,4],[5,6,7,8],[9,10,11,12],[13,14,15,16]]\n",
    "for i in mango:\n",
    "    for j in i:\n",
    "        print(j, end = ' ')\n",
    "    print()"
   ]
  },
  {
   "cell_type": "code",
   "execution_count": null,
   "id": "0bbbd447",
   "metadata": {},
   "outputs": [],
   "source": []
  }
 ],
 "metadata": {
  "kernelspec": {
   "display_name": "Python 3 (ipykernel)",
   "language": "python",
   "name": "python3"
  },
  "language_info": {
   "codemirror_mode": {
    "name": "ipython",
    "version": 3
   },
   "file_extension": ".py",
   "mimetype": "text/x-python",
   "name": "python",
   "nbconvert_exporter": "python",
   "pygments_lexer": "ipython3",
   "version": "3.11.5"
  }
 },
 "nbformat": 4,
 "nbformat_minor": 5
}
