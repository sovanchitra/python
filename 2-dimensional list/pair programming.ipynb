{
 "cells": [
  {
   "cell_type": "code",
   "execution_count": 1,
   "id": "a552878c",
   "metadata": {},
   "outputs": [
    {
     "name": "stdout",
     "output_type": "stream",
     "text": [
      "Enter n: 4\n",
      "1 0 1 0 \n",
      "0 1 0 1 \n",
      "1 0 1 0 \n",
      "0 1 0 1 \n"
     ]
    }
   ],
   "source": [
    "# list1 = []\n",
    "\n",
    "\n",
    "# n = 0\n",
    "# while n <= 2:\n",
    "#     n = int(input(\"Enter n: \"))\n",
    "#     line = []\n",
    "#     for i in range(n):\n",
    "#         line.append(i)\n",
    "# #         for j in range(i):\n",
    "#     list1.append(line)\n",
    "#     for i in list1:\n",
    "#         for j in i:\n",
    "#             print(j, end = ' ')\n",
    "        \n",
    "\n",
    "# list1 = range(6)\n",
    "# list2 = []\n",
    "\n",
    "# for i in list1 :\n",
    "#     line = []\n",
    "#     for j in range(i):\n",
    "#         line.append(j)\n",
    "#     list2.append(line)\n",
    "# for i in list2:\n",
    "#     for j in i :\n",
    "#         print(j, end = ' ')\n",
    "\n",
    "#     print()\n",
    "\n",
    "n = int(input(\"Enter n: \"))\n",
    "list2 = []\n",
    "zero = 0\n",
    "one = 0\n",
    "\n",
    "for i in range(n): # row\n",
    "\n",
    "    line = []\n",
    "\n",
    "    for j in range(n): # column\n",
    "        \n",
    "        c = (zero + one) % 2 # use position of i(row) and j(column) \n",
    "        \n",
    "        if c == 0:\n",
    "            line.append(1)\n",
    "            \n",
    "        else:\n",
    "            line.append(0)\n",
    "    list2.append(line)\n",
    "    \n",
    "\n",
    "for i in list2:\n",
    "    \n",
    "    for j in i: \n",
    "        print(j, end = ' ')\n",
    "    print()"
   ]
  },
  {
   "cell_type": "code",
   "execution_count": null,
   "id": "3abb5ab3",
   "metadata": {},
   "outputs": [],
   "source": []
  }
 ],
 "metadata": {
  "kernelspec": {
   "display_name": "Python 3 (ipykernel)",
   "language": "python",
   "name": "python3"
  },
  "language_info": {
   "codemirror_mode": {
    "name": "ipython",
    "version": 3
   },
   "file_extension": ".py",
   "mimetype": "text/x-python",
   "name": "python",
   "nbconvert_exporter": "python",
   "pygments_lexer": "ipython3",
   "version": "3.11.5"
  }
 },
 "nbformat": 4,
 "nbformat_minor": 5
}
