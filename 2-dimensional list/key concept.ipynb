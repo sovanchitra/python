{
 "cells": [
  {
   "cell_type": "markdown",
   "id": "978de86f",
   "metadata": {},
   "source": [
    "### 2D list structure"
   ]
  },
  {
   "cell_type": "code",
   "execution_count": 1,
   "id": "93b1e5c8",
   "metadata": {},
   "outputs": [
    {
     "name": "stdout",
     "output_type": "stream",
     "text": [
      "[[1, 2, 3], [4, 5, 6], [7, 8, 9]]"
     ]
    }
   ],
   "source": [
    "list_array = [[1,2,3], [4,5,6], [7,8,9]]\n",
    "#or\n",
    "'''\n",
    "list_array = [[1,2,3],\n",
    "              [4,5,6], \n",
    "              [7,8,9]]\n",
    "'''\n"
   ]
  },
  {
   "cell_type": "markdown",
   "id": "c124d2f5",
   "metadata": {},
   "source": [
    "### creating a 3x2 2D list using a for loop"
   ]
  },
  {
   "cell_type": "code",
   "execution_count": 3,
   "id": "b39c4c78",
   "metadata": {},
   "outputs": [
    {
     "name": "stdout",
     "output_type": "stream",
     "text": [
      "[[0, 0], [0, 0], [0, 0]]\n"
     ]
    }
   ],
   "source": [
    "# append two times to create lists within list\n",
    "list1 = []\n",
    "for i in range(3): # row\n",
    "    line = []\n",
    "    for j in range(2): # column\n",
    "        line.append(0)\n",
    "    list1.append(line)\n",
    "\n",
    "print(list1)\n"
   ]
  },
  {
   "cell_type": "markdown",
   "id": "d51c6e9b",
   "metadata": {},
   "source": [
    "### one-liner"
   ]
  },
  {
   "cell_type": "code",
   "execution_count": 4,
   "id": "29b06665",
   "metadata": {},
   "outputs": [
    {
     "name": "stdout",
     "output_type": "stream",
     "text": [
      "[[0, 0], [0, 0], [0, 0]]\n"
     ]
    }
   ],
   "source": [
    "list_array = [[0] * 2 for i in range(3)]\n",
    "print(list_array)"
   ]
  },
  {
   "cell_type": "code",
   "execution_count": null,
   "id": "8bb6573d",
   "metadata": {},
   "outputs": [],
   "source": [
    "mango = [[1,2,3,4],[5,6,7,8],[9,10,11,12],[13,14,15,16]]\n",
    "for i in mango:\n",
    "    for j in i:\n",
    "        print(j, end = ' ')\n",
    "    print()"
   ]
  },
  {
   "cell_type": "markdown",
   "id": "4b16147d",
   "metadata": {},
   "source": [
    "### test"
   ]
  },
  {
   "cell_type": "code",
   "execution_count": 2,
   "id": "821f83d0",
   "metadata": {},
   "outputs": [
    {
     "name": "stdout",
     "output_type": "stream",
     "text": [
      "[[2, 2], [2, 2], [2, 2]]\n",
      "12\n"
     ]
    }
   ],
   "source": [
    "list_array = [[2] * 2 for i in range(3)]\n",
    "print(list_array)\n",
    "num = 0\n",
    "for item in list_array:\n",
    "    for j in item:\n",
    "        num += j\n",
    "        \n",
    "print(num)"
   ]
  },
  {
   "cell_type": "code",
   "execution_count": 6,
   "id": "54de4ef3",
   "metadata": {},
   "outputs": [
    {
     "name": "stdout",
     "output_type": "stream",
     "text": [
      "[[3, 3, 3], [3, 3, 3], [3, 3, 3]]\n",
      "27\n"
     ]
    }
   ],
   "source": [
    "list_array = [[3 for i in range(3)] for j in range(3)]\n",
    "print(list_array)\n",
    "num = 0\n",
    "for item in list_array:\n",
    "    for k in item:\n",
    "        num += k\n",
    "        \n",
    "print(num)"
   ]
  },
  {
   "cell_type": "code",
   "execution_count": 5,
   "id": "698e6e7f",
   "metadata": {},
   "outputs": [
    {
     "name": "stdout",
     "output_type": "stream",
     "text": [
      "[[10], [20, 20], [30, 30, 30]]\n",
      "140\n"
     ]
    }
   ],
   "source": [
    "list_array = [[10 * i] * i for i in range(1,4)]\n",
    "print(list_array)\n",
    "num = 0\n",
    "for item in list_array:\n",
    "    for k in item:\n",
    "        num += k\n",
    "        \n",
    "print(num)"
   ]
  },
  {
   "cell_type": "code",
   "execution_count": null,
   "id": "4d50b94f",
   "metadata": {},
   "outputs": [],
   "source": []
  }
 ],
 "metadata": {
  "kernelspec": {
   "display_name": "Python 3 (ipykernel)",
   "language": "python",
   "name": "python3"
  },
  "language_info": {
   "codemirror_mode": {
    "name": "ipython",
    "version": 3
   },
   "file_extension": ".py",
   "mimetype": "text/x-python",
   "name": "python",
   "nbconvert_exporter": "python",
   "pygments_lexer": "ipython3",
   "version": "3.11.5"
  }
 },
 "nbformat": 4,
 "nbformat_minor": 5
}
