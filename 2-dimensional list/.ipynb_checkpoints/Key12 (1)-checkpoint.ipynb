{
 "cells": [
  {
   "cell_type": "code",
   "execution_count": 25,
   "id": "61e2600b",
   "metadata": {},
   "outputs": [
    {
     "data": {
      "text/plain": [
       "[[1, 2, 3], [4, 5, 6], [7, 8, 9]]"
      ]
     },
     "execution_count": 25,
     "metadata": {},
     "output_type": "execute_result"
    }
   ],
   "source": [
    "list_array = [[1, 2, 3], [4, 5, 6], [7, 8, 9]]\n",
    "list_array"
   ]
  },
  {
   "cell_type": "code",
   "execution_count": 6,
   "id": "e1ebf3e5",
   "metadata": {},
   "outputs": [
    {
     "name": "stdout",
     "output_type": "stream",
     "text": [
      "[1, 2, 3]\n"
     ]
    }
   ],
   "source": [
    "list_array = [[1, 2, 3], \n",
    "              [4, 5, 6], \n",
    "              [7, 8, 9]]\n",
    "print(list_array[0])"
   ]
  },
  {
   "cell_type": "code",
   "execution_count": 7,
   "id": "334fb22f",
   "metadata": {},
   "outputs": [
    {
     "name": "stdout",
     "output_type": "stream",
     "text": [
      "[[0, 0], [0, 0], [0, 0]]\n"
     ]
    }
   ],
   "source": [
    "list1 = []\n",
    "for i in range(3):\n",
    "    line = []\n",
    "# First, we create an empty list, which will be used as the inner list, by \n",
    "# iterating three times for the row count\n",
    "    \n",
    "    for j in range(2):\n",
    "        line.append(0)\n",
    "# Then, we iterate twice for the column count and use the append method to \n",
    "# add 0  to the inner list\n",
    "    list1.append(line)\n",
    "# in the outer loop, we use the append method again, this way, we add the \n",
    "# inner list to the \"list1\"\n",
    "    \n",
    "print(list1)"
   ]
  },
  {
   "cell_type": "code",
   "execution_count": 8,
   "id": "ea79269a",
   "metadata": {},
   "outputs": [
    {
     "name": "stdout",
     "output_type": "stream",
     "text": [
      "[[0, 0], [0, 0], [0, 0]]\n"
     ]
    }
   ],
   "source": [
    "list_array = [[0] * 2 for i in range(3)]\n",
    "# [0] * 2 : create new items in the list using operation\n",
    "#for i in : for each element i in data type\n",
    "# range(3) : List , tuple, strings, etc\n",
    "print(list_array)"
   ]
  },
  {
   "cell_type": "code",
   "execution_count": 11,
   "id": "9b14778b",
   "metadata": {},
   "outputs": [
    {
     "name": "stdout",
     "output_type": "stream",
     "text": [
      "[[0], [2], [4], [6], [8], [10]]\n"
     ]
    }
   ],
   "source": [
    "# one liner with if statement\n",
    "list2 = [[i] for i in range(11) if i % 2 == 0]\n",
    "print(list2)"
   ]
  },
  {
   "cell_type": "code",
   "execution_count": 12,
   "id": "83bdbdc4",
   "metadata": {},
   "outputs": [
    {
     "data": {
      "text/plain": [
       "[[0, 0], [0, 0], [0, 0]]"
      ]
     },
     "execution_count": 12,
     "metadata": {},
     "output_type": "execute_result"
    }
   ],
   "source": [
    "# another example\n",
    "list3 = [[0 for j in range(2)] for i in range(3)]\n",
    "#        column                     row\n",
    "# By using [0 for j in range(2)], repeat 0 twice to create[0, 0], and\n",
    "#then using for i in range(3), repeat [0, 0] three times to create as result\n",
    "list3"
   ]
  },
  {
   "cell_type": "markdown",
   "id": "e3d678f3",
   "metadata": {},
   "source": [
    "# Index for element access"
   ]
  },
  {
   "cell_type": "code",
   "execution_count": 13,
   "id": "39fad061",
   "metadata": {},
   "outputs": [
    {
     "name": "stdout",
     "output_type": "stream",
     "text": [
      "[1, 2, 3]\n"
     ]
    }
   ],
   "source": [
    "#column        0  1  2\n",
    "list_array = [[1, 2, 3],# row 0\n",
    "              [4, 5, 6], # 1\n",
    "              [7, 8, 9]] # 2\n",
    "print(list_array[0])"
   ]
  },
  {
   "cell_type": "code",
   "execution_count": 14,
   "id": "c62f893f",
   "metadata": {},
   "outputs": [
    {
     "name": "stdout",
     "output_type": "stream",
     "text": [
      "3\n"
     ]
    }
   ],
   "source": [
    "print(list_array[0][2])\n",
    "#               row,column"
   ]
  },
  {
   "cell_type": "code",
   "execution_count": 15,
   "id": "93c0f211",
   "metadata": {},
   "outputs": [
    {
     "name": "stdout",
     "output_type": "stream",
     "text": [
      "9\n"
     ]
    }
   ],
   "source": [
    "print(list_array[2][2])"
   ]
  },
  {
   "cell_type": "code",
   "execution_count": 16,
   "id": "75790499",
   "metadata": {},
   "outputs": [
    {
     "name": "stdout",
     "output_type": "stream",
     "text": [
      "[[1, 2, 3], [4, 300, 6], [7, 8, 9]]\n"
     ]
    }
   ],
   "source": [
    "list_array[1][1] = 300\n",
    "print(list_array)"
   ]
  },
  {
   "cell_type": "markdown",
   "id": "bbfb23e4",
   "metadata": {},
   "source": [
    "# Using a for statement to print a 2D list"
   ]
  },
  {
   "cell_type": "code",
   "execution_count": 17,
   "id": "f9c60bf3",
   "metadata": {},
   "outputs": [
    {
     "name": "stdout",
     "output_type": "stream",
     "text": [
      "item =  [1, 2, 3]\n",
      "item =  [4, 5, 6]\n",
      "item =  [7, 8, 9]\n"
     ]
    }
   ],
   "source": [
    "list_array = [[1, 2, 3],# row 0\n",
    "              [4, 5, 6], # 1\n",
    "              [7, 8, 9]] \n",
    "for item in list_array:\n",
    "    print('item = ',item)\n",
    "# when using a for statement with a 2D list, it returns the inner list one by one\n",
    "# "
   ]
  },
  {
   "cell_type": "code",
   "execution_count": 18,
   "id": "8108f4d2",
   "metadata": {},
   "outputs": [
    {
     "name": "stdout",
     "output_type": "stream",
     "text": [
      "1 2 3\n",
      "4 5 6\n",
      "7 8 9\n"
     ]
    }
   ],
   "source": [
    "list_array = [[1, 2, 3],# row 0\n",
    "              [4, 5, 6], # 1\n",
    "              [7, 8, 9]] # 2\n",
    "for i, j, k in list_array:\n",
    "    print(i, j , k)\n",
    "# the first loop , the list[1,2,3] appears, and i,j ,k are assigned \n",
    "#i -> 1, j -> 2, k -> 3\n",
    "# then repeat\n",
    "# In this case, such as 'for i, j, k in list_array' when specifying three variables before ' in', it extracts \n",
    "# the items from the inner lists"
   ]
  },
  {
   "cell_type": "code",
   "execution_count": 21,
   "id": "d768acf0",
   "metadata": {},
   "outputs": [
    {
     "name": "stdout",
     "output_type": "stream",
     "text": [
      "1 2 3\n"
     ]
    },
    {
     "ename": "ValueError",
     "evalue": "not enough values to unpack (expected 3, got 2)",
     "output_type": "error",
     "traceback": [
      "\u001b[1;31m---------------------------------------------------------------------------\u001b[0m",
      "\u001b[1;31mValueError\u001b[0m                                Traceback (most recent call last)",
      "Cell \u001b[1;32mIn[21], line 5\u001b[0m\n\u001b[0;32m      1\u001b[0m \u001b[38;5;66;03m# 2D list error\u001b[39;00m\n\u001b[0;32m      2\u001b[0m list_array \u001b[38;5;241m=\u001b[39m [[\u001b[38;5;241m1\u001b[39m, \u001b[38;5;241m2\u001b[39m, \u001b[38;5;241m3\u001b[39m],\u001b[38;5;66;03m# row 0\u001b[39;00m\n\u001b[0;32m      3\u001b[0m               [\u001b[38;5;241m4\u001b[39m, \u001b[38;5;241m6\u001b[39m], \u001b[38;5;66;03m# 1\u001b[39;00m\n\u001b[0;32m      4\u001b[0m               [ \u001b[38;5;241m8\u001b[39m ]] \u001b[38;5;66;03m# 2\u001b[39;00m\n\u001b[1;32m----> 5\u001b[0m \u001b[38;5;28;01mfor\u001b[39;00m i, j, k \u001b[38;5;129;01min\u001b[39;00m list_array:\n\u001b[0;32m      6\u001b[0m     \u001b[38;5;28mprint\u001b[39m(i, j , k)\n",
      "\u001b[1;31mValueError\u001b[0m: not enough values to unpack (expected 3, got 2)"
     ]
    }
   ],
   "source": [
    "# 2D list error\n",
    "list_array = [[1, 2, 3],# row 0\n",
    "              [4, 6], # 1\n",
    "              [ 8 ]] # 2\n",
    "for i, j, k in list_array:\n",
    "    print(i, j , k)\n",
    "# The previous approach only works correctly when the inner lists of the list contain exactly three items."
   ]
  },
  {
   "cell_type": "markdown",
   "id": "facb9b7d",
   "metadata": {},
   "source": [
    "## Printing a 2D list using the nested loop with for statement"
   ]
  },
  {
   "cell_type": "code",
   "execution_count": 26,
   "id": "7a0544f0",
   "metadata": {},
   "outputs": [
    {
     "name": "stdout",
     "output_type": "stream",
     "text": [
      "[1, 2, 3]\n",
      "[4, 5, 6]\n",
      "[7, 8, 9]\n"
     ]
    }
   ],
   "source": [
    "list_array = [[1, 2, 3],# row 0\n",
    "              [4, 5, 6], # 1\n",
    "              [7, 8, 9]] # 2\n",
    "for i in list_array:\n",
    "# the outer \"for i in list_array\" retrieves one item at a time from the entire \n",
    "# inner list and assigns it to i\n",
    "# so basically, for the first loop i = [1,2,3]\n",
    "    for j in i:\n",
    "# and if j in i, it means j loop in i = [1,2,3]\n",
    "        print(j, end = ' ')\n",
    "    print()  "
   ]
  },
  {
   "cell_type": "code",
   "execution_count": 2,
   "id": "4042ed43",
   "metadata": {},
   "outputs": [
    {
     "name": "stdout",
     "output_type": "stream",
     "text": [
      "1 2 3 \n",
      "4 6 \n",
      "8 \n"
     ]
    }
   ],
   "source": [
    "list_array = [[1, 2, 3],# row 0\n",
    "              [4, 5, 6], # 1\n",
    "              [7, 8, 9]] # 2\n",
    "for i in list_array:\n",
    "for i in list_array1:\n",
    "# First loop, Put one element from the 2D list list_array into i. The first element is[1,2,3]\n",
    "# second element is [4,6]\n",
    "#third element is [8]\n",
    "\n",
    "    for j in i : \n",
    "# first inner loop , j loop inside the[1,2,3], second is [4,6],...\n",
    "        print(j, end = ' ')\n",
    "# using end = ' ' replaces the line break with a space\n",
    "    print()"
   ]
  },
  {
   "cell_type": "markdown",
   "id": "f88f2b65",
   "metadata": {},
   "source": [
    "# Ouput using index ,for in range statement"
   ]
  },
  {
   "cell_type": "code",
   "execution_count": 3,
   "id": "0a82c5a5",
   "metadata": {},
   "outputs": [
    {
     "name": "stdout",
     "output_type": "stream",
     "text": [
      "1 2 3 \n",
      "4 5 6 \n",
      "7 8 9 \n"
     ]
    }
   ],
   "source": [
    "list_array = [[1, 2, 3],# row 0\n",
    "              [4, 5, 6], # 1\n",
    "              [7, 8, 9]] # 2\n",
    "# first loop example\n",
    "\n",
    "for i in range(len(list_array)):\n",
    "#   0 = [1,2,3]\n",
    "    for j in range(len(list_array[i])):\n",
    "#       0                          0 = [1,2,3]\n",
    "        print(list_array[i][j],end = ' ')\n",
    "#                        0  0 = 1, \n",
    "#                        0  1 = 2 , \n",
    "#                        0  2 = 3\n",
    "    print()\n",
    "#   for i to finish the loop and align to the next loop"
   ]
  },
  {
   "cell_type": "code",
   "execution_count": 5,
   "id": "c1bc435b",
   "metadata": {},
   "outputs": [
    {
     "name": "stdout",
     "output_type": "stream",
     "text": [
      "1 2 3 \n",
      "4 5 \n",
      "7 \n"
     ]
    }
   ],
   "source": [
    "list_array2 = [[1, 2, 3],# row 0\n",
    "              [4, 5], # 1\n",
    "              [7]] # 2\n",
    "for i in range(len(list_array2)):\n",
    "#   0 = [1,2,3]\n",
    "    for j in range(len(list_array2[i])):\n",
    "#       0                          0 = [1,2,3]\n",
    "        print(list_array[i][j],end = ' ')\n",
    "    print()"
   ]
  },
  {
   "cell_type": "markdown",
   "id": "540165bb",
   "metadata": {},
   "source": [
    " ## Printing a 2D list using a while statement"
   ]
  },
  {
   "cell_type": "code",
   "execution_count": 6,
   "id": "e7de092b",
   "metadata": {},
   "outputs": [
    {
     "name": "stdout",
     "output_type": "stream",
     "text": [
      "1 2 3\n",
      "4 5 6\n",
      "7 8 9\n"
     ]
    }
   ],
   "source": [
    "list_array = [[1, 2, 3],# row 0\n",
    "              [4, 5, 6], # 1\n",
    "              [7, 8, 9]] # 2\n",
    "i = 0\n",
    "while i < len(list_array):\n",
    "# the while stat_ repeats as many times as the number of inner lists in list_array\n",
    "# calculate the row count of the 2D list as len(list_array)\n",
    "\n",
    "    a, b, c = list_array[i]\n",
    "# a, b, c are assigned the items of list_array[i], so if i is 0., they will be assigned 1,2,3\n",
    "# a = 1, b = 2 , c = 3(first loop)\n",
    "    print(a, b, c)\n",
    "    i += 1"
   ]
  },
  {
   "cell_type": "markdown",
   "id": "8bb13afb",
   "metadata": {},
   "source": [
    "# Assignment of a 2D list"
   ]
  },
  {
   "cell_type": "code",
   "execution_count": 7,
   "id": "07090770",
   "metadata": {},
   "outputs": [
    {
     "name": "stdout",
     "output_type": "stream",
     "text": [
      "[[1, 2, 3], [4, 5, 6], [7, 8, 9]]\n"
     ]
    }
   ],
   "source": [
    "list_array = [[1, 2, 3],# row 0\n",
    "              [4, 5, 6], # 1\n",
    "              [7, 8, 9]] # 2\n",
    "list1 = list_array # assigned list_array to list1\n",
    "print(list1)"
   ]
  },
  {
   "cell_type": "code",
   "execution_count": 8,
   "id": "440bbdca",
   "metadata": {},
   "outputs": [
    {
     "name": "stdout",
     "output_type": "stream",
     "text": [
      "[[1, 2, 90], [4, 5, 6], [7, 8, 9]]\n",
      "[[1, 2, 90], [4, 5, 6], [7, 8, 9]]\n"
     ]
    }
   ],
   "source": [
    "list1[0][2] = 90 # if value of list1 changes, the value of list_array also changes\n",
    "print(list1) \n",
    "print(list_array)"
   ]
  },
  {
   "cell_type": "markdown",
   "id": "54b1510f",
   "metadata": {},
   "source": [
    "# copy module"
   ]
  },
  {
   "cell_type": "code",
   "execution_count": 9,
   "id": "5fdd74e7",
   "metadata": {},
   "outputs": [
    {
     "name": "stdout",
     "output_type": "stream",
     "text": [
      "[[1, 2, 3], [4, 5, 6], [7, 8, 9]]\n",
      "[[990, 2, 3], [4, 5, 6], [7, 8, 9]]\n",
      "False\n"
     ]
    }
   ],
   "source": [
    "import copy \n",
    "list_array = [[1, 2, 3],# row 0\n",
    "              [4, 5, 6], # 1\n",
    "              [7, 8, 9]] # 2\n",
    "list1 = copy.deepcopy(list_array)\n",
    "#copy.deepcopy() : objects are created in separate memory \n",
    "list1[0][0] = 990\n",
    "print(list_array)\n",
    "print(list1)\n",
    "print(list1 is list_array)"
   ]
  },
  {
   "cell_type": "markdown",
   "id": "0da18177",
   "metadata": {},
   "source": [
    "# Jagged list"
   ]
  },
  {
   "cell_type": "code",
   "execution_count": 16,
   "id": "d44e46b2",
   "metadata": {},
   "outputs": [
    {
     "name": "stdout",
     "output_type": "stream",
     "text": [
      "[[0], [0, 1, 2, 3, 4, 5], [0, 1, 2], [0, 1, 2, 3], [0, 1, 2, 3, 4]]\n"
     ]
    }
   ],
   "source": [
    "list3 = [1, 6, 3, 4, 5]\n",
    "# the width(number of items in the inner lists) of the jagged list is stored in list1.\n",
    "list4 = []\n",
    "# the jagged list to be created is list4,  initially an empty list.\n",
    "for i in list3:\n",
    "# the for statement assigns i to each item in list1.\n",
    "    line = []\n",
    "    for j in range(i):\n",
    "        line.append(j)\n",
    "# in the inner loop, a range sequence generated with i is appended to the 'line' list using the append method.\n",
    "    list4.append(line)\n",
    "# the outer loop, the list 'line ' is added as an item to list2.\n",
    "print(list4)"
   ]
  },
  {
   "cell_type": "code",
   "execution_count": 15,
   "id": "72a80f64",
   "metadata": {},
   "outputs": [
    {
     "name": "stdout",
     "output_type": "stream",
     "text": [
      "[[0], [0, 1], [0, 1, 2], [0, 1, 2, 3], [0, 1, 2, 3, 4]]\n"
     ]
    }
   ],
   "source": [
    "list2 = [[0],\n",
    "         [0, 1],\n",
    "         [0, 1, 2],\n",
    "         [0, 1, 2, 3],\n",
    "         [0, 1, 2, 3, 4]]\n",
    "print(list2)"
   ]
  },
  {
   "cell_type": "markdown",
   "id": "d0fbc558",
   "metadata": {},
   "source": [
    "# Jagged list using nested loop for stat"
   ]
  },
  {
   "cell_type": "code",
   "execution_count": 26,
   "id": "ad00b6a0",
   "metadata": {},
   "outputs": [
    {
     "name": "stdout",
     "output_type": "stream",
     "text": [
      "0 \n",
      "0 1 \n",
      "0 1 2 \n",
      "0 1 2 3 \n",
      "0 1 2 3 4 \n"
     ]
    }
   ],
   "source": [
    "list1 = [1,2,3,4,5]\n",
    "list2 = [] \n",
    "for i in list1: # first loop = line has 1 box equal to 1 space\n",
    "    line = []\n",
    "    for j in range(i): # first loop = put only 1 number cuz i can only put 1 space, it depends on the value of i\n",
    "        line.append(j) # add j to the line = [0]\n",
    "        print(j, end = ' ') # \n",
    "    list2.append(line)\n",
    "    print()   \n",
    "        "
   ]
  },
  {
   "cell_type": "code",
   "execution_count": 18,
   "id": "62a3923b",
   "metadata": {},
   "outputs": [
    {
     "name": "stdout",
     "output_type": "stream",
     "text": [
      "67 \n",
      "87 100 \n",
      "84 20 80 \n",
      "56 19 55 89 \n",
      "83 72 68 87 78 \n"
     ]
    }
   ],
   "source": [
    "# randint number\n",
    "import random\n",
    "list1 = [1,2,3,4,5]\n",
    "list3 =  []\n",
    "for i in list1 :\n",
    "    line = [ ]\n",
    "    for j in range(i):\n",
    "        line.append(random.randint(1,100))\n",
    "    list3.append(line)\n",
    "for i in list3:\n",
    "    for j in i : \n",
    "        print(j, end = ' ')\n",
    "    print()"
   ]
  },
  {
   "cell_type": "code",
   "execution_count": 19,
   "id": "febae726",
   "metadata": {},
   "outputs": [
    {
     "name": "stdout",
     "output_type": "stream",
     "text": [
      "[[0], [0, 0], [0, 0, 0], [0, 0, 0, 0], [0, 0, 0, 0, 0]]\n"
     ]
    }
   ],
   "source": [
    "# one-liner expression\n",
    "list1 = [[0] * i for i in [1, 2, 3, 4, 5]]\n",
    "print(list1)"
   ]
  },
  {
   "cell_type": "code",
   "execution_count": 20,
   "id": "05db26f1",
   "metadata": {},
   "outputs": [
    {
     "name": "stdout",
     "output_type": "stream",
     "text": [
      "0 \n",
      "0 0 \n",
      "0 0 0 \n",
      "0 0 0 0 \n",
      "0 0 0 0 0 \n"
     ]
    }
   ],
   "source": [
    "for i in list1:\n",
    "    for j in i:\n",
    "        print(j,end = ' ')\n",
    "    print()"
   ]
  },
  {
   "cell_type": "code",
   "execution_count": 22,
   "id": "5c3018f0",
   "metadata": {},
   "outputs": [
    {
     "name": "stdout",
     "output_type": "stream",
     "text": [
      "[[10], [20, 20], [30, 30, 30], [40, 40, 40, 40], [50, 50, 50, 50, 50]]\n"
     ]
    }
   ],
   "source": [
    "list5 = [[10 * i ] * i for i in [1, 2, 3, 4, 5]]\n",
    "print(list5)"
   ]
  },
  {
   "cell_type": "code",
   "execution_count": 24,
   "id": "af9fb076",
   "metadata": {},
   "outputs": [
    {
     "name": "stdout",
     "output_type": "stream",
     "text": [
      "[[10, 99, 99], [20, 20, 67, 67], [30, 30, 30], [40, 40, 40, 40], [50, 50, 50, 50, 50]]\n"
     ]
    }
   ],
   "source": [
    "list5[0].append(99)\n",
    "list5[1].append(67)\n",
    "print(list5)\n",
    "# since list5[0] amd list5[1] are lists, we can use the append method to insert items we want, respectively"
   ]
  },
  {
   "cell_type": "code",
   "execution_count": null,
   "id": "f057d398",
   "metadata": {},
   "outputs": [],
   "source": []
  },
  {
   "cell_type": "code",
   "execution_count": null,
   "id": "e11c10ef",
   "metadata": {},
   "outputs": [],
   "source": []
  }
 ],
 "metadata": {
  "kernelspec": {
   "display_name": "Python 3 (ipykernel)",
   "language": "python",
   "name": "python3"
  },
  "language_info": {
   "codemirror_mode": {
    "name": "ipython",
    "version": 3
   },
   "file_extension": ".py",
   "mimetype": "text/x-python",
   "name": "python",
   "nbconvert_exporter": "python",
   "pygments_lexer": "ipython3",
   "version": "3.11.5"
  }
 },
 "nbformat": 4,
 "nbformat_minor": 5
}
