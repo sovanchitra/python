{
 "cells": [
  {
   "cell_type": "markdown",
   "id": "e629dc2a",
   "metadata": {},
   "source": [
    "### movie theater ticketing"
   ]
  },
  {
   "cell_type": "code",
   "execution_count": 31,
   "id": "93eb2584",
   "metadata": {},
   "outputs": [
    {
     "name": "stdout",
     "output_type": "stream",
     "text": [
      "0 0 0 1 1 0 \n",
      "0 0 1 0 0 0 \n",
      "0 0 1 1 0 0 \n",
      "Number of empty seats in the theater:  13\n"
     ]
    }
   ],
   "source": [
    "import random\n",
    "list1 = [1,2,3]\n",
    "list3 = []\n",
    "a_seat = 0\n",
    "for i in list1 :\n",
    "    line = []\n",
    "    for j in range(6):\n",
    "        line.append(random.randint(0,1))\n",
    "    list3.append(line)\n",
    "for i in list3:\n",
    "    for j in i :\n",
    "        print(j, end = ' ')\n",
    "        if j == 0:\n",
    "            a_seat += 1\n",
    "    print()\n",
    "    \n",
    "print(\"Number of empty seats in the theater: \",a_seat)"
   ]
  },
  {
   "cell_type": "markdown",
   "id": "28a098a9",
   "metadata": {},
   "source": [
    "### AnB code"
   ]
  },
  {
   "cell_type": "code",
   "execution_count": 34,
   "id": "d4ea70be",
   "metadata": {},
   "outputs": [
    {
     "name": "stdout",
     "output_type": "stream",
     "text": [
      "1 1 0 1 1 1 \n",
      "0 0 1 0 1 0 \n",
      "0 0 0 1 0 0 \n",
      "The number of seats left in the movie theater:  10\n"
     ]
    }
   ],
   "source": [
    "import random\n",
    "\n",
    "seat = []\n",
    "\n",
    "for i in range(3):\n",
    "    line = []\n",
    "    for j in range(6):\n",
    "        rand = random.randrange(0,2)\n",
    "        line.append(rand)\n",
    "    seat.append(line)\n",
    "\n",
    "available = 0\n",
    "\n",
    "for i in range(3):\n",
    "    for j in range(6):\n",
    "        print(seat[i][j], '', end= '')\n",
    "        if seat[i][j] == 0:\n",
    "            available += 1\n",
    "    print()\n",
    "print(\"The number of seats left in the movie theater: \", available)"
   ]
  },
  {
   "cell_type": "code",
   "execution_count": null,
   "id": "47012271",
   "metadata": {},
   "outputs": [],
   "source": []
  }
 ],
 "metadata": {
  "kernelspec": {
   "display_name": "Python 3 (ipykernel)",
   "language": "python",
   "name": "python3"
  },
  "language_info": {
   "codemirror_mode": {
    "name": "ipython",
    "version": 3
   },
   "file_extension": ".py",
   "mimetype": "text/x-python",
   "name": "python",
   "nbconvert_exporter": "python",
   "pygments_lexer": "ipython3",
   "version": "3.11.5"
  }
 },
 "nbformat": 4,
 "nbformat_minor": 5
}
