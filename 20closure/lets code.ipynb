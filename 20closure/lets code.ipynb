{
 "cells": [
  {
   "cell_type": "markdown",
   "id": "043d5ee5",
   "metadata": {},
   "source": [
    "### urbanization analysis"
   ]
  },
  {
   "cell_type": "code",
   "execution_count": 1,
   "id": "dcdcdf73",
   "metadata": {},
   "outputs": [
    {
     "name": "stdout",
     "output_type": "stream",
     "text": [
      "A : 9765 people\n",
      "B : 3441 people\n",
      "C : 2954 people\n",
      "D : 1531 people\n",
      "minimum population : 1531\n",
      "maximum population : 9765\n",
      "average population of the four cities : 4422.75\n"
     ]
    }
   ],
   "source": [
    "import statistics as s\n",
    "\n",
    "city_pop = {'A': 9765, 'B': 3441, 'C': 2954, 'D': 1531}\n",
    "pop_list = []\n",
    "\n",
    "for city, pop in city_pop.items():\n",
    "    print(f\"{city} : {pop} people\")\n",
    "    pop_list.append(pop)\n",
    "\n",
    "def urban():\n",
    "    \n",
    "    def max_():\n",
    "        print(\"maximum population :\",max(pop_list))\n",
    "#     max_ = lambda pop_list : max(pop_list)\n",
    "#     print(\"maximum population :\",max_)\n",
    "\n",
    "    def min_():\n",
    "        print(\"minimum population :\", min(pop_list))\n",
    "        \n",
    "    def avg():\n",
    "        print(\"average population of the four cities :\", s.mean(pop_list))\n",
    "#       print(\"average population of the four cities :\", sum(pop_list)/len(pop_list))\n",
    "        \n",
    "    min_()\n",
    "    max_()\n",
    "    avg()\n",
    "    \n",
    "urban()"
   ]
  },
  {
   "cell_type": "code",
   "execution_count": 2,
   "id": "fa64a86a",
   "metadata": {},
   "outputs": [
    {
     "name": "stdout",
     "output_type": "stream",
     "text": [
      "A : 9765 people\n",
      "B : 3441 people\n",
      "C : 2954 people\n",
      "D : 1531 people\n",
      "maximum population : 9765\n",
      "minimum population : 1531\n",
      "difference of max and min population : 8234\n",
      "average population of the four cities : 4422.75\n"
     ]
    }
   ],
   "source": [
    "city_pop = {'A': 9765, 'B': 3441, 'C': 2954, 'D': 1531}\n",
    "pop_list = []\n",
    "\n",
    "for city, pop in city_pop.items():\n",
    "    print(f\"{city} : {pop} people\")\n",
    "    pop_list.append(pop)\n",
    "\n",
    "def urban():\n",
    "    print(\"maximum population :\",max(pop_list))\n",
    "    print(\"minimum population :\", min(pop_list)) \n",
    "    print(\"difference of max and min population :\", max(pop_list) - min(pop_list))\n",
    "    print(\"average population of the four cities :\", sum(pop_list)/len(pop_list))\n",
    "\n",
    "urban()"
   ]
  },
  {
   "cell_type": "code",
   "execution_count": 7,
   "id": "c91c11e4",
   "metadata": {},
   "outputs": [
    {
     "name": "stdout",
     "output_type": "stream",
     "text": [
      "{'A': 9765, 'B': 3441, 'C': 2954, 'D': 1531}\n",
      "None\n"
     ]
    },
    {
     "ename": "TypeError",
     "evalue": "'NoneType' object is not callable",
     "output_type": "error",
     "traceback": [
      "\u001b[0;31m---------------------------------------------------------------------------\u001b[0m",
      "\u001b[0;31mTypeError\u001b[0m                                 Traceback (most recent call last)",
      "Cell \u001b[0;32mIn[7], line 28\u001b[0m\n\u001b[1;32m     26\u001b[0m \u001b[38;5;28mprint\u001b[39m(city_pop)\n\u001b[1;32m     27\u001b[0m \u001b[38;5;28mprint\u001b[39m(urban_analyzer)\n\u001b[0;32m---> 28\u001b[0m urban_analyzer(urban(city_pop))\n",
      "\u001b[0;31mTypeError\u001b[0m: 'NoneType' object is not callable"
     ]
    }
   ],
   "source": [
    "# AnB code\n",
    "\n",
    "def urban(city_pop):\n",
    "    max_pop = 0\n",
    "    min_pop = 1000000\n",
    "    pop_sum = 0\n",
    "    n = 0\n",
    "    def analyze(city):\n",
    "        nonlocal max_pop, min_pop, pop_sum, n\n",
    "        for name, pop in city.items():\n",
    "            if pop > max_pop:\n",
    "                max_pop = pop\n",
    "            if pop < min_pop:\n",
    "                min_pop = pop\n",
    "            pop_sum += pop\n",
    "            n += 1\n",
    "            \n",
    "            print(\"maximum population :\", max_pop)\n",
    "            print(\"minimum population :\", min_pop)\n",
    "            print(\"difference of max and min population :\", max_pop - min_pop)\n",
    "            print(\"average population of the four cities :\", pop_sum / n)\n",
    "        return analyze\n",
    "    \n",
    "city_pop = {'A': 9765, 'B': 3441, 'C': 2954, 'D': 1531}\n",
    "urban_analyzer = urban(city_pop)\n",
    "print(city_pop)\n",
    "print(urban_analyzer)\n",
    "urban_analyzer(city_pop)"
   ]
  },
  {
   "cell_type": "code",
   "execution_count": null,
   "id": "52f30c15",
   "metadata": {},
   "outputs": [],
   "source": []
  },
  {
   "cell_type": "code",
   "execution_count": null,
   "id": "efe5e86e",
   "metadata": {},
   "outputs": [],
   "source": []
  }
 ],
 "metadata": {
  "kernelspec": {
   "display_name": "Python 3 (ipykernel)",
   "language": "python",
   "name": "python3"
  },
  "language_info": {
   "codemirror_mode": {
    "name": "ipython",
    "version": 3
   },
   "file_extension": ".py",
   "mimetype": "text/x-python",
   "name": "python",
   "nbconvert_exporter": "python",
   "pygments_lexer": "ipython3",
   "version": "3.11.5"
  }
 },
 "nbformat": 4,
 "nbformat_minor": 5
}
