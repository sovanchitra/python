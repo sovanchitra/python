{
 "cells": [
  {
   "cell_type": "markdown",
   "id": "1bdeb65f",
   "metadata": {},
   "source": [
    "### scoping rule"
   ]
  },
  {
   "cell_type": "code",
   "execution_count": 1,
   "id": "eaa6980d",
   "metadata": {},
   "outputs": [
    {
     "name": "stdout",
     "output_type": "stream",
     "text": [
      "30 20 11\n",
      "30 40 11\n"
     ]
    }
   ],
   "source": [
    "x = 10  # global. unrelated to printed x\n",
    "y = 11  # global\n",
    "def foo():\n",
    "    x = 20  # local\n",
    "    def bar():\n",
    "        a = 30  # enclosing function local\n",
    "        print(a, x, y)\n",
    "    bar()\n",
    "    x = 40  # local\n",
    "    bar()\n",
    "    \n",
    "foo()"
   ]
  },
  {
   "cell_type": "code",
   "execution_count": 8,
   "id": "372b4d01",
   "metadata": {},
   "outputs": [
    {
     "name": "stdout",
     "output_type": "stream",
     "text": [
      "counter = 200\n",
      "counter = 100\n"
     ]
    }
   ],
   "source": [
    "def print_counter():\n",
    "    counter = 200 # local. newly assigned\n",
    "    print('counter =', counter)\n",
    "    # local variable disapears when function done executing\n",
    "    \n",
    "counter = 100 # global \n",
    "print_counter()\n",
    "print('counter =', counter)"
   ]
  },
  {
   "cell_type": "markdown",
   "id": "24190d0f",
   "metadata": {},
   "source": [
    "### first-class function"
   ]
  },
  {
   "cell_type": "code",
   "execution_count": 9,
   "id": "7dfeff6c",
   "metadata": {},
   "outputs": [
    {
     "name": "stdout",
     "output_type": "stream",
     "text": [
      "Calling the function callfunc(greet)\n",
      "Hello\n"
     ]
    }
   ],
   "source": [
    "# treating functions as variables\n",
    "\n",
    "def callfunc(func):\n",
    "    func()\n",
    "    \n",
    "def greet():\n",
    "    print(\"Hello\")\n",
    "    \n",
    "print('Calling the function callfunc(greet)')\n",
    "callfunc(greet)"
   ]
  },
  {
   "cell_type": "code",
   "execution_count": 10,
   "id": "90cb7154",
   "metadata": {},
   "outputs": [
    {
     "name": "stdout",
     "output_type": "stream",
     "text": [
      "a = 300\n",
      "b = -100\n"
     ]
    }
   ],
   "source": [
    "def plus(a, b):\n",
    "    return a + b\n",
    "def minus(a, b):\n",
    "    return a - b\n",
    "l_list = [plus, minus]  # store function name in a list and call it using index\n",
    "a = l_list[0](100,200)\n",
    "b = l_list[1](100,200)\n",
    "print('a =', a)\n",
    "print('b =', b)"
   ]
  },
  {
   "cell_type": "code",
   "execution_count": 11,
   "id": "d1ede197",
   "metadata": {},
   "outputs": [
    {
     "data": {
      "text/plain": [
       "7"
      ]
     },
     "execution_count": 11,
     "metadata": {},
     "output_type": "execute_result"
    }
   ],
   "source": [
    "# use function as argument and return values in various forms\n",
    "\n",
    "def add(a, b):\n",
    "    return a + b\n",
    "\n",
    "def f(g, a, b):\n",
    "    return g(a, b)\n",
    "f(add, 3, 4)"
   ]
  },
  {
   "cell_type": "code",
   "execution_count": 3,
   "id": "c81db74b",
   "metadata": {},
   "outputs": [
    {
     "name": "stdout",
     "output_type": "stream",
     "text": [
      "<i>hello</i>\n",
      "<b>hello</b>\n"
     ]
    },
    {
     "ename": "TypeError",
     "evalue": "decorate.<locals>.italic() missing 1 required positional argument: 's'",
     "output_type": "error",
     "traceback": [
      "\u001b[0;31m---------------------------------------------------------------------------\u001b[0m",
      "\u001b[0;31mTypeError\u001b[0m                                 Traceback (most recent call last)",
      "Cell \u001b[0;32mIn[3], line 16\u001b[0m\n\u001b[1;32m     14\u001b[0m \u001b[38;5;28mprint\u001b[39m(dec2(\u001b[38;5;124m'\u001b[39m\u001b[38;5;124mhello\u001b[39m\u001b[38;5;124m'\u001b[39m))\n\u001b[1;32m     15\u001b[0m dec3 \u001b[38;5;241m=\u001b[39m decorate()\n\u001b[0;32m---> 16\u001b[0m \u001b[38;5;28mprint\u001b[39m(dec3())\n",
      "\u001b[0;31mTypeError\u001b[0m: decorate.<locals>.italic() missing 1 required positional argument: 's'"
     ]
    }
   ],
   "source": [
    "def decorate(style = 'italic'):\n",
    "    def italic(s):\n",
    "        return '<i>' + s + '</i>'\n",
    "    def bold(s):\n",
    "        return '<b>' + s + '</b>'\n",
    "    if style == 'italic':\n",
    "        return italic\n",
    "    else:\n",
    "        return bold\n",
    "    \n",
    "dec = decorate()\n",
    "print(dec('hello'))\n",
    "dec2 = decorate('bold')\n",
    "print(dec2('hello'))\n",
    "dec3 = decorate()\n",
    "print(dec3())"
   ]
  },
  {
   "cell_type": "markdown",
   "id": "5603208f",
   "metadata": {},
   "source": [
    "### nonlocal keyword"
   ]
  },
  {
   "cell_type": "code",
   "execution_count": 14,
   "id": "e95bdeab",
   "metadata": {},
   "outputs": [],
   "source": [
    "n1 = 1\n",
    "def func1():\n",
    "    def func2():\n",
    "        global n1 # this global variable is searched from the global variable namespace\n",
    "        n1 += 1\n",
    "        print(n1)\n",
    "    func2()\n",
    "    \n",
    "func1()"
   ]
  },
  {
   "cell_type": "code",
   "execution_count": 19,
   "id": "73a79717",
   "metadata": {},
   "outputs": [
    {
     "ename": "UnboundLocalError",
     "evalue": "cannot access local variable 'n2' where it is not associated with a value",
     "output_type": "error",
     "traceback": [
      "\u001b[0;31m---------------------------------------------------------------------------\u001b[0m",
      "\u001b[0;31mUnboundLocalError\u001b[0m                         Traceback (most recent call last)",
      "Cell \u001b[0;32mIn[19], line 10\u001b[0m\n\u001b[1;32m      7\u001b[0m         \u001b[38;5;28mprint\u001b[39m(n2)\n\u001b[1;32m      8\u001b[0m     func2()\n\u001b[0;32m---> 10\u001b[0m func1()\n",
      "Cell \u001b[0;32mIn[19], line 8\u001b[0m, in \u001b[0;36mfunc1\u001b[0;34m()\u001b[0m\n\u001b[1;32m      6\u001b[0m     n2 \u001b[38;5;241m+\u001b[39m\u001b[38;5;241m=\u001b[39m \u001b[38;5;241m1\u001b[39m\n\u001b[1;32m      7\u001b[0m     \u001b[38;5;28mprint\u001b[39m(n2)\n\u001b[0;32m----> 8\u001b[0m func2()\n",
      "Cell \u001b[0;32mIn[19], line 6\u001b[0m, in \u001b[0;36mfunc1.<locals>.func2\u001b[0;34m()\u001b[0m\n\u001b[1;32m      4\u001b[0m     \u001b[38;5;28;01mdef\u001b[39;00m \u001b[38;5;21mfunc2\u001b[39m():\n\u001b[1;32m      5\u001b[0m \u001b[38;5;66;03m#         global n2\u001b[39;00m\n\u001b[0;32m----> 6\u001b[0m         n2 \u001b[38;5;241m+\u001b[39m\u001b[38;5;241m=\u001b[39m \u001b[38;5;241m1\u001b[39m\n\u001b[1;32m      7\u001b[0m         \u001b[38;5;28mprint\u001b[39m(n2)\n",
      "\u001b[0;31mUnboundLocalError\u001b[0m: cannot access local variable 'n2' where it is not associated with a value"
     ]
    }
   ],
   "source": [
    "# if there is no global variable and search for it an error will occur\n",
    "def func1():\n",
    "    n2 = 1\n",
    "    def func2():\n",
    "        global n2\n",
    "        n2 += 1\n",
    "        print(n2)\n",
    "    func2()\n",
    "    \n",
    "func1()"
   ]
  },
  {
   "cell_type": "code",
   "execution_count": 17,
   "id": "3635d4e9",
   "metadata": {},
   "outputs": [
    {
     "name": "stdout",
     "output_type": "stream",
     "text": [
      "2\n"
     ]
    }
   ],
   "source": [
    "# in that case, need to use nonlocal keyword\n",
    "# this connection is called binding\n",
    "def func1():\n",
    "    n3 = 1 # neither global nor local\n",
    "    def func2():\n",
    "        nonlocal n3 \n",
    "        n3 += 1\n",
    "        print(n3)\n",
    "    func2()\n",
    "    \n",
    "func1()"
   ]
  },
  {
   "cell_type": "code",
   "execution_count": 18,
   "id": "0441b778",
   "metadata": {},
   "outputs": [
    {
     "name": "stdout",
     "output_type": "stream",
     "text": [
      "80\n",
      "20\n"
     ]
    }
   ],
   "source": [
    "x = 20\n",
    "def f():\n",
    "    x = 40\n",
    "    def g():\n",
    "        nonlocal x\n",
    "        x = 80\n",
    "    g()\n",
    "    print(x)\n",
    "    \n",
    "f()\n",
    "print(x)"
   ]
  },
  {
   "cell_type": "code",
   "execution_count": 21,
   "id": "67b62a9c",
   "metadata": {},
   "outputs": [
    {
     "ename": "SyntaxError",
     "evalue": "no binding for nonlocal 'x' found (1602798433.py, line 5)",
     "output_type": "error",
     "traceback": [
      "\u001b[0;36m  Cell \u001b[0;32mIn[21], line 5\u001b[0;36m\u001b[0m\n\u001b[0;31m    nonlocal x\u001b[0m\n\u001b[0m    ^\u001b[0m\n\u001b[0;31mSyntaxError\u001b[0m\u001b[0;31m:\u001b[0m no binding for nonlocal 'x' found\n"
     ]
    }
   ],
   "source": [
    "# defining only one function and use the nonlocal declaration to affect global variables will occur an error\n",
    "\n",
    "x = 70\n",
    "def f():\n",
    "    nonlocal x\n",
    "    x = 140\n",
    "    \n",
    "f()\n",
    "print(x)"
   ]
  },
  {
   "cell_type": "markdown",
   "id": "2cefe986",
   "metadata": {},
   "source": [
    "### order of searching for nonlocal variables"
   ]
  },
  {
   "cell_type": "code",
   "execution_count": 23,
   "id": "cd5a818b",
   "metadata": {},
   "outputs": [
    {
     "name": "stdout",
     "output_type": "stream",
     "text": [
      "[level 2] a = 333\n",
      "[level 1] a = 777\n"
     ]
    }
   ],
   "source": [
    "def f():\n",
    "    a = 777\n",
    "    def g():\n",
    "        a = 100\n",
    "        def h():\n",
    "            nonlocal a\n",
    "            a = 333\n",
    "        h()\n",
    "        print(f\"[level 2] a = {a}\")\n",
    "        \n",
    "    g()\n",
    "    print(f\"[level 1] a = {a}\")\n",
    "    \n",
    "f()"
   ]
  },
  {
   "cell_type": "markdown",
   "id": "c696486c",
   "metadata": {},
   "source": [
    "### closure"
   ]
  },
  {
   "cell_type": "code",
   "execution_count": 24,
   "id": "8043d49d",
   "metadata": {},
   "outputs": [
    {
     "name": "stdout",
     "output_type": "stream",
     "text": [
      "2 4 6\n"
     ]
    }
   ],
   "source": [
    "def clouser_calc():\n",
    "    a = 2\n",
    "    def mult(x):\n",
    "        return a * x   # a becomes a free variable, cuz a is not global and not defined within that block\n",
    "    return mult\n",
    "c = clouser_calc()\n",
    "print(c(1), c(2), c(3))"
   ]
  },
  {
   "cell_type": "code",
   "execution_count": 26,
   "id": "151d50ff",
   "metadata": {},
   "outputs": [
    {
     "name": "stdout",
     "output_type": "stream",
     "text": [
      "c1 1\n",
      "c1 2\n",
      "c3 1\n"
     ]
    }
   ],
   "source": [
    "def makecounter():\n",
    "    count = 0\n",
    "    def counter():\n",
    "        nonlocal count\n",
    "        count += 1\n",
    "        return count\n",
    "    return counter\n",
    "c1 = makecounter()\n",
    "c2 = makecounter()\n",
    "print('c1', c1())  \n",
    "print('c1', c1()) # can confirm that count used in c1 \n",
    "print('c3', c2()) # and count held by c2 have different memory space"
   ]
  },
  {
   "cell_type": "markdown",
   "id": "ac064483",
   "metadata": {},
   "source": [
    "### approach 1: creating a closure-nested functions"
   ]
  },
  {
   "cell_type": "code",
   "execution_count": 27,
   "id": "0d0292a8",
   "metadata": {},
   "outputs": [
    {
     "name": "stdout",
     "output_type": "stream",
     "text": [
      "8 11 14 17 20 23\n"
     ]
    }
   ],
   "source": [
    "def calc():\n",
    "    a = 3\n",
    "    b = 5\n",
    "    def mul_add(x):\n",
    "        return a * x + b\n",
    "    return mul_add\n",
    "\n",
    "c = calc()\n",
    "print(c(1), c(2), c(3), c(4), c(5), c(6))"
   ]
  },
  {
   "cell_type": "markdown",
   "id": "adc154e7",
   "metadata": {},
   "source": [
    "### approach 2: creating a closure- lambda"
   ]
  },
  {
   "cell_type": "code",
   "execution_count": 28,
   "id": "5c262dcd",
   "metadata": {},
   "outputs": [
    {
     "name": "stdout",
     "output_type": "stream",
     "text": [
      "5 7 9 11 13 15\n"
     ]
    }
   ],
   "source": [
    "def clouser_calc():\n",
    "    a = 2\n",
    "    b = 3\n",
    "    return lambda x : a * x + b\n",
    "\n",
    "c = clouser_calc()\n",
    "print(c(1), c(2), c(3), c(4), c(5), c(6))"
   ]
  },
  {
   "cell_type": "code",
   "execution_count": 29,
   "id": "afc49d2e",
   "metadata": {},
   "outputs": [
    {
     "name": "stdout",
     "output_type": "stream",
     "text": [
      "5 7 9 11 13 15\n"
     ]
    }
   ],
   "source": [
    "# without using lambda\n",
    "\n",
    "def clouser_calc():\n",
    "    a = 2\n",
    "    b = 3\n",
    "    def mul_add(x):\n",
    "        return a * x + b\n",
    "    return mul_add\n",
    "\n",
    "c = clouser_calc()\n",
    "print(c(1), c(2), c(3), c(4), c(5), c(6))"
   ]
  },
  {
   "cell_type": "markdown",
   "id": "4dae39a1",
   "metadata": {},
   "source": [
    "### modifying local variable in closure: nonlocal keyword"
   ]
  },
  {
   "cell_type": "code",
   "execution_count": 30,
   "id": "f9b76036",
   "metadata": {},
   "outputs": [
    {
     "name": "stdout",
     "output_type": "stream",
     "text": [
      "5 12 21\n"
     ]
    }
   ],
   "source": [
    "def calc():\n",
    "    a = 2\n",
    "    b = 3\n",
    "    total = 0\n",
    "    def mult_add(x):\n",
    "        nonlocal total\n",
    "        total = total + a * x + b\n",
    "        return total\n",
    "    return mult_add\n",
    "\n",
    "c = calc()\n",
    "print(c(1), c(2), c(3))"
   ]
  },
  {
   "cell_type": "code",
   "execution_count": 21,
   "id": "f0b9596d",
   "metadata": {},
   "outputs": [
    {
     "name": "stdout",
     "output_type": "stream",
     "text": [
      "lst = [1, 2, 3, 4, 5, 6, 7, 8, 9, 10, 11, 12, 13, 14, 15, 16, 17, 18, 19, 20, 21, 22, 23, 24, 25, 26, 27, 28, 29, 30, 31, 32, 33, 34, 35, 36, 37, 38, 39, 40, 41, 42, 43, 44, 45, 46, 47, 48, 49, 50, 51, 52, 53, 54, 55, 56, 57, 58, 59, 60, 61, 62, 63, 64, 65, 66, 67, 68, 69, 70, 71, 72, 73, 74, 75, 76, 77, 78, 79, 80, 81, 82, 83, 84, 85, 86, 87, 88, 89, 90, 91, 92, 93, 94, 95, 96, 97, 98, 99, 100]\n",
      "\n",
      "Result:  [5, 7, 10, 14, 15, 20, 21, 25, 28, 30, 35, 35, 40, 42, 45, 49, 50, 55, 56, 60, 63, 65, 70, 70, 75, 77, 80, 84, 85, 90, 91, 95, 98, 100]\n"
     ]
    }
   ],
   "source": [
    "lst = list(range(1, 101))\n",
    "def fun1(a):\n",
    "    \n",
    "    \n",
    "    def fun2():\n",
    "        result1 = []\n",
    "        for i in a:\n",
    "            if i % 5 == 0:\n",
    "                result1.append(i)\n",
    "        return result1\n",
    "    a0 = fun2()\n",
    "    def fun3():\n",
    "        result2 = []\n",
    "        for i in a:\n",
    "            if i % 7 == 0:\n",
    "                result2.append(i)\n",
    "        return result2\n",
    "    b0 = fun3()\n",
    "    \n",
    "    return a0 + b0\n",
    "    \n",
    "print(\"lst =\", lst)\n",
    "print()\n",
    "print(\"Result: \",sorted(fun1(lst)))"
   ]
  },
  {
   "cell_type": "code",
   "execution_count": 7,
   "id": "3b16e3fb",
   "metadata": {},
   "outputs": [
    {
     "name": "stdout",
     "output_type": "stream",
     "text": [
      "[1, 2, 3, 4, 5, 6, 7, 8, 9, 10, 11, 12, 13, 14, 15, 16, 17, 18, 19, 20, 21, 22, 23, 24, 25, 26, 27, 28, 29, 30, 31, 32, 33, 34, 35, 36, 37, 38, 39, 40, 41, 42, 43, 44, 45, 46, 47, 48, 49, 50, 51, 52, 53, 54, 55, 56, 57, 58, 59, 60, 61, 62, 63, 64, 65, 66, 67, 68, 69, 70, 71, 72, 73, 74, 75, 76, 77, 78, 79, 80, 81, 82, 83, 84, 85, 86, 87, 88, 89, 90, 91, 92, 93, 94, 95, 96, 97, 98, 99, 100]\n"
     ]
    }
   ],
   "source": [
    "lit = list(range(1, 101))\n",
    "print(lit )"
   ]
  }
 ],
 "metadata": {
  "kernelspec": {
   "display_name": "Python 3 (ipykernel)",
   "language": "python",
   "name": "python3"
  },
  "language_info": {
   "codemirror_mode": {
    "name": "ipython",
    "version": 3
   },
   "file_extension": ".py",
   "mimetype": "text/x-python",
   "name": "python",
   "nbconvert_exporter": "python",
   "pygments_lexer": "ipython3",
   "version": "3.11.5"
  }
 },
 "nbformat": 4,
 "nbformat_minor": 5
}
