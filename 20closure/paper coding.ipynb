{
 "cells": [
  {
   "cell_type": "markdown",
   "id": "bd7f431a",
   "metadata": {},
   "source": [
    "### say_hi function within greetings function"
   ]
  },
  {
   "cell_type": "code",
   "execution_count": 1,
   "id": "19f3fa9d",
   "metadata": {},
   "outputs": [
    {
     "name": "stdout",
     "output_type": "stream",
     "text": [
      "hello\n"
     ]
    }
   ],
   "source": [
    "def greetings():\n",
    "    def say_hi():\n",
    "        print('hello')\n",
    "    say_hi()\n",
    "greetings()"
   ]
  },
  {
   "cell_type": "markdown",
   "id": "42f15b7e",
   "metadata": {},
   "source": [
    "### calculate"
   ]
  },
  {
   "cell_type": "code",
   "execution_count": 4,
   "id": "96bd115b",
   "metadata": {},
   "outputs": [
    {
     "data": {
      "text/plain": [
       "14"
      ]
     },
     "execution_count": 4,
     "metadata": {},
     "output_type": "execute_result"
    }
   ],
   "source": [
    "def calc():\n",
    "    a = 3\n",
    "    b = 5\n",
    "    def mul_add(x):\n",
    "        return a * x + b\n",
    "    return mul_add\n",
    "\n",
    "num = calc()\n",
    "num(3)"
   ]
  },
  {
   "cell_type": "markdown",
   "id": "5e384e27",
   "metadata": {},
   "source": [
    "### calculate with lambda"
   ]
  },
  {
   "cell_type": "code",
   "execution_count": 5,
   "id": "b7880150",
   "metadata": {},
   "outputs": [
    {
     "data": {
      "text/plain": [
       "14"
      ]
     },
     "execution_count": 5,
     "metadata": {},
     "output_type": "execute_result"
    }
   ],
   "source": [
    "def calc():\n",
    "    a = 3\n",
    "    b = 5\n",
    "    mul_add = lambda x : a * x + b\n",
    "    return mul_add\n",
    "\n",
    "num = calc()\n",
    "num(3)"
   ]
  },
  {
   "cell_type": "code",
   "execution_count": 16,
   "id": "ca1be6f0",
   "metadata": {},
   "outputs": [
    {
     "ename": "TypeError",
     "evalue": "'NoneType' object is not callable",
     "output_type": "error",
     "traceback": [
      "\u001b[0;31m---------------------------------------------------------------------------\u001b[0m",
      "\u001b[0;31mTypeError\u001b[0m                                 Traceback (most recent call last)",
      "Cell \u001b[0;32mIn[16], line 27\u001b[0m\n\u001b[1;32m     25\u001b[0m city_pop \u001b[38;5;241m=\u001b[39m {\u001b[38;5;124m'\u001b[39m\u001b[38;5;124mA\u001b[39m\u001b[38;5;124m'\u001b[39m: \u001b[38;5;241m9765\u001b[39m, \u001b[38;5;124m'\u001b[39m\u001b[38;5;124mB\u001b[39m\u001b[38;5;124m'\u001b[39m: \u001b[38;5;241m3441\u001b[39m, \u001b[38;5;124m'\u001b[39m\u001b[38;5;124mC\u001b[39m\u001b[38;5;124m'\u001b[39m: \u001b[38;5;241m2954\u001b[39m, \u001b[38;5;124m'\u001b[39m\u001b[38;5;124mD\u001b[39m\u001b[38;5;124m'\u001b[39m: \u001b[38;5;241m1531\u001b[39m}\n\u001b[1;32m     26\u001b[0m urban_analyzer \u001b[38;5;241m=\u001b[39m urban()\n\u001b[0;32m---> 27\u001b[0m urban_analyzer(city_pop)\n",
      "\u001b[0;31mTypeError\u001b[0m: 'NoneType' object is not callable"
     ]
    }
   ],
   "source": [
    "# AnB code\n",
    "\n",
    "def urban():\n",
    "    max_pop = 0\n",
    "    min_pop = 1000000\n",
    "    pop_sum = 0\n",
    "    n = 0\n",
    "    def analyze(city):\n",
    "        nonlocal max_pop, min_pop, pop_sum, n\n",
    "        for name, pop in city.items():\n",
    "            if pop > max_pop:\n",
    "                max_pop = pop\n",
    "            if pop < min_pop:\n",
    "                min_pop = pop\n",
    "            pop_sum += pop\n",
    "            n += 1\n",
    "            \n",
    "            print(\"maximum population :\", max_pop)\n",
    "            print(\"minimum population :\", min_pop)\n",
    "            print(\"difference of max and min population :\", max_pop - min_pop)\n",
    "            print(\"average population of the four cities :\", pop_sum / n)\n",
    "            \n",
    "        return analyze\n",
    "    \n",
    "city_pop = {'A': 9765, 'B': 3441, 'C': 2954, 'D': 1531}\n",
    "urban_analyzer = urban()\n",
    "urban_analyzer(city_pop)"
   ]
  },
  {
   "cell_type": "markdown",
   "id": "5745d98d",
   "metadata": {},
   "source": [
    "### test"
   ]
  },
  {
   "cell_type": "code",
   "execution_count": 22,
   "id": "c39b5f9d",
   "metadata": {},
   "outputs": [
    {
     "name": "stdout",
     "output_type": "stream",
     "text": [
      "0 0\n",
      "0 1\n",
      "1 0\n",
      "1 1\n",
      "5\n"
     ]
    }
   ],
   "source": [
    "def add(a, b):\n",
    "    return a + b\n",
    "\n",
    "def mult(a, b):\n",
    "    return a * b\n",
    "\n",
    "calculation = [add, mult]\n",
    "\n",
    "result = 0\n",
    "for x in range(2):\n",
    "    for y in range(2):\n",
    "        for operator in calculation:\n",
    "            result += operator(x, y)\n",
    "        print(x,y)\n",
    "            \n",
    "print(result)"
   ]
  },
  {
   "cell_type": "code",
   "execution_count": 31,
   "id": "1acc058b",
   "metadata": {},
   "outputs": [
    {
     "name": "stdout",
     "output_type": "stream",
     "text": [
      "1\n"
     ]
    }
   ],
   "source": [
    "def func():\n",
    "    n = 100\n",
    "    def nested():\n",
    "        global n\n",
    "        n += 1\n",
    "        return\n",
    "    return nested()\n",
    "\n",
    "n = 0\n",
    "func()\n",
    "print(n)"
   ]
  },
  {
   "cell_type": "code",
   "execution_count": 33,
   "id": "3d60af0e",
   "metadata": {},
   "outputs": [
    {
     "name": "stdout",
     "output_type": "stream",
     "text": [
      "101\n"
     ]
    }
   ],
   "source": [
    "def func():\n",
    "    n = 100\n",
    "    def nested():\n",
    "        nonlocal n\n",
    "        n += 1\n",
    "        return n\n",
    "    return print(nested())\n",
    "\n",
    "n = 0\n",
    "func()"
   ]
  },
  {
   "cell_type": "code",
   "execution_count": 36,
   "id": "48574e6e",
   "metadata": {},
   "outputs": [
    {
     "name": "stdout",
     "output_type": "stream",
     "text": [
      "3 4 5\n"
     ]
    }
   ],
   "source": [
    "def func():\n",
    "    n = 2\n",
    "    def add(x):\n",
    "        return n + x\n",
    "    return add\n",
    "\n",
    "calc = func()\n",
    "print(calc(1), calc(2), calc(3))"
   ]
  },
  {
   "cell_type": "code",
   "execution_count": null,
   "id": "d74b1db6",
   "metadata": {},
   "outputs": [],
   "source": []
  }
 ],
 "metadata": {
  "kernelspec": {
   "display_name": "Python 3 (ipykernel)",
   "language": "python",
   "name": "python3"
  },
  "language_info": {
   "codemirror_mode": {
    "name": "ipython",
    "version": 3
   },
   "file_extension": ".py",
   "mimetype": "text/x-python",
   "name": "python",
   "nbconvert_exporter": "python",
   "pygments_lexer": "ipython3",
   "version": "3.11.5"
  }
 },
 "nbformat": 4,
 "nbformat_minor": 5
}
