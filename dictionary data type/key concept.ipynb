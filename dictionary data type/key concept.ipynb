{
 "cells": [
  {
   "cell_type": "markdown",
   "id": "0a6ffcaf",
   "metadata": {},
   "source": [
    "### empty dictionary"
   ]
  },
  {
   "cell_type": "code",
   "execution_count": 10,
   "id": "f9d7107c",
   "metadata": {},
   "outputs": [
    {
     "name": "stdout",
     "output_type": "stream",
     "text": [
      "{'David': '010-1234-5678', 'John': '0234352645', 'Daniel': '23984928357'}\n"
     ]
    }
   ],
   "source": [
    "phone_book = {}\n",
    "phone_book['David'] = '010-1234-5678' #item 1\n",
    "phone_book['John'] = '0234352645'     #item 2\n",
    "phone_book['Daniel'] = '23984928357'  #item 3\n",
    "#            key           value\n",
    "print(phone_book)"
   ]
  },
  {
   "cell_type": "code",
   "execution_count": 9,
   "id": "f8c34c40",
   "metadata": {},
   "outputs": [
    {
     "name": "stdout",
     "output_type": "stream",
     "text": [
      "{'david': '010-1234-5678'}\n"
     ]
    }
   ],
   "source": [
    "phone_book = {'david' : '010-1234-5678'}\n",
    "print(phone_book)"
   ]
  },
  {
   "cell_type": "markdown",
   "id": "bd35254c",
   "metadata": {},
   "source": [
    "### use keys to retrieve values"
   ]
  },
  {
   "cell_type": "code",
   "execution_count": 24,
   "id": "f840b504",
   "metadata": {},
   "outputs": [
    {
     "name": "stdout",
     "output_type": "stream",
     "text": [
      "26\n",
      "82\n"
     ]
    }
   ],
   "source": [
    "person = {'Name': 'David Doe', \"age\": 26, 'Weight': '82'}\n",
    "print(person[\"Name\"]) #use key to access (with qoutation)\n",
    "print(person[\"age\"])\n",
    "print(person[\"Weight\"])"
   ]
  },
  {
   "cell_type": "markdown",
   "id": "42f6c12b",
   "metadata": {},
   "source": [
    "### modifying values "
   ]
  },
  {
   "cell_type": "code",
   "execution_count": 18,
   "id": "066ec0c6",
   "metadata": {},
   "outputs": [
    {
     "data": {
      "text/plain": [
       "{'Name': 'David Doe', 'Age': 30, 'Weight': '82'}"
      ]
     },
     "execution_count": 18,
     "metadata": {},
     "output_type": "execute_result"
    }
   ],
   "source": [
    "person = {'Name': 'David Doe', \"Age\": 26, 'Weight': '82'}\n",
    "person['Age'] = 30\n",
    "person"
   ]
  },
  {
   "cell_type": "markdown",
   "id": "68981c8d",
   "metadata": {},
   "source": [
    "### inserting new item and deleting item"
   ]
  },
  {
   "cell_type": "code",
   "execution_count": 26,
   "id": "9401ea94",
   "metadata": {},
   "outputs": [
    {
     "data": {
      "text/plain": [
       "{'Name': 'David Doe', 'Weight': '82', 'Job': 'Data Scientist'}"
      ]
     },
     "execution_count": 26,
     "metadata": {},
     "output_type": "execute_result"
    }
   ],
   "source": [
    "person = {'Name': 'David Doe', \"Age\": 26, 'Weight': '82'}\n",
    "person['Job'] = 'Data Scientist' # add 'Job' item to dict\n",
    "del person['Age'] # delete 'Age' item from dict\n",
    "person "
   ]
  },
  {
   "cell_type": "markdown",
   "id": "7e5f1da6",
   "metadata": {},
   "source": [
    "### dictionary operator"
   ]
  },
  {
   "cell_type": "code",
   "execution_count": 5,
   "id": "65449073",
   "metadata": {},
   "outputs": [
    {
     "name": "stdout",
     "output_type": "stream",
     "text": [
      "True\n",
      "False\n",
      "False\n"
     ]
    }
   ],
   "source": [
    "person = {'Name': 'David Doe', \"Age\": 26, 'Weight': '82'}\n",
    "print('Name' in person)\n",
    "print('Name' not in person) # item has \n",
    "print(\"David Doe\" in person) # value has no effect on the operator"
   ]
  },
  {
   "cell_type": "markdown",
   "id": "a8df3bdc",
   "metadata": {},
   "source": [
    "### dictionary method"
   ]
  },
  {
   "cell_type": "code",
   "execution_count": 14,
   "id": "75bce2b4",
   "metadata": {},
   "outputs": [
    {
     "name": "stdout",
     "output_type": "stream",
     "text": [
      "pop method:  10\n",
      "8\n",
      "{'b': 20, 'c': 30, 'd': 40}\n",
      "\n",
      "popitem method:  ('d', 40)\n",
      "{'b': 20, 'c': 30}\n",
      "\n",
      "not get clear:  {'b': 20, 'c': 30}\n",
      "cleared:  {}\n",
      "\n",
      "update key=value:  {'a': 50, 'e': 50}\n",
      "update with key  {1: 'ONE', 2: 'two', 3: 'THREE'}\n",
      "{2: 'TWO', 4: 'FOUR', 3: 'THREE', 0: 'ZERO'}\n",
      "\n",
      "key doesnt exist, use defult:  0\n",
      "get method:  10\n",
      "\n",
      "keys in dic dictionary:  dict_keys(['a', 'b', 'c', 'd'])\n",
      "\n",
      "values in dic dictionary:  dict_values([10, 20, 30, 40])\n",
      "\n",
      "items method:  dict_items([('a', 10), ('b', 20), ('c', 30), ('d', 40)])\n",
      "items method with loop:\n",
      "a : 10\n",
      "b : 20\n",
      "c : 30\n",
      "d : 40\n",
      "\n"
     ]
    }
   ],
   "source": [
    "# pop method\n",
    "dic = {'a': 10, 'b': 20, 'c': 30, 'd': 40}\n",
    "print(\"pop method: \", dic.pop('a')) # delete the a item\n",
    "print(dic.pop('f', 8)) # when key doesnt exist, it returns defult (8) \n",
    "print(dic)\n",
    "print()\n",
    "\n",
    "\n",
    "# popitem method\n",
    "print(\"popitem method: \", dic.popitem())\n",
    "print(dic)\n",
    "print()\n",
    "\n",
    "\n",
    "# clear method\n",
    "print(\"not get clear: \", dic)\n",
    "dic.clear()\n",
    "print(\"cleared: \", dic)\n",
    "print()\n",
    "\n",
    "\n",
    "# update method\n",
    "# dic.update(e = 50)   add item to dict\n",
    "# dic.update(a = 50)   update value\n",
    "dic.update(a = 50, e = 50)  # use comma to modify multiple items\n",
    "print(\"update key=value: \", dic)\n",
    "# update with 'key' type 'int'\n",
    "# update(key=update) can only be used when key is str, if key is a number, use update(dictionary) by passing a dictinary t modify the value\n",
    "dic1 = {1: 'one', 2: 'two'}\n",
    "dic1.update({1: 'ONE', 3: 'THREE'})\n",
    "print(\"update with key \", dic1)\n",
    "# update(list) and update(tuple) . take only 1 argument\n",
    "dic2 = {} \n",
    "# list \n",
    "dic2.update([[2,'TWO'], [4,\"FOUR\"]])\n",
    "dic2.update(((3, 'THREE'), (0, \"ZERO\")))\n",
    "# tuple\n",
    "print(dic2)\n",
    "print()\n",
    "\n",
    "\n",
    "# get method\n",
    "dic = {'a': 10, 'b': 20, 'c': 30, 'd': 40}\n",
    "print(\"key doesnt exist, use defult: \", dic.get('e', 0))# error wont occur when using get method when key doesnt exist\n",
    "print(\"get method: \", dic.get('a'))\n",
    "print()\n",
    "\n",
    "\n",
    "# keys method\n",
    "print(\"keys in dic dictionary: \", dic.keys())\n",
    "print()\n",
    "\n",
    "\n",
    "# values method\n",
    "print(\"values in dic dictionary: \", dic.values())\n",
    "print()\n",
    "\n",
    "\n",
    "# items method\n",
    "# (key,value) tuples are returned as items in a list\n",
    "print(\"items method: \", dic.items())\n",
    "print(\"items method with loop:\")\n",
    "for key, value in dic.items():\n",
    "    print(key, ':', value)\n",
    "print()"
   ]
  },
  {
   "cell_type": "markdown",
   "id": "c55f3089",
   "metadata": {},
   "source": [
    "### built in function in dictionary"
   ]
  },
  {
   "cell_type": "code",
   "execution_count": 15,
   "id": "2c8c3bdf",
   "metadata": {},
   "outputs": [
    {
     "data": {
      "text/plain": [
       "4"
      ]
     },
     "execution_count": 15,
     "metadata": {},
     "output_type": "execute_result"
    }
   ],
   "source": [
    "# len function\n",
    "dic = {'a': 10, 'b': 20, 'c': 30, 'd': 40}\n",
    "len(dic)"
   ]
  },
  {
   "cell_type": "code",
   "execution_count": null,
   "id": "7bdcfac4",
   "metadata": {},
   "outputs": [],
   "source": []
  }
 ],
 "metadata": {
  "kernelspec": {
   "display_name": "Python 3 (ipykernel)",
   "language": "python",
   "name": "python3"
  },
  "language_info": {
   "codemirror_mode": {
    "name": "ipython",
    "version": 3
   },
   "file_extension": ".py",
   "mimetype": "text/x-python",
   "name": "python",
   "nbconvert_exporter": "python",
   "pygments_lexer": "ipython3",
   "version": "3.11.5"
  }
 },
 "nbformat": 4,
 "nbformat_minor": 5
}
