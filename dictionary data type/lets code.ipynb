{
 "cells": [
  {
   "cell_type": "markdown",
   "id": "ff832c0d",
   "metadata": {},
   "source": [
    "### cafe menu"
   ]
  },
  {
   "cell_type": "code",
   "execution_count": 46,
   "id": "954e8f54",
   "metadata": {},
   "outputs": [
    {
     "name": "stdout",
     "output_type": "stream",
     "text": [
      "Our house offer:\n",
      "1. Americano        Price : 3,000 won\n",
      "2. Iced Americano   Price : 3,500 won\n",
      "3. Cappuccino       Price : 4,000 won\n",
      "4. Caffe Latte      Price : 4,500 won\n",
      "5. Espresso         Price : 3,600 won\n",
      "What do you want to order: hi\n",
      "Sorry. Hi is not in the menu\n"
     ]
    }
   ],
   "source": [
    "cafe_menu = {'Americano': 3000,\n",
    "             'Iced Americano': 3500, \n",
    "             'Cappuccino': 4000,\n",
    "             'Caffe Latte': 4500,\n",
    "             'Espresso': 3600,\n",
    "}\n",
    "\n",
    "# print menu\n",
    "print(\"Our house offer:\")\n",
    "i = 0\n",
    "for drink, price in cafe_menu.items():\n",
    "    i += 1\n",
    "    #             space 16         , for hundreds\n",
    "    print(f\"{i}. {drink:16s} Price : {price:,} won\") \n",
    "\n",
    "    \n",
    "# receive order\n",
    "order = input(\"What do you want to order: \").title()\n",
    "\n",
    "\n",
    "# check if order in menu\n",
    "# if order == cafe_menu.get(order):  wont work cuz cafe_menu.get(order) retrieve value and not key\n",
    "if cafe_menu.get(order) is not None:\n",
    "    print(f\"Your total would be {cafe_menu.get(order)} won for {order}.\")\n",
    "else:\n",
    "    print(\"Sorry. {} is not in the menu\".format(order))"
   ]
  },
  {
   "cell_type": "code",
   "execution_count": null,
   "id": "2f2a5460",
   "metadata": {},
   "outputs": [],
   "source": []
  }
 ],
 "metadata": {
  "kernelspec": {
   "display_name": "Python 3 (ipykernel)",
   "language": "python",
   "name": "python3"
  },
  "language_info": {
   "codemirror_mode": {
    "name": "ipython",
    "version": 3
   },
   "file_extension": ".py",
   "mimetype": "text/x-python",
   "name": "python",
   "nbconvert_exporter": "python",
   "pygments_lexer": "ipython3",
   "version": "3.11.5"
  }
 },
 "nbformat": 4,
 "nbformat_minor": 5
}
