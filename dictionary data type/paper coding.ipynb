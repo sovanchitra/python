{
 "cells": [
  {
   "cell_type": "markdown",
   "id": "f615940b",
   "metadata": {},
   "source": [
    "### capital dictionary"
   ]
  },
  {
   "cell_type": "code",
   "execution_count": 2,
   "id": "df30d30b",
   "metadata": {},
   "outputs": [
    {
     "name": "stdout",
     "output_type": "stream",
     "text": [
      "Seoul\n",
      "Seoul\n"
     ]
    }
   ],
   "source": [
    "capital_dic = {'Korea':'Seoul', 'China':'Beijing', 'USA':'Washington DC'}\n",
    "print(capital_dic['Korea'])\n",
    "print(capital_dic.get('Korea'))"
   ]
  },
  {
   "cell_type": "markdown",
   "id": "70db6c76",
   "metadata": {},
   "source": [
    "### fruit dictionary"
   ]
  },
  {
   "cell_type": "code",
   "execution_count": 9,
   "id": "2dd7e808",
   "metadata": {},
   "outputs": [
    {
     "name": "stdout",
     "output_type": "stream",
     "text": [
      "The price of apple is 5000 won.\n",
      "The price of banana is 4000 won.\n",
      "The price of grape is 5300 won.\n",
      "The price of melon is 6500 won.\n",
      "5000\n"
     ]
    }
   ],
   "source": [
    "fruit_dic = {'apple':5000, 'banana':4000, 'grape':5300, 'melon':6500}\n",
    "\n",
    "# use items() method to access all the keys and values in dict\n",
    "# assign fruit as key, price as values\n",
    "for fruit, price in fruit_dic.items():\n",
    "    print(f\"The price of {fruit} is {price} won.\")\n",
    "    \n",
    "print(fruit_dic['apple'])"
   ]
  },
  {
   "cell_type": "code",
   "execution_count": 11,
   "id": "f0d68a19",
   "metadata": {},
   "outputs": [
    {
     "name": "stdout",
     "output_type": "stream",
     "text": [
      "The price of apple is 5000 won.\n",
      "The price of banana is 4000 won.\n",
      "The price of grape is 5300 won.\n",
      "The price of melon is 6500 won.\n"
     ]
    }
   ],
   "source": [
    "fruit_dic = {'apple':5000, 'banana':4000, 'grape':5300, 'melon':6500}\n",
    "\n",
    "for fruit in fruit_dic:\n",
    "    print(f\"The price of {fruit} is {fruit_dic[fruit]} won.\")"
   ]
  },
  {
   "cell_type": "code",
   "execution_count": null,
   "id": "da61cd89",
   "metadata": {},
   "outputs": [],
   "source": []
  }
 ],
 "metadata": {
  "kernelspec": {
   "display_name": "Python 3 (ipykernel)",
   "language": "python",
   "name": "python3"
  },
  "language_info": {
   "codemirror_mode": {
    "name": "ipython",
    "version": 3
   },
   "file_extension": ".py",
   "mimetype": "text/x-python",
   "name": "python",
   "nbconvert_exporter": "python",
   "pygments_lexer": "ipython3",
   "version": "3.11.5"
  }
 },
 "nbformat": 4,
 "nbformat_minor": 5
}
