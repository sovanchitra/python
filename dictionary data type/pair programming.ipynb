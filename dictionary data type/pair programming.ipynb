{
 "cells": [
  {
   "cell_type": "markdown",
   "id": "4996969c",
   "metadata": {},
   "source": [
    "### fruits_dic"
   ]
  },
  {
   "cell_type": "code",
   "execution_count": 6,
   "id": "192a0b98",
   "metadata": {},
   "outputs": [
    {
     "name": "stdout",
     "output_type": "stream",
     "text": [
      "dict_keys(['apple', 'melon', 'banana', 'orange'])\n",
      "Enter a fruit:melon\n",
      "melon is in fruits_dic\n"
     ]
    }
   ],
   "source": [
    "fruits_dic = {'apple': 6000, 'melon': 3000, 'banana': 5000, 'orange': 4000}\n",
    "print(fruits_dic.keys())\n",
    "choose = input(\"Enter a fruit: \")\n",
    "# if choose in fruits_dic:\n",
    "if fruits_dic[choose] is not None:\n",
    "    print(f\"{choose} is in fruits_dic\")\n",
    "else:\n",
    "    print(f\"{choose} is not in fruits_dic\")"
   ]
  },
  {
   "cell_type": "code",
   "execution_count": null,
   "id": "5fb452c6",
   "metadata": {},
   "outputs": [],
   "source": []
  }
 ],
 "metadata": {
  "kernelspec": {
   "display_name": "Python 3 (ipykernel)",
   "language": "python",
   "name": "python3"
  },
  "language_info": {
   "codemirror_mode": {
    "name": "ipython",
    "version": 3
   },
   "file_extension": ".py",
   "mimetype": "text/x-python",
   "name": "python",
   "nbconvert_exporter": "python",
   "pygments_lexer": "ipython3",
   "version": "3.11.5"
  }
 },
 "nbformat": 4,
 "nbformat_minor": 5
}
