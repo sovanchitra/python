{
 "cells": [
  {
   "cell_type": "markdown",
   "id": "51443bd8",
   "metadata": {},
   "source": [
    "### game score"
   ]
  },
  {
   "cell_type": "code",
   "execution_count": 3,
   "id": "e3d42c9c",
   "metadata": {},
   "outputs": [
    {
     "name": "stdout",
     "output_type": "stream",
     "text": [
      "Enter your game score: 3\n",
      "Game score = 3\n"
     ]
    }
   ],
   "source": [
    "score = int(input(\"Enter your game score: \"))\n",
    "if score >= 1000:\n",
    "    print(\"You are a pro\")\n",
    "else:\n",
    "    print(f\"Game score = {score}\")"
   ]
  },
  {
   "cell_type": "markdown",
   "id": "a48ea343",
   "metadata": {},
   "source": [
    "### random module for -100 to 100"
   ]
  },
  {
   "cell_type": "code",
   "execution_count": 2,
   "id": "6938c193",
   "metadata": {},
   "outputs": [
    {
     "name": "stdout",
     "output_type": "stream",
     "text": [
      "Enter integer: 55\n",
      "x = 55\n",
      "x is natural number.\n",
      "\n"
     ]
    }
   ],
   "source": [
    "# import random as r\n",
    "\n",
    "# x = r.randint(-100,100)\n",
    "# if x < 0:\n",
    "#     print(f\"x = {x}\")\n",
    "# else:\n",
    "#     print(f'''x = {x}\n",
    "# x is natural number.\n",
    "# ''')\n",
    "    \n",
    "x = int(input(\"Enter integer: \"))\n",
    "if x < 0:\n",
    "    print(f\"x = {x}\")\n",
    "else:\n",
    "    print(f'''x = {x}\n",
    "x is natural number.\n",
    "''')"
   ]
  },
  {
   "cell_type": "code",
   "execution_count": null,
   "id": "c74a9676",
   "metadata": {},
   "outputs": [],
   "source": []
  },
  {
   "cell_type": "code",
   "execution_count": null,
   "id": "dcc82a0c",
   "metadata": {},
   "outputs": [],
   "source": []
  }
 ],
 "metadata": {
  "kernelspec": {
   "display_name": "Python 3 (ipykernel)",
   "language": "python",
   "name": "python3"
  },
  "language_info": {
   "codemirror_mode": {
    "name": "ipython",
    "version": 3
   },
   "file_extension": ".py",
   "mimetype": "text/x-python",
   "name": "python",
   "nbconvert_exporter": "python",
   "pygments_lexer": "ipython3",
   "version": "3.11.5"
  }
 },
 "nbformat": 4,
 "nbformat_minor": 5
}
