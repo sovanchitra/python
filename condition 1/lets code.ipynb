{
 "cells": [
  {
   "cell_type": "markdown",
   "id": "ae888ab9",
   "metadata": {},
   "source": [
    "###  Lottery winning simulation"
   ]
  },
  {
   "cell_type": "code",
   "execution_count": 13,
   "id": "49452b4b",
   "metadata": {},
   "outputs": [
    {
     "name": "stdout",
     "output_type": "stream",
     "text": [
      "Enter 3 numbers: 9 2 3\n",
      "You won the lottery!\n"
     ]
    }
   ],
   "source": [
    "num = input(\"Enter 3 numbers: \")\n",
    "if num == \"2 3 9\" or num == \"2 9 3\" or num == \"3 2 9\" or num == \"3 9 2\" or num == \"9 3 2\" or num == \"9 2 3\":\n",
    "    print(\"You won the lottery!\")\n",
    "else:\n",
    "    None"
   ]
  },
  {
   "cell_type": "code",
   "execution_count": 12,
   "id": "78cbb50c",
   "metadata": {},
   "outputs": [
    {
     "name": "stdout",
     "output_type": "stream",
     "text": [
      "Enter three lottery numbers: 2 3 9\n",
      "You won the lottery!\n"
     ]
    }
   ],
   "source": [
    "n1, n2, n3 = 2, 3, 9\n",
    "\n",
    "n = 0\n",
    "x, y, z = input(\"Enter three lottery numbers: \").split()\n",
    "x = int(x)\n",
    "y = int(y)\n",
    "z = int(z)\n",
    "\n",
    "if x == n1 or x == n2 or x == n3:\n",
    "    n += 1\n",
    "if y == n1 or y == n2 or y == n3:\n",
    "    n += 1\n",
    "if z == n1 or z == n2 or z == n3:\n",
    "    n += 1\n",
    "if n == 3:\n",
    "    print(\"You won the lottery!\")"
   ]
  },
  {
   "cell_type": "code",
   "execution_count": null,
   "id": "7a5b798f",
   "metadata": {},
   "outputs": [],
   "source": []
  }
 ],
 "metadata": {
  "kernelspec": {
   "display_name": "Python 3 (ipykernel)",
   "language": "python",
   "name": "python3"
  },
  "language_info": {
   "codemirror_mode": {
    "name": "ipython",
    "version": 3
   },
   "file_extension": ".py",
   "mimetype": "text/x-python",
   "name": "python",
   "nbconvert_exporter": "python",
   "pygments_lexer": "ipython3",
   "version": "3.11.5"
  }
 },
 "nbformat": 4,
 "nbformat_minor": 5
}
