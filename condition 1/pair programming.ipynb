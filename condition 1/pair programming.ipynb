{
 "cells": [
  {
   "cell_type": "markdown",
   "id": "407ea2da",
   "metadata": {},
   "source": [
    "### Age for hoods"
   ]
  },
  {
   "cell_type": "code",
   "execution_count": 8,
   "id": "cae86bb7",
   "metadata": {},
   "outputs": [
    {
     "name": "stdout",
     "output_type": "stream",
     "text": [
      "Enter age: 19.5\n",
      "Youth\n"
     ]
    }
   ],
   "source": [
    "age = float(input(\"Enter age: \"))\n",
    "if age < 10:\n",
    "    print(\"Kid\")\n",
    "elif 10 <= age < 20:\n",
    "    print(\"Youth\")\n",
    "else:\n",
    "    print(\"Adult\")"
   ]
  },
  {
   "cell_type": "markdown",
   "id": "785168d7",
   "metadata": {},
   "source": [
    "### Are you eligible to enter"
   ]
  },
  {
   "cell_type": "code",
   "execution_count": 14,
   "id": "035d7d98",
   "metadata": {},
   "outputs": [
    {
     "name": "stdout",
     "output_type": "stream",
     "text": [
      "Enter your age: 1\n",
      "Enter your height in cm: 1\n"
     ]
    }
   ],
   "source": [
    "age = float(input(\"Enter your age: \"))\n",
    "height = int(input(\"Enter your height in cm: \"))\n",
    "if age <= 65 and height >= 110:\n",
    "    print(\"You can enter.\")"
   ]
  },
  {
   "cell_type": "code",
   "execution_count": null,
   "id": "59ab9e03",
   "metadata": {},
   "outputs": [],
   "source": []
  }
 ],
 "metadata": {
  "kernelspec": {
   "display_name": "Python 3 (ipykernel)",
   "language": "python",
   "name": "python3"
  },
  "language_info": {
   "codemirror_mode": {
    "name": "ipython",
    "version": 3
   },
   "file_extension": ".py",
   "mimetype": "text/x-python",
   "name": "python",
   "nbconvert_exporter": "python",
   "pygments_lexer": "ipython3",
   "version": "3.11.5"
  }
 },
 "nbformat": 4,
 "nbformat_minor": 5
}
