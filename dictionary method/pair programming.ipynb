{
 "cells": [
  {
   "cell_type": "markdown",
   "id": "c3d16c7c",
   "metadata": {},
   "source": [
    "### inventory"
   ]
  },
  {
   "cell_type": "code",
   "execution_count": 50,
   "id": "e63ca1fa",
   "metadata": {},
   "outputs": [
    {
     "name": "stdout",
     "output_type": "stream",
     "text": [
      "1) Inventory inquiry\n",
      "2) Incoming stock\n",
      "3) Outing stock\n",
      "4) Quit\n",
      "Select a menu: car\n",
      "1) Inventory inquiry\n",
      "2) Incoming stock\n",
      "3) Outing stock\n",
      "4) Quit\n",
      "Select a menu: j\n",
      "1) Inventory inquiry\n",
      "2) Incoming stock\n",
      "3) Outing stock\n",
      "4) Quit\n",
      "Select a menu: 4\n",
      "Quit the program.\n"
     ]
    }
   ],
   "source": [
    "items = {'Coffee drink': 7, 'Pen': 3, 'Paper cup': 2, 'Milk': 1, 'Coke': 4, 'Book': 5}\n",
    "\n",
    "while True:\n",
    "    menu = input('''1) Inventory inquiry\n",
    "2) Incoming stock\n",
    "3) Outing stock\n",
    "4) Quit\n",
    "Select a menu: ''')\n",
    "    \n",
    "    \n",
    "    if menu == \"1\":\n",
    "        inventory_inquiry = input(\"Enter the name of the product : \").title()\n",
    "        if inventory_inquiry in items:\n",
    "            print(\"Inventory\", items[inventory_inquiry])\n",
    "            \n",
    "        \n",
    "    if menu == \"2\":\n",
    "        incoming_stock = input(\"Enter the name and the quantity of the product : \")\n",
    "        product, amount = incoming_stock.split()\n",
    "        items[product] += int(amount)\n",
    "        \n",
    "    if menu == \"3\":\n",
    "        outing_stock = input(\"Enter the name of the product\")\n",
    "        product, amount = outing_stock.split()\n",
    "        items[product] -= int(amount)\n",
    "    \n",
    "    if menu == \"4\":\n",
    "        print(\"Quit the program.\")\n",
    "        break\n"
   ]
  },
  {
   "cell_type": "markdown",
   "id": "14299e78",
   "metadata": {},
   "source": [
    "### student_tuple to dictionary"
   ]
  },
  {
   "cell_type": "code",
   "execution_count": 23,
   "id": "23eff00e",
   "metadata": {},
   "outputs": [
    {
     "ename": "ValueError",
     "evalue": "too many values to unpack (expected 2)",
     "output_type": "error",
     "traceback": [
      "\u001b[0;31m---------------------------------------------------------------------------\u001b[0m",
      "\u001b[0;31mValueError\u001b[0m                                Traceback (most recent call last)",
      "Cell \u001b[0;32mIn[23], line 7\u001b[0m\n\u001b[1;32m      1\u001b[0m student_tuple \u001b[38;5;241m=\u001b[39m [(\u001b[38;5;124m'\u001b[39m\u001b[38;5;124m211101\u001b[39m\u001b[38;5;124m'\u001b[39m, \u001b[38;5;124m'\u001b[39m\u001b[38;5;124mDavid Doe\u001b[39m\u001b[38;5;124m'\u001b[39m, \u001b[38;5;124m'\u001b[39m\u001b[38;5;124m010-1234-4500\u001b[39m\u001b[38;5;124m'\u001b[39m),\n\u001b[1;32m      2\u001b[0m               (\u001b[38;5;124m'\u001b[39m\u001b[38;5;124m211102\u001b[39m\u001b[38;5;124m'\u001b[39m, \u001b[38;5;124m'\u001b[39m\u001b[38;5;124mJohn Smith\u001b[39m\u001b[38;5;124m'\u001b[39m, \u001b[38;5;124m'\u001b[39m\u001b[38;5;124m010-2230-6540\u001b[39m\u001b[38;5;124m'\u001b[39m),\n\u001b[1;32m      3\u001b[0m               (\u001b[38;5;124m'\u001b[39m\u001b[38;5;124m211103\u001b[39m\u001b[38;5;124m'\u001b[39m, \u001b[38;5;124m'\u001b[39m\u001b[38;5;124mJane Carter\u001b[39m\u001b[38;5;124m'\u001b[39m, \u001b[38;5;124m'\u001b[39m\u001b[38;5;124m010-3232-7788\u001b[39m\u001b[38;5;124m'\u001b[39m)]\n\u001b[1;32m      5\u001b[0m student_dictionary \u001b[38;5;241m=\u001b[39m {}\n\u001b[0;32m----> 7\u001b[0m \u001b[38;5;28;01mfor\u001b[39;00m key, val \u001b[38;5;129;01min\u001b[39;00m student_tuple:\n\u001b[1;32m      8\u001b[0m     key \u001b[38;5;241m=\u001b[39m student_tuple[student][\u001b[38;5;241m0\u001b[39m]\n\u001b[1;32m      9\u001b[0m     val \u001b[38;5;241m=\u001b[39m student_tuple[[student][\u001b[38;5;241m1\u001b[39m], [student][\u001b[38;5;241m2\u001b[39m]]\n",
      "\u001b[0;31mValueError\u001b[0m: too many values to unpack (expected 2)"
     ]
    }
   ],
   "source": [
    "student_tuple = [('211101', 'David Doe', '010-1234-4500'),\n",
    "              ('211102', 'John Smith', '010-2230-6540'),\n",
    "              ('211103', 'Jane Carter', '010-3232-7788')]\n",
    "\n",
    "student_dictionary = {}\n",
    "\n",
    "for key, val in student_tuple:\n",
    "    key = student_tuple[student][0]\n",
    "    val = student_tuple[[student][1], [student][2]]\n",
    "    student_dictionary.setdefault(key, val)\n",
    "print(student_dictionary)\n",
    "\n",
    "\n"
   ]
  },
  {
   "cell_type": "code",
   "execution_count": 18,
   "id": "dcd3b3f6",
   "metadata": {},
   "outputs": [
    {
     "name": "stdout",
     "output_type": "stream",
     "text": [
      "{'akash': 10, 'gaurav': 12, 'anand': 14, 'suraj': 20, 'akhil': 25, 'ashish': 30}\n"
     ]
    }
   ],
   "source": [
    "tups = [(\"akash\", 10), (\"gaurav\", 12), (\"anand\", 14),\n",
    "\t\t(\"suraj\", 20), (\"akhil\", 25), (\"ashish\", 30)]\n",
    "dictionary = {}\n",
    "for key, val in tups:\n",
    "\tdictionary.setdefault(key, val)\n",
    "print(dictionary)\n",
    "# This code is contributed by Vinay Pinjala.\n"
   ]
  },
  {
   "cell_type": "code",
   "execution_count": 20,
   "id": "6e1569cb",
   "metadata": {},
   "outputs": [
    {
     "name": "stdout",
     "output_type": "stream",
     "text": [
      "{'211101': 'David Doe', '211102': 'John Smith', '211103': 'Jane Carter'}\n"
     ]
    }
   ],
   "source": [
    "student_tuple = [('211101', 'David Doe'),\n",
    "              ('211102', 'John Smith'),\n",
    "              ('211103', 'Jane Carter')]\n",
    "\n",
    "student_dictionary = {}\n",
    "for key, val in student_tuple:\n",
    "#     key = student_tuple[student][0]\n",
    "#     value = student_tuple[[student][1], [student][2]]\n",
    "    student_dictionary.setdefault(key, val)\n",
    "print(student_dictionary)"
   ]
  },
  {
   "cell_type": "markdown",
   "id": "2e017351",
   "metadata": {},
   "source": [
    "### test"
   ]
  },
  {
   "cell_type": "code",
   "execution_count": 31,
   "id": "aed014cf",
   "metadata": {},
   "outputs": [
    {
     "name": "stdout",
     "output_type": "stream",
     "text": [
      "{'d': 2, 'e': 3, 'f': 2}\n"
     ]
    }
   ],
   "source": [
    "s_list = ['d', 'e', 'f', 'e', 'd', 'e', 'f']\n",
    "dic = {}\n",
    "for item_key in s_list:\n",
    "    if item_key not in dic.keys():\n",
    "        dic[item_key] = 0\n",
    "    dic[item_key] += 1\n",
    "    \n",
    "print(dic)"
   ]
  },
  {
   "cell_type": "code",
   "execution_count": 32,
   "id": "dbf26346",
   "metadata": {},
   "outputs": [
    {
     "name": "stdout",
     "output_type": "stream",
     "text": [
      "{'d': 2, 'e': 3, 'f': 2}\n"
     ]
    }
   ],
   "source": [
    "s_list = ['d', 'e', 'f', 'e', 'd', 'e', 'f']\n",
    "dic = {}\n",
    "for item_key in s_list:\n",
    "    dic.setdefault(item_key, 0)\n",
    "    dic[item_key] += 1\n",
    "print(dic)"
   ]
  },
  {
   "cell_type": "code",
   "execution_count": 35,
   "id": "d6f72993",
   "metadata": {},
   "outputs": [
    {
     "name": "stdout",
     "output_type": "stream",
     "text": [
      "{10: 0, 20: 0, 30: 0, 40: 0, 50: 0}\n"
     ]
    }
   ],
   "source": [
    "keys = [10,20,30,40,50]\n",
    "dic = dict.fromkeys(keys, 0)\n",
    "print(dic)"
   ]
  },
  {
   "cell_type": "code",
   "execution_count": 37,
   "id": "562e714b",
   "metadata": {},
   "outputs": [
    {
     "name": "stdout",
     "output_type": "stream",
     "text": [
      "1 0\n"
     ]
    }
   ],
   "source": [
    "from collections import defaultdict\n",
    "dic = defaultdict(int)\n",
    "dic['x'] = 1\n",
    "print(dic['x'], dic['y'])"
   ]
  },
  {
   "cell_type": "markdown",
   "id": "4dd9d6c2",
   "metadata": {},
   "source": [
    "### zip function"
   ]
  },
  {
   "cell_type": "code",
   "execution_count": 51,
   "id": "190363df",
   "metadata": {},
   "outputs": [
    {
     "data": {
      "text/plain": [
       "set()"
      ]
     },
     "execution_count": 51,
     "metadata": {},
     "output_type": "execute_result"
    }
   ],
   "source": [
    "empty_iterator = zip()\n",
    "result = set(empty_iterator)\n",
    "result"
   ]
  },
  {
   "cell_type": "code",
   "execution_count": 52,
   "id": "b443750e",
   "metadata": {},
   "outputs": [
    {
     "name": "stdout",
     "output_type": "stream",
     "text": [
      "(10, 'ten')\n",
      "(20, 'twenty')\n",
      "(30, 'thirty')\n"
     ]
    }
   ],
   "source": [
    "a = [10,20,30]\n",
    "b = ('ten', 'twenty', 'thirty')\n",
    "for val in zip(a,b):\n",
    "    print(val)"
   ]
  },
  {
   "cell_type": "code",
   "execution_count": 54,
   "id": "6a824e56",
   "metadata": {},
   "outputs": [
    {
     "data": {
      "text/plain": [
       "[('hello', 1, 400), ('world', 2, 500), ('python', 3, 600)]"
      ]
     },
     "execution_count": 54,
     "metadata": {},
     "output_type": "execute_result"
    }
   ],
   "source": [
    "str_list = ['hello', 'world', 'python', 'rocks']\n",
    "int_tuple = (1,2,3)\n",
    "int_list = [400, 500, 600, 700, 800]\n",
    "my_iterator = zip(str_list, int_tuple, int_list)\n",
    "list(my_iterator)"
   ]
  },
  {
   "cell_type": "code",
   "execution_count": 56,
   "id": "19a35a17",
   "metadata": {},
   "outputs": [
    {
     "name": "stdout",
     "output_type": "stream",
     "text": [
      "('hello', 'world', 'python') (1, 2, 3) (400, 500, 600)\n"
     ]
    }
   ],
   "source": [
    "zip_lst = list(zip(str_list, int_tuple, int_list))\n",
    "a,b,c = zip(* zip_lst)\n",
    "print(a,b,c)"
   ]
  },
  {
   "cell_type": "code",
   "execution_count": null,
   "id": "8344ccda",
   "metadata": {},
   "outputs": [],
   "source": []
  }
 ],
 "metadata": {
  "kernelspec": {
   "display_name": "Python 3 (ipykernel)",
   "language": "python",
   "name": "python3"
  },
  "language_info": {
   "codemirror_mode": {
    "name": "ipython",
    "version": 3
   },
   "file_extension": ".py",
   "mimetype": "text/x-python",
   "name": "python",
   "nbconvert_exporter": "python",
   "pygments_lexer": "ipython3",
   "version": "3.11.5"
  }
 },
 "nbformat": 4,
 "nbformat_minor": 5
}
