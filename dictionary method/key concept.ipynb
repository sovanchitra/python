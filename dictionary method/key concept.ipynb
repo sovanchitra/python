{
 "cells": [
  {
   "cell_type": "markdown",
   "id": "2f7ca530",
   "metadata": {},
   "source": [
    "## review"
   ]
  },
  {
   "cell_type": "code",
   "execution_count": 81,
   "id": "f0071873",
   "metadata": {},
   "outputs": [
    {
     "name": "stdout",
     "output_type": "stream",
     "text": [
      "dict_items([('David Doe', '010-1234-5678'), ('John Smith', '010-1234-5679'), ('Jane Carter', '010-1234-5680')])\n",
      "David Doe : 010-1234-5678\n",
      "John Smith : 010-1234-5679\n",
      "Jane Carter : 010-1234-5680\n",
      "\n",
      "dict_keys(['David Doe', 'John Smith', 'Jane Carter'])\n",
      "dict_values(['010-1234-5678', '010-1234-5679', '010-1234-5680'])\n",
      "\n",
      "a b c d a 10\n",
      "b 20\n",
      "c 30\n",
      "d 40\n",
      "\n"
     ]
    }
   ],
   "source": [
    "# items method: return items as tuple\n",
    "phone_book = {'David Doe': '010-1234-5678', 'John Smith': '010-1234-5679', 'Jane Carter': '010-1234-5680'}\n",
    "print(phone_book.items())\n",
    "\n",
    "for name, phone_num in phone_book.items():\n",
    "    print(name, ':', phone_num)\n",
    "print()  \n",
    "\n",
    "# keys method: retrieve all keys in dict\n",
    "# values method: retrieve all values in dict\n",
    "print(phone_book.keys())\n",
    "print(phone_book.values())\n",
    "print()\n",
    "\n",
    "# printing dictionary using loops\n",
    "x = {'a': 10, 'b': 20, 'c': 30, 'd': 40}\n",
    "for i in x:\n",
    "    print(i, end = ' ')\n",
    "for key, value in x.items():\n",
    "    print(key, value)\n",
    "    \n",
    "print()"
   ]
  },
  {
   "cell_type": "markdown",
   "id": "26891d6c",
   "metadata": {},
   "source": [
    "### setdefult method"
   ]
  },
  {
   "cell_type": "code",
   "execution_count": 82,
   "id": "df70a20f",
   "metadata": {},
   "outputs": [
    {
     "name": "stdout",
     "output_type": "stream",
     "text": [
      "[('a', 1)]\n",
      "[('a', 1), ('b', 1)]\n",
      "[('a', 1), ('b', 1), ('c', 1)]\n",
      "[('a', 1), ('b', 2), ('c', 1)]\n",
      "[('a', 2), ('b', 2), ('c', 1)]\n",
      "[('a', 2), ('b', 3), ('c', 1)]\n",
      "[('a', 2), ('b', 3), ('c', 2)]\n",
      "alphabet counting : {'a': 2, 'b': 3, 'c': 2}\n",
      "\n",
      "{'a': 10, 'b': 20, 'c': 30, 'd': 40, 'f': 50}\n"
     ]
    }
   ],
   "source": [
    "str1 = ['a','b','c','b','a','b','c']\n",
    "dic = {}\n",
    "for ch in str1:\n",
    "    dic.setdefault(ch, 0) # checks if the character ch is already a key in the dictionary. \n",
    "                          # If it's not present, setdefault sets the default value for that key to 0. (1st loop of that ch)\n",
    "                          # ensure that each character encountered in str1 becomes a key in dictionary.\n",
    "    dic[ch] += 1\n",
    "    print(list(dic.items()))\n",
    "    \n",
    "print('alphabet counting :', dic)\n",
    "\n",
    "print()\n",
    "\n",
    "dic = {'a': 10, 'b': 20, 'c': 30, 'd': 40}\n",
    "dic.setdefault('f', 50) # check if 'f' already exist in dic, if not set it to key with value of 50\n",
    "print(dic)"
   ]
  },
  {
   "cell_type": "markdown",
   "id": "515ad730",
   "metadata": {},
   "source": [
    "### fromkeys function"
   ]
  },
  {
   "cell_type": "code",
   "execution_count": 6,
   "id": "242137fc",
   "metadata": {},
   "outputs": [
    {
     "name": "stdout",
     "output_type": "stream",
     "text": [
      "{'a': None, 'b': None, 'c': None, 'd': None}\n",
      "{'a': None, 'b': None, 'c': None, 'd': None}\n",
      "{'a': 100}\n"
     ]
    }
   ],
   "source": [
    "keys = ['a', 'b', 'c', 'd']\n",
    "x = dict.fromkeys(keys)  # make list to dictionary\n",
    "print(x)\n",
    "\n",
    "keys = ('a', 'b', 'c', 'd')\n",
    "y = dict.fromkeys(keys)\n",
    "print(y)\n",
    "\n",
    "z = dict.fromkeys('a', 100)\n",
    "print(z)"
   ]
  },
  {
   "cell_type": "markdown",
   "id": "1c4e8f87",
   "metadata": {},
   "source": [
    "### nested dictionary"
   ]
  },
  {
   "cell_type": "code",
   "execution_count": 8,
   "id": "1def9c5f",
   "metadata": {},
   "outputs": [
    {
     "name": "stdout",
     "output_type": "stream",
     "text": [
      "6051.8\n"
     ]
    }
   ],
   "source": [
    "terrestrial_planet = {\n",
    "    'Mercury' : {\n",
    "        'mean_radius' : 2439.7,\n",
    "        'mass' : 3.3022E+23,\n",
    "        'orbital_period' : 87.969\n",
    "    },\n",
    "    'Venus' : {\n",
    "        'mean_radius' : 6051.8,\n",
    "        'mass' : 4.8676E+24,\n",
    "        'orbital_period' : 224.70069\n",
    "    },\n",
    "    'Earth' : {\n",
    "        'mean_radius' : 6371.0,\n",
    "        'mass' : 5.97219E+24,\n",
    "        'orbital_period' : 365.25641\n",
    "    },\n",
    "    'Mars' : {\n",
    "        'mean_radius' : 3389.5,\n",
    "        'mass' : 6.4185E+23,\n",
    "        'orbital_period' : 686.9600\n",
    "    }\n",
    "}\n",
    "\n",
    "print(terrestrial_planet['Venus']['mean_radius'])"
   ]
  },
  {
   "cell_type": "markdown",
   "id": "17c26eb6",
   "metadata": {},
   "source": [
    "### assignment and copying of dictionary"
   ]
  },
  {
   "cell_type": "code",
   "execution_count": 27,
   "id": "2ad381b0",
   "metadata": {},
   "outputs": [
    {
     "name": "stdout",
     "output_type": "stream",
     "text": [
      "True\n",
      "{'a': 90, 'b': 0, 'c': 0, 'd': 0}\n",
      "{'a': 90, 'b': 0, 'c': 0, 'd': 0}\n",
      "\n",
      "False\n",
      "True\n",
      "\n",
      "False\n",
      "False\n"
     ]
    }
   ],
   "source": [
    "x = {'a' : 0, 'b' : 0, 'c' : 0, 'd' : 0}\n",
    "y = x  # only one dictionary not two\n",
    "print(x is y)\n",
    "\n",
    "# x and y point to the same obj, changing one will result in changing both\n",
    "y['a'] = 90\n",
    "print(y)\n",
    "print(x)\n",
    "\n",
    "print()\n",
    "\n",
    "# use copy to make x and y point to different obj\n",
    "y = x.copy()\n",
    "print(x is y) # x is not y anymore\n",
    "print(x == y) # but x equals y\n",
    "print()\n",
    "\n",
    "# when use copy and change it wont change both x and y. 2 diff obj\n",
    "y['a'] = 99\n",
    "print(x is y)\n",
    "print(x == y)"
   ]
  },
  {
   "cell_type": "markdown",
   "id": "a8d83623",
   "metadata": {},
   "source": [
    "### deep copy"
   ]
  },
  {
   "cell_type": "code",
   "execution_count": 34,
   "id": "920cb361",
   "metadata": {},
   "outputs": [
    {
     "name": "stdout",
     "output_type": "stream",
     "text": [
      "{'a': {'python': '2.7.15'}, 'b': {'python': '3.6'}}\n",
      "{'a': {'python': '2.7.15'}, 'b': {'python': '3.6'}}\n"
     ]
    }
   ],
   "source": [
    "x = {'a' : {'python' : '2.7'}, 'b' : {'python' : '3.6'}}\n",
    "# copy of nested dictionary with .copy() is not possible (change both x and y)\n",
    "y = x.copy()\n",
    "y['a']['python'] = '2.7.15'\n",
    "print(x)\n",
    "print(y)"
   ]
  },
  {
   "cell_type": "code",
   "execution_count": 36,
   "id": "3e268b21",
   "metadata": {},
   "outputs": [
    {
     "name": "stdout",
     "output_type": "stream",
     "text": [
      "{'a': {'python': '2.7'}, 'b': {'python': '3.6'}}\n",
      "{'a': {'python': '2.7.15'}, 'b': {'python': '3.6'}}\n"
     ]
    }
   ],
   "source": [
    "# use copy.deepcopy() from copy module instead to change only one (x or y)\n",
    "import copy as c\n",
    "\n",
    "x = {'a' : {'python' : '2.7'}, 'b' : {'python' : '3.6'}}\n",
    "y = c.deepcopy(x)\n",
    "y['a']['python'] = '2.7.15'\n",
    "print(x)\n",
    "print(y)"
   ]
  },
  {
   "cell_type": "markdown",
   "id": "bcea5368",
   "metadata": {},
   "source": [
    "### json"
   ]
  },
  {
   "cell_type": "code",
   "execution_count": 39,
   "id": "ca30a3a1",
   "metadata": {},
   "outputs": [
    {
     "name": "stdout",
     "output_type": "stream",
     "text": [
      "<class 'dict'>\n",
      "David Doe\n",
      "{'father': 'John Doe', 'mother': 'Marry Doe'}\n",
      "True\n"
     ]
    }
   ],
   "source": [
    "# read json formatted string, use loads()\n",
    "import json\n",
    "\n",
    "data = '{\"Name\": \"David Doe\", \"Age\": 25, \"Hobby\": [\"basketball\"], \\\n",
    "\"Family\": {\"father\": \"John Doe\", \"mother\": \"Marry Doe\"}, \"Married\": true}'\n",
    "\n",
    "json_data = json.loads(data)\n",
    "\n",
    "print(type(json_data))\n",
    "print(json_data['Name'])\n",
    "print(json_data['Family'])\n",
    "print(json_data['Married'])"
   ]
  },
  {
   "cell_type": "code",
   "execution_count": 51,
   "id": "7edf989d",
   "metadata": {},
   "outputs": [
    {
     "name": "stdout",
     "output_type": "stream",
     "text": [
      "<class 'dict'>\n",
      "The Old man and The Sea\n",
      "12345\n",
      "Ernest Hemingway\n"
     ]
    }
   ],
   "source": [
    "import json\n",
    "\n",
    "data = '{\"tittle\": \"The Old man and The Sea\", \"ISBN\": \"12345\", \"Author\": \"Ernest Hemingway\"}'\n",
    "json_data = json.loads(data) #convert json format to dictionary\n",
    "\n",
    "print(type(json_data))\n",
    "print(json_data['tittle'])\n",
    "print(json_data['ISBN'])\n",
    "print(json_data['Author'])"
   ]
  },
  {
   "cell_type": "code",
   "execution_count": 44,
   "id": "00dbbeec",
   "metadata": {},
   "outputs": [],
   "source": [
    "# open and close json file with 'with' statement\n",
    "with open('book.json', 'w') as f: #open json file\n",
    "    pass"
   ]
  },
  {
   "cell_type": "code",
   "execution_count": 52,
   "id": "016cb3f0",
   "metadata": {},
   "outputs": [
    {
     "name": "stdout",
     "output_type": "stream",
     "text": [
      "{'tittle': 'The Old man and The Sea', 'ISBN': '12345', 'Author': 'Ernest Hemingway'}\n"
     ]
    }
   ],
   "source": [
    "# convert dictionary to json using 'dump' function\n",
    "import json\n",
    "\n",
    "data = '{\"tittle\": \"The Old man and The Sea\", \"ISBN\": \"12345\", \"Author\": \"Ernest Hemingway\"}'\n",
    "json_data = json.loads(data)\n",
    "\n",
    "with open('book.json', 'w') as f:  #write mode\n",
    "    json.dump(json_data, f, indent = '\\t')  # use dump() to write json_data as json format to file f\n",
    "                                            # use indent = '\\t' to indent text with tab characters\n",
    "    print(json_data)"
   ]
  },
  {
   "cell_type": "markdown",
   "id": "482fcfd7",
   "metadata": {},
   "source": [
    "### defaultdict data type"
   ]
  },
  {
   "cell_type": "code",
   "execution_count": 77,
   "id": "d87fe5c4",
   "metadata": {},
   "outputs": [
    {
     "name": "stdout",
     "output_type": "stream",
     "text": [
      "100\n",
      "0\n"
     ]
    }
   ],
   "source": [
    "from collections import defaultdict\n",
    "\n",
    "keys = ('a', 'b', 'c', 'd')\n",
    "x = dict.fromkeys(keys, 100) # tuple to dictionary\n",
    "y = defaultdict(int) # calling int() w/o value returns 0\n",
    "print(x['a'])\n",
    "print(y['z'])\n"
   ]
  },
  {
   "cell_type": "code",
   "execution_count": 78,
   "id": "e4c2d50d",
   "metadata": {},
   "outputs": [
    {
     "data": {
      "text/plain": [
       "defaultdict(int, {'a': 4, 'b': 3, 'c': 2})"
      ]
     },
     "execution_count": 78,
     "metadata": {},
     "output_type": "execute_result"
    }
   ],
   "source": [
    "from collections import defaultdict\n",
    "\n",
    "word = 'abcbaabca'\n",
    "counter = defaultdict(int)\n",
    "for letter in word:\n",
    "    counter[letter] += 1\n",
    "    \n",
    "counter"
   ]
  },
  {
   "cell_type": "code",
   "execution_count": 80,
   "id": "9914332f",
   "metadata": {},
   "outputs": [
    {
     "name": "stdout",
     "output_type": "stream",
     "text": [
      "defaultdict(<class 'list'>, {})\n"
     ]
    },
    {
     "data": {
      "text/plain": [
       "[]"
      ]
     },
     "execution_count": 80,
     "metadata": {},
     "output_type": "execute_result"
    }
   ],
   "source": [
    "list_dict = defaultdict(list)\n",
    "print(list_dict)\n",
    "list_dict['list1']"
   ]
  }
 ],
 "metadata": {
  "kernelspec": {
   "display_name": "Python 3 (ipykernel)",
   "language": "python",
   "name": "python3"
  },
  "language_info": {
   "codemirror_mode": {
    "name": "ipython",
    "version": 3
   },
   "file_extension": ".py",
   "mimetype": "text/x-python",
   "name": "python",
   "nbconvert_exporter": "python",
   "pygments_lexer": "ipython3",
   "version": "3.11.5"
  }
 },
 "nbformat": 4,
 "nbformat_minor": 5
}
