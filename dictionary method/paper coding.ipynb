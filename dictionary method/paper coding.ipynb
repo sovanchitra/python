{
 "cells": [
  {
   "cell_type": "markdown",
   "id": "fa21e2bf",
   "metadata": {},
   "source": [
    "### person_dic"
   ]
  },
  {
   "cell_type": "code",
   "execution_count": 1,
   "id": "5f5605ba",
   "metadata": {},
   "outputs": [
    {
     "name": "stdout",
     "output_type": "stream",
     "text": [
      "Last Name : Doe\n",
      "First Name : David\n",
      "Comapny : Samsung\n"
     ]
    }
   ],
   "source": [
    "person_dic = {'Last Name': 'Doe', 'First Name': 'David', 'Comapny': 'Samsung'}\n",
    "\n",
    "for key,value in person_dic.items():\n",
    "    print(key, ':', value)"
   ]
  },
  {
   "cell_type": "markdown",
   "id": "ced24a9d",
   "metadata": {},
   "source": [
    "### inventory"
   ]
  },
  {
   "cell_type": "code",
   "execution_count": 2,
   "id": "9a3da3cc",
   "metadata": {},
   "outputs": [
    {
     "name": "stdout",
     "output_type": "stream",
     "text": [
      "Enter an object: pen\n",
      "3\n"
     ]
    }
   ],
   "source": [
    "items = {'Coffee drink': 7, 'Pen': 3, 'Paper cup': 2, 'Milk': 1, 'Coke': 4, 'Book': 5}\n",
    "choose = input(\"Enter an object: \").title()\n",
    "if choose in items:\n",
    "    print(items[choose])"
   ]
  },
  {
   "cell_type": "markdown",
   "id": "49934fd8",
   "metadata": {},
   "source": [
    "### convert tuple to dictionary"
   ]
  },
  {
   "cell_type": "code",
   "execution_count": 2,
   "id": "616201b6",
   "metadata": {},
   "outputs": [
    {
     "name": "stdout",
     "output_type": "stream",
     "text": [
      "{'211101': ['David Doe', '010-1234-4500']}\n",
      "{'211102': ['John Smith', '010-2230-6540']}\n",
      "{'211103': ['Jane Carter', '010-3232-7788']}\n"
     ]
    }
   ],
   "source": [
    "# for paper coding\n",
    "\n",
    "student_tup = (('211101', 'David Doe', '010-1234-4500'),\n",
    "              ('211102', 'John Smith', '010-2230-6540'),\n",
    "              ('211103', 'Jane Carter', '010-3232-7788'))\n",
    "\n",
    "\n",
    "for i in range(len(student_tup)):\n",
    "    dic ={}\n",
    "    dic[student_tup[i][0]] = [student_tup[i][1], student_tup[i][2]]\n",
    "    print(dic)"
   ]
  },
  {
   "cell_type": "code",
   "execution_count": 11,
   "id": "3b048636",
   "metadata": {},
   "outputs": [
    {
     "name": "stdout",
     "output_type": "stream",
     "text": [
      "{'211101': ['David Doe', '010-1234-4500'], '211102': ['John Smith', '010-2230-6540'], '211103': ['Jane Carter', '010-3232-7788']}\n"
     ]
    }
   ],
   "source": [
    "student_tup = (('211101', 'David Doe', '010-1234-4500'),\n",
    "              ('211102', 'John Smith', '010-2230-6540'),\n",
    "              ('211103', 'Jane Carter', '010-3232-7788'))\n",
    "\n",
    "dic ={}\n",
    "for i in range(len(student_tup)):\n",
    "    dic[student_tup[i][0]] = [student_tup[i][1], student_tup[i][2]]\n",
    "print(dic)"
   ]
  },
  {
   "cell_type": "markdown",
   "id": "b96b26eb",
   "metadata": {},
   "source": [
    "### print name and phone number in student_tup"
   ]
  },
  {
   "cell_type": "code",
   "execution_count": 5,
   "id": "69cf7d02",
   "metadata": {},
   "outputs": [
    {
     "name": "stdout",
     "output_type": "stream",
     "text": [
      "{'211101': ['David Doe', '010-1234-4500'], '211102': ['John Smith', '010-2230-6540'], '211103': ['Jane Carter', '010-3232-7788']}\n",
      "Enter  ur number: 211102\n",
      "Name:  John Smith\n",
      "Phone number : 010-2230-6540\n"
     ]
    }
   ],
   "source": [
    "# first try\n",
    "d1,d2,d3 = {'211101': ['David Doe', '010-1234-4500']}, {'211102': ['John Smith', '010-2230-6540']}, {'211103': ['Jane Carter', '010-3232-7788']}\n",
    "d = {}\n",
    "d.update(d1)\n",
    "d.update(d2)\n",
    "d.update(d3)\n",
    "print(d)\n",
    "\n",
    "a = input(\"Enter  ur number: \")\n",
    "if a in d:\n",
    "    print(\"Name:\", d[a][0])\n",
    "    print(\"Phone number :\", d[a][1])"
   ]
  },
  {
   "cell_type": "code",
   "execution_count": 5,
   "id": "e84940c8",
   "metadata": {},
   "outputs": [
    {
     "name": "stdout",
     "output_type": "stream",
     "text": [
      "Enter your student number: 211101\n",
      "Name: David Doe \n",
      "Phone number : 010-1234-4500\n"
     ]
    }
   ],
   "source": [
    "# last attempt\n",
    "student_tup = (('211101', 'David Doe', '010-1234-4500'),\n",
    "              ('211102', 'John Smith', '010-2230-6540'),\n",
    "              ('211103', 'Jane Carter', '010-3232-7788'))\n",
    "\n",
    "dic = {}\n",
    "for i in range(len(student_tup)):\n",
    "    dic[student_tup[i][0]] = [student_tup[i][1], student_tup[i][2]]\n",
    "\n",
    "while True:\n",
    "    a = input(\"Enter your student number: \")\n",
    "\n",
    "    if a in dic:\n",
    "        print(f\"Name: {dic[a][0]} \\nPhone number : {dic[a][1]}\")\n",
    "        break\n",
    "        \n",
    "    else:\n",
    "        print(\"Please verify your ID.\")"
   ]
  },
  {
   "cell_type": "code",
   "execution_count": 7,
   "id": "694017f9",
   "metadata": {},
   "outputs": [
    {
     "name": "stdout",
     "output_type": "stream",
     "text": [
      "Enter your student number: 211101\n",
      "Name: David Doe \n",
      "Phone number : 010-1234-4500\n"
     ]
    }
   ],
   "source": [
    "# for paper coding\n",
    "\n",
    "student_tup = (('211101', 'David Doe', '010-1234-4500'),\n",
    "              ('211102', 'John Smith', '010-2230-6540'),\n",
    "              ('211103', 'Jane Carter', '010-3232-7788'))\n",
    "\n",
    "dic = {}\n",
    "for i in range(len(student_tup)):\n",
    "    dic[student_tup[i][0]] = [student_tup[i][1], student_tup[i][2]]\n",
    "    \n",
    "a = input(\"Enter your student number: \")\n",
    "\n",
    "if a in dic:\n",
    "    print(f\"Name: {dic[a][0]} \\nPhone number : {dic[a][1]}\")"
   ]
  },
  {
   "cell_type": "code",
   "execution_count": null,
   "id": "fa6b7a00",
   "metadata": {},
   "outputs": [],
   "source": []
  }
 ],
 "metadata": {
  "kernelspec": {
   "display_name": "Python 3 (ipykernel)",
   "language": "python",
   "name": "python3"
  },
  "language_info": {
   "codemirror_mode": {
    "name": "ipython",
    "version": 3
   },
   "file_extension": ".py",
   "mimetype": "text/x-python",
   "name": "python",
   "nbconvert_exporter": "python",
   "pygments_lexer": "ipython3",
   "version": "3.11.5"
  }
 },
 "nbformat": 4,
 "nbformat_minor": 5
}
