{
 "cells": [
  {
   "cell_type": "markdown",
   "id": "1eef14c7",
   "metadata": {},
   "source": [
    "### telephone directory"
   ]
  },
  {
   "cell_type": "code",
   "execution_count": 4,
   "id": "6b8e9717",
   "metadata": {
    "scrolled": false
   },
   "outputs": [
    {
     "name": "stdout",
     "output_type": "stream",
     "text": [
      "Phone book before update\n",
      "Chinese restaurant : 010-1234-4500\n",
      "Japanese restaurant : 010-2230-6540\n",
      "Western restaurant : 010-3232-7788\n",
      "Enter the address and review of Chinese restaurant: tt tt\n",
      "Enter the address and review of Japanese restaurant: tt ty\n",
      "Enter the address and review of Western restaurant: dd f\n",
      "Phone book after update\n",
      "Chinese restaurant : ('010-1234-4500', 'tt', 'tt')\n",
      "Japanese restaurant : ('010-2230-6540', 'tt', 'ty')\n",
      "Western restaurant : ('010-3232-7788', 'dd', 'f')\n"
     ]
    }
   ],
   "source": [
    "p_b = {'Chinese restaurant': ('010-1234-4500'), 'Japanese restaurant': ('010-2230-6540'), 'Western restaurant': ('010-3232-7788')}\n",
    "# ch = input(\"Enter address and review for Chinese restaurant: \")\n",
    "\n",
    "print(\"Phone book before update\")\n",
    "for key, value in p_b.items():\n",
    "    print(key +\" :\", value)\n",
    "\n",
    "for key, value in p_b.items():\n",
    "    adr, review = input(\"Enter the address and review of \" + key + ': ').split()\n",
    "    update = (value, adr, review)\n",
    "    p_b[key] = update\n",
    "    \n",
    "print(\"Phone book after update\")\n",
    "for key, value in p_b.items():\n",
    "    print(key +\" :\", value)"
   ]
  },
  {
   "cell_type": "code",
   "execution_count": null,
   "id": "2e657e15",
   "metadata": {
    "collapsed": true
   },
   "outputs": [],
   "source": []
  }
 ],
 "metadata": {
  "kernelspec": {
   "display_name": "Python 3 (ipykernel)",
   "language": "python",
   "name": "python3"
  },
  "language_info": {
   "codemirror_mode": {
    "name": "ipython",
    "version": 3
   },
   "file_extension": ".py",
   "mimetype": "text/x-python",
   "name": "python",
   "nbconvert_exporter": "python",
   "pygments_lexer": "ipython3",
   "version": "3.11.5"
  }
 },
 "nbformat": 4,
 "nbformat_minor": 5
}
