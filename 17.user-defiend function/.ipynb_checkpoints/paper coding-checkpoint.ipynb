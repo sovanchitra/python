{
 "cells": [
  {
   "cell_type": "markdown",
   "id": "a535759c",
   "metadata": {},
   "source": [
    "### greet twice by calling function twice"
   ]
  },
  {
   "cell_type": "code",
   "execution_count": 1,
   "id": "096349e4",
   "metadata": {},
   "outputs": [
    {
     "name": "stdout",
     "output_type": "stream",
     "text": [
      "Welcome.\n",
      "Welcome.\n"
     ]
    }
   ],
   "source": [
    "def my_greet():\n",
    "    print(\"Welcome.\")\n",
    "    print(\"My name is ..\")\n",
    "    \n",
    "my_greet()\n",
    "my_greet()"
   ]
  },
  {
   "cell_type": "markdown",
   "id": "1474b858",
   "metadata": {},
   "source": [
    "### compare the value of 100 and 200"
   ]
  },
  {
   "cell_type": "code",
   "execution_count": 2,
   "id": "2c0b9160",
   "metadata": {},
   "outputs": [
    {
     "name": "stdout",
     "output_type": "stream",
     "text": [
      "The larger number between 100 and 200 is: 200\n",
      "The smaller number between 100 and 200 is: 100\n"
     ]
    }
   ],
   "source": [
    "def max2(m, n):\n",
    "    print(f\"The larger number between 100 and 200 is: {max(m,n)}\")\n",
    "    \n",
    "def min2(m, n):\n",
    "    print(f\"The smaller number between 100 and 200 is: {min(m,n)}\")\n",
    "    \n",
    "max2(100,200)\n",
    "min2(100,200)"
   ]
  },
  {
   "cell_type": "markdown",
   "id": "7162fc92",
   "metadata": {},
   "source": [
    "### convert mile to kilometer"
   ]
  },
  {
   "cell_type": "code",
   "execution_count": 3,
   "id": "7fee5d1a",
   "metadata": {},
   "outputs": [
    {
     "name": "stdout",
     "output_type": "stream",
     "text": [
      "1 miles = 1.61 kilometers\n",
      "2 miles = 3.22 kilometers\n",
      "3 miles = 4.83 kilometers\n",
      "4 miles = 6.44 kilometers\n",
      "5 miles = 8.05 kilometers\n"
     ]
    }
   ],
   "source": [
    "# output outside of loop \n",
    "\n",
    "def mile2km(mi):\n",
    "    \n",
    "    for mile in range(1, mi+1):\n",
    "        if mile == 1:\n",
    "            print(f\"{mile} miles = {mile*1.61} kilometers\")\n",
    "            \n",
    "        else:\n",
    "            print(f\"{mile} miles = {mile*1.61} kilometers\")\n",
    "        \n",
    "mile2km(5)"
   ]
  },
  {
   "cell_type": "code",
   "execution_count": 19,
   "id": "eb0ce169",
   "metadata": {},
   "outputs": [
    {
     "name": "stdout",
     "output_type": "stream",
     "text": [
      "1 mile = 1.61 kilometer\n",
      "2 miles = 3.22 kilometer\n",
      "3 miles = 4.83 kilometer\n",
      "4 miles = 6.44 kilometer\n",
      "5 miles = 8.05 kilometer\n"
     ]
    }
   ],
   "source": [
    "# output inside of loop (follow instruction)\n",
    "\n",
    "def mile2km(mile):\n",
    "    return mile*1.61\n",
    "\n",
    "n = 5\n",
    "\n",
    "for i in range(1,n+1): #[1,2,3,4,5]\n",
    "    if i == 1:\n",
    "        print(f\"{i} mile = {mile2km(i)} kilometer\")\n",
    "        \n",
    "    else:\n",
    "        print(f\"{i} miles = {mile2km(i)} kilometer\")\n",
    "        \n",
    "# print(f'{i} mile = {ile2km(85)} kilometer')"
   ]
  },
  {
   "cell_type": "markdown",
   "id": "68aabf31",
   "metadata": {},
   "source": [
    "### convert Celsius to Fahrenheit"
   ]
  },
  {
   "cell_type": "code",
   "execution_count": 2,
   "id": "c59639a2",
   "metadata": {},
   "outputs": [
    {
     "name": "stdout",
     "output_type": "stream",
     "text": [
      "10 degrees Celsius = 50.0 degree Fahrenheit\n",
      "20 degrees Celsius = 68.0 degree Fahrenheit\n",
      "30 degrees Celsius = 86.0 degree Fahrenheit\n",
      "40 degrees Celsius = 104.0 degree Fahrenheit\n",
      "50 degrees Celsius = 122.0 degree Fahrenheit\n"
     ]
    }
   ],
   "source": [
    "def cel2fah(cel):\n",
    "    fahrenheit = celsius * (9/5) + 32\n",
    "    return fahrenheit\n",
    "\n",
    "celsius = 10\n",
    "\n",
    "for i in range(10, 51, 10):\n",
    "    if i <= 50:\n",
    "        print(f\"{i} degrees Celsius = {cel2fah(i)} degree Fahrenheit\")\n",
    "        celsius += 10\n",
    "        \n"
   ]
  },
  {
   "cell_type": "code",
   "execution_count": null,
   "id": "6fee0bdc",
   "metadata": {},
   "outputs": [],
   "source": []
  }
 ],
 "metadata": {
  "kernelspec": {
   "display_name": "Python 3 (ipykernel)",
   "language": "python",
   "name": "python3"
  },
  "language_info": {
   "codemirror_mode": {
    "name": "ipython",
    "version": 3
   },
   "file_extension": ".py",
   "mimetype": "text/x-python",
   "name": "python",
   "nbconvert_exporter": "python",
   "pygments_lexer": "ipython3",
   "version": "3.11.5"
  }
 },
 "nbformat": 4,
 "nbformat_minor": 5
}
