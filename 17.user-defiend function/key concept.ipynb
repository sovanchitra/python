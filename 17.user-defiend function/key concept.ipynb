{
 "cells": [
  {
   "cell_type": "markdown",
   "id": "e6c20a10",
   "metadata": {},
   "source": [
    "### defining function"
   ]
  },
  {
   "cell_type": "code",
   "execution_count": 1,
   "id": "b8694ea1",
   "metadata": {},
   "outputs": [],
   "source": [
    "def func():\n",
    "    pass  # postpone the implementation of function\n",
    "\n",
    "func()"
   ]
  },
  {
   "cell_type": "markdown",
   "id": "8616e844",
   "metadata": {},
   "source": [
    "### function call w/o parameter"
   ]
  },
  {
   "cell_type": "code",
   "execution_count": 4,
   "id": "e4b66fa0",
   "metadata": {},
   "outputs": [
    {
     "name": "stdout",
     "output_type": "stream",
     "text": [
      "********************\n",
      "********************\n",
      "********************\n"
     ]
    }
   ],
   "source": [
    "def print_star():\n",
    "    print(\"*\" * 20)  #code block\n",
    "    \n",
    "print_star()\n",
    "print_star()\n",
    "print_star()"
   ]
  },
  {
   "cell_type": "markdown",
   "id": "abd7f015",
   "metadata": {},
   "source": [
    "### function call with parameter"
   ]
  },
  {
   "cell_type": "code",
   "execution_count": 5,
   "id": "d1aa42e4",
   "metadata": {},
   "outputs": [
    {
     "name": "stdout",
     "output_type": "stream",
     "text": [
      "******\n",
      "******\n",
      "******\n",
      "******\n"
     ]
    }
   ],
   "source": [
    "def print_star(n):  # parameter n used to receive value\n",
    "    for _ in range(n):\n",
    "        print('******')\n",
    "    \n",
    "print_star(4)"
   ]
  },
  {
   "cell_type": "code",
   "execution_count": 7,
   "id": "b1c4bcfe",
   "metadata": {},
   "outputs": [
    {
     "name": "stdout",
     "output_type": "stream",
     "text": [
      "Print Hello twice.\n",
      "Hello Hello \n",
      "Print Hello three times.\n",
      "Hello Hello Hello \n",
      "Print Hello four times.\n",
      "Hello Hello Hello Hello \n"
     ]
    }
   ],
   "source": [
    "def print_hello(n):\n",
    "    print('Hello ' * n)\n",
    "    \n",
    "print('Print Hello twice.')\n",
    "print_hello(2)\n",
    "print('Print Hello three times.')\n",
    "print_hello(3)\n",
    "print('Print Hello four times.')\n",
    "print_hello(4)"
   ]
  },
  {
   "cell_type": "code",
   "execution_count": 10,
   "id": "4b775ee4",
   "metadata": {},
   "outputs": [
    {
     "name": "stdout",
     "output_type": "stream",
     "text": [
      "The sum of 10 + 20 is 30\n",
      "The sum of 50 + 40 is 90\n"
     ]
    }
   ],
   "source": [
    "def print_sum(a,b):\n",
    "    result = a + b\n",
    "    print(f\"The sum of {a} + {b} is {result}\")\n",
    "    \n",
    "print_sum(10,20)\n",
    "print_sum(50,40)\n",
    "# print_sum(50) not enough argument will return error"
   ]
  },
  {
   "cell_type": "markdown",
   "id": "f387ae29",
   "metadata": {},
   "source": [
    "### return statement"
   ]
  },
  {
   "cell_type": "code",
   "execution_count": 17,
   "id": "4ebeb0bf",
   "metadata": {},
   "outputs": [
    {
     "data": {
      "text/plain": [
       "10"
      ]
     },
     "execution_count": 17,
     "metadata": {},
     "output_type": "execute_result"
    }
   ],
   "source": [
    "def get_sum(start, end):\n",
    "    s = 0\n",
    "    for i in range(start, end + 1):\n",
    "        s += 1\n",
    "#     print(s)\n",
    "    return s\n",
    "\n",
    "x = get_sum(1,10)\n",
    "x"
   ]
  },
  {
   "cell_type": "code",
   "execution_count": 18,
   "id": "344f46de",
   "metadata": {},
   "outputs": [
    {
     "name": "stdout",
     "output_type": "stream",
     "text": [
      "sum of the two numbers is 30\n"
     ]
    }
   ],
   "source": [
    "def get_sum(a, b):\n",
    "    return a + b\n",
    "\n",
    "result = get_sum(10,20)\n",
    "print(f\"sum of the two numbers is {result}\")"
   ]
  },
  {
   "cell_type": "markdown",
   "id": "1a5bcbe9",
   "metadata": {},
   "source": [
    "### multiple return statement"
   ]
  },
  {
   "cell_type": "code",
   "execution_count": 19,
   "id": "4479b5ae",
   "metadata": {},
   "outputs": [
    {
     "name": "stdout",
     "output_type": "stream",
     "text": [
      "The solution is 2.0 or -4.0\n"
     ]
    }
   ],
   "source": [
    "def get_root(a,b,c):\n",
    "    r1 = (-b + (b ** 2 - 4 * a * c) ** 0.5) / (2 * a)\n",
    "    r2 = (-b - (b ** 2 - 4 * a * c) ** 0.5) / (2 * a)\n",
    "    return r1, r2\n",
    "\n",
    "result1, result2 = get_root(1,2,-8)\n",
    "print(F\"The solution is {result1} or {result2}\")"
   ]
  },
  {
   "cell_type": "code",
   "execution_count": 20,
   "id": "1749b62a",
   "metadata": {},
   "outputs": [
    {
     "name": "stdout",
     "output_type": "stream",
     "text": [
      "The are of a circle with radius 10 is 314.0, teh circumference of the circle is 62.8.\n"
     ]
    }
   ],
   "source": [
    "def circle_area_circum(radius):\n",
    "    area = 3.14 * radius ** 2\n",
    "    circum = 2 * 3.14 * radius\n",
    "    return area, circum\n",
    "\n",
    "radius = 10\n",
    "area, circum = circle_area_circum(radius)\n",
    "print(f\"The are of a circle with radius {radius} is {area:.1f}, teh circumference of the circle is {circum:.1f}.\")"
   ]
  },
  {
   "cell_type": "markdown",
   "id": "2e100f6d",
   "metadata": {},
   "source": [
    "### variable-length parameter"
   ]
  },
  {
   "cell_type": "code",
   "execution_count": 24,
   "id": "93b4d4d2",
   "metadata": {},
   "outputs": [
    {
     "name": "stdout",
     "output_type": "stream",
     "text": [
      "hello A !\n",
      "hello B !\n",
      "hello C !\n",
      "hello James !\n",
      "hello Thomas !\n"
     ]
    }
   ],
   "source": [
    "# accept multiple argument with one parameter\n",
    "def greet(* names):\n",
    "    for name in names:\n",
    "        print('hello', name, '!')\n",
    "        \n",
    "greet('A', 'B', 'C')\n",
    "greet('James', 'Thomas')"
   ]
  },
  {
   "cell_type": "code",
   "execution_count": 25,
   "id": "de9f2b21",
   "metadata": {},
   "outputs": [
    {
     "name": "stdout",
     "output_type": "stream",
     "text": [
      "The number of arguments: 3\n",
      "Arguments: (10, 20, 30)\n"
     ]
    }
   ],
   "source": [
    "def foo(* args):\n",
    "    print('The number of arguments:', len(args))\n",
    "    print('Arguments:', args)\n",
    "    \n",
    "foo(10,20,30)"
   ]
  },
  {
   "cell_type": "code",
   "execution_count": 26,
   "id": "0ef5e4bb",
   "metadata": {},
   "outputs": [
    {
     "name": "stdout",
     "output_type": "stream",
     "text": [
      "60\n",
      "150\n"
     ]
    }
   ],
   "source": [
    "def sum_nums(* numbers):\n",
    "    result = 0\n",
    "    for n in numbers:\n",
    "        result += n\n",
    "    return result\n",
    "\n",
    "print(sum_nums(10,20,30))\n",
    "print(sum_nums(10,20,30,40,50))"
   ]
  },
  {
   "cell_type": "markdown",
   "id": "c9f9d96d",
   "metadata": {},
   "source": [
    "### default value"
   ]
  },
  {
   "cell_type": "code",
   "execution_count": 28,
   "id": "8e8e3c3f",
   "metadata": {},
   "outputs": [
    {
     "name": "stdout",
     "output_type": "stream",
     "text": [
      "************\n",
      "************\n"
     ]
    }
   ],
   "source": [
    "def print_star(n = 1): # n has default value of 1\n",
    "    for _ in range(n):\n",
    "        print(\"************\")\n",
    "print_star() # if argument is not given it will use the default value\n",
    "             # if argument is given it will use the given argument"
   ]
  },
  {
   "cell_type": "code",
   "execution_count": 29,
   "id": "eaca492f",
   "metadata": {},
   "outputs": [
    {
     "name": "stdout",
     "output_type": "stream",
     "text": [
      "div() = 0.5\n",
      "div(4) = 2.0\n",
      "div(6, 3) 2.0\n"
     ]
    }
   ],
   "source": [
    "def div(a = 1, b = 2): # default parameter must be assigned to all variables\n",
    "    return a / b\n",
    "\n",
    "print('div() =', div())\n",
    "print('div(4) =', div(4))  # only a is assigned to 4\n",
    "print('div(6, 3)', div(6, 3)) "
   ]
  },
  {
   "cell_type": "markdown",
   "id": "bc366041",
   "metadata": {},
   "source": [
    "### keyword parameter"
   ]
  },
  {
   "cell_type": "code",
   "execution_count": 30,
   "id": "e5ec190f",
   "metadata": {},
   "outputs": [
    {
     "name": "stdout",
     "output_type": "stream",
     "text": [
      "The solution is 2.0 or -4.0\n"
     ]
    }
   ],
   "source": [
    "result1, result2 = get_root(a = 1, b = 2, c = -8)\n",
    "print('The solution is', result1, 'or', result2)"
   ]
  },
  {
   "cell_type": "code",
   "execution_count": 31,
   "id": "d4e06194",
   "metadata": {},
   "outputs": [
    {
     "name": "stdout",
     "output_type": "stream",
     "text": [
      "The solution is 2.0 or -4.0\n"
     ]
    }
   ],
   "source": [
    "result1, result2 = get_root(a = 1, c = -8, b = 2)\n",
    "print('The solution is', result1, 'or', result2)"
   ]
  },
  {
   "cell_type": "code",
   "execution_count": 32,
   "id": "5adaba18",
   "metadata": {},
   "outputs": [
    {
     "name": "stdout",
     "output_type": "stream",
     "text": [
      "The solution is 2.0 or -4.0\n"
     ]
    }
   ],
   "source": [
    "result1, result2 = get_root(c = -8, b = 2, a = 1)\n",
    "print('The solution is', result1, 'or', result2)"
   ]
  },
  {
   "cell_type": "code",
   "execution_count": 35,
   "id": "d7d937b2",
   "metadata": {},
   "outputs": [
    {
     "name": "stdout",
     "output_type": "stream",
     "text": [
      "The solution is 2.0 or -4.0\n"
     ]
    }
   ],
   "source": [
    "# mixing keyword parameter and positional argument\n",
    "\n",
    "result1, result2 = get_root(1, 2, c = -8)\n",
    "print('The solution is', result1, 'or', result2)"
   ]
  },
  {
   "cell_type": "code",
   "execution_count": 36,
   "id": "7e6e88c6",
   "metadata": {},
   "outputs": [
    {
     "data": {
      "text/plain": [
       "0"
      ]
     },
     "execution_count": 36,
     "metadata": {},
     "output_type": "execute_result"
    }
   ],
   "source": [
    "def func(a, b ,c = 3, d = 4, e = 5):\n",
    "    return a + b + c + d\n",
    "\n",
    "func(1, 2, e = 0, d = -6)"
   ]
  },
  {
   "cell_type": "markdown",
   "id": "b3da3bc6",
   "metadata": {},
   "source": [
    "### creating a cartesian product function"
   ]
  },
  {
   "cell_type": "code",
   "execution_count": 41,
   "id": "c21a7327",
   "metadata": {},
   "outputs": [
    {
     "name": "stdout",
     "output_type": "stream",
     "text": [
      "[((1, 1), 1), ((1, 1), 3), ((1, 3), 1), ((1, 3), 3), ((3, 1), 1), ((3, 1), 3), ((3, 3), 1), ((3, 3), 3)]\n"
     ]
    }
   ],
   "source": [
    "def product_set(set1, set2):\n",
    "    res = set()\n",
    "    for i in set1:\n",
    "        for j in set2:\n",
    "            res = res | {(i, j)}\n",
    "    return res\n",
    "\n",
    "def exp(input_set, exponent):\n",
    "    res = input_set\n",
    "    for _ in range(exponent-1):\n",
    "        res = product_set(res, input_set)\n",
    "        \n",
    "    return res\n",
    "    \n",
    "A = {1, 3}\n",
    "A3 = exp(A, 3)\n",
    "print(sorted(A3))"
   ]
  },
  {
   "cell_type": "code",
   "execution_count": 42,
   "id": "884a8b11",
   "metadata": {},
   "outputs": [
    {
     "name": "stdout",
     "output_type": "stream",
     "text": [
      "length 36\n",
      "[(1, 1), (1, 2), (1, 3), (1, 4), (1, 5), (1, 6), (2, 1), (2, 2), (2, 3), (2, 4), (2, 5), (2, 6), (3, 1), (3, 2), (3, 3), (3, 4), (3, 5), (3, 6), (4, 1), (4, 2), (4, 3), (4, 4), (4, 5), (4, 6), (5, 1), (5, 2), (5, 3), (5, 4), (5, 5), (5, 6), (6, 1), (6, 2), (6, 3), (6, 4), (6, 5), (6, 6)]\n"
     ]
    }
   ],
   "source": [
    "# all possible outcome of throwing a dice twice\n",
    "def product_set(set1, set2):\n",
    "    res = set()\n",
    "    for i in set1:\n",
    "        for j in set2:\n",
    "            res = res | {(i, j)}\n",
    "    return res\n",
    "\n",
    "cases = {1,2,3,4,5,6}\n",
    "cases_2times = product_set(cases, cases)\n",
    "print('length', len(cases_2times))\n",
    "print(sorted(cases_2times))"
   ]
  },
  {
   "cell_type": "markdown",
   "id": "d64da136",
   "metadata": {},
   "source": [
    "### global variable"
   ]
  },
  {
   "cell_type": "code",
   "execution_count": 44,
   "id": "6152a009",
   "metadata": {},
   "outputs": [
    {
     "name": "stdout",
     "output_type": "stream",
     "text": [
      "print_sum() internal: , The sum of 10 and 20 is 30\n",
      "print_sum() external: , The sum of 10 and 20 is 30\n",
      "None\n"
     ]
    }
   ],
   "source": [
    "def print_sum():\n",
    "    result = a + b\n",
    "    print(f\"print_sum() internal: , The sum of {a} and {b} is {result}\")\n",
    "    \n",
    "a = 10 # a and b are global variables\n",
    "b = 20\n",
    "print_sum()\n",
    "result = a + b\n",
    "print(print(f\"print_sum() external: , The sum of {a} and {b} is {result}\"))"
   ]
  },
  {
   "cell_type": "markdown",
   "id": "9076c93a",
   "metadata": {},
   "source": [
    "#### global keyword"
   ]
  },
  {
   "cell_type": "code",
   "execution_count": 48,
   "id": "c4fdd8cf",
   "metadata": {},
   "outputs": [
    {
     "name": "stdout",
     "output_type": "stream",
     "text": [
      "print_sum() internal: The sum of 100 and 200 is 300\n",
      "print_sum() external: The sum of 100 and 200 is 300\n"
     ]
    }
   ],
   "source": [
    "def print_sum():\n",
    "    global a, b  # make the local variable into global variable\n",
    "    a = 100 \n",
    "    b = 200\n",
    "    result = a + b\n",
    "    print(f\"print_sum() internal: The sum of {a} and {b} is {result}\")\n",
    "    \n",
    "a = 10  \n",
    "b = 20\n",
    "print_sum()\n",
    "result = a + b\n",
    "print(f\"print_sum() external: The sum of {a} and {b} is {result}\")"
   ]
  },
  {
   "cell_type": "code",
   "execution_count": 49,
   "id": "42e42b05",
   "metadata": {},
   "outputs": [
    {
     "ename": "SyntaxError",
     "evalue": "invalid syntax (2482239648.py, line 3)",
     "output_type": "error",
     "traceback": [
      "\u001b[0;36m  Cell \u001b[0;32mIn[49], line 3\u001b[0;36m\u001b[0m\n\u001b[0;31m    global a = 0\u001b[0m\n\u001b[0m             ^\u001b[0m\n\u001b[0;31mSyntaxError\u001b[0m\u001b[0;31m:\u001b[0m invalid syntax\n"
     ]
    }
   ],
   "source": [
    "# cannot use global declaration statement and assignment operator simultaneously\n",
    "def print_sum():\n",
    "    global a = 0"
   ]
  },
  {
   "cell_type": "markdown",
   "id": "4e373a87",
   "metadata": {},
   "source": [
    "### local variable"
   ]
  },
  {
   "cell_type": "code",
   "execution_count": 47,
   "id": "02f2ad0d",
   "metadata": {},
   "outputs": [
    {
     "name": "stdout",
     "output_type": "stream",
     "text": [
      "print_sum() internal: The sum of 100 and 200 is 300\n",
      "print_sum() external: The sum of 10 and 20 is 30\n"
     ]
    }
   ],
   "source": [
    "def print_sum():\n",
    "    a = 100  # local variable\n",
    "    b = 200\n",
    "    result = a + b\n",
    "    print(f\"print_sum() internal: The sum of {a} and {b} is {result}\")\n",
    "    \n",
    "a = 10  # global variable\n",
    "b = 20\n",
    "print_sum()\n",
    "result = a + b\n",
    "print(f\"print_sum() external: The sum of {a} and {b} is {result}\")"
   ]
  },
  {
   "cell_type": "markdown",
   "id": "1bb6f2ea",
   "metadata": {},
   "source": [
    "### utilizing  global variables as global constant"
   ]
  },
  {
   "cell_type": "code",
   "execution_count": 51,
   "id": "49c06d90",
   "metadata": {},
   "outputs": [
    {
     "name": "stdout",
     "output_type": "stream",
     "text": [
      "102100\n",
      "10000\n"
     ]
    }
   ],
   "source": [
    "GLOBAL_VALUE =  1021  # use this as a constant, means its unchanged and should be on top of the code\n",
    "\n",
    "def foo():\n",
    "    global GLOBAL_VALUE\n",
    "    a = GLOBAL_VALUE * 100\n",
    "    print(a)\n",
    "    \n",
    "foo()\n",
    "\n",
    "\n",
    "def d():\n",
    "    GLOBAL_VALUE = 100\n",
    "    a = GLOBAL_VALUE * 100\n",
    "    print(a)\n",
    "    \n",
    "d()"
   ]
  },
  {
   "cell_type": "code",
   "execution_count": null,
   "id": "4bca6bf0",
   "metadata": {},
   "outputs": [],
   "source": []
  }
 ],
 "metadata": {
  "kernelspec": {
   "display_name": "Python 3 (ipykernel)",
   "language": "python",
   "name": "python3"
  },
  "language_info": {
   "codemirror_mode": {
    "name": "ipython",
    "version": 3
   },
   "file_extension": ".py",
   "mimetype": "text/x-python",
   "name": "python",
   "nbconvert_exporter": "python",
   "pygments_lexer": "ipython3",
   "version": "3.11.5"
  }
 },
 "nbformat": 4,
 "nbformat_minor": 5
}
