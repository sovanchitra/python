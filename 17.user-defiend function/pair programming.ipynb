{
 "cells": [
  {
   "cell_type": "markdown",
   "id": "8c9eca41",
   "metadata": {},
   "source": [
    "### caesar cipher"
   ]
  },
  {
   "cell_type": "code",
   "execution_count": 2,
   "id": "9c81916c",
   "metadata": {},
   "outputs": [
    {
     "name": "stdout",
     "output_type": "stream",
     "text": [
      "Enter a sentence: ATTaK TONIGHT\n",
      "Encrypted sentence : DWWaN WRQLJKW\n"
     ]
    }
   ],
   "source": [
    "import string\n",
    "\n",
    "src_str = string.ascii_uppercase\n",
    "dst_str = src_str[3:] + src_str[:3]\n",
    "def cipher(a):\n",
    "    idx = src_str.index(a)\n",
    "    return dst_str[idx]\n",
    "\n",
    "src = input(\"Enter a sentence: \")\n",
    "print('Encrypted sentence : ', end = '')\n",
    "\n",
    "for ch in src:\n",
    "    if ch in src_str:\n",
    "        print(cipher(ch), end = '')\n",
    "    else:\n",
    "        print(ch, end = \"\")\n",
    "\n",
    "print()"
   ]
  },
  {
   "cell_type": "markdown",
   "id": "2fc5e0ad",
   "metadata": {},
   "source": [
    "### avg min and max"
   ]
  },
  {
   "cell_type": "code",
   "execution_count": 16,
   "id": "f45e08ef",
   "metadata": {},
   "outputs": [
    {
     "name": "stdout",
     "output_type": "stream",
     "text": [
      "3 45 32 5 7 8 4 44 5 90 17\n",
      "23.6\n",
      "3\n",
      "90\n"
     ]
    }
   ],
   "source": [
    "listt = input().split(\" \")\n",
    "\n",
    "sum_ = 0\n",
    "for hey in listt:\n",
    "    sum_ += int(hey)\n",
    "listtt = []\n",
    "for hey in listt:\n",
    "    listtt.append(int(hey))\n",
    "    \n",
    "def avg_(listt):\n",
    "    \n",
    "    return sum_ / len(listtt)\n",
    "\n",
    "    \n",
    "def min_(listt): \n",
    "    return (min(listtt))\n",
    "\n",
    "def max_(listt):\n",
    "    return (max(listtt))\n",
    "print(f\"{avg_(listt):.1f}\")\n",
    "print(min_(listt))\n",
    "print(max_(listt))\n"
   ]
  },
  {
   "cell_type": "code",
   "execution_count": 18,
   "id": "83058f02",
   "metadata": {},
   "outputs": [
    {
     "name": "stdout",
     "output_type": "stream",
     "text": [
      "Enter student's name:chitra\n",
      "Enter student's number:00000000\n",
      "Enter student's English score :4\n",
      "Enter student's Math score:3\n",
      "Enter student's Science score:1\n",
      "\n",
      "Name: chitra, Student Number: 0                \n",
      "English Score: 4, Math Score: 3, Science Score: 1                \n",
      "Total score : 8, Average score : 2.6666666666666665\n",
      "\n",
      "Name: chitra, Student Number: 0                \n",
      "English Score: 100, Math Score: 100, Science Score: 100                \n",
      "Total score : 300, Average score : 100.0\n",
      "\n"
     ]
    }
   ],
   "source": [
    "#pair programming\n",
    "class Student :\n",
    "    def __init__(self):\n",
    "        self.__name = input('Enter student\\'s name:')\n",
    "        while True:\n",
    "            self.__student_id = input('Enter student\\'s number:')\n",
    "            if len(self.__student_id) == 8 and self.__student_id.isdigit():\n",
    "                self.__student_id = int(self.__student_id)\n",
    "                break\n",
    "            else:\n",
    "                print('Enter a 8 digit number.')\n",
    "        self.__eng_quiz = int(input('Enter student\\'s English score :'))\n",
    "        self.__math_quiz = int(input('Enter student\\'s Math score:'))\n",
    "        self.__science_quiz = int(input('Enter student\\'s Science score:'))\n",
    "        print()\n",
    "    def __str__(self):\n",
    "        return 'Name: {}, Student Number: {}\\\n",
    "                \\nEnglish Score: {}, Math Score: {}, Science Score: {}\\\n",
    "                \\nTotal score : {}, Average score : {}'.format(\n",
    "                self.get_name(), self.get_student_id(), self.get_eng_quiz(),\n",
    "                self.get_math_quiz(), self.get_science_quiz(),\n",
    "                self.get_total_score(), self.get_avg_score()) + '\\n'\n",
    "        \n",
    "    # sub method for setters\n",
    "    def add(self, score, subject):\n",
    "        if score >= 0:\n",
    "            setattr(self, subject, score)\n",
    "        else:\n",
    "            print('The score should be >= 0.')\n",
    "            \n",
    "    # setters        \n",
    "    def set_eng_quiz(self, score):\n",
    "        self.add(score, '_Student__eng_quiz')\n",
    "           \n",
    "    def set_math_quiz(self, score):\n",
    "        self.add(score, '_Student__math_quiz')\n",
    "        \n",
    "    def set_science_quiz(self, score):\n",
    "        self.add(score, '_Student__science_quiz')\n",
    "\n",
    "    # getters\n",
    "    def get_eng_quiz(self):\n",
    "        return self.__eng_quiz\n",
    "        \n",
    "    def get_math_quiz(self):\n",
    "        return self.__math_quiz\n",
    "        \n",
    "    def get_science_quiz(self):\n",
    "        return self.__science_quiz\n",
    "        \n",
    "    def get_total_score(self):\n",
    "        return self.get_eng_quiz() + self.get_math_quiz() + self.get_science_quiz()\n",
    "        \n",
    "    def get_avg_score(self):\n",
    "        return self.get_total_score() / 3\n",
    "        \n",
    "    def get_name(self):\n",
    "        return self.__name\n",
    "        \n",
    "    def get_student_id(self):\n",
    "        return self.__student_id\n",
    "        \n",
    "stud1 = Student()\n",
    "print(stud1)\n",
    "stud1.set_eng_quiz(100)\n",
    "stud1.set_math_quiz(100)\n",
    "stud1.set_science_quiz(100)\n",
    "print(stud1)"
   ]
  },
  {
   "cell_type": "code",
   "execution_count": null,
   "id": "498e8bb3",
   "metadata": {},
   "outputs": [],
   "source": []
  }
 ],
 "metadata": {
  "kernelspec": {
   "display_name": "Python 3 (ipykernel)",
   "language": "python",
   "name": "python3"
  },
  "language_info": {
   "codemirror_mode": {
    "name": "ipython",
    "version": 3
   },
   "file_extension": ".py",
   "mimetype": "text/x-python",
   "name": "python",
   "nbconvert_exporter": "python",
   "pygments_lexer": "ipython3",
   "version": "3.11.5"
  }
 },
 "nbformat": 4,
 "nbformat_minor": 5
}
