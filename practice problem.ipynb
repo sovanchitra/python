{
 "cells": [
  {
   "cell_type": "code",
   "execution_count": 1,
   "id": "e08cc9f1-16eb-47e6-a7c6-dd4e5bb7c8cd",
   "metadata": {},
   "outputs": [
    {
     "name": "stdout",
     "output_type": "stream",
     "text": [
      "   @ \n",
      "  @ @ \n",
      " @ @ @ \n",
      "@ @ @ @ \n"
     ]
    }
   ],
   "source": [
    "num = 4\n",
    "for i in range(num):\n",
    "    for j in range(0, num - i -1):\n",
    "        print(end = \" \")\n",
    "    for k in range(0, i + 1):\n",
    "        print(\"@\", end = \" \")\n",
    "    print()\n",
    "    "
   ]
  },
  {
   "cell_type": "code",
   "execution_count": null,
   "id": "461cb858",
   "metadata": {},
   "outputs": [],
   "source": []
  },
  {
   "cell_type": "code",
   "execution_count": null,
   "id": "cc754274",
   "metadata": {},
   "outputs": [],
   "source": []
  },
  {
   "cell_type": "code",
   "execution_count": 2,
   "id": "30501fef-88e9-4bbb-8abd-c69661cf194d",
   "metadata": {},
   "outputs": [
    {
     "name": "stdout",
     "output_type": "stream",
     "text": [
      "   @ \n",
      "  @ @ \n",
      " @ @ @ \n",
      "@ @ @ @ \n",
      " @ @ @ \n",
      "  @ @ \n",
      "   @ \n",
      "    \n"
     ]
    }
   ],
   "source": [
    "num = 4\n",
    "for i in range(num):\n",
    "    for j in range(0, num - i -1):\n",
    "        print(end = \" \")\n",
    "    for k in range(0, i + 1):\n",
    "        print(\"@\", end = \" \")\n",
    "    print()\n",
    "    \n",
    "for l in range(num):\n",
    "    \n",
    "    for p in range(0, l + 1):\n",
    "        print(end = \" \")\n",
    "    for q in range(0, num - l -1):\n",
    "        print(\"@\", end = \" \")\n",
    "    print()"
   ]
  },
  {
   "cell_type": "code",
   "execution_count": 3,
   "id": "d89177b3-8ab8-47b5-a0e4-89a26a90d14c",
   "metadata": {},
   "outputs": [
    {
     "name": "stdout",
     "output_type": "stream",
     "text": [
      "   @\n",
      "  @@\n",
      " @@@\n",
      "@@@@\n"
     ]
    }
   ],
   "source": [
    "num = 4\n",
    "for i in range(num):\n",
    "    for j in range(0, num - i -1):\n",
    "        print(end = \" \")\n",
    "    for k in range(0, i + 1):\n",
    "        print(\"@\", end = \"\")\n",
    "    print()"
   ]
  },
  {
   "cell_type": "code",
   "execution_count": 4,
   "id": "6eee740b-8635-4d5c-9f81-414fff6b9fc1",
   "metadata": {},
   "outputs": [
    {
     "name": "stdout",
     "output_type": "stream",
     "text": [
      "[2, 4, 6, 4, 8, 12, 6, 12, 18]\n"
     ]
    }
   ],
   "source": [
    "product_xy = [x * y for x in [1, 2, 3] for y in [2, 4, 6]]\n",
    "print(product_xy)"
   ]
  },
  {
   "cell_type": "code",
   "execution_count": 5,
   "id": "68dfa1a2-23f3-407b-9e08-fcc8dab36979",
   "metadata": {},
   "outputs": [
    {
     "name": "stdout",
     "output_type": "stream",
     "text": [
      "\n",
      "1 \n",
      "1 2 \n",
      "1 2 3 \n",
      "1 2 3 4 \n",
      "1 2 3 4 5 \n",
      "1 2 3 4 5 6 \n",
      "1 2 3 4 5 6 7 \n",
      "1 2 3 4 5 6 7 8 \n",
      "1 2 3 4 5 6 7 8 9 \n"
     ]
    }
   ],
   "source": [
    "n = 10\n",
    "for t in range(1,n+1):\n",
    "    for u in range(1,t):\n",
    "        print(u,end=\" \")\n",
    "    print()"
   ]
  },
  {
   "cell_type": "code",
   "execution_count": 6,
   "id": "b80d998c-977a-45e1-bc8d-e47fece4863a",
   "metadata": {},
   "outputs": [
    {
     "name": "stdout",
     "output_type": "stream",
     "text": [
      "\n",
      "1 \n",
      "2 3 \n",
      "4 5 6 \n",
      "7 8 9 10 \n"
     ]
    }
   ],
   "source": [
    "n = 4\n",
    "y = 1\n",
    "for t in range(n+1):\n",
    "    for k in range(1,t+1):\n",
    "        print(y, end = \" \")\n",
    "        y +=1\n",
    "        \n",
    "    print()\n",
    "    "
   ]
  },
  {
   "cell_type": "code",
   "execution_count": 9,
   "id": "44ca5f11-1f92-4e97-a207-61768b9064e5",
   "metadata": {},
   "outputs": [
    {
     "name": "stdout",
     "output_type": "stream",
     "text": [
      "  * *   * *   \n",
      "*     *     * \n",
      "*           * \n",
      "  *       *   \n",
      "    *   *     \n",
      "      *       \n"
     ]
    }
   ],
   "source": [
    "# heart pattern\n",
    "\n",
    "import time\n",
    "for row in range(6):\n",
    "    for col in range(7):\n",
    "        if (row==0 and col%3!=0) or (row==1 and col%3==0) or (row-col == 2) or (row + col == 8):\n",
    "            print('*',end=' ')\n",
    "            time.sleep(0.5)\n",
    "        else:\n",
    "            print(end='  ')\n",
    "            \n",
    "    print()"
   ]
  },
  {
   "cell_type": "code",
   "execution_count": null,
   "id": "0da76086-ce11-4720-bdd0-7885ebbc355e",
   "metadata": {},
   "outputs": [],
   "source": [
    "n = int(input(\"Enter the number: \"))\n",
    "m = int(input(\"Enter the number: \"))\n",
    "calls = 0\n",
    "    \n",
    "\n",
    "def ack(m, n) :\n",
    "    global calls\n",
    "    calls+=1\n",
    "    if m== 0:\n",
    "        return n+1\n",
    "    elif n==0:\n",
    "        return ack(m-1,1)\n",
    "    else :\n",
    "        return ack(m-1,ack(m,n-1))\n",
    "\n",
    "print(ack(m, n))\n",
    "print(calls)"
   ]
  },
  {
   "cell_type": "code",
   "execution_count": null,
   "id": "813f0e83-2b69-4443-9737-7e06c97ee325",
   "metadata": {},
   "outputs": [],
   "source": [
    "nu = int(input(\"Enter the number: \"))\n",
    "num = int(input(\"Enter the number: \"))\n",
    "if nu > num :\n",
    "    a = nu\n",
    "    b = num\n",
    "else:\n",
    "    a = num\n",
    "    b = nu\n",
    "call1=0\n",
    "def gcd(a, b) :\n",
    "    global call1\n",
    "    call1 +=1\n",
    "    if b <= 0:\n",
    "        return a\n",
    "    else :\n",
    "        return(gcd(b, a % b))\n",
    "print(gcd(a, b))\n",
    "print(call1)"
   ]
  },
  {
   "cell_type": "code",
   "execution_count": null,
   "id": "048bcb9d-7466-4677-92e1-33d0a09aa18d",
   "metadata": {},
   "outputs": [],
   "source": [
    "num = {1, 3, 2}\n",
    "\n",
    "for x in num :\n",
    "    print(x, end = \" \")"
   ]
  },
  {
   "cell_type": "code",
   "execution_count": null,
   "id": "447ef0be-ed7a-4340-96d1-54d255c5ed9a",
   "metadata": {},
   "outputs": [],
   "source": [
    "import math\n",
    "\n",
    "print(math.perm(77, 11))"
   ]
  },
  {
   "cell_type": "code",
   "execution_count": null,
   "id": "a2deb66f-cc52-4642-b2d9-6931b36f8225",
   "metadata": {},
   "outputs": [],
   "source": [
    "tup = (1,2,5,4,3,2,1,4,7,8,9,9,3,7,7,7,3,9)\n",
    "list1 = list(tup) # convert tup(tuple) to list\n",
    "list1.sort() # sort the list\n",
    "\n",
    "truemode = 0 # most occuring element\n",
    "\n",
    "for i in range(1, 10): # first index, last index + 1(to count the last index)\n",
    "    mode = tup.count(i)\n",
    "    if mode >= truemode:\n",
    "        truemode = mode # replace the biggest trumode\n",
    "        element = i # the number of i reached\n",
    "print(\"most frequently occuring element is {}.\".format(element))"
   ]
  },
  {
   "cell_type": "code",
   "execution_count": null,
   "id": "c3bc70ac-c417-4c15-8658-795c4dab7a52",
   "metadata": {},
   "outputs": [],
   "source": [
    "from scipy import stats\n",
    "tup = [1,2,5,4,3,2,1,4,7,8,9,9,3,7,7,7,3,9]\n",
    "a = stats.mode(tup)\n",
    "b = str(a)\n",
    "print(\"most frequently occuring element is\", b[16])"
   ]
  },
  {
   "cell_type": "code",
   "execution_count": null,
   "id": "0a4865ed-3e9d-420e-ba0f-0e5c4eb41e60",
   "metadata": {},
   "outputs": [],
   "source": [
    "def page_digits(pages):\n",
    "    if pages<=9:\n",
    "#         pass\n",
    "#         print(pages)\n",
    "        if i>9:\n",
    "            pages = pages + (i*2)\n",
    "        \n",
    "    return pages\n",
    "page_digits(10)\n",
    "        "
   ]
  },
  {
   "cell_type": "code",
   "execution_count": 11,
   "id": "e726b95e",
   "metadata": {},
   "outputs": [
    {
     "name": "stdout",
     "output_type": "stream",
     "text": [
      "10449\n"
     ]
    }
   ],
   "source": [
    "# count number of digits from page 1 to page n\n",
    "\n",
    "def page_digits(pages):\n",
    "    count = 0\n",
    "    if pages <= 9:\n",
    "        count = pages\n",
    "    else:\n",
    "        for i in range(1, pages+1):\n",
    "            i = str(i)\n",
    "            for nu in i :\n",
    "                count += 1\n",
    "    return count\n",
    "print(page_digits(2889))"
   ]
  },
  {
   "cell_type": "code",
   "execution_count": 12,
   "id": "76a2b933",
   "metadata": {},
   "outputs": [
    {
     "name": "stdout",
     "output_type": "stream",
     "text": [
      "5\n"
     ]
    }
   ],
   "source": [
    "def page_digits(pages):\n",
    "    count = 0\n",
    "    i = 1\n",
    "    while i < pages :\n",
    "        count += 1\n",
    "        i += 1\n",
    "        \n",
    "    return count\n",
    "print(page_digits(6))"
   ]
  },
  {
   "cell_type": "code",
   "execution_count": 13,
   "id": "3a07abfe",
   "metadata": {},
   "outputs": [
    {
     "ename": "TypeError",
     "evalue": "endswith first arg must be str or a tuple of str, not int",
     "output_type": "error",
     "traceback": [
      "\u001b[0;31m---------------------------------------------------------------------------\u001b[0m",
      "\u001b[0;31mTypeError\u001b[0m                                 Traceback (most recent call last)",
      "Cell \u001b[0;32mIn[13], line 10\u001b[0m\n\u001b[1;32m      7\u001b[0m     \u001b[38;5;28;01melse\u001b[39;00m:\n\u001b[1;32m      8\u001b[0m         \u001b[38;5;28;01mreturn\u001b[39;00m \u001b[38;5;28;01mFalse\u001b[39;00m\n\u001b[0;32m---> 10\u001b[0m \u001b[38;5;28mprint\u001b[39m(is_square(\u001b[38;5;241m25\u001b[39m))\n",
      "Cell \u001b[0;32mIn[13], line 5\u001b[0m, in \u001b[0;36mis_square\u001b[0;34m(n)\u001b[0m\n\u001b[1;32m      3\u001b[0m num \u001b[38;5;241m=\u001b[39m math\u001b[38;5;241m.\u001b[39msqrt(n)\n\u001b[1;32m      4\u001b[0m num \u001b[38;5;241m=\u001b[39m \u001b[38;5;28mstr\u001b[39m(num)\n\u001b[0;32m----> 5\u001b[0m \u001b[38;5;28;01mif\u001b[39;00m num\u001b[38;5;241m.\u001b[39mendswith(\u001b[38;5;241m0\u001b[39m):\n\u001b[1;32m      6\u001b[0m     \u001b[38;5;28;01mreturn\u001b[39;00m \u001b[38;5;28;01mTrue\u001b[39;00m\n\u001b[1;32m      7\u001b[0m \u001b[38;5;28;01melse\u001b[39;00m:\n",
      "\u001b[0;31mTypeError\u001b[0m: endswith first arg must be str or a tuple of str, not int"
     ]
    }
   ],
   "source": [
    "def is_square(n):\n",
    "    import math\n",
    "    num = math.sqrt(n)\n",
    "    num = str(num)\n",
    "    if num.endswith(0):\n",
    "        return True\n",
    "    else:\n",
    "        return False\n",
    "    \n",
    "print(is_square(25))"
   ]
  },
  {
   "cell_type": "code",
   "execution_count": 14,
   "id": "4226eb86",
   "metadata": {},
   "outputs": [
    {
     "name": "stdout",
     "output_type": "stream",
     "text": [
      "False\n"
     ]
    }
   ],
   "source": [
    "# is it a perfect sqaure\n",
    "\n",
    "def is_square(n):\n",
    "    import math\n",
    "    if n == 0:\n",
    "        return True\n",
    "    if n < 0:\n",
    "        return False\n",
    "    else:\n",
    "        num = math.sqrt(n)\n",
    "        num = int(num)\n",
    "        if n == num * num:\n",
    "            \n",
    "            return True\n",
    "   \n",
    "        else:\n",
    "            return False\n",
    "    \n",
    "print(is_square(155))"
   ]
  },
  {
   "cell_type": "code",
   "execution_count": 15,
   "id": "793e6c42",
   "metadata": {},
   "outputs": [
    {
     "name": "stdout",
     "output_type": "stream",
     "text": [
      "True\n"
     ]
    }
   ],
   "source": [
    "import math\n",
    "def is_square(n):\n",
    "    return n > -1 and math.sqrt(n) % 1 == 0\n",
    "\n",
    "print(is_square(9))"
   ]
  },
  {
   "cell_type": "code",
   "execution_count": 16,
   "id": "a6a756f5",
   "metadata": {},
   "outputs": [
    {
     "data": {
      "text/plain": [
       "[2]"
      ]
     },
     "execution_count": 16,
     "metadata": {},
     "output_type": "execute_result"
    }
   ],
   "source": [
    "# delete the element of a that is the same as b element\n",
    "\n",
    "def array_diff(a, b):\n",
    "    if len(a) == 0:\n",
    "        return b\n",
    "    elif len(b) == 0:\n",
    "        return a\n",
    "    else:\n",
    "        return list(set(a).difference(set(b)))\n",
    "array_diff([1,2,2], [1])"
   ]
  },
  {
   "cell_type": "code",
   "execution_count": 18,
   "id": "3de9c07d",
   "metadata": {},
   "outputs": [
    {
     "name": "stdout",
     "output_type": "stream",
     "text": [
      "[1]\n"
     ]
    }
   ],
   "source": [
    "def array_diff(a, b):\n",
    "    lst = []\n",
    "    for ele in a:\n",
    "        if ele not in set(b):\n",
    "            lst.append(ele)\n",
    "    return lst\n",
    "            \n",
    "# [ele for ele in b if ele in a a.remove(ele)]\n",
    "    \n",
    "print(array_diff([1,2,2], [2]))"
   ]
  },
  {
   "cell_type": "code",
   "execution_count": null,
   "id": "87f0ccec",
   "metadata": {},
   "outputs": [],
   "source": [
    "def difference(a, b):\n",
    "\n",
    "    b_set = set(b)\n",
    "\n",
    "    return [x for x in a if x not in b_set]\n",
    "print(difference([1,2,2], [2]))"
   ]
  },
  {
   "cell_type": "code",
   "execution_count": null,
   "id": "69a444a3",
   "metadata": {},
   "outputs": [],
   "source": [
    "def difference(a, b):\n",
    "    \n",
    "    return [x for x in a if x not in b]\n",
    "print(difference([1,2,2], [1]))"
   ]
  },
  {
   "cell_type": "code",
   "execution_count": null,
   "id": "ad90c16b",
   "metadata": {},
   "outputs": [],
   "source": [
    "def sum_two_smallest_numbers(numbers):\n",
    "    #your code here\n",
    "    return sorted(numbers)[0] + sorted(numbers)[1]\n",
    "print(sum_two_smallest_numbers([7, 15, 12, 18, 22]))"
   ]
  },
  {
   "cell_type": "code",
   "execution_count": 19,
   "id": "025f9ae6",
   "metadata": {},
   "outputs": [
    {
     "name": "stdout",
     "output_type": "stream",
     "text": [
      "-1\n"
     ]
    }
   ],
   "source": [
    "# find the next sqaure from the last\n",
    "\n",
    "def find_next_square(sq):\n",
    "    import math\n",
    "    n = math.sqrt(sq)\n",
    "    n = int(n)\n",
    "    \n",
    "    if sq == n * n:\n",
    "        numm = n + 1\n",
    "        return int(numm ** 2)\n",
    "   \n",
    "    else:\n",
    "        return -1\n",
    "print(find_next_square(155))"
   ]
  },
  {
   "cell_type": "code",
   "execution_count": null,
   "id": "d19f1e7e",
   "metadata": {},
   "outputs": [],
   "source": [
    "# valid phone numbers\n",
    "\n",
    "ph_num = input('')\n",
    "\n",
    "if ph_num[3] == '-' and ph_num[7] == '-' or ph_num[0] == '(' and ph_num[4] == ')' and ph_num[5] == ' ' and ph_num[9] == '-':\n",
    "    print(True)\n",
    "else:\n",
    "    print(False)"
   ]
  },
  {
   "cell_type": "code",
   "execution_count": 28,
   "id": "201e70e4",
   "metadata": {},
   "outputs": [
    {
     "name": "stdout",
     "output_type": "stream",
     "text": [
      "1 2 2 4\n",
      "True\n"
     ]
    },
    {
     "data": {
      "text/plain": [
       "False"
      ]
     },
     "execution_count": 28,
     "metadata": {},
     "output_type": "execute_result"
    }
   ],
   "source": [
    "# collinearity\n",
    "\n",
    "x1, y1, x2, y2 = input().split()\n",
    "x1 = int(x1)\n",
    "y1 = int(y1)\n",
    "x2 = int(x2)\n",
    "y2 = int(y2)\n",
    "\n",
    "if x1*y2 - x2*y1 == 0:\n",
    "    print(True)\n",
    "else:\n",
    "    print(False)\n",
    "    \n",
    "def collinearity(x1, y1, x2, y2):\n",
    "    return x1 * y2 == x2 * y1\n",
    "\n",
    "collinearity(1, 2, 3, 3)"
   ]
  },
  {
   "cell_type": "code",
   "execution_count": 39,
   "id": "ab4cdc65",
   "metadata": {},
   "outputs": [
    {
     "ename": "KeyboardInterrupt",
     "evalue": "",
     "output_type": "error",
     "traceback": [
      "\u001b[0;31m---------------------------------------------------------------------------\u001b[0m",
      "\u001b[0;31mKeyboardInterrupt\u001b[0m                         Traceback (most recent call last)",
      "Cell \u001b[0;32mIn[39], line 10\u001b[0m\n\u001b[1;32m      7\u001b[0m     lst\u001b[38;5;241m.\u001b[39mappend(n)\n\u001b[1;32m      9\u001b[0m count \u001b[38;5;241m=\u001b[39m \u001b[38;5;241m0\u001b[39m\n\u001b[0;32m---> 10\u001b[0m \u001b[38;5;28;01mwhile\u001b[39;00m \u001b[38;5;28;01mTrue\u001b[39;00m:\n\u001b[1;32m     11\u001b[0m     \u001b[38;5;28;01mif\u001b[39;00m \u001b[38;5;28mlen\u001b[39m(lst) \u001b[38;5;241m>\u001b[39m \u001b[38;5;241m1\u001b[39m:\n\u001b[1;32m     12\u001b[0m         n \u001b[38;5;241m=\u001b[39m \u001b[38;5;28mint\u001b[39m(lst[\u001b[38;5;241m-\u001b[39m\u001b[38;5;241m1\u001b[39m]) \u001b[38;5;241m*\u001b[39m \u001b[38;5;28mint\u001b[39m(lst[\u001b[38;5;241m-\u001b[39m\u001b[38;5;241m2\u001b[39m])\n",
      "\u001b[0;31mKeyboardInterrupt\u001b[0m: "
     ]
    }
   ],
   "source": [
    "# persistent bugger\n",
    "\n",
    "n = str(39)\n",
    "lst = []\n",
    "\n",
    "for i in n:\n",
    "    lst.append(n)\n",
    "    \n",
    "count = 0\n",
    "while True:\n",
    "    if len(lst) > 1:\n",
    "        n = int(lst[-1]) * int(lst[-2])\n",
    "        n = n\n",
    "        count += 1\n",
    "    else:\n",
    "        int(lst[-1]) * 1\n",
    "        break\n",
    "        \n",
    "print(count)\n",
    "print(lst)"
   ]
  },
  {
   "cell_type": "code",
   "execution_count": 43,
   "id": "0fffc89b",
   "metadata": {},
   "outputs": [
    {
     "ename": "AttributeError",
     "evalue": "'int' object has no attribute 'split'",
     "output_type": "error",
     "traceback": [
      "\u001b[0;31m---------------------------------------------------------------------------\u001b[0m",
      "\u001b[0;31mAttributeError\u001b[0m                            Traceback (most recent call last)",
      "Cell \u001b[0;32mIn[43], line 2\u001b[0m\n\u001b[1;32m      1\u001b[0m n \u001b[38;5;241m=\u001b[39m \u001b[38;5;241m39\u001b[39m\n\u001b[0;32m----> 2\u001b[0m lst \u001b[38;5;241m=\u001b[39m n\u001b[38;5;241m.\u001b[39msplit()\n\u001b[1;32m      5\u001b[0m \u001b[38;5;28mprint\u001b[39m(lst)\n",
      "\u001b[0;31mAttributeError\u001b[0m: 'int' object has no attribute 'split'"
     ]
    }
   ],
   "source": [
    "n = 39\n",
    "lst = []\n",
    "\n",
    "while True:\n",
    "    if "
   ]
  },
  {
   "cell_type": "code",
   "execution_count": 48,
   "id": "0e46e205",
   "metadata": {},
   "outputs": [
    {
     "name": "stdout",
     "output_type": "stream",
     "text": [
      "27\n"
     ]
    }
   ],
   "source": [
    "n = str(39)\n",
    "num = int(n[0])*int(n[1]) \n",
    "num = str(num)\n",
    "\n"
   ]
  },
  {
   "cell_type": "code",
   "execution_count": 93,
   "id": "4e673e7c",
   "metadata": {},
   "outputs": [
    {
     "name": "stdout",
     "output_type": "stream",
     "text": [
      "1\n"
     ]
    }
   ],
   "source": [
    "count = 0\n",
    "def pers(n):\n",
    "    global count\n",
    "    \n",
    "    if n < 10 and count == 0 :\n",
    "        return 0\n",
    "        \n",
    "    elif n < 10 :\n",
    "        return count\n",
    "    else:\n",
    "        count_di = 0\n",
    "        n = str(n)\n",
    "        for nu in n :\n",
    "            count_di += 1\n",
    "        num = 1\n",
    "        for i in range(count_di):           \n",
    "            num *= int(n[i]) \n",
    "        count += 1\n",
    "        return pers(num)\n",
    "    \n",
    "    \n",
    "print(persistence(47080))"
   ]
  },
  {
   "cell_type": "code",
   "execution_count": 63,
   "id": "f9765287",
   "metadata": {},
   "outputs": [
    {
     "name": "stdout",
     "output_type": "stream",
     "text": [
      "0\n"
     ]
    }
   ],
   "source": [
    "def persistence(n):\n",
    "    count = 0\n",
    "    if n < 10:\n",
    "        return 0  # Base case: single digit, persistence is 0\n",
    "        \n",
    "    product = 1\n",
    "    while n > 0:\n",
    "        digit = n % 10\n",
    "        product *= digit\n",
    "        n //= 10\n",
    "        count += 1\n",
    "        return persistence(product)\n",
    "    print(count)\n",
    "print(persistence(39))"
   ]
  },
  {
   "cell_type": "code",
   "execution_count": 81,
   "id": "ce71f974",
   "metadata": {},
   "outputs": [
    {
     "name": "stdout",
     "output_type": "stream",
     "text": [
      "1010\n"
     ]
    }
   ],
   "source": [
    "print('10'*2)"
   ]
  },
  {
   "cell_type": "code",
   "execution_count": 85,
   "id": "4b57b516",
   "metadata": {},
   "outputs": [
    {
     "name": "stdout",
     "output_type": "stream",
     "text": [
      "5\n"
     ]
    }
   ],
   "source": [
    "n = 23345\n",
    "count = 0\n",
    "\n",
    "n = str(n)\n",
    "for nu in i :\n",
    "    count += 1\n",
    "print(count)"
   ]
  },
  {
   "cell_type": "code",
   "execution_count": null,
   "id": "348118db",
   "metadata": {},
   "outputs": [],
   "source": [
    "#Persistent Bugger.code wars : my original code\n",
    "def persistence(n):\n",
    "    count = 0\n",
    "    def pers(n):\n",
    "        nonlocal count\n",
    "\n",
    "        if n < 10 and count == 0 :\n",
    "            return 0\n",
    "\n",
    "        elif n < 10 :\n",
    "            return count\n",
    "        else:\n",
    "            count_di = 0\n",
    "            n = str(n)\n",
    "            for nu in n :\n",
    "                count_di += 1\n",
    "            num = 1\n",
    "            for i in range(count_di):           \n",
    "                num *= int(n[i]) \n",
    "            count += 1\n",
    "            return pers(num)\n",
    "    return pers(n)"
   ]
  },
  {
   "cell_type": "code",
   "execution_count": 95,
   "id": "265e401a",
   "metadata": {},
   "outputs": [
    {
     "data": {
      "text/plain": [
       "2"
      ]
     },
     "execution_count": 95,
     "metadata": {},
     "output_type": "execute_result"
    }
   ],
   "source": [
    "#Persistent Bugger.code wars : clever code\n",
    "def persistence(n):\n",
    "    if n < 10: return 0\n",
    "    mult = 1\n",
    "    while(n > 0):\n",
    "        mult = n%10 * mult\n",
    "        n = n//10\n",
    "    return persistence(mult) + 1\n",
    "persistence(275946)"
   ]
  },
  {
   "cell_type": "code",
   "execution_count": null,
   "id": "d8871909",
   "metadata": {},
   "outputs": [],
   "source": [
    "#Persistent Bugger.code wars : another code\n",
    "def persistence(n, count=0):\n",
    "    return count if n<10 else persistence( eval('*'.join(list(str(n)))), count+1 )\n",
    "\n"
   ]
  },
  {
   "cell_type": "code",
   "execution_count": 69,
   "id": "b5bb4d5c",
   "metadata": {},
   "outputs": [
    {
     "name": "stdout",
     "output_type": "stream",
     "text": [
      "Height: 4\n",
      "   /|\n",
      "  / \n",
      " / \n",
      "/ \n"
     ]
    }
   ],
   "source": [
    "# TODO\n",
    "while True:\n",
    "    try:\n",
    "        height = input(\"Height: \")\n",
    "        height = int(height)\n",
    "        # repromt user again if user input 0 or number bigger than 8\n",
    "        if height <= 0 or height > 8:\n",
    "            continue\n",
    "    # repromt user if user did not input an interger\n",
    "    except (ValueError):\n",
    "        pass\n",
    "    else:\n",
    "        break\n",
    "# loop to print the piramid of brick\n",
    "for i in range(height):\n",
    "    u = 3\n",
    "    for j in range(height):\n",
    "        xheight=  height - 1\n",
    "        \n",
    "        \n",
    "        if j == u:\n",
    "            print('/', end = '')\n",
    "            u -=1\n",
    "        elif i + j < xheight:\n",
    "            print(\" \", end=\"\")\n",
    "    if i == 0 or j - i == 4:\n",
    "        print(\"|\", end=\"\")\n",
    "\n",
    "    else:\n",
    "        print(\" \",end = \"\")\n",
    "\n",
    "    print()"
   ]
  },
  {
   "cell_type": "code",
   "execution_count": 17,
   "id": "064cd822",
   "metadata": {},
   "outputs": [
    {
     "name": "stdout",
     "output_type": "stream",
     "text": [
      "# \n",
      "  # # \n",
      "  # # # \n",
      "# # # # \n"
     ]
    }
   ],
   "source": [
    "\n",
    "for i in range(4):\n",
    "    for j in range(4):\n",
    "        xheight = 4 - 1\n",
    "        \n",
    "        if i + j < xheight:\n",
    "            print(\" \"* i, end=\"\")\n",
    "        \n",
    "\n",
    "        else:\n",
    "            print(\"#\", end=\" \")\n",
    "    print()\n",
    "    \n",
    "    "
   ]
  },
  {
   "cell_type": "code",
   "execution_count": 76,
   "id": "de99abad",
   "metadata": {},
   "outputs": [
    {
     "ename": "SyntaxError",
     "evalue": "unterminated string literal (detected at line 3) (3079127146.py, line 3)",
     "output_type": "error",
     "traceback": [
      "\u001b[0;36m  Cell \u001b[0;32mIn[76], line 3\u001b[0;36m\u001b[0m\n\u001b[0;31m    hypo = \"/\" + i*\" \" + \"\\\"\u001b[0m\n\u001b[0m                         ^\u001b[0m\n\u001b[0;31mSyntaxError\u001b[0m\u001b[0;31m:\u001b[0m unterminated string literal (detected at line 3)\n"
     ]
    }
   ],
   "source": [
    "n = 100\n",
    "for i in range(n-1):\n",
    "    hypo = \"/\" + i*\" \"\n",
    "    print(\"{:>{}}{}\".format(hypo, n))\n",
    "print(\"/{}|\".format((n-1)*\"_\"))"
   ]
  },
  {
   "cell_type": "code",
   "execution_count": 94,
   "id": "a3132048",
   "metadata": {},
   "outputs": [
    {
     "data": {
      "text/plain": [
       "'found the needle at position 4'"
      ]
     },
     "execution_count": 94,
     "metadata": {},
     "output_type": "execute_result"
    }
   ],
   "source": [
    "def find_needle(haystack):\n",
    "    if 'needle' in haystack:\n",
    "        #print(haystack.index(\"needle\")+ 1)\n",
    "        return f\"found the needle at position { haystack.index('needle') + 1}\"\n",
    "find_needle(['3', '123124234', None, 'needle', 'world', 'hay', 2, '3', True, False])"
   ]
  },
  {
   "cell_type": "code",
   "execution_count": 95,
   "id": "8ec544fe",
   "metadata": {},
   "outputs": [
    {
     "name": "stdout",
     "output_type": "stream",
     "text": [
      "found the needle at position 4\n"
     ]
    }
   ],
   "source": [
    "def find_needle(haystack):\n",
    "    # your code here\n",
    "    count = 0\n",
    "    i = 0\n",
    "    for ele in haystack:\n",
    "        if ele == \"needle\":\n",
    "            count +=1\n",
    "        i +=1\n",
    "        if count == 1:\n",
    "            return(print(\"found the needle at position\",i ))\n",
    "\n",
    "find_needle(['3', '123124234', None, 'needle', 'world', 'hay', 2, '3', True, False])\n"
   ]
  },
  {
   "cell_type": "code",
   "execution_count": 109,
   "id": "8dd800b6",
   "metadata": {},
   "outputs": [
    {
     "data": {
      "text/plain": [
       "False"
      ]
     },
     "execution_count": 109,
     "metadata": {},
     "output_type": "execute_result"
    }
   ],
   "source": [
    "a = '1'\n",
    "bool('-11'.isnumeric())"
   ]
  },
  {
   "cell_type": "code",
   "execution_count": 125,
   "id": "ce4a9045",
   "metadata": {},
   "outputs": [
    {
     "data": {
      "text/plain": [
       "True"
      ]
     },
     "execution_count": 125,
     "metadata": {},
     "output_type": "execute_result"
    }
   ],
   "source": [
    "def validate_pin(pin):\n",
    "    #return true or false\n",
    "    \n",
    "    return True if (len(pin) == 6 or len(pin) == 4) and pin.isnumeric() else False\n",
    "validate_pin('1230')"
   ]
  },
  {
   "cell_type": "code",
   "execution_count": 145,
   "id": "b1efc9a1",
   "metadata": {},
   "outputs": [
    {
     "data": {
      "text/plain": [
       "'t'"
      ]
     },
     "execution_count": 145,
     "metadata": {},
     "output_type": "execute_result"
    }
   ],
   "source": [
    "# get the middle character\n",
    "\n",
    "def get_middle(s):\n",
    "    if len(s) == 1:\n",
    "        return s\n",
    "    elif len(s) % 2 == 0:\n",
    "        i = int(len(s) / 2)\n",
    "        a = s[i]\n",
    "        b = s[i-1]\n",
    "        return b + a\n",
    "    else:\n",
    "        i = (int(len(s)/2))\n",
    "        return f'{s[i]}'\n",
    "    \n",
    "get_middle(\"testing\")"
   ]
  },
  {
   "cell_type": "code",
   "execution_count": 148,
   "id": "355750a6",
   "metadata": {},
   "outputs": [
    {
     "data": {
      "text/plain": [
       "1"
      ]
     },
     "execution_count": 148,
     "metadata": {},
     "output_type": "execute_result"
    }
   ],
   "source": [
    "# shortest word\n",
    "\n",
    "def find_short(s):\n",
    "    lst = s.split(' ')\n",
    "    lstt = []\n",
    "    for l in lst:\n",
    "        lstt.append(len(l))\n",
    "    return sorted(lstt)[0]\n",
    "\n",
    "find_short(\"i want to travel the world writing code one day\")"
   ]
  },
  {
   "cell_type": "code",
   "execution_count": 150,
   "id": "4ebaefdf",
   "metadata": {},
   "outputs": [
    {
     "data": {
      "text/plain": [
       "1"
      ]
     },
     "execution_count": 150,
     "metadata": {},
     "output_type": "execute_result"
    }
   ],
   "source": [
    "def find_short(s):\n",
    "    return min(len(x) for x in s.split())\n",
    "\n",
    "find_short(\"i want to travel the world writing code one day\")"
   ]
  },
  {
   "cell_type": "code",
   "execution_count": 152,
   "id": "51df4142",
   "metadata": {},
   "outputs": [
    {
     "data": {
      "text/plain": [
       "1"
      ]
     },
     "execution_count": 152,
     "metadata": {},
     "output_type": "execute_result"
    }
   ],
   "source": [
    "def find_short(s):\n",
    "    return len(min(s.split(' '), key=len))\n",
    "find_short(\"i want to travel the world writing code one day\")"
   ]
  },
  {
   "cell_type": "code",
   "execution_count": 157,
   "id": "4a91ff66",
   "metadata": {},
   "outputs": [
    {
     "data": {
      "text/plain": [
       "<function __main__.<lambda>(array1, array2)>"
      ]
     },
     "execution_count": 157,
     "metadata": {},
     "output_type": "execute_result"
    }
   ],
   "source": []
  },
  {
   "cell_type": "code",
   "execution_count": 174,
   "id": "369067d7",
   "metadata": {},
   "outputs": [
    {
     "data": {
      "text/plain": [
       "2.7182818284590455"
      ]
     },
     "execution_count": 174,
     "metadata": {},
     "output_type": "execute_result"
    }
   ],
   "source": [
    "# euler\n",
    "\n",
    "def fact(n):\n",
    "    if n == 1:\n",
    "        return 1\n",
    "    else:\n",
    "        return n * fact(n - 1)\n",
    "\n",
    "def euler(n):\n",
    "    if n == 0:\n",
    "        return 1\n",
    "    else:\n",
    "        return 1 / fact(n) + euler(n - 1)\n",
    "\n",
    "euler(20)"
   ]
  },
  {
   "cell_type": "code",
   "execution_count": 1,
   "id": "b536abd6",
   "metadata": {},
   "outputs": [
    {
     "name": "stdout",
     "output_type": "stream",
     "text": [
      "48\n",
      "60\n",
      "60\n"
     ]
    }
   ],
   "source": [
    "# euclidean algorithm\n",
    "\n",
    "a = int(input())\n",
    "b = int(input())\n",
    "\n",
    "if a > b:\n",
    "    a = a\n",
    "    b = b\n",
    "else:\n",
    "    a = b\n",
    "    b = a\n",
    "\n",
    "def gcd(a, b):\n",
    "    if b <= 0:\n",
    "        return a\n",
    "    else:\n",
    "        return (gcd(b, a % b))\n",
    "print(gcd(a, b))"
   ]
  },
  {
   "cell_type": "code",
   "execution_count": 10,
   "id": "c7c6f43b",
   "metadata": {},
   "outputs": [
    {
     "ename": "AttributeError",
     "evalue": "'list' object has no attribute 'popitems'",
     "output_type": "error",
     "traceback": [
      "\u001b[0;31m---------------------------------------------------------------------------\u001b[0m",
      "\u001b[0;31mAttributeError\u001b[0m                            Traceback (most recent call last)",
      "Cell \u001b[0;32mIn[10], line 2\u001b[0m\n\u001b[1;32m      1\u001b[0m a \u001b[38;5;241m=\u001b[39m [\u001b[38;5;241m1\u001b[39m,\u001b[38;5;124m'\u001b[39m\u001b[38;5;124m2\u001b[39m\u001b[38;5;124m'\u001b[39m,\u001b[38;5;241m3\u001b[39m,\u001b[38;5;241m4\u001b[39m,\u001b[38;5;241m5\u001b[39m]\n\u001b[0;32m----> 2\u001b[0m a\u001b[38;5;241m.\u001b[39mpopitems()\n\u001b[1;32m      3\u001b[0m a\n",
      "\u001b[0;31mAttributeError\u001b[0m: 'list' object has no attribute 'popitems'"
     ]
    }
   ],
   "source": [
    "a = [1,'2',3,4,5]\n",
    "a.pop()"
   ]
  },
  {
   "cell_type": "code",
   "execution_count": null,
   "id": "4ecb51eb",
   "metadata": {},
   "outputs": [],
   "source": [
    "a = {a: 1, b:}"
   ]
  },
  {
   "cell_type": "code",
   "execution_count": null,
   "id": "a96ed121",
   "metadata": {},
   "outputs": [],
   "source": []
  }
 ],
 "metadata": {
  "kernelspec": {
   "display_name": "Python 3 (ipykernel)",
   "language": "python",
   "name": "python3"
  },
  "language_info": {
   "codemirror_mode": {
    "name": "ipython",
    "version": 3
   },
   "file_extension": ".py",
   "mimetype": "text/x-python",
   "name": "python",
   "nbconvert_exporter": "python",
   "pygments_lexer": "ipython3",
   "version": "3.11.5"
  }
 },
 "nbformat": 4,
 "nbformat_minor": 5
}
