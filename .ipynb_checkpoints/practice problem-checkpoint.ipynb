{
 "cells": [
  {
   "cell_type": "code",
   "execution_count": 1,
   "id": "e08cc9f1-16eb-47e6-a7c6-dd4e5bb7c8cd",
   "metadata": {},
   "outputs": [
    {
     "name": "stdout",
     "output_type": "stream",
     "text": [
      "   @ \n",
      "  @ @ \n",
      " @ @ @ \n",
      "@ @ @ @ \n"
     ]
    }
   ],
   "source": [
    "num = 4\n",
    "for i in range(num):\n",
    "    for j in range(0, num - i -1):\n",
    "        print(end = \" \")\n",
    "    for k in range(0, i + 1):\n",
    "        print(\"@\", end = \" \")\n",
    "    print()\n",
    "    "
   ]
  },
  {
   "cell_type": "code",
   "execution_count": 2,
   "id": "30501fef-88e9-4bbb-8abd-c69661cf194d",
   "metadata": {},
   "outputs": [
    {
     "name": "stdout",
     "output_type": "stream",
     "text": [
      "   @ \n",
      "  @ @ \n",
      " @ @ @ \n",
      "@ @ @ @ \n",
      " @ @ @ \n",
      "  @ @ \n",
      "   @ \n",
      "    \n"
     ]
    }
   ],
   "source": [
    "num = 4\n",
    "for i in range(num):\n",
    "    for j in range(0, num - i -1):\n",
    "        print(end = \" \")\n",
    "    for k in range(0, i + 1):\n",
    "        print(\"@\", end = \" \")\n",
    "    print()\n",
    "    \n",
    "for l in range(num):\n",
    "    \n",
    "    for p in range(0, l + 1):\n",
    "        print(end = \" \")\n",
    "    for q in range(0, num - l -1):\n",
    "        print(\"@\", end = \" \")\n",
    "    print()"
   ]
  },
  {
   "cell_type": "code",
   "execution_count": 3,
   "id": "d89177b3-8ab8-47b5-a0e4-89a26a90d14c",
   "metadata": {},
   "outputs": [
    {
     "name": "stdout",
     "output_type": "stream",
     "text": [
      "   @\n",
      "  @@\n",
      " @@@\n",
      "@@@@\n"
     ]
    }
   ],
   "source": [
    "num = 4\n",
    "for i in range(num):\n",
    "    for j in range(0, num - i -1):\n",
    "        print(end = \" \")\n",
    "    for k in range(0, i + 1):\n",
    "        print(\"@\", end = \"\")\n",
    "    print()"
   ]
  },
  {
   "cell_type": "code",
   "execution_count": 4,
   "id": "6eee740b-8635-4d5c-9f81-414fff6b9fc1",
   "metadata": {},
   "outputs": [
    {
     "name": "stdout",
     "output_type": "stream",
     "text": [
      "[2, 4, 6, 4, 8, 12, 6, 12, 18]\n"
     ]
    }
   ],
   "source": [
    "product_xy = [x * y for x in [1, 2, 3] for y in [2, 4, 6]]\n",
    "print(product_xy)"
   ]
  },
  {
   "cell_type": "code",
   "execution_count": 5,
   "id": "68dfa1a2-23f3-407b-9e08-fcc8dab36979",
   "metadata": {},
   "outputs": [
    {
     "name": "stdout",
     "output_type": "stream",
     "text": [
      "\n",
      "1 \n",
      "1 2 \n",
      "1 2 3 \n",
      "1 2 3 4 \n",
      "1 2 3 4 5 \n",
      "1 2 3 4 5 6 \n",
      "1 2 3 4 5 6 7 \n",
      "1 2 3 4 5 6 7 8 \n",
      "1 2 3 4 5 6 7 8 9 \n"
     ]
    }
   ],
   "source": [
    "n = 10\n",
    "for t in range(1,n+1):\n",
    "    for u in range(1,t):\n",
    "        print(u,end=\" \")\n",
    "    print()"
   ]
  },
  {
   "cell_type": "code",
   "execution_count": 6,
   "id": "b80d998c-977a-45e1-bc8d-e47fece4863a",
   "metadata": {},
   "outputs": [
    {
     "name": "stdout",
     "output_type": "stream",
     "text": [
      "\n",
      "1 \n",
      "2 3 \n",
      "4 5 6 \n",
      "7 8 9 10 \n"
     ]
    }
   ],
   "source": [
    "n = 4\n",
    "y = 1\n",
    "for t in range(n+1):\n",
    "    for k in range(1,t+1):\n",
    "        print(y, end = \" \")\n",
    "        y +=1\n",
    "        \n",
    "    print()\n",
    "    "
   ]
  },
  {
   "cell_type": "code",
   "execution_count": 7,
   "id": "41f9f7e6-bc58-450e-b37b-2747dff003c2",
   "metadata": {},
   "outputs": [
    {
     "ename": "SyntaxError",
     "evalue": "'(' was never closed (4118273966.py, line 11)",
     "output_type": "error",
     "traceback": [
      "\u001b[0;36m  Cell \u001b[0;32mIn[7], line 11\u001b[0;36m\u001b[0m\n\u001b[0;31m    for g in range(\u001b[0m\n\u001b[0m                  ^\u001b[0m\n\u001b[0;31mSyntaxError\u001b[0m\u001b[0;31m:\u001b[0m '(' was never closed\n"
     ]
    }
   ],
   "source": [
    "n = 6\n",
    "for a in range(n):\n",
    "    for b in range(n + 1 ):\n",
    "        if a == 0 :\n",
    "            print(\" ** **\")\n",
    "            break\n",
    "        elif a == 1 :\n",
    "            print(\"*  *  *\")\n",
    "            break\n",
    "        else:\n",
    "            for g in range(\n",
    "            for v in range(0, n - 1):\n",
    "                print()\n",
    "    "
   ]
  },
  {
   "cell_type": "code",
   "execution_count": null,
   "id": "44ca5f11-1f92-4e97-a207-61768b9064e5",
   "metadata": {},
   "outputs": [],
   "source": [
    "import time\n",
    "for row in range(6):\n",
    "    for col in range(7):\n",
    "        if (row==0 and col%3!=0) or (row==1 and col%3==0) or (row-col == 2) or (row + col == 8):\n",
    "            print('*',end=' ')\n",
    "            time.sleep(0.5)\n",
    "        else:\n",
    "            print(end='  ')\n",
    "            \n",
    "    print()"
   ]
  },
  {
   "cell_type": "code",
   "execution_count": null,
   "id": "0da76086-ce11-4720-bdd0-7885ebbc355e",
   "metadata": {},
   "outputs": [],
   "source": [
    "\n",
    "n = int(input(\"Enter the number: \"))\n",
    "m = int(input(\"Enter the number: \"))\n",
    "calls = 0\n",
    "    \n",
    "\n",
    "def ack(m, n) :\n",
    "    global calls\n",
    "    calls+=1\n",
    "    if m== 0:\n",
    "        return n+1\n",
    "    elif n==0:\n",
    "        return ack(m-1,1)\n",
    "    else :\n",
    "        return ack(m-1,ack(m,n-1))\n",
    "\n",
    "print(ack(m, n))\n",
    "print(calls)"
   ]
  },
  {
   "cell_type": "code",
   "execution_count": null,
   "id": "813f0e83-2b69-4443-9737-7e06c97ee325",
   "metadata": {},
   "outputs": [],
   "source": [
    "nu = int(input(\"Enter the number: \"))\n",
    "num = int(input(\"Enter the number: \"))\n",
    "if nu > num :\n",
    "    a = nu\n",
    "    b = num\n",
    "else:\n",
    "    a = num\n",
    "    b = nu\n",
    "call1=0\n",
    "def gcd(a, b) :\n",
    "    global call1\n",
    "    call1 +=1\n",
    "    if b <= 0:\n",
    "        return a\n",
    "    else :\n",
    "        return(gcd(b, a % b))\n",
    "print(gcd(a, b))\n",
    "print(call1)"
   ]
  },
  {
   "cell_type": "code",
   "execution_count": null,
   "id": "048bcb9d-7466-4677-92e1-33d0a09aa18d",
   "metadata": {},
   "outputs": [],
   "source": [
    "num = {1, 3, 2}\n",
    "\n",
    "for x in num :\n",
    "    print(x, end = \" \")"
   ]
  },
  {
   "cell_type": "code",
   "execution_count": null,
   "id": "447ef0be-ed7a-4340-96d1-54d255c5ed9a",
   "metadata": {},
   "outputs": [],
   "source": [
    "import math\n",
    "\n",
    "print(math.perm(77, 11))"
   ]
  },
  {
   "cell_type": "code",
   "execution_count": null,
   "id": "a2deb66f-cc52-4642-b2d9-6931b36f8225",
   "metadata": {},
   "outputs": [],
   "source": [
    "tup = (1,2,5,4,3,2,1,4,7,8,9,9,3,7,7,7,3,9)\n",
    "list1 = list(tup) # convert tup(tuple) to list\n",
    "list1.sort() # sort the list\n",
    "\n",
    "truemode = 0 # most occuring element\n",
    "\n",
    "for i in range(1, 10): # first index, last index + 1(to count the last index)\n",
    "    mode = tup.count(i)\n",
    "    if mode >= truemode:\n",
    "        truemode = mode # replace the biggest trumode\n",
    "        element = i # the number of i reached\n",
    "print(\"most frequently occuring element is {}.\".format(element))"
   ]
  },
  {
   "cell_type": "code",
   "execution_count": null,
   "id": "c3bc70ac-c417-4c15-8658-795c4dab7a52",
   "metadata": {},
   "outputs": [],
   "source": [
    "from scipy import stats\n",
    "tup = [1,2,5,4,3,2,1,4,7,8,9,9,3,7,7,7,3,9]\n",
    "a = stats.mode(tup)\n",
    "b = str(a)\n",
    "print(\"most frequently occuring element is\", b[16])"
   ]
  },
  {
   "cell_type": "code",
   "execution_count": null,
   "id": "0a4865ed-3e9d-420e-ba0f-0e5c4eb41e60",
   "metadata": {},
   "outputs": [],
   "source": []
  }
 ],
 "metadata": {
  "kernelspec": {
   "display_name": "Python 3 (ipykernel)",
   "language": "python",
   "name": "python3"
  },
  "language_info": {
   "codemirror_mode": {
    "name": "ipython",
    "version": 3
   },
   "file_extension": ".py",
   "mimetype": "text/x-python",
   "name": "python",
   "nbconvert_exporter": "python",
   "pygments_lexer": "ipython3",
   "version": "3.12.2"
  }
 },
 "nbformat": 4,
 "nbformat_minor": 5
}
