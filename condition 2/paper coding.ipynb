{
 "cells": [
  {
   "cell_type": "markdown",
   "id": "c18d84bc",
   "metadata": {},
   "source": [
    "### vowel or consonant"
   ]
  },
  {
   "cell_type": "code",
   "execution_count": 5,
   "id": "dbcb88a6",
   "metadata": {},
   "outputs": [
    {
     "name": "stdout",
     "output_type": "stream",
     "text": [
      "Enter an alphabet: i\n",
      "i is a vowel\n"
     ]
    }
   ],
   "source": [
    "# using list\n",
    "a = input(\"Enter an alphabet: \")\n",
    "vowel = ['a', 'e', 'i', 'o', 'u']\n",
    "if a in vowel:\n",
    "    print(f\"{a} is a vowel.\")\n",
    "else:\n",
    "    print(f\"{a} is a consonant.\")"
   ]
  },
  {
   "cell_type": "code",
   "execution_count": 9,
   "id": "07623cd2",
   "metadata": {},
   "outputs": [
    {
     "name": "stdout",
     "output_type": "stream",
     "text": [
      "Enter an alphabet: i\n",
      "i is a vowel.\n"
     ]
    }
   ],
   "source": [
    "# using conditional statement 2: if - elif - else\n",
    "a = input(\"Enter an alphabet: \")\n",
    "if a == 'a':\n",
    "    print(f\"{a} is a vowel.\")\n",
    "elif a == 'e':\n",
    "    print(f\"{a} is a vowel.\")\n",
    "elif a == 'i':\n",
    "    print(f\"{a} is a vowel.\")\n",
    "elif a == 'o':\n",
    "    print(f\"{a} is a vowel.\")\n",
    "elif a == 'u':\n",
    "    print(f\"{a} is a vowel.\")\n",
    "else:\n",
    "    print(f\"{a} is a consonant.\")"
   ]
  },
  {
   "cell_type": "markdown",
   "id": "e525b857",
   "metadata": {},
   "source": [
    "### is 'a' a multiple of 'b'?"
   ]
  },
  {
   "cell_type": "code",
   "execution_count": 16,
   "id": "02ec502f",
   "metadata": {},
   "outputs": [
    {
     "name": "stdout",
     "output_type": "stream",
     "text": [
      "Write two integers: 33 5\n",
      "33 is not a multiple of 5\n"
     ]
    }
   ],
   "source": [
    "a, b = input(\"Write two integers: \").split()\n",
    "a = int(a)\n",
    "b = int(b)\n",
    "if a % b == 0:\n",
    "    print(f\"{a} is a multiple of {b}.\")\n",
    "else:\n",
    "    print(f\"{a} is not a multiple of {b}.\")"
   ]
  },
  {
   "cell_type": "code",
   "execution_count": null,
   "id": "0e7ce45d",
   "metadata": {},
   "outputs": [],
   "source": []
  }
 ],
 "metadata": {
  "kernelspec": {
   "display_name": "Python 3 (ipykernel)",
   "language": "python",
   "name": "python3"
  },
  "language_info": {
   "codemirror_mode": {
    "name": "ipython",
    "version": 3
   },
   "file_extension": ".py",
   "mimetype": "text/x-python",
   "name": "python",
   "nbconvert_exporter": "python",
   "pygments_lexer": "ipython3",
   "version": "3.11.5"
  }
 },
 "nbformat": 4,
 "nbformat_minor": 5
}
