{
 "cells": [
  {
   "cell_type": "markdown",
   "id": "c7d34162",
   "metadata": {},
   "source": [
    "### calculator"
   ]
  },
  {
   "cell_type": "code",
   "execution_count": 14,
   "id": "2485e7a2",
   "metadata": {},
   "outputs": [
    {
     "name": "stdout",
     "output_type": "stream",
     "text": [
      "1) addition, 2) substraction, 3) multiplication, 4) division\n",
      "Please enter the number corrensponding to the operation: 4\n",
      "Please enter two numbers for the operation:\n",
      "20\n",
      "10\n",
      "20 / 10 = 2\n"
     ]
    }
   ],
   "source": [
    "print(\"1) addition, 2) substraction, 3) multiplication, 4) division\")\n",
    "operation = int(input(\"Please enter the number corrensponding to the operation: \"))\n",
    "print(\"Please enter two numbers for the operation:\")\n",
    "a = int(input())\n",
    "b = int(input())\n",
    "if operation == 1:\n",
    "    c = a + b\n",
    "    print(f\"{a} + {b} = {c}\")\n",
    "elif operation == 2:\n",
    "    c = a - b\n",
    "    print(f\"{a} - {b} = {c}\")\n",
    "elif operation == 3:\n",
    "    c = a * b\n",
    "    print(f\"{a} x {b} = {c}\")\n",
    "elif operation == 4:\n",
    "    c = int(a / b)\n",
    "    print(f\"{a} / {b} = {c}\")\n",
    "else:\n",
    "    print(\"Invalid input\")"
   ]
  },
  {
   "cell_type": "markdown",
   "id": "5f829a48",
   "metadata": {},
   "source": [
    "### quadrant of x and y"
   ]
  },
  {
   "cell_type": "code",
   "execution_count": 2,
   "id": "9d06ab09",
   "metadata": {},
   "outputs": [
    {
     "name": "stdout",
     "output_type": "stream",
     "text": [
      "Enter x,y coordinates: 0 0\n",
      "0 lies on no quadrant\n"
     ]
    }
   ],
   "source": [
    "x, y = input(\"Enter x,y coordinates: \").split()\n",
    "x = int(x)\n",
    "y = int(y)\n",
    "if x > 0 and y > 0:\n",
    "    print(\"1 quadrant\")\n",
    "elif x < 0 and y > 0:\n",
    "    print(\"2 quadrant\")\n",
    "elif x < 0 and y < 0:\n",
    "    print(\"3 quadrant\")\n",
    "elif x > 0 and y < 0:\n",
    "    print(\"4 quadrant\")\n",
    "else:\n",
    "    print(\"0 lies on no quadrant\")"
   ]
  },
  {
   "cell_type": "markdown",
   "id": "753ef823",
   "metadata": {},
   "source": [
    "### delicious restaurant"
   ]
  },
  {
   "cell_type": "code",
   "execution_count": 5,
   "id": "f9e40a00",
   "metadata": {},
   "outputs": [
    {
     "name": "stdout",
     "output_type": "stream",
     "text": [
      "Welcome to Yummy restaurant. Here is the menu.\n",
      "- Burger(enter 'b')\n",
      "- Chicken(enter 'c')\n",
      "- Pizza(enter 'p')\n",
      "Choose a menu (enter b,c,p) : r\n",
      "Please enter the menu again.\n"
     ]
    }
   ],
   "source": [
    "print('''Welcome to Yummy restaurant. Here is the menu.\n",
    "- Burger(enter 'b')\n",
    "- Chicken(enter 'c')\n",
    "- Pizza(enter 'p')''')\n",
    "choice = input(\"Choose a menu (enter b,c,p) : \")\n",
    "if choice == \"b\":\n",
    "    print(\"You choose burger.\")\n",
    "elif choice == \"c\":\n",
    "    print(\"You choose chicken.\")\n",
    "elif choice == \"p\":\n",
    "    print(\"You choose pizza.\")\n",
    "else:\n",
    "    print(\"Please enter the menu again.\")"
   ]
  },
  {
   "cell_type": "code",
   "execution_count": null,
   "id": "0552dacf",
   "metadata": {},
   "outputs": [],
   "source": []
  }
 ],
 "metadata": {
  "kernelspec": {
   "display_name": "Python 3 (ipykernel)",
   "language": "python",
   "name": "python3"
  },
  "language_info": {
   "codemirror_mode": {
    "name": "ipython",
    "version": 3
   },
   "file_extension": ".py",
   "mimetype": "text/x-python",
   "name": "python",
   "nbconvert_exporter": "python",
   "pygments_lexer": "ipython3",
   "version": "3.11.5"
  }
 },
 "nbformat": 4,
 "nbformat_minor": 5
}
