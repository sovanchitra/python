{
 "cells": [
  {
   "cell_type": "markdown",
   "id": "6c182126",
   "metadata": {},
   "source": [
    "### penalty shootout game"
   ]
  },
  {
   "cell_type": "code",
   "execution_count": 9,
   "id": "db075273",
   "metadata": {},
   "outputs": [
    {
     "name": "stdout",
     "output_type": "stream",
     "text": [
      "Enter your kick(left, center, right): center\n",
      "No goal\n",
      "Defense position of computer: center\n"
     ]
    }
   ],
   "source": [
    "import random as r\n",
    "\n",
    "a = r.randrange(3)\n",
    "user = input(\"Enter your kick(left, center, right): \")\n",
    "if a == 1:\n",
    "    a = \"left\"\n",
    "    if user == a:\n",
    "        print(\"No goal\")\n",
    "    else:\n",
    "        print(\"GOAL!\")\n",
    "elif a == 2:\n",
    "    a = \"center\"\n",
    "    if user == a:\n",
    "        print(\"No goal\")\n",
    "    else:\n",
    "        print(\"GOAL!\")\n",
    "else:\n",
    "    a = \"right\"\n",
    "    if user == a:\n",
    "        print(\"No goal\")\n",
    "    else:\n",
    "        print(\"GOAL!\")\n",
    "print(f\"Defense position of computer: {a}\")"
   ]
  },
  {
   "cell_type": "markdown",
   "id": "a25227f1",
   "metadata": {},
   "source": [
    "### AnB's code"
   ]
  },
  {
   "cell_type": "code",
   "execution_count": null,
   "id": "dc18e427",
   "metadata": {},
   "outputs": [],
   "source": [
    "import random\n",
    "\n",
    "n = random.randint(1,3)\n",
    "if n == 1:\n",
    "    computer_choice = \"left\"\n",
    "elif n == 2:\n",
    "    computer_choice = \"right\"\n",
    "else:\n",
    "    computer_choice = \"center\"\n",
    "    \n",
    "user_choice = input(\"Where do you want to shoot?(left, center, right): \")\n",
    "if computer_choice == user_choice:\n",
    "    print(\"No goal\")\n",
    "else:\n",
    "    print(\"GOAL!\")\n",
    "print(\"Denfense position of computer :\", computer_choice)"
   ]
  }
 ],
 "metadata": {
  "kernelspec": {
   "display_name": "Python 3 (ipykernel)",
   "language": "python",
   "name": "python3"
  },
  "language_info": {
   "codemirror_mode": {
    "name": "ipython",
    "version": 3
   },
   "file_extension": ".py",
   "mimetype": "text/x-python",
   "name": "python",
   "nbconvert_exporter": "python",
   "pygments_lexer": "ipython3",
   "version": "3.11.5"
  }
 },
 "nbformat": 4,
 "nbformat_minor": 5
}
