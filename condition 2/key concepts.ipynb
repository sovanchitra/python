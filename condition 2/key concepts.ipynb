{
 "cells": [
  {
   "cell_type": "markdown",
   "id": "39f99fba",
   "metadata": {},
   "source": [
    "### flipping coin"
   ]
  },
  {
   "cell_type": "code",
   "execution_count": 7,
   "id": "5add7057",
   "metadata": {},
   "outputs": [
    {
     "name": "stdout",
     "output_type": "stream",
     "text": [
      "Let's start the coin toss game.\n",
      "Front\n",
      "Game over\n"
     ]
    }
   ],
   "source": [
    "import random as r\n",
    "\n",
    "print(\"Let's start the coin toss game.\")\n",
    "coin = r.randrange(2)\n",
    "if coin == 0:\n",
    "    print(\"Front\")\n",
    "else:\n",
    "    print(\"Back\")\n",
    "print(\"Game over\")"
   ]
  },
  {
   "cell_type": "code",
   "execution_count": null,
   "id": "5e9eb692",
   "metadata": {},
   "outputs": [],
   "source": []
  },
  {
   "cell_type": "code",
   "execution_count": null,
   "id": "51858e50",
   "metadata": {},
   "outputs": [],
   "source": []
  }
 ],
 "metadata": {
  "kernelspec": {
   "display_name": "Python 3 (ipykernel)",
   "language": "python",
   "name": "python3"
  },
  "language_info": {
   "codemirror_mode": {
    "name": "ipython",
    "version": 3
   },
   "file_extension": ".py",
   "mimetype": "text/x-python",
   "name": "python",
   "nbconvert_exporter": "python",
   "pygments_lexer": "ipython3",
   "version": "3.11.5"
  }
 },
 "nbformat": 4,
 "nbformat_minor": 5
}
