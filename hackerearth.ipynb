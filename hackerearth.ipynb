{
 "cells": [
  {
   "cell_type": "code",
   "execution_count": 5,
   "id": "55574e26",
   "metadata": {},
   "outputs": [
    {
     "name": "stdout",
     "output_type": "stream",
     "text": [
      "2.0\n"
     ]
    }
   ],
   "source": [
    "# import math\n",
    "\n",
    "# m = math.cbrt(8)\n",
    "# print(m)"
   ]
  },
  {
   "cell_type": "code",
   "execution_count": 9,
   "id": "cf2e5168",
   "metadata": {},
   "outputs": [
    {
     "name": "stdout",
     "output_type": "stream",
     "text": [
      "7 36\n",
      "['7', '36']\n",
      "252\n",
      "6.316359597656379\n",
      "not perfect cube\n"
     ]
    }
   ],
   "source": [
    "import math\n",
    "cu = input().split()\n",
    "list(cu)\n",
    "print(cu)\n",
    "\n",
    "a = 1\n",
    "for i in cu:\n",
    "    a *= int(i)\n",
    "print(a)\n",
    "m = math.cbrt(a)\n",
    "print(m)\n",
    "\n",
    "if m ** 3 == a:\n",
    "    print(3)\n",
    "else:\n",
    "    print(\"not perfect cube\")"
   ]
  },
  {
   "cell_type": "code",
   "execution_count": null,
   "id": "f61f20e2",
   "metadata": {},
   "outputs": [],
   "source": []
  },
  {
   "cell_type": "code",
   "execution_count": 36,
   "id": "d7ab9a85",
   "metadata": {},
   "outputs": [
    {
     "name": "stdout",
     "output_type": "stream",
     "text": [
      "4 3 4\n",
      "1 3\n",
      "1 2\n",
      "2 1\n",
      "2 3\n",
      "['1', '1', '2', '2']\n",
      "['3', '2', '1', '3']\n",
      "2\n"
     ]
    },
    {
     "ename": "TypeError",
     "evalue": "list.count() takes exactly one argument (0 given)",
     "output_type": "error",
     "traceback": [
      "\u001b[0;31m---------------------------------------------------------------------------\u001b[0m",
      "\u001b[0;31mTypeError\u001b[0m                                 Traceback (most recent call last)",
      "Cell \u001b[0;32mIn[36], line 19\u001b[0m\n\u001b[1;32m     17\u001b[0m j \u001b[38;5;241m=\u001b[39m \u001b[38;5;241m1\u001b[39m\n\u001b[1;32m     18\u001b[0m \u001b[38;5;28;01mfor\u001b[39;00m l \u001b[38;5;129;01min\u001b[39;00m \u001b[38;5;28mrange\u001b[39m(\u001b[38;5;28mlen\u001b[39m(mu) \u001b[38;5;241m+\u001b[39m \u001b[38;5;241m1\u001b[39m):\n\u001b[0;32m---> 19\u001b[0m     a \u001b[38;5;241m=\u001b[39m lst_u\u001b[38;5;241m.\u001b[39mcount()\n\u001b[1;32m     20\u001b[0m     count_u\u001b[38;5;241m.\u001b[39mappend(a)\n\u001b[1;32m     21\u001b[0m     j \u001b[38;5;241m+\u001b[39m\u001b[38;5;241m=\u001b[39m\u001b[38;5;241m1\u001b[39m\n",
      "\u001b[0;31mTypeError\u001b[0m: list.count() takes exactly one argument (0 given)"
     ]
    }
   ],
   "source": [
    "N, M, P = input().split()\n",
    "\n",
    "lst_u = []\n",
    "lst_v = []\n",
    "count_u = []\n",
    "count_v = []\n",
    "\n",
    "for duh in range(int(P)):\n",
    "    u, v = input().split()\n",
    "    lst_u.append(u)\n",
    "    lst_v.append(v)\n",
    "    \n",
    "print(lst_u)\n",
    "print(lst_v)\n",
    "mu = max(lst_u)\n",
    "print(mu)\n",
    "j = 1\n",
    "for l in range(len(mu) + 1):\n",
    "    a = lst_u.count(str(j))\n",
    "    count_u.append(a)\n",
    "    j +=1\n",
    "    \n",
    "print(count_u)\n",
    "\n",
    "mv = max(lst_v)\n",
    "print(mv)\n",
    "\n",
    "k = 1\n",
    "for _ in range(len(mv) + 1):\n",
    "    b = lst_v.count(str(k))\n",
    "    count_v.append(b)\n",
    "    k += 1\n",
    "    \n",
    "print(count_v)    \n",
    "if len(count_u) > len(count_v):\n",
    "    print(len(count_v))\n",
    "else:\n",
    "    print(len(count_u))"
   ]
  },
  {
   "cell_type": "code",
   "execution_count": 34,
   "id": "bee777ba",
   "metadata": {},
   "outputs": [
    {
     "name": "stdout",
     "output_type": "stream",
     "text": [
      "2 4 6 36\n",
      "{8, 1728, 216}\n",
      "3\n"
     ]
    }
   ],
   "source": [
    "# perfect cube\n",
    "\n",
    "import math as m\n",
    "some_set = set()\n",
    "cu = input().split()\n",
    "list(cu)\n",
    "\n",
    "for i in cu :\n",
    "    for j in cu : \n",
    "            i = int(i)\n",
    "            j = int(j)\n",
    "            k = int(k)\n",
    "            if m.cbrt(i*j) - int(m.cbrt(i*j)) == 0:\n",
    "                some_set.add(i*j)\n",
    "\n",
    "                \n",
    "s = 1\n",
    "for o in cu :\n",
    "    o = int(o)\n",
    "    s *= o\n",
    "    if m.cbrt(s) - int(m.cbrt(s)) == 0:\n",
    "        some_set.add(s)\n",
    "print(some_set)\n",
    "print(len(some_set))"
   ]
  },
  {
   "cell_type": "code",
   "execution_count": 12,
   "id": "76c5114c",
   "metadata": {},
   "outputs": [
    {
     "name": "stdout",
     "output_type": "stream",
     "text": [
      "yes\n"
     ]
    }
   ],
   "source": [
    "# palindrome split\n",
    "\n",
    "n = 'f'\n",
    "lst = []\n",
    "\n",
    "if n[::-1] == n:\n",
    "    print('yes')\n",
    "else:\n",
    "    print('no')"
   ]
  },
  {
   "cell_type": "code",
   "execution_count": 24,
   "id": "f630afdd",
   "metadata": {},
   "outputs": [
    {
     "name": "stdout",
     "output_type": "stream",
     "text": [
      "6\n",
      "1 2 3 4 4 4\n",
      "['1', '2', '3', '4', '4', '4']\n",
      "4\n"
     ]
    }
   ],
   "source": [
    "# favourite singer\n",
    "\n",
    "num_song = int(input())\n",
    "songs = input().split(' ')\n",
    "print(songs)\n",
    "\n",
    "truefav = 0\n",
    "for song in songs:\n",
    "    fav = songs.count(song)\n",
    "    if fav >= truefav:\n",
    "        truefav = fav\n",
    "        s = song\n",
    "print(s)"
   ]
  },
  {
   "cell_type": "code",
   "execution_count": 25,
   "id": "794b93e4",
   "metadata": {},
   "outputs": [
    {
     "name": "stdout",
     "output_type": "stream",
     "text": [
      "    8 : [[2, 4]] (cube)\n",
      "   12 : [[2, 6]] \n",
      "   72 : [[2, 36]] \n",
      "   24 : [[4, 6]] \n",
      "  144 : [[4, 36]] \n",
      "  216 : [[6, 36]] (cube)\n",
      "   96 : [[8, 12]] \n",
      "  576 : [[8, 72]] \n",
      "  192 : [[8, 24]] \n",
      " 1152 : [[8, 144], [12, 96]] \n",
      " 1728 : [[8, 216], [12, 144], [24, 72]] (cube)\n",
      "  864 : [[12, 72]] \n",
      "  288 : [[12, 24]] \n",
      "  768 : [[8, 96]] \n",
      " 1536 : [[8, 192]] \n"
     ]
    }
   ],
   "source": [
    "import math as m\n",
    "\n",
    "entry = [2, 4, 6, 36]\n",
    "length_entry = len(entry)\n",
    "combinations = m.factorial(length_entry)\n",
    "\n",
    "result = {}\n",
    "max = 1\n",
    "for z in entry:\n",
    "    max *= z\n",
    "\n",
    "def multiple(entry):\n",
    "    sub1 = entry\n",
    "    sub2 = entry\n",
    "    \n",
    "    temp_set = set()\n",
    "    \n",
    "    for i in sub1:\n",
    "        for j in sub2:\n",
    "            if i != j:\n",
    "                prod = i*j\n",
    "                if prod <= max:\n",
    "                    #print(f\"{i} x {j} = {prod}\")\n",
    "                    factors = [i,j]\n",
    "                    factors.sort()\n",
    "                    try:\n",
    "                        if factors not in result[prod]:\n",
    "                            result[prod].append(factors)\n",
    "                    except:\n",
    "                        result[prod] = [factors]\n",
    "\n",
    "def start():\n",
    "    global entry, result\n",
    "    prev_len = 15\n",
    "    cur_len = 0\n",
    "    \n",
    "    \n",
    "    while prev_len != cur_len:\n",
    "        prev_len = len(list(result))\n",
    "        multiple(entry)\n",
    "        entry = list(result)\n",
    "        cur_len = len(list(result))\n",
    "\n",
    "start()\n",
    "\n",
    "for i,j in result.items():\n",
    "    if m.cbrt(i) - int(m.cbrt(i)) == 0:\n",
    "        text = \"(cube)\"\n",
    "    else:\n",
    "        text = \"\"\n",
    "    print(\"{:5} : {} {}\".format(i,j,text))\n"
   ]
  },
  {
   "cell_type": "code",
   "execution_count": 51,
   "id": "8b9fc08b",
   "metadata": {},
   "outputs": [
    {
     "name": "stdout",
     "output_type": "stream",
     "text": [
      "6 5 2\n",
      "['1', '2', '3', '4', '5', '6']\n"
     ]
    },
    {
     "ename": "ValueError",
     "evalue": "not enough values to unpack (expected 3, got 1)",
     "output_type": "error",
     "traceback": [
      "\u001b[0;31m---------------------------------------------------------------------------\u001b[0m",
      "\u001b[0;31mValueError\u001b[0m                                Traceback (most recent call last)",
      "Cell \u001b[0;32mIn[51], line 8\u001b[0m\n\u001b[1;32m      5\u001b[0m \u001b[38;5;28mprint\u001b[39m(lis_n)\n\u001b[1;32m      6\u001b[0m list_t \u001b[38;5;241m=\u001b[39m \u001b[38;5;28mset\u001b[39m()\n\u001b[0;32m----> 8\u001b[0m \u001b[38;5;28;01mfor\u001b[39;00m k, j, p \u001b[38;5;129;01min\u001b[39;00m lis_n:\n\u001b[1;32m      9\u001b[0m     k \u001b[38;5;241m=\u001b[39m \u001b[38;5;28mstr\u001b[39m(k)\n\u001b[1;32m     10\u001b[0m     j \u001b[38;5;241m=\u001b[39m \u001b[38;5;28mstr\u001b[39m(j)\n",
      "\u001b[0;31mValueError\u001b[0m: not enough values to unpack (expected 3, got 1)"
     ]
    }
   ],
   "source": [
    "test_case = 1\n",
    "n,b1,b2 = input().split(' ')\n",
    "n = int(n)\n",
    "lis_n = [str(i) for i in range(1, n +1)]\n",
    "print(lis_n)\n",
    "list_t = set()\n",
    "    \n",
    "for k, j, p in lis_n:\n",
    "    k = str(k)\n",
    "    j = str(j)\n",
    "    p = str(p)\n",
    "    t =k + j + p\n",
    "    t = str(t)\n",
    "    if b1 or b2 not in t:\n",
    "        list_t.add(t)\n",
    "print(list_t)\n"
   ]
  },
  {
   "cell_type": "code",
   "execution_count": 82,
   "id": "cf6f47ff",
   "metadata": {},
   "outputs": [
    {
     "name": "stdout",
     "output_type": "stream",
     "text": [
      "4\n"
     ]
    }
   ],
   "source": [
    "import itertools\n",
    "from itertools import permutations \n",
    "\n",
    "list_1 = [1,3,4,6]\n",
    "list_2 =[1,3,4,6]\n",
    "list_3 = [1,3,4,6]\n",
    "n,b1,b2 = input().split(' ')\n",
    "n = int(n)\n",
    "b1 = int(b1)\n",
    "b2 = int(b2)\n",
    "\n",
    "unique_combinations = []\n",
    "\n",
    "for i in range(len(list_1)):\n",
    "    for j in range(i,len(list_2)):\n",
    "        for b in range(j,len(list_3)):\n",
    "            if list_1[i] != list_2[j] != list_3[b]:\n",
    "                unique_combinations.append((list_1[i], list_2[j],list_3[b]))\n",
    "    \n",
    "        \n",
    "# for k in unique_combinations:\n",
    "#     for tup in k:\n",
    "#         if 2 in tup or 5 in tup:\n",
    "#             k.remove(tup)\n",
    "            \n",
    "print(len(unique_combinations)"
   ]
  },
  {
   "cell_type": "code",
   "execution_count": 111,
   "id": "9c7ba68d",
   "metadata": {},
   "outputs": [
    {
     "name": "stdout",
     "output_type": "stream",
     "text": [
      "6 2 5\n",
      "4\n",
      "[(1, 3, 4), (1, 3, 6), (1, 4, 6), (3, 4, 6)]\n"
     ]
    }
   ],
   "source": [
    "# number of triangles\n",
    "\n",
    "\n",
    "import itertools\n",
    "from itertools import permutations \n",
    "\n",
    "n,b1,b2 = input().split(' ')\n",
    "n = int(n)\n",
    "b1 = int(b1)\n",
    "b2 = int(b2)\n",
    "\n",
    "# list_1 = [1,3,4,6]\n",
    "# list_2 =[1,3,4,6]\n",
    "# list_3 = [1,3,4,6]\n",
    "lst_ =[]\n",
    "for a in range(1, n+1):\n",
    "    if a != b1 and a != b2:\n",
    "        lst_.append(a) \n",
    "\n",
    "unique_combinations = []\n",
    "\n",
    "for i in range(len(lst_)):\n",
    "    for j in range(i,len(lst_)):\n",
    "        for b in range(j,len(lst_)):\n",
    "            if lst_[i] != lst_[j] != lst_[b]:\n",
    "                unique_combinations.append((lst_[i], lst_[j],lst_[b]))\n",
    "    \n",
    "        \n",
    "# for k in unique_combinations:\n",
    "#     for tup in k:\n",
    "#         if 2 in tup or 5 in tup:\n",
    "#             k.remove(tup)\n",
    "            \n",
    "print(len(unique_combinations))\n",
    "print(unique_combinations)"
   ]
  },
  {
   "cell_type": "code",
   "execution_count": 124,
   "id": "2214938a",
   "metadata": {},
   "outputs": [
    {
     "name": "stdout",
     "output_type": "stream",
     "text": [
      "5\n",
      "88 76 834 849 90\n",
      "0\n",
      "yes\n"
     ]
    }
   ],
   "source": [
    "# divisibilty\n",
    "\n",
    "n = int(input())\n",
    "lis = list(input().split(\" \"))\n",
    "#print(lis)\n",
    "lis1 = []\n",
    "for st in lis:\n",
    "     lis1.append(st[-1])\n",
    "b = lis1[-1]\n",
    "print(b)\n",
    "if b[-1] == '0':\n",
    "    print(\"yes\")\n",
    "else:\n",
    "    print(\"No\")\n",
    "# a =''.join(lis1)\n",
    "# if int(a) % 10 == 0:\n",
    "#     print('Yes')\n",
    "# else:\n",
    "#     print('No')"
   ]
  },
  {
   "cell_type": "code",
   "execution_count": 125,
   "id": "e18c275c",
   "metadata": {},
   "outputs": [
    {
     "name": "stdout",
     "output_type": "stream",
     "text": [
      "5\n",
      "55 66 77 90\n",
      "yes\n"
     ]
    }
   ],
   "source": [
    "n = int(input())\n",
    "string = input()\n",
    "if string[-1] == '0':\n",
    "    print('yes')\n",
    "else:\n",
    "    print('no')"
   ]
  },
  {
   "cell_type": "code",
   "execution_count": null,
   "id": "000db948",
   "metadata": {},
   "outputs": [],
   "source": [
    "def pyramid(n):\n",
    "    # your code here\n",
    "    return \"\""
   ]
  }
 ],
 "metadata": {
  "kernelspec": {
   "display_name": "Python 3 (ipykernel)",
   "language": "python",
   "name": "python3"
  },
  "language_info": {
   "codemirror_mode": {
    "name": "ipython",
    "version": 3
   },
   "file_extension": ".py",
   "mimetype": "text/x-python",
   "name": "python",
   "nbconvert_exporter": "python",
   "pygments_lexer": "ipython3",
   "version": "3.11.5"
  }
 },
 "nbformat": 4,
 "nbformat_minor": 5
}
