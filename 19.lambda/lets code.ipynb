{
 "cells": [
  {
   "cell_type": "markdown",
   "id": "540d240c",
   "metadata": {},
   "source": [
    "### sherlock holmes"
   ]
  },
  {
   "cell_type": "code",
   "execution_count": 5,
   "id": "6cf94a96",
   "metadata": {},
   "outputs": [
    {
     "name": "stdout",
     "output_type": "stream",
     "text": [
      "Please enter date seperately by '.' (e.g, 1917.6.10):1887.3.31\n",
      "This is not a publication date of Sherlock Holmes or you entered it incorrectly.\n"
     ]
    }
   ],
   "source": [
    "def valid_date(date):\n",
    "    days = [31,29,31,30,31,30,31,31,30,31,30,31]\n",
    "    sherlock_series = [1887, 1890, 1892, 1894, 1901, 1905, 1915, 1917, 1927]\n",
    "    splitted = date.split('.')\n",
    "    year = int(splitted[0])\n",
    "    month = int(splitted[1])\n",
    "    day = int(splitted[2])\n",
    "    is_sherlock_book_yr = lambda x: x in sherlock_series\n",
    "    \n",
    "    if not is_sherlock_book_yr(year):\n",
    "        print(\"This is not a publication year of Sherlock Holmes series.\")\n",
    "        return False\n",
    "    if month < 1 or month > 12:\n",
    "        print(\"Invalid month\")\n",
    "        return False\n",
    "    if day < 1 or day > days[month-1]:\n",
    "        print('Invalid day')\n",
    "        return False\n",
    "    \n",
    "    return False\n",
    "\n",
    "date = input(\"Please enter date seperately by '.' (e.g, 1917.6.10): \")\n",
    "if valid_date(date) == True:\n",
    "    print(\"This is a publication date of Sherlock Holmes!\")\n",
    "else:\n",
    "    print(\"This is not a publication date of Sherlock Holmes or you entered it incorrectly.\")"
   ]
  },
  {
   "cell_type": "markdown",
   "id": "1f31a5de",
   "metadata": {},
   "source": [
    "### test"
   ]
  },
  {
   "cell_type": "code",
   "execution_count": 6,
   "id": "a01b931b",
   "metadata": {},
   "outputs": [
    {
     "name": "stdout",
     "output_type": "stream",
     "text": [
      "2 4 6 8 "
     ]
    }
   ],
   "source": [
    "def double_check(n):\n",
    "    if n > 0 and n % 2 == 0:\n",
    "        return True\n",
    "    else:\n",
    "        return False\n",
    "    \n",
    "nums = [0,1,2,3,4,5,6,7,8,9]\n",
    "for i in filter(double_check, nums):\n",
    "    print(i, end = ' ')"
   ]
  },
  {
   "cell_type": "code",
   "execution_count": 11,
   "id": "3d9a45b8",
   "metadata": {},
   "outputs": [
    {
     "name": "stdout",
     "output_type": "stream",
     "text": [
      "[1, 2, 3]\n"
     ]
    }
   ],
   "source": [
    "s_nums = '1', '2', '3'\n",
    "print(list(map(int, s_nums)))"
   ]
  },
  {
   "cell_type": "code",
   "execution_count": 12,
   "id": "0d1b28f6",
   "metadata": {},
   "outputs": [
    {
     "name": "stdout",
     "output_type": "stream",
     "text": [
      "72\n"
     ]
    }
   ],
   "source": [
    "s_nums = '1', '2', '3'\n",
    "n_list = [int(i)* j for i in s_nums for j in [2,4,6]]\n",
    "print(sum(n_list))"
   ]
  },
  {
   "cell_type": "code",
   "execution_count": null,
   "id": "d4416d70",
   "metadata": {},
   "outputs": [],
   "source": []
  }
 ],
 "metadata": {
  "kernelspec": {
   "display_name": "Python 3 (ipykernel)",
   "language": "python",
   "name": "python3"
  },
  "language_info": {
   "codemirror_mode": {
    "name": "ipython",
    "version": 3
   },
   "file_extension": ".py",
   "mimetype": "text/x-python",
   "name": "python",
   "nbconvert_exporter": "python",
   "pygments_lexer": "ipython3",
   "version": "3.11.5"
  }
 },
 "nbformat": 4,
 "nbformat_minor": 5
}
