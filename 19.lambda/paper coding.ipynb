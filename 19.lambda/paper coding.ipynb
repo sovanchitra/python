{
 "cells": [
  {
   "cell_type": "markdown",
   "id": "12886612",
   "metadata": {},
   "source": [
    "### return even list with for loop"
   ]
  },
  {
   "cell_type": "code",
   "execution_count": 1,
   "id": "29ebe027",
   "metadata": {},
   "outputs": [
    {
     "name": "stdout",
     "output_type": "stream",
     "text": [
      "even_list = [2, 4, 6, 8, 10]\n"
     ]
    }
   ],
   "source": [
    "n_list = [1,2,3,4,5,6,7,8,9,10]\n",
    "\n",
    "for i in n_list:\n",
    "    even_list = list(filter(lambda x : x % 2 == 0, n_list))\n",
    "    \n",
    "print('even_list =', even_list)"
   ]
  },
  {
   "cell_type": "markdown",
   "id": "2983e7af",
   "metadata": {},
   "source": [
    "### return even list with list function"
   ]
  },
  {
   "cell_type": "code",
   "execution_count": 2,
   "id": "597becbe",
   "metadata": {},
   "outputs": [
    {
     "name": "stdout",
     "output_type": "stream",
     "text": [
      "even_list =  [2, 4, 6, 8, 10]\n"
     ]
    }
   ],
   "source": [
    "n_list = [1,2,3,4,5,6,7,8,9,10]\n",
    "even_list = list(filter(lambda x : x %2 == 0, n_list))\n",
    "print('even_list = ', even_list)"
   ]
  },
  {
   "cell_type": "markdown",
   "id": "b4a813ce",
   "metadata": {},
   "source": [
    "### lowercase to uppercase"
   ]
  },
  {
   "cell_type": "code",
   "execution_count": 3,
   "id": "40b7db2a",
   "metadata": {},
   "outputs": [
    {
     "name": "stdout",
     "output_type": "stream",
     "text": [
      "upper_a_list = ['A', 'B', 'C', 'D']\n"
     ]
    }
   ],
   "source": [
    "def to_upper(lowercase):\n",
    "    return lowercase.upper()\n",
    "\n",
    "a_list = ['a', 'b', 'c', 'd']\n",
    "\n",
    "upper_a_list = list(map(to_upper, a_list))\n",
    "    \n",
    "        \n",
    "print(\"upper_a_list =\", upper_a_list)"
   ]
  },
  {
   "cell_type": "markdown",
   "id": "fdc1f43c",
   "metadata": {},
   "source": [
    "### calculate sum of 1-100"
   ]
  },
  {
   "cell_type": "code",
   "execution_count": 9,
   "id": "cd0cd0cf",
   "metadata": {},
   "outputs": [
    {
     "name": "stdout",
     "output_type": "stream",
     "text": [
      "5050\n"
     ]
    }
   ],
   "source": [
    "from functools import reduce\n",
    "\n",
    "number = []\n",
    "for n in range(1,101):\n",
    "    number.append(n)\n",
    "\n",
    "sum_ = reduce(lambda x, y : x + y, number)\n",
    "print(sum_)"
   ]
  },
  {
   "cell_type": "code",
   "execution_count": null,
   "id": "fa403fb7",
   "metadata": {},
   "outputs": [],
   "source": []
  }
 ],
 "metadata": {
  "kernelspec": {
   "display_name": "Python 3 (ipykernel)",
   "language": "python",
   "name": "python3"
  },
  "language_info": {
   "codemirror_mode": {
    "name": "ipython",
    "version": 3
   },
   "file_extension": ".py",
   "mimetype": "text/x-python",
   "name": "python",
   "nbconvert_exporter": "python",
   "pygments_lexer": "ipython3",
   "version": "3.11.5"
  }
 },
 "nbformat": 4,
 "nbformat_minor": 5
}
