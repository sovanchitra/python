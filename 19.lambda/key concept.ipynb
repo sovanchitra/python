{
 "cells": [
  {
   "cell_type": "markdown",
   "id": "bc73ae44",
   "metadata": {},
   "source": [
    "### regular function"
   ]
  },
  {
   "cell_type": "code",
   "execution_count": 2,
   "id": "7c59fbb2",
   "metadata": {},
   "outputs": [
    {
     "name": "stdout",
     "output_type": "stream",
     "text": [
      "The sum of 100 and 200 :  300\n"
     ]
    }
   ],
   "source": [
    "def add(x, y):\n",
    "    return x + y\n",
    "    \n",
    "print('The sum of 100 and 200 : ', add(100,200))"
   ]
  },
  {
   "cell_type": "markdown",
   "id": "a6b0cd7d",
   "metadata": {},
   "source": [
    "### defining lambda function"
   ]
  },
  {
   "cell_type": "code",
   "execution_count": 3,
   "id": "0e6b4784",
   "metadata": {},
   "outputs": [
    {
     "name": "stdout",
     "output_type": "stream",
     "text": [
      "The sum of 100 and 200: 300\n"
     ]
    }
   ],
   "source": [
    "add = lambda x, y : x + y\n",
    "print('The sum of 100 and 200:', add(100,200))"
   ]
  },
  {
   "cell_type": "code",
   "execution_count": 4,
   "id": "57490b1e",
   "metadata": {},
   "outputs": [
    {
     "name": "stdout",
     "output_type": "stream",
     "text": [
      "The sum of 100 and 200: 300\n"
     ]
    }
   ],
   "source": [
    "print('The sum of 100 and 200:', (lambda x, y : x + y)(100,200))\n",
    "#                                     parameter    argument"
   ]
  },
  {
   "cell_type": "markdown",
   "id": "b293e293",
   "metadata": {},
   "source": [
    "### filter function"
   ]
  },
  {
   "cell_type": "markdown",
   "id": "7b107dfe",
   "metadata": {},
   "source": [
    "#### regular function"
   ]
  },
  {
   "cell_type": "code",
   "execution_count": 5,
   "id": "a5f90dab",
   "metadata": {},
   "outputs": [
    {
     "name": "stdout",
     "output_type": "stream",
     "text": [
      "The list of adult:\n",
      "34 39 20 40 50 "
     ]
    }
   ],
   "source": [
    "def adult_func(n):\n",
    "    if n >= 19:\n",
    "        return True\n",
    "    else:\n",
    "        return False\n",
    "    \n",
    "ages = [34,39,20,40,50,14,5]\n",
    "print(\"The list of adult:\")\n",
    "\n",
    "for a in filter(adult_func, ages): # ages pass to n in adult_func(n)\n",
    "    print(a, end = \" \")"
   ]
  },
  {
   "cell_type": "markdown",
   "id": "ab906550",
   "metadata": {},
   "source": [
    "#### lambda function"
   ]
  },
  {
   "cell_type": "code",
   "execution_count": 8,
   "id": "4ce14b49",
   "metadata": {},
   "outputs": [
    {
     "name": "stdout",
     "output_type": "stream",
     "text": [
      "The list of adult:\n",
      "34 39 20 40 50 "
     ]
    }
   ],
   "source": [
    "ages = [34,39,20,40,50,14,5]\n",
    "print(\"The list of adult:\")\n",
    "for a in filter(lambda x : x >= 19, ages):\n",
    "    print(a, end = ' ')"
   ]
  },
  {
   "cell_type": "code",
   "execution_count": 34,
   "id": "d605c992",
   "metadata": {},
   "outputs": [
    {
     "name": "stdout",
     "output_type": "stream",
     "text": [
      "The list of adult : [34, 39, 20, 54]\n"
     ]
    }
   ],
   "source": [
    "ages = [34, 39, 20, 18, 13, 54]\n",
    "adult_ages = list(filter(lambda x : x >= 19, ages))\n",
    "print('The list of adult :', adult_ages)"
   ]
  },
  {
   "cell_type": "markdown",
   "id": "f58f4165",
   "metadata": {},
   "source": [
    "### map function"
   ]
  },
  {
   "cell_type": "markdown",
   "id": "d986f11d",
   "metadata": {},
   "source": [
    "#### w/o using map function"
   ]
  },
  {
   "cell_type": "code",
   "execution_count": 9,
   "id": "aebac1ea",
   "metadata": {},
   "outputs": [
    {
     "name": "stdout",
     "output_type": "stream",
     "text": [
      "[1, 4, 9, 16, 25, 36]\n"
     ]
    }
   ],
   "source": [
    "a = [1,2,3,4,5,6]\n",
    "square_a = []\n",
    "for n in a:\n",
    "    square_a.append(n**2)\n",
    "print(square_a)"
   ]
  },
  {
   "cell_type": "markdown",
   "id": "3f5d3bf1",
   "metadata": {},
   "source": [
    "#### regular function"
   ]
  },
  {
   "cell_type": "code",
   "execution_count": 15,
   "id": "c19dc49b",
   "metadata": {},
   "outputs": [
    {
     "name": "stdout",
     "output_type": "stream",
     "text": [
      "[1, 4, 9, 16, 25, 36]\n"
     ]
    }
   ],
   "source": [
    "def square(x):\n",
    "    return x ** 2\n",
    "\n",
    "a = [1,2,3,4,5,6]\n",
    "square_a = list(map(square, a))\n",
    "print(square_a)"
   ]
  },
  {
   "cell_type": "markdown",
   "id": "73affbfd",
   "metadata": {},
   "source": [
    "#### lambda function"
   ]
  },
  {
   "cell_type": "code",
   "execution_count": 13,
   "id": "dbdd1cc2",
   "metadata": {},
   "outputs": [
    {
     "name": "stdout",
     "output_type": "stream",
     "text": [
      "[1, 4, 9, 16, 25, 36]\n"
     ]
    }
   ],
   "source": [
    "a = [1,2,3,4,5,6]\n",
    "square_a = list(map(lambda x : x ** 2, a))\n",
    "print(square_a)"
   ]
  },
  {
   "cell_type": "markdown",
   "id": "6f7f8021",
   "metadata": {},
   "source": [
    "### reduce function"
   ]
  },
  {
   "cell_type": "code",
   "execution_count": 40,
   "id": "f48fe5aa",
   "metadata": {},
   "outputs": [
    {
     "name": "stdout",
     "output_type": "stream",
     "text": [
      "15\n"
     ]
    }
   ],
   "source": [
    "from functools import reduce\n",
    "\n",
    "a = [1,2,3,4,5]\n",
    "n = reduce(lambda x, y : x + y, a)\n",
    "print(n)"
   ]
  },
  {
   "cell_type": "markdown",
   "id": "5d686646",
   "metadata": {},
   "source": [
    "### one liners"
   ]
  },
  {
   "cell_type": "code",
   "execution_count": 18,
   "id": "4d4372e5",
   "metadata": {},
   "outputs": [
    {
     "data": {
      "text/plain": [
       "[0, 1, 2, 3, 4, 5, 6, 7, 8, 9]"
      ]
     },
     "execution_count": 18,
     "metadata": {},
     "output_type": "execute_result"
    }
   ],
   "source": [
    "[x for x in range(10)]"
   ]
  },
  {
   "cell_type": "code",
   "execution_count": 19,
   "id": "ec86d9f3",
   "metadata": {},
   "outputs": [
    {
     "data": {
      "text/plain": [
       "[0, 1, 4, 9, 16, 25, 36, 49, 64, 81]"
      ]
     },
     "execution_count": 19,
     "metadata": {},
     "output_type": "execute_result"
    }
   ],
   "source": [
    "[x * x for x in range(10)]"
   ]
  },
  {
   "cell_type": "code",
   "execution_count": 20,
   "id": "116189e2",
   "metadata": {},
   "outputs": [
    {
     "data": {
      "text/plain": [
       "[0, 2, 4, 6, 8]"
      ]
     },
     "execution_count": 20,
     "metadata": {},
     "output_type": "execute_result"
    }
   ],
   "source": [
    "[x for x in range(10) if x % 2 == 0]"
   ]
  },
  {
   "cell_type": "code",
   "execution_count": 21,
   "id": "dd4d38a4",
   "metadata": {},
   "outputs": [
    {
     "data": {
      "text/plain": [
       "[1, 3, 5, 7, 9]"
      ]
     },
     "execution_count": 21,
     "metadata": {},
     "output_type": "execute_result"
    }
   ],
   "source": [
    "[x for x in range(10)if x % 2 == 1]"
   ]
  },
  {
   "cell_type": "code",
   "execution_count": 22,
   "id": "ba1ec3b5",
   "metadata": {},
   "outputs": [
    {
     "name": "stdout",
     "output_type": "stream",
     "text": [
      "Enter multiple integers: 10 20 30 40 50\n"
     ]
    }
   ],
   "source": [
    "s = input('Enter multiple integers: ').split()"
   ]
  },
  {
   "cell_type": "code",
   "execution_count": 23,
   "id": "84fab3cd",
   "metadata": {},
   "outputs": [
    {
     "data": {
      "text/plain": [
       "[10, 20, 30, 40, 50]"
      ]
     },
     "execution_count": 23,
     "metadata": {},
     "output_type": "execute_result"
    }
   ],
   "source": [
    "lst = [int(x) for x in s]\n",
    "lst"
   ]
  },
  {
   "cell_type": "code",
   "execution_count": 25,
   "id": "afec0f83",
   "metadata": {},
   "outputs": [
    {
     "name": "stdout",
     "output_type": "stream",
     "text": [
      "Enter multiple integers : 1 2 3 4 45\n"
     ]
    },
    {
     "data": {
      "text/plain": [
       "[1, 2, 3, 4, 45]"
      ]
     },
     "execution_count": 25,
     "metadata": {},
     "output_type": "execute_result"
    }
   ],
   "source": [
    "[int(x) for x in input('Enter multiple integers : ').split()]"
   ]
  },
  {
   "cell_type": "markdown",
   "id": "a5dc9f53",
   "metadata": {},
   "source": [
    "#### w/o one liner"
   ]
  },
  {
   "cell_type": "code",
   "execution_count": 26,
   "id": "7124871a",
   "metadata": {},
   "outputs": [
    {
     "name": "stdout",
     "output_type": "stream",
     "text": [
      "[2, 4, 6, 4, 8, 12, 6, 12, 18]\n"
     ]
    }
   ],
   "source": [
    "product_xy = []\n",
    "for x in [1,2,3]:\n",
    "    for y in [2,4,6]:\n",
    "        product_xy.append(x * y)\n",
    "print(product_xy)"
   ]
  },
  {
   "cell_type": "markdown",
   "id": "ceaf069e",
   "metadata": {},
   "source": [
    "#### with one liner"
   ]
  },
  {
   "cell_type": "code",
   "execution_count": 27,
   "id": "100fee80",
   "metadata": {},
   "outputs": [
    {
     "name": "stdout",
     "output_type": "stream",
     "text": [
      "[2, 4, 6, 4, 8, 12, 6, 12, 18]\n"
     ]
    }
   ],
   "source": [
    "product_xy = [x * y for x in [1,2,3] for y in [2,4,6]]\n",
    "print(product_xy)"
   ]
  },
  {
   "cell_type": "markdown",
   "id": "1893288d",
   "metadata": {},
   "source": [
    "### comparing one liner and lambda function"
   ]
  },
  {
   "cell_type": "code",
   "execution_count": 28,
   "id": "e23f88e0",
   "metadata": {},
   "outputs": [
    {
     "name": "stdout",
     "output_type": "stream",
     "text": [
      "[1, 4, 9, 16, 25, 36, 49]\n"
     ]
    }
   ],
   "source": [
    "a = [1,2,3,4,5,6,7]\n",
    "a = list(map(lambda x : x ** 2, a))\n",
    "print(a)"
   ]
  },
  {
   "cell_type": "code",
   "execution_count": 31,
   "id": "de0451f4",
   "metadata": {},
   "outputs": [
    {
     "name": "stdout",
     "output_type": "stream",
     "text": [
      "[1, 4, 9, 16, 25, 36, 49]\n"
     ]
    }
   ],
   "source": [
    "a = [x ** 2 for x in range(1, 8)]\n",
    "print(a)"
   ]
  },
  {
   "cell_type": "code",
   "execution_count": 32,
   "id": "f2196084",
   "metadata": {},
   "outputs": [
    {
     "name": "stdout",
     "output_type": "stream",
     "text": [
      "[1, 4, 9, 16, 25, 36, 49]\n"
     ]
    }
   ],
   "source": [
    "a = [1,2,3,4,5,6,7]\n",
    "a = [x ** 2 for x in a]\n",
    "print(a)"
   ]
  },
  {
   "cell_type": "code",
   "execution_count": 35,
   "id": "f9e1bbd9",
   "metadata": {},
   "outputs": [
    {
     "name": "stdout",
     "output_type": "stream",
     "text": [
      "The list of adult : [34, 39, 20, 54]\n",
      "The list of adult : [34, 39, 20, 54]\n"
     ]
    }
   ],
   "source": [
    "# lambda\n",
    "ages = [34, 39, 20, 18, 13, 54]\n",
    "adult_ages = list(filter(lambda x : x >= 19, ages))\n",
    "print('The list of adult :', adult_ages)\n",
    "\n",
    "# one liner\n",
    "ages = [34, 39, 20, 18, 13, 54]\n",
    "print('The list of adult :', [x for x in ages if x >= 19])"
   ]
  },
  {
   "cell_type": "code",
   "execution_count": 38,
   "id": "58caa38c",
   "metadata": {},
   "outputs": [
    {
     "name": "stdout",
     "output_type": "stream",
     "text": [
      "[6, 12, 18, 24, 30]\n",
      "[6, 12, 18, 24, 30]\n"
     ]
    }
   ],
   "source": [
    "# one liner\n",
    "print([n for n in range(1, 31) if n % 2 == 0 if n %3 == 0])\n",
    "\n",
    "# lambda\n",
    "print(list(filter(lambda x : (x % 2 == 0 and x % 3 == 0), range(1, 31))))"
   ]
  },
  {
   "cell_type": "code",
   "execution_count": 39,
   "id": "1a2b1831",
   "metadata": {},
   "outputs": [
    {
     "name": "stdout",
     "output_type": "stream",
     "text": [
      "[30]\n",
      "[30]\n"
     ]
    }
   ],
   "source": [
    "# one liner\n",
    "print([n for n in range(1, 31) if n % 2 == 0 if n % 3 == 0 if n % 5 == 0])\n",
    "\n",
    "# lambda\n",
    "print(list(filter(lambda x : (x % 2 == 0 and x % 3 == 0 and x % 5 == 0), range(1, 31))))"
   ]
  },
  {
   "cell_type": "code",
   "execution_count": null,
   "id": "a6e795e3",
   "metadata": {},
   "outputs": [],
   "source": []
  }
 ],
 "metadata": {
  "kernelspec": {
   "display_name": "Python 3 (ipykernel)",
   "language": "python",
   "name": "python3"
  },
  "language_info": {
   "codemirror_mode": {
    "name": "ipython",
    "version": 3
   },
   "file_extension": ".py",
   "mimetype": "text/x-python",
   "name": "python",
   "nbconvert_exporter": "python",
   "pygments_lexer": "ipython3",
   "version": "3.11.5"
  }
 },
 "nbformat": 4,
 "nbformat_minor": 5
}
