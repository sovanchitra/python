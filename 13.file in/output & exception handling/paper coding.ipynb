{
 "cells": [
  {
   "cell_type": "markdown",
   "id": "220e565d",
   "metadata": {},
   "source": [
    "### convert list to int using try-except statement"
   ]
  },
  {
   "cell_type": "code",
   "execution_count": 2,
   "id": "002da7e2",
   "metadata": {},
   "outputs": [
    {
     "name": "stdout",
     "output_type": "stream",
     "text": [
      "10\n",
      "20\n",
      "Exception occurred: Unable to convert X to an integer.\n",
      "30\n",
      "40\n",
      "50\n",
      "Exception occurred: Unable to convert ABC to an integer.\n"
     ]
    }
   ],
   "source": [
    "mylist = ['10', '20', 'X', '30', '40', '50', 'ABC']\n",
    "\n",
    "for ml in mylist:\n",
    "    try:\n",
    "        ml_int = int(ml)\n",
    "        print(ml_int)\n",
    "    except ValueError:\n",
    "        print(f\"Exception occurred: Unable to convert {ml} to an integer.\")"
   ]
  },
  {
   "cell_type": "code",
   "execution_count": null,
   "id": "7121194e",
   "metadata": {},
   "outputs": [],
   "source": []
  }
 ],
 "metadata": {
  "kernelspec": {
   "display_name": "Python 3 (ipykernel)",
   "language": "python",
   "name": "python3"
  },
  "language_info": {
   "codemirror_mode": {
    "name": "ipython",
    "version": 3
   },
   "file_extension": ".py",
   "mimetype": "text/x-python",
   "name": "python",
   "nbconvert_exporter": "python",
   "pygments_lexer": "ipython3",
   "version": "3.11.5"
  }
 },
 "nbformat": 4,
 "nbformat_minor": 5
}
