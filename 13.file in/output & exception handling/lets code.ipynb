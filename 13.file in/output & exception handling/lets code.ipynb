{
 "cells": [
  {
   "cell_type": "markdown",
   "id": "e935177d",
   "metadata": {},
   "source": [
    "### File Editor"
   ]
  },
  {
   "cell_type": "code",
   "execution_count": 31,
   "id": "a5971549",
   "metadata": {},
   "outputs": [
    {
     "name": "stdout",
     "output_type": "stream",
     "text": [
      "Write to a file...\n",
      "\n",
      "Read from a file: \n",
      "Hello \n",
      "Hello \n",
      "\n"
     ]
    }
   ],
   "source": [
    "# a mode create and open the file without any errors\n",
    "# a will add hello each time it runs\n",
    "# w will not add hello cuz it has hello in it already\n",
    "with open('helloo.txt', 'a') as f:\n",
    "    print('Write to a file...')\n",
    "    f.write(\"Hello \\n\")\n",
    "    \n",
    "print()\n",
    "with open('helloo.txt', 'r') as f:\n",
    "    print('Read from a file: ')\n",
    "    s = f.read()\n",
    "    print(s)"
   ]
  },
  {
   "cell_type": "code",
   "execution_count": null,
   "id": "9d4a00b3",
   "metadata": {},
   "outputs": [],
   "source": []
  }
 ],
 "metadata": {
  "kernelspec": {
   "display_name": "Python 3 (ipykernel)",
   "language": "python",
   "name": "python3"
  },
  "language_info": {
   "codemirror_mode": {
    "name": "ipython",
    "version": 3
   },
   "file_extension": ".py",
   "mimetype": "text/x-python",
   "name": "python",
   "nbconvert_exporter": "python",
   "pygments_lexer": "ipython3",
   "version": "3.11.5"
  }
 },
 "nbformat": 4,
 "nbformat_minor": 5
}
