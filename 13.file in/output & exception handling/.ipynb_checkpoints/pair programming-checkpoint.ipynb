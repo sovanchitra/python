{
 "cells": [
  {
   "cell_type": "markdown",
   "id": "02760fcd",
   "metadata": {},
   "source": [
    "## division with try-except statement"
   ]
  },
  {
   "cell_type": "code",
   "execution_count": 25,
   "id": "aa5cda04",
   "metadata": {},
   "outputs": [
    {
     "name": "stdout",
     "output_type": "stream",
     "text": [
      "Enter two numbers: 3 3\n",
      "Division result: 1.0\n",
      "Exiting the program.\n"
     ]
    }
   ],
   "source": [
    "x, y = input(\"Enter two numbers: \").split()\n",
    "\n",
    "try:\n",
    "    z = float(x) / float(y)\n",
    "    \n",
    "except ValueError:\n",
    "    print(\"Invalid input. Please enter an integer\")\n",
    "    \n",
    "except ZeroDivisionError:\n",
    "    print(\"Cannot divide by zero\")\n",
    "    \n",
    "else:\n",
    "    print(f\"Division result: {z}\")\n",
    "    \n",
    "finally:\n",
    "    print(\"Exiting the program.\")"
   ]
  },
  {
   "cell_type": "markdown",
   "id": "6857cbe0",
   "metadata": {},
   "source": [
    "## test"
   ]
  },
  {
   "cell_type": "code",
   "execution_count": 27,
   "id": "8658b30f",
   "metadata": {},
   "outputs": [
    {
     "name": "stdout",
     "output_type": "stream",
     "text": [
      "50.0 result\n"
     ]
    }
   ],
   "source": [
    "def divide(x, y):\n",
    "    \n",
    "    try:\n",
    "        result = x / y\n",
    "    except:\n",
    "        print(\"Wrong expression\", end = \" \")\n",
    "    else: \n",
    "        print(result, end = ' ')\n",
    "    finally:\n",
    "        print(\"result\")\n",
    "        \n",
    "divide(100, 2)"
   ]
  },
  {
   "cell_type": "code",
   "execution_count": 31,
   "id": "b22cb323",
   "metadata": {},
   "outputs": [
    {
     "name": "stdout",
     "output_type": "stream",
     "text": [
      "2.0\n"
     ]
    }
   ],
   "source": [
    "with open('hello.txt', 'w') as f:\n",
    "    for i in range(5):\n",
    "        f.write(str(i))\n",
    "        f.write('\\n')\n",
    "        \n",
    "with open('hello.txt', 'r') as f2:\n",
    "    num = []\n",
    "#     for _ in range(5):\n",
    "#         num += int(f2.readline())\n",
    "#     print(num)\n",
    "    for _ in range(5):\n",
    "        num.append(int(f2.readline()))\n",
    "    print(sum(num)/len(num))"
   ]
  },
  {
   "cell_type": "code",
   "execution_count": null,
   "id": "dac7280b",
   "metadata": {},
   "outputs": [],
   "source": []
  }
 ],
 "metadata": {
  "kernelspec": {
   "display_name": "Python 3 (ipykernel)",
   "language": "python",
   "name": "python3"
  },
  "language_info": {
   "codemirror_mode": {
    "name": "ipython",
    "version": 3
   },
   "file_extension": ".py",
   "mimetype": "text/x-python",
   "name": "python",
   "nbconvert_exporter": "python",
   "pygments_lexer": "ipython3",
   "version": "3.11.5"
  }
 },
 "nbformat": 4,
 "nbformat_minor": 5
}
