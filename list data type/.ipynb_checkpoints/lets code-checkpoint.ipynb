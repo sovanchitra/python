{
 "cells": [
  {
   "cell_type": "markdown",
   "id": "e5ce64a2",
   "metadata": {},
   "source": [
    "### person database"
   ]
  },
  {
   "cell_type": "code",
   "execution_count": 22,
   "id": "db2c71f1",
   "metadata": {},
   "outputs": [
    {
     "name": "stdout",
     "output_type": "stream",
     "text": [
      "Name\t Age Gender (Female:0, Male:1) Height Weight\n",
      "David Doe 20 1 100.0 100.0\n"
     ]
    }
   ],
   "source": [
    "info = [\"Name\"     , \"Age\", \"Gender (Female:0, Male:1)\", \"Height\", \"Weight\"]\n",
    "dd =   [\"David Doe\", 20   , 1     , 100.0, 100.0]\n",
    "print(\"{} {} {} {} {}\".format(info[0],info[1],info[2],info[3],info[4]))\n",
    "print(\"{} {} {} {} {}\".format(dd[0],dd[1],dd[2],dd[3],dd[4]))"
   ]
  },
  {
   "cell_type": "code",
   "execution_count": null,
   "id": "e8f91b7f",
   "metadata": {},
   "outputs": [],
   "source": [
    "for i in dd:\n",
    "    print(\"{}\\t\".format(i),end=\"\")"
   ]
  }
 ],
 "metadata": {
  "kernelspec": {
   "display_name": "Python 3 (ipykernel)",
   "language": "python",
   "name": "python3"
  },
  "language_info": {
   "codemirror_mode": {
    "name": "ipython",
    "version": 3
   },
   "file_extension": ".py",
   "mimetype": "text/x-python",
   "name": "python",
   "nbconvert_exporter": "python",
   "pygments_lexer": "ipython3",
   "version": "3.11.5"
  }
 },
 "nbformat": 4,
 "nbformat_minor": 5
}
