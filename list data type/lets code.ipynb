{
 "cells": [
  {
   "cell_type": "markdown",
   "id": "70e77d43",
   "metadata": {},
   "source": [
    "### person database"
   ]
  },
  {
   "cell_type": "code",
   "execution_count": 44,
   "id": "5bccc20d",
   "metadata": {},
   "outputs": [
    {
     "name": "stdout",
     "output_type": "stream",
     "text": [
      "Average age is: 26.75\n"
     ]
    }
   ],
   "source": [
    "dd = [\"David Doe\", 20, 1, 100.0, 100.0]\n",
    "js = [\"john Smith\", 25, 1, 170.0, 70.0]\n",
    "jc = [\"Jane Carter\", 22, 0, 169.0, 60.0]\n",
    "pk = [\"Peter Kelly\", 40, 1, 150.0, 50.0]\n",
    "\n",
    "# avg = (dd[1] + js[1] + jc[1] + pk[1])/4\n",
    "# print(\"Average age is:\", avg)\n",
    "\n",
    "database = dd + js + jc + pk\n",
    "\n",
    "person = int(len(database) / 5)\n",
    "sum_data = sum(database[1::5])\n",
    "avg = sum_data / person\n",
    "\n",
    "print(\"Average age is:\", avg)"
   ]
  },
  {
   "cell_type": "code",
   "execution_count": null,
   "id": "7011f8ca",
   "metadata": {},
   "outputs": [],
   "source": []
  }
 ],
 "metadata": {
  "kernelspec": {
   "display_name": "Python 3 (ipykernel)",
   "language": "python",
   "name": "python3"
  },
  "language_info": {
   "codemirror_mode": {
    "name": "ipython",
    "version": 3
   },
   "file_extension": ".py",
   "mimetype": "text/x-python",
   "name": "python",
   "nbconvert_exporter": "python",
   "pygments_lexer": "ipython3",
   "version": "3.11.5"
  }
 },
 "nbformat": 4,
 "nbformat_minor": 5
}
