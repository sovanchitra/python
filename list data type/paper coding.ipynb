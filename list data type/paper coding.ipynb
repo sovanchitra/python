{
 "cells": [
  {
   "cell_type": "markdown",
   "id": "011e7950",
   "metadata": {},
   "source": [
    "### prime_list"
   ]
  },
  {
   "cell_type": "code",
   "execution_count": 10,
   "id": "48c44749",
   "metadata": {},
   "outputs": [
    {
     "name": "stdout",
     "output_type": "stream",
     "text": [
      "1st element of prime_list: 2\n"
     ]
    }
   ],
   "source": [
    "prime_list = [2,3,5,7]\n",
    "print(\"1st element of prime_list:\",prime_list[0])"
   ]
  },
  {
   "cell_type": "markdown",
   "id": "5a86e565",
   "metadata": {},
   "source": [
    "### add element to prime_list"
   ]
  },
  {
   "cell_type": "code",
   "execution_count": 18,
   "id": "2a0f6343",
   "metadata": {},
   "outputs": [
    {
     "name": "stdout",
     "output_type": "stream",
     "text": [
      "Prime numbers : [2, 3, 5, 7]\n",
      "Prime numbers after addition : [2, 3, 5, 7, 11]\n"
     ]
    }
   ],
   "source": [
    "prime_list = [2,3,5,7]\n",
    "print(\"Prime numbers :\", prime_list)\n",
    "prime_list.append(11)\n",
    "print(\"Prime numbers after addition :\", prime_list)"
   ]
  },
  {
   "cell_type": "code",
   "execution_count": null,
   "id": "092f0eb0",
   "metadata": {},
   "outputs": [],
   "source": []
  }
 ],
 "metadata": {
  "kernelspec": {
   "display_name": "Python 3 (ipykernel)",
   "language": "python",
   "name": "python3"
  },
  "language_info": {
   "codemirror_mode": {
    "name": "ipython",
    "version": 3
   },
   "file_extension": ".py",
   "mimetype": "text/x-python",
   "name": "python",
   "nbconvert_exporter": "python",
   "pygments_lexer": "ipython3",
   "version": "3.11.5"
  }
 },
 "nbformat": 4,
 "nbformat_minor": 5
}
