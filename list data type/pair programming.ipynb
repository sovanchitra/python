{
 "cells": [
  {
   "cell_type": "markdown",
   "id": "fb29356d",
   "metadata": {},
   "source": [
    "### sorting strings without using the sort method or min function"
   ]
  },
  {
   "cell_type": "code",
   "execution_count": 3,
   "id": "0a79dd64",
   "metadata": {},
   "outputs": [
    {
     "name": "stdout",
     "output_type": "stream",
     "text": [
      "The shortest string : abc\n",
      "The longest string : bcdefg\n",
      "The shortest string : abc, bcd, apq\n"
     ]
    }
   ],
   "source": [
    "s_list = ['abc', 'bcd', 'bcdefg', 'abba', 'cddc', 'apq']\n",
    "\n",
    "# shortest\n",
    "if len(s_list[0]) == 3:\n",
    "    print(\"The shortest string :\", s_list[0])\n",
    "elif len(s_list[1]) == 3:\n",
    "    print(\"The shortest string :\", s_list[1])\n",
    "elif len(s_list[2]) == 3:\n",
    "    print(\"The shortest string :\", s_list[2])\n",
    "elif len(s_list[3]) == 3:\n",
    "    print(\"The shortest string :\", s_list[3])\n",
    "elif len(s_list[4]) == 3:\n",
    "    print(\"The shortest string :\", s_list[4])\n",
    "else:\n",
    "    print(\"The shortest string :\", s_list[5])\n",
    "\n",
    "\n",
    "# longest\n",
    "if len(s_list[0]) == 6:\n",
    "    print(\"The longest string :\", s_list[0])\n",
    "elif len(s_list[1]) == 6:\n",
    "    print(\"The longest string :\", s_list[1])\n",
    "elif len(s_list[2]) == 6:\n",
    "    print(\"The longest string :\", s_list[2])\n",
    "elif len(s_list[3]) == 6:\n",
    "    print(\"The longest string :\", s_list[3])\n",
    "elif len(s_list[4]) == 6:\n",
    "    print(\"The longest string :\", s_list[4])\n",
    "else:\n",
    "    print(\"The longest string :\", s_list[5])\n",
    "    \n",
    "# three shortest\n",
    "shortest = []\n",
    "if len(s_list[0]) == 3:\n",
    "    shortest.append(s_list[0])\n",
    "    \n",
    "if len(s_list[1]) == 3:\n",
    "    shortest.append(s_list[1])\n",
    "    \n",
    "if len(s_list[2]) == 3:\n",
    "    shortest.append(s_list[2])\n",
    "    \n",
    "if len(s_list[3]) == 3:\n",
    "    shortest.append(s_list[3])\n",
    "    \n",
    "if len(s_list[4]) == 3:\n",
    "    shortest.append(s_list[4])\n",
    "    \n",
    "if len(s_list[5]) == 3:\n",
    "    shortest.append(s_list[5])\n",
    "\n",
    "j_shortest = \", \".join(shortest)\n",
    "print(\"The shortest string :\", j_shortest)"
   ]
  },
  {
   "cell_type": "code",
   "execution_count": 16,
   "id": "15d77c2f",
   "metadata": {},
   "outputs": [
    {
     "name": "stdout",
     "output_type": "stream",
     "text": [
      "2\n",
      "6\n",
      "12\n",
      "20\n",
      "30\n"
     ]
    }
   ],
   "source": [
    "number = [1,2,3,4,5]\n",
    "#number has 5 value it's each value store start from 0 - 4 \n",
    "# value : 1 2 3 4 5 \n",
    "# index : 0 1 2 3 4 \n",
    "\n",
    "s = 0\n",
    "# s is a varibale has been assign value as 0 \n",
    "\n",
    "for i in number:\n",
    "    # i in number it's mean each element of number has been assign to i \n",
    "    # i = 1\n",
    "    # i = 2\n",
    "    # i = 3\n",
    "    # i = 4\n",
    "    # i = 5\n",
    "    #calculate\n",
    "    # first 1\n",
    "    s = s + i # 0 + 1  = 1     \n",
    "    s += i # s = s + i = 1 + 1 = 2 the end of first loop s = 2 \n",
    "    # second loop  2\n",
    "    # s = s + i = 2 + 2 = 4\n",
    "    # s += i  = 4 + 2 = 6\n",
    "    # s = s + i \n",
    "            # s = 0 + 1 = 1\n",
    "            # s = 1 + 2 = 3\n",
    "            # s = 3 + 3 = 6\n",
    "            # \n",
    "    a = s + i # it's mean a don't have any value but duty of i is store the total of s + i \n",
    "                # a = s + i = 0 + 1\n",
    "                # a = 1 \n",
    "    a += i      # a = a + i = 1 + 1 = 2   \n",
    "                # second loop i =2 \n",
    "                # a = 0 + 2 = 2 \n",
    "                # a = 2 + 2 = 4\n",
    "    # s = s + i \n",
    "    # s = 0 + 1 after calculate  = (1) and then 1 is going to store in s variable \n",
    "    # s = 0 + 5 \n",
    "    print(s)\n",
    "    "
   ]
  },
  {
   "cell_type": "code",
   "execution_count": 18,
   "id": "af7108d1",
   "metadata": {},
   "outputs": [
    {
     "name": "stdout",
     "output_type": "stream",
     "text": [
      "1\n",
      "2\n",
      "3\n",
      "4\n",
      "5\n",
      "6\n"
     ]
    }
   ],
   "source": [
    "s = 0  \n",
    "\n",
    "while s <= 5:\n",
    "    # s <= 5 \n",
    "    # s = 0 first loop = 1 \n",
    "    # 0 <= 1 Ture :\n",
    "        # s = s + 1\n",
    "        # s = 0 + 1 = 1 \n",
    "    #second loop = 2 \n",
    "    # if 0 <= 2 : True:\n",
    "        # s =  0 + 2 \n",
    "        # s = 2 \n",
    "    # loop 5 \n",
    "    # if 0 <= 5 :ture\n",
    "        # s = 0 + 5= \n",
    "    # loop 6 \n",
    "    s += 1\n",
    "    print(s)"
   ]
  },
  {
   "cell_type": "code",
   "execution_count": null,
   "id": "e032d1e7",
   "metadata": {},
   "outputs": [],
   "source": []
  }
 ],
 "metadata": {
  "kernelspec": {
   "display_name": "Python 3 (ipykernel)",
   "language": "python",
   "name": "python3"
  },
  "language_info": {
   "codemirror_mode": {
    "name": "ipython",
    "version": 3
   },
   "file_extension": ".py",
   "mimetype": "text/x-python",
   "name": "python",
   "nbconvert_exporter": "python",
   "pygments_lexer": "ipython3",
   "version": "3.11.5"
  }
 },
 "nbformat": 4,
 "nbformat_minor": 5
}
