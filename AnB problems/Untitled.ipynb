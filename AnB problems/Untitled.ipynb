{
 "cells": [
  {
   "cell_type": "markdown",
   "id": "8f6fe169",
   "metadata": {},
   "source": [
    "### sum of all natural numbers"
   ]
  },
  {
   "cell_type": "code",
   "execution_count": 17,
   "id": "51de72f8",
   "metadata": {},
   "outputs": [
    {
     "name": "stdout",
     "output_type": "stream",
     "text": [
      "Enter two numbers: 1 100\n",
      "5050\n"
     ]
    }
   ],
   "source": [
    "user = input('Enter two numbers: ')\n",
    "x, y = user.split()\n",
    "\n",
    "j = 0\n",
    "for i in range(int(x), int(y)+1):\n",
    "    j += i\n",
    "    \n",
    "print(j)"
   ]
  },
  {
   "cell_type": "markdown",
   "id": "69c7d3c4",
   "metadata": {},
   "source": [
    "### find the minimum value"
   ]
  },
  {
   "cell_type": "code",
   "execution_count": 18,
   "id": "03422bd3",
   "metadata": {},
   "outputs": [
    {
     "name": "stdout",
     "output_type": "stream",
     "text": [
      "[644, 395, 553, 658, 417, 699, 162, 630, 902, 808]\n",
      "162 6\n"
     ]
    }
   ],
   "source": [
    "import random\n",
    "\n",
    "SEED, MIN, MAX, N = 2022, 100, 1000, 10\n",
    "random.seed(SEED)\n",
    "S = random.sample(range(MIN,MAX), N)\n",
    "print(S)\n",
    "small_ind = min(S)\n",
    "print(small_ind, S.index(small_ind))"
   ]
  },
  {
   "cell_type": "code",
   "execution_count": null,
   "id": "a422540b",
   "metadata": {},
   "outputs": [],
   "source": [
    "import random\n",
    "\n",
    "\n",
    "SEED, MIN, MAX, N = input('SEED, MIN, MAX, N: ').split()\n",
    "\n",
    "# random.seed(SEED)  to stone the random \n",
    "\n",
    "S = random.sample(range(int(MIN), int(MAX)), int(N))\n",
    "small_ind = min(S)\n",
    "\n",
    "print(S)\n",
    "print(small_ind, S.index(small_ind))"
   ]
  },
  {
   "cell_type": "markdown",
   "id": "eb6cf334",
   "metadata": {},
   "source": [
    "### sum of all divisors of N"
   ]
  },
  {
   "cell_type": "code",
   "execution_count": 28,
   "id": "52ac8197",
   "metadata": {},
   "outputs": [
    {
     "name": "stdout",
     "output_type": "stream",
     "text": [
      "Enter an integer: 1234567890\n",
      "3211610688\n",
      "program exited\n"
     ]
    }
   ],
   "source": [
    "N = int(input('Enter an integer: '))\n",
    "\n",
    "def sum_of_divisors():\n",
    "    try:\n",
    "        # catch any divisors occur\n",
    "        sum_ = 0\n",
    "        for n in range(1, N + 1):\n",
    "            if N % n == 0:\n",
    "                sum_ += n\n",
    "                \n",
    "    except Exception as e:\n",
    "        print('Error:', e)\n",
    "\n",
    "    else:\n",
    "        print(sum_)\n",
    "        \n",
    "    finally:\n",
    "        print('program exited')\n",
    "        \n",
    "sum_of_divisors()"
   ]
  },
  {
   "cell_type": "markdown",
   "id": "df3d7a6a",
   "metadata": {},
   "source": [
    "### find prime number"
   ]
  },
  {
   "cell_type": "code",
   "execution_count": 48,
   "id": "93272edf",
   "metadata": {},
   "outputs": [
    {
     "name": "stdout",
     "output_type": "stream",
     "text": [
      "[991, 983, 977, 971, 967]\n"
     ]
    }
   ],
   "source": [
    "N = 1000\n",
    "\n",
    "lst = []\n",
    "for n in range(1, N+1):\n",
    "    count = 0\n",
    "    for j in range(1, n +1):\n",
    "        if n % j == 0:\n",
    "            count += 1\n",
    "    if count == 2 :\n",
    "        lst.append(n)\n",
    "        \n",
    "# prime_lst = lst[-6:-1]\n",
    "# prime_lstt = sorted(prime_lst, reverse = True)\n",
    "# print(prime_lstt)\n",
    "\n",
    "print(sorted(lst[-6:-1], reverse = True))"
   ]
  },
  {
   "cell_type": "code",
   "execution_count": 55,
   "id": "d6fa11ed",
   "metadata": {},
   "outputs": [
    {
     "name": "stdout",
     "output_type": "stream",
     "text": [
      "6\n",
      "70\n",
      "4\n",
      "[7, 11, 13, 17, 19, 23, 29, 31, 37, 41, 43, 47, 53, 59, 61, 67]\n",
      "558\n",
      "17\n"
     ]
    }
   ],
   "source": [
    "A = int(input())\n",
    "B = int(input())\n",
    "K = int(input())\n",
    "\n",
    "\n",
    "lst = []\n",
    "for n in range(A, B+1):\n",
    "    count = 0\n",
    "    for j in range(1, n+1):\n",
    "        if n % j == 0:\n",
    "            count += 1\n",
    "    if count == 2 :\n",
    "        lst.append(n)\n",
    "        \n",
    "        \n",
    "print(lst)       \n",
    "print(sum(lst))\n",
    "i = K - 1\n",
    "print(lst[i])\n"
   ]
  },
  {
   "cell_type": "code",
   "execution_count": 65,
   "id": "db8799fd",
   "metadata": {},
   "outputs": [
    {
     "name": "stdout",
     "output_type": "stream",
     "text": [
      "10\n",
      "[2, 3, 5, 7]\n",
      "3 5\n",
      "1\n"
     ]
    }
   ],
   "source": [
    "N = int(input())\n",
    "\n",
    "lst = []\n",
    "for n in range(1, N+1):\n",
    "    count = 0\n",
    "    for j in range(1, n +1):\n",
    "        if n % j == 0:\n",
    "            count += 1\n",
    "    if count == 2 :\n",
    "        lst.append(n)\n",
    "print(lst)\n",
    "c = 0     \n",
    "for i in range(len(lst) - 2) :\n",
    "    if lst[i + 1] - lst[i] == 2:\n",
    "        print(lst[i], lst[i+1])\n",
    "        c +=1\n",
    "print(c)        "
   ]
  },
  {
   "cell_type": "code",
   "execution_count": 69,
   "id": "93d872bf",
   "metadata": {},
   "outputs": [
    {
     "name": "stdout",
     "output_type": "stream",
     "text": [
      "oo\n"
     ]
    }
   ],
   "source": [
    "count = 0\n",
    "n = 10\n",
    "j = 1\n",
    "for i in range(1, n +1):\n",
    "    if i % j == 0:\n",
    "        count +=1\n",
    "    j += 1\n",
    "if count == 2:\n",
    "    print(i)\n",
    "else:\n",
    "    print(\"oo\")"
   ]
  },
  {
   "cell_type": "code",
   "execution_count": null,
   "id": "d05f2d4b",
   "metadata": {},
   "outputs": [],
   "source": []
  }
 ],
 "metadata": {
  "kernelspec": {
   "display_name": "Python 3 (ipykernel)",
   "language": "python",
   "name": "python3"
  },
  "language_info": {
   "codemirror_mode": {
    "name": "ipython",
    "version": 3
   },
   "file_extension": ".py",
   "mimetype": "text/x-python",
   "name": "python",
   "nbconvert_exporter": "python",
   "pygments_lexer": "ipython3",
   "version": "3.11.5"
  }
 },
 "nbformat": 4,
 "nbformat_minor": 5
}
