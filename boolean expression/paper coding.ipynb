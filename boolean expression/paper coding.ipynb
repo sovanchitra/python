{
 "cells": [
  {
   "cell_type": "markdown",
   "id": "a5e4a8bc",
   "metadata": {},
   "source": [
    "### m = 20 and m = 21, odd or even"
   ]
  },
  {
   "cell_type": "code",
   "execution_count": 1,
   "id": "894a7cec",
   "metadata": {},
   "outputs": [
    {
     "name": "stdout",
     "output_type": "stream",
     "text": [
      "Enter m: 5\n",
      "True\n"
     ]
    }
   ],
   "source": [
    "m = int(input(\"Enter m: \"))\n",
    "print(m % 2 != 0)"
   ]
  },
  {
   "cell_type": "markdown",
   "id": "a99816b5",
   "metadata": {},
   "source": [
    "### even or odd within the range of 0 to 10"
   ]
  },
  {
   "cell_type": "code",
   "execution_count": 6,
   "id": "bf9d40ed",
   "metadata": {},
   "outputs": [
    {
     "name": "stdout",
     "output_type": "stream",
     "text": [
      "Enter n: 11\n",
      "False\n"
     ]
    }
   ],
   "source": [
    "n = int(input(\"Enter n: \"))\n",
    "print(0 <= n <= 10 and n%2==0)"
   ]
  },
  {
   "cell_type": "code",
   "execution_count": null,
   "id": "78880415",
   "metadata": {},
   "outputs": [],
   "source": []
  }
 ],
 "metadata": {
  "kernelspec": {
   "display_name": "Python 3 (ipykernel)",
   "language": "python",
   "name": "python3"
  },
  "language_info": {
   "codemirror_mode": {
    "name": "ipython",
    "version": 3
   },
   "file_extension": ".py",
   "mimetype": "text/x-python",
   "name": "python",
   "nbconvert_exporter": "python",
   "pygments_lexer": "ipython3",
   "version": "3.11.5"
  }
 },
 "nbformat": 4,
 "nbformat_minor": 5
}
