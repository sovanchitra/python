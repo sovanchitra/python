{
 "cells": [
  {
   "cell_type": "markdown",
   "id": "c09d5d87",
   "metadata": {},
   "source": [
    "### if the hundreds digit of the input integer, n, is 3, output True and vice versa"
   ]
  },
  {
   "cell_type": "code",
   "execution_count": 31,
   "id": "bfa8a9fd",
   "metadata": {},
   "outputs": [
    {
     "name": "stdout",
     "output_type": "stream",
     "text": [
      "Enter three digit number: 3000\n",
      "False\n"
     ]
    }
   ],
   "source": [
    "three_digit = int(input(\"Enter three digit number: \"))\n",
    "third_digit = three_digit//100 == 3 \n",
    "#third_digit = three_digit[0] == \"3\" (can only use if input 3 digits)\n",
    "print(third_digit)"
   ]
  },
  {
   "cell_type": "markdown",
   "id": "90b25e96",
   "metadata": {},
   "source": [
    "### is the number a multiple of 5"
   ]
  },
  {
   "cell_type": "code",
   "execution_count": 25,
   "id": "15e4cfe0",
   "metadata": {},
   "outputs": [
    {
     "name": "stdout",
     "output_type": "stream",
     "text": [
      "Enter a number: 23\n",
      "False\n"
     ]
    }
   ],
   "source": [
    "n = int(input(\"Enter a number: \"))\n",
    "print(n % 5 == 0)"
   ]
  },
  {
   "cell_type": "code",
   "execution_count": 27,
   "id": "da59b081",
   "metadata": {},
   "outputs": [
    {
     "name": "stdout",
     "output_type": "stream",
     "text": [
      "False\n"
     ]
    }
   ],
   "source": [
    "a = 2\n",
    "b = 2.0\n",
    "print(a is b)"
   ]
  },
  {
   "cell_type": "code",
   "execution_count": null,
   "id": "91cd04b9",
   "metadata": {},
   "outputs": [],
   "source": []
  }
 ],
 "metadata": {
  "kernelspec": {
   "display_name": "Python 3 (ipykernel)",
   "language": "python",
   "name": "python3"
  },
  "language_info": {
   "codemirror_mode": {
    "name": "ipython",
    "version": 3
   },
   "file_extension": ".py",
   "mimetype": "text/x-python",
   "name": "python",
   "nbconvert_exporter": "python",
   "pygments_lexer": "ipython3",
   "version": "3.11.5"
  }
 },
 "nbformat": 4,
 "nbformat_minor": 5
}
