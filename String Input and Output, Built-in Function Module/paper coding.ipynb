{
 "cells": [
  {
   "cell_type": "markdown",
   "id": "d8712f27",
   "metadata": {},
   "source": [
    "### what is formating???"
   ]
  },
  {
   "cell_type": "code",
   "execution_count": 1,
   "id": "1f15f246",
   "metadata": {},
   "outputs": [
    {
     "name": "stdout",
     "output_type": "stream",
     "text": [
      "I am chitra, i am 35 years old, my height is 89\n",
      "I am chitra i am 35 years old\n"
     ]
    }
   ],
   "source": [
    "name = \"chitra\"\n",
    "age = 35\n",
    "height = 89\n",
    "# formated: easier when code becomes more complex\n",
    "print(\"I am {0}, i am {2} years old, my height is {1}\".format(name, height, age))\n",
    "# normal: use for sth light not complex\n",
    "print(\"I am\", name, \"i am\", age, \"years old\", \"my height is\", height)"
   ]
  },
  {
   "cell_type": "code",
   "execution_count": null,
   "id": "2b7fe263",
   "metadata": {},
   "outputs": [],
   "source": []
  }
 ],
 "metadata": {
  "kernelspec": {
   "display_name": "Python 3 (ipykernel)",
   "language": "python",
   "name": "python3"
  },
  "language_info": {
   "codemirror_mode": {
    "name": "ipython",
    "version": 3
   },
   "file_extension": ".py",
   "mimetype": "text/x-python",
   "name": "python",
   "nbconvert_exporter": "python",
   "pygments_lexer": "ipython3",
   "version": "3.11.5"
  }
 },
 "nbformat": 4,
 "nbformat_minor": 5
}
