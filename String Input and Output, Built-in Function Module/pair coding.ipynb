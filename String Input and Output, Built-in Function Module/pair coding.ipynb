{
 "cells": [
  {
   "cell_type": "markdown",
   "id": "94f071f3",
   "metadata": {},
   "source": [
    "## area and circumference of circle"
   ]
  },
  {
   "cell_type": "code",
   "execution_count": 1,
   "id": "a8f593df",
   "metadata": {},
   "outputs": [
    {
     "name": "stdout",
     "output_type": "stream",
     "text": [
      "Radius: 11\n",
      "Circumference of the circle = 69.115024, Area of the circle = 380.132632\n"
     ]
    }
   ],
   "source": [
    "r = int(input(\"Radius: \"))\n",
    "pi = 3.141592\n",
    "a = pi * r**2\n",
    "c = 2*pi*r\n",
    "print(f\"Circumference of the circle = {c}, Area of the circle = {a}\")"
   ]
  },
  {
   "cell_type": "markdown",
   "id": "e1c9c0ea",
   "metadata": {},
   "source": [
    "## sqaure_table.py"
   ]
  },
  {
   "cell_type": "code",
   "execution_count": 12,
   "id": "0f5961b9",
   "metadata": {},
   "outputs": [
    {
     "name": "stdout",
     "output_type": "stream",
     "text": [
      "a\tn\ta ** n\n",
      "2\t2\t4\n",
      "3\t2\t9\n",
      "4\t2\t16\n",
      "5\t2\t25\n",
      "6\t2\t36\n",
      "\n"
     ]
    }
   ],
   "source": [
    "n = 2\n",
    "a1 = 2\n",
    "a2 = 3\n",
    "a3 = 4\n",
    "a4 = 5\n",
    "a5 = 6\n",
    "print(f'''a\\tn\\ta ** n\n",
    "{a1}\\t{n}\\t{a1**n}\n",
    "{a2}\\t{n}\\t{a2**n}\n",
    "{a3}\\t{n}\\t{a3**n}\n",
    "{a4}\\t{n}\\t{a4**n}\n",
    "{a5}\\t{n}\\t{a5**n}\n",
    "''')"
   ]
  },
  {
   "cell_type": "code",
   "execution_count": 19,
   "id": "c4db05c9",
   "metadata": {
    "scrolled": false
   },
   "outputs": [
    {
     "name": "stdout",
     "output_type": "stream",
     "text": [
      "Enter a number: 4\n",
      "a \t n \t a ** n\n",
      "2\t 2 \t 4\n",
      "3\t 2 \t 9\n",
      "4\t 2 \t 16\n"
     ]
    }
   ],
   "source": [
    "n = int(input(\"Enter a number: \"))\n",
    "print(\"a \\t n \\t a ** n\")\n",
    "\n",
    "for i in range(2, n+1):\n",
    "    print(\"{0}\\t 2 \\t {1}\".format(i, i**2))"
   ]
  },
  {
   "cell_type": "markdown",
   "id": "13ac1a5d",
   "metadata": {},
   "source": [
    "## store name and address"
   ]
  },
  {
   "cell_type": "code",
   "execution_count": 21,
   "id": "02fc74dd",
   "metadata": {},
   "outputs": [
    {
     "name": "stdout",
     "output_type": "stream",
     "text": [
      "Enter name: chitra\n",
      "Enter house number: 4\n",
      "Enter street number: 3\n",
      "Enter city: pp\n",
      "chitra\n",
      "43, pp\n",
      "\n"
     ]
    }
   ],
   "source": [
    "name = input(\"Enter name: \")\n",
    "house = input(\"Enter house number: \")\n",
    "street = input(\"Enter street number: \")\n",
    "city = input(\"Enter city: \")\n",
    "print(f'''{name}\n",
    "{house}{street}, {city}\n",
    "''')"
   ]
  },
  {
   "cell_type": "code",
   "execution_count": null,
   "id": "045b910f",
   "metadata": {},
   "outputs": [],
   "source": []
  }
 ],
 "metadata": {
  "kernelspec": {
   "display_name": "Python 3 (ipykernel)",
   "language": "python",
   "name": "python3"
  },
  "language_info": {
   "codemirror_mode": {
    "name": "ipython",
    "version": 3
   },
   "file_extension": ".py",
   "mimetype": "text/x-python",
   "name": "python",
   "nbconvert_exporter": "python",
   "pygments_lexer": "ipython3",
   "version": "3.11.5"
  }
 },
 "nbformat": 4,
 "nbformat_minor": 5
}
