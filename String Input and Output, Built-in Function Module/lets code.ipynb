{
 "cells": [
  {
   "cell_type": "markdown",
   "id": "5cd6ee80",
   "metadata": {},
   "source": [
    "## BMI Calculator"
   ]
  },
  {
   "cell_type": "code",
   "execution_count": 2,
   "id": "23bbf4fb",
   "metadata": {},
   "outputs": [
    {
     "name": "stdout",
     "output_type": "stream",
     "text": [
      "Name:pheaktra\n",
      "Height in cm: 165\n",
      "Weight in kg: 55\n",
      "pheaktra's BMI: 20.202020202020204\n",
      "pheaktra is normal.\n"
     ]
    }
   ],
   "source": [
    "n = input(\"Name:\")\n",
    "h_cm = int(input(\"Height in cm: \"))\n",
    "h_m = h_cm/100\n",
    "w = int(input(\"Weight in kg: \"))\n",
    "BMI = w/(h_m**2)\n",
    "print(f\"{n}'s BMI: {BMI}\")\n",
    "if BMI < 18.5:\n",
    "    print(f\"{n} is underweight.\")\n",
    "elif 18.5 <= BMI <= 24.9:\n",
    "    print(f\"{n} is normal.\")\n",
    "elif 25 <= BMI <= 29.9:\n",
    "    print(f\"{n} is overweight.\")\n",
    "elif 30 <= BMI <= 34.9:\n",
    "    print(f\"{n} is obese.\")\n",
    "elif BMI > 35:\n",
    "    print(f\"{n} is extremely obese.\")"
   ]
  },
  {
   "cell_type": "code",
   "execution_count": null,
   "id": "80be08c5",
   "metadata": {},
   "outputs": [],
   "source": [
    "a, b =input(\"name:\").split(\" \")\n",
    "print(a,b)"
   ]
  },
  {
   "cell_type": "code",
   "execution_count": null,
   "id": "a95a7c3a",
   "metadata": {},
   "outputs": [],
   "source": []
  },
  {
   "cell_type": "code",
   "execution_count": null,
   "id": "0338904d",
   "metadata": {},
   "outputs": [],
   "source": []
  }
 ],
 "metadata": {
  "kernelspec": {
   "display_name": "Python 3 (ipykernel)",
   "language": "python",
   "name": "python3"
  },
  "language_info": {
   "codemirror_mode": {
    "name": "ipython",
    "version": 3
   },
   "file_extension": ".py",
   "mimetype": "text/x-python",
   "name": "python",
   "nbconvert_exporter": "python",
   "pygments_lexer": "ipython3",
   "version": "3.11.5"
  }
 },
 "nbformat": 4,
 "nbformat_minor": 5
}
