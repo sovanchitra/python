{
 "cells": [
  {
   "cell_type": "markdown",
   "id": "25df4e0c",
   "metadata": {},
   "source": [
    "### print the code"
   ]
  },
  {
   "cell_type": "code",
   "execution_count": 1,
   "id": "db883803",
   "metadata": {},
   "outputs": [
    {
     "name": "stdout",
     "output_type": "stream",
     "text": [
      "True\n",
      "False\n",
      "True\n",
      "('a', 'b', 'c', 'd', 'e')\n",
      "[('a', 'b', 'c', 'd', 'e')]\n",
      "('a', 'b', 'c')\n"
     ]
    }
   ],
   "source": [
    "t1 = 'a', 'b', 'c'\n",
    "t2 = ('a', 'b', 'c')\n",
    "t3 = ('d', 'e')\n",
    "\n",
    "print(t1 == t2)\n",
    "\n",
    "print(t1 > t3)\n",
    "\n",
    "print(t1 < t3)\n",
    "\n",
    "print(t2 + t3)\n",
    "\n",
    "print([t2 + t3])\n",
    "\n",
    "print(t1)"
   ]
  },
  {
   "cell_type": "markdown",
   "id": "8ccecd00",
   "metadata": {},
   "source": [
    "### find how many days that sales lowered"
   ]
  },
  {
   "cell_type": "code",
   "execution_count": 16,
   "id": "03dec2d8",
   "metadata": {},
   "outputs": [
    {
     "name": "stdout",
     "output_type": "stream",
     "text": [
      "In the past 10 days, 3 days had reduced sales compared to the previous day.\n"
     ]
    }
   ],
   "source": [
    "sales = (100, 121, 120, 130, 140, 120, 122, 123, 190, 125)  \n",
    "#.        0.   1    2.   3.   4.   5.   6.  7.   8.    9     (10)\n",
    "\n",
    "days = 0\n",
    "\n",
    "\n",
    "for s in range(len(sales)):\n",
    "    \n",
    "    if sales[s-1] > sales[s] and s>0:\n",
    "        #print(\"{} {}\".format(sales[s-1],sales[s]))\n",
    "        days += 1\n",
    "\n",
    "print(f\"In the past 10 days, {days} days had reduced sales compared to the previous day.\")"
   ]
  },
  {
   "cell_type": "code",
   "execution_count": 12,
   "id": "83bc80d8",
   "metadata": {},
   "outputs": [
    {
     "name": "stdout",
     "output_type": "stream",
     "text": [
      "In the past 10 days, 3 days had reduced sales compared to the previous day.\n"
     ]
    }
   ],
   "source": [
    "#given\n",
    "sales = (100, 121, 120, 130, 140, 120, 122, 123, 190, 125)\n",
    "\n",
    "days = 0\n",
    "prev = 0\n",
    "\n",
    "for i in sales:\n",
    "    \n",
    "    #print(\"i = {}\".format(i))\n",
    "    if prev > i:\n",
    "        #print(\"{} {}\".format(prev, i))\n",
    "        days += 1\n",
    "    prev = i\n",
    "\n",
    "#output\n",
    "print(f\"In the past {len(sales)} days, {days} days had reduced sales compared to the previous day.\")"
   ]
  },
  {
   "cell_type": "code",
   "execution_count": 13,
   "id": "78363cbf",
   "metadata": {},
   "outputs": [
    {
     "name": "stdout",
     "output_type": "stream",
     "text": [
      "In the past 10 days, 3 days had reduced sales compared to the previous day.\n"
     ]
    }
   ],
   "source": [
    "sales = (100, 121, 120, 130, 140, 120, 122, 123, 190, 125)  \n",
    "\n",
    "drop = 0\n",
    "\n",
    "for s in range(len(sales) - 1):\n",
    "    \n",
    "    if sales[s] > sales[s + 1] and s>0:\n",
    "        #print(\"{} {}\".format(sales[s-1],sales[s]))\n",
    "        drop += 1\n",
    "\n",
    "print(f\"In the past 10 days, {drop} days had reduced sales compared to the previous day.\")"
   ]
  },
  {
   "cell_type": "code",
   "execution_count": null,
   "id": "57e06e97",
   "metadata": {},
   "outputs": [],
   "source": []
  }
 ],
 "metadata": {
  "kernelspec": {
   "display_name": "Python 3 (ipykernel)",
   "language": "python",
   "name": "python3"
  },
  "language_info": {
   "codemirror_mode": {
    "name": "ipython",
    "version": 3
   },
   "file_extension": ".py",
   "mimetype": "text/x-python",
   "name": "python",
   "nbconvert_exporter": "python",
   "pygments_lexer": "ipython3",
   "version": "3.11.5"
  }
 },
 "nbformat": 4,
 "nbformat_minor": 5
}
