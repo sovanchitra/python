{
 "cells": [
  {
   "cell_type": "markdown",
   "id": "ca38b2e2",
   "metadata": {},
   "source": [
    "### most occuring element"
   ]
  },
  {
   "cell_type": "code",
   "execution_count": 3,
   "id": "ecc79dae",
   "metadata": {},
   "outputs": [
    {
     "name": "stdout",
     "output_type": "stream",
     "text": [
      "most frequently occuring element is 9.\n"
     ]
    }
   ],
   "source": [
    "tup = (1,2,5,4,3,2,1,4,7,8,9,9,3,7,3,9)\n",
    "list1 = list(tup) # convert tup(tuple) to list\n",
    "list1.sort() # sort the list\n",
    "\n",
    "truemode = 0 # most occuring element\n",
    "\n",
    "for i in range(list1[0], list1[-1]+1): # first index, last index + 1(to count the last index)\n",
    "    mode = tup.count(i)\n",
    "    if mode >= truemode:\n",
    "        truemode = mode # replace the biggest trumode\n",
    "        element = i # the number of i reached\n",
    "print(\"most frequently occuring element is {}.\".format(element))"
   ]
  },
  {
   "cell_type": "markdown",
   "id": "eee5e0bf",
   "metadata": {},
   "source": [
    "### remove empty sequence type"
   ]
  },
  {
   "cell_type": "code",
   "execution_count": 12,
   "id": "8e58af32",
   "metadata": {},
   "outputs": [
    {
     "name": "stdout",
     "output_type": "stream",
     "text": [
      "[(1,), 'abc', (1,), ('a',), ('a', 'b'), ((),)]\n"
     ]
    }
   ],
   "source": [
    "listt = [(), (1,), [], 'abc', (), (), (1,), ('a',), ('a','b'), ((),), '']\n",
    "list1 = [] \n",
    "\n",
    "for i in listt:\n",
    "\n",
    "    if len(i) != 0:\n",
    "#         print(len(i))\n",
    "        list1.append(i)\n",
    "\n",
    "print(list1)"
   ]
  },
  {
   "cell_type": "code",
   "execution_count": 14,
   "id": "7ef899d6",
   "metadata": {},
   "outputs": [
    {
     "name": "stdout",
     "output_type": "stream",
     "text": [
      "0 ()\n",
      "1 (1,)\n",
      "0 []\n",
      "3 abc\n",
      "0 ()\n",
      "0 ()\n",
      "1 (1,)\n",
      "1 ('a',)\n",
      "2 ('a', 'b')\n",
      "1 ((),)\n",
      "0 \n"
     ]
    }
   ],
   "source": [
    "listt = [(), (1,), [], 'abc', (), (), (1,), ('a',), ('a','b'), ((),), '']\n",
    "for i in listt:\n",
    "    print(len(i), i)"
   ]
  },
  {
   "cell_type": "markdown",
   "id": "963e42b0",
   "metadata": {},
   "source": [
    "### test"
   ]
  },
  {
   "cell_type": "code",
   "execution_count": 58,
   "id": "95c3df5a",
   "metadata": {},
   "outputs": [
    {
     "ename": "TypeError",
     "evalue": "'tuple' object does not support item assignment",
     "output_type": "error",
     "traceback": [
      "\u001b[0;31m---------------------------------------------------------------------------\u001b[0m",
      "\u001b[0;31mTypeError\u001b[0m                                 Traceback (most recent call last)",
      "Cell \u001b[0;32mIn[58], line 2\u001b[0m\n\u001b[1;32m      1\u001b[0m t \u001b[38;5;241m=\u001b[39m \u001b[38;5;28mtuple\u001b[39m()\n\u001b[0;32m----> 2\u001b[0m t[\u001b[38;5;241m0\u001b[39m] \u001b[38;5;241m=\u001b[39m \u001b[38;5;241m1\u001b[39m\n\u001b[1;32m      3\u001b[0m \u001b[38;5;28mprint\u001b[39m(t)\n",
      "\u001b[0;31mTypeError\u001b[0m: 'tuple' object does not support item assignment"
     ]
    }
   ],
   "source": [
    "t = tuple()\n",
    "t[0] = 1\n",
    "print(t)"
   ]
  },
  {
   "cell_type": "code",
   "execution_count": 48,
   "id": "df07db8d",
   "metadata": {},
   "outputs": [
    {
     "ename": "AttributeError",
     "evalue": "'tuple' object has no attribute 'sort'",
     "output_type": "error",
     "traceback": [
      "\u001b[0;31m---------------------------------------------------------------------------\u001b[0m",
      "\u001b[0;31mAttributeError\u001b[0m                            Traceback (most recent call last)",
      "Cell \u001b[0;32mIn[48], line 2\u001b[0m\n\u001b[1;32m      1\u001b[0m t \u001b[38;5;241m=\u001b[39m (\u001b[38;5;241m1\u001b[39m,\u001b[38;5;241m2\u001b[39m,\u001b[38;5;241m3\u001b[39m)\n\u001b[0;32m----> 2\u001b[0m t\u001b[38;5;241m.\u001b[39msort()\n\u001b[1;32m      3\u001b[0m \u001b[38;5;28mprint\u001b[39m(t)\n",
      "\u001b[0;31mAttributeError\u001b[0m: 'tuple' object has no attribute 'sort'"
     ]
    }
   ],
   "source": [
    "t = (1,2,3)\n",
    "t.sort()\n",
    "print(t)"
   ]
  },
  {
   "cell_type": "code",
   "execution_count": 57,
   "id": "60a231ab",
   "metadata": {},
   "outputs": [
    {
     "name": "stdout",
     "output_type": "stream",
     "text": [
      "3\n"
     ]
    }
   ],
   "source": [
    "t = (1,2,3)\n",
    "print(\"{}\".format(t[len(t)-1]))\n",
    "# len(t) = 2"
   ]
  },
  {
   "cell_type": "code",
   "execution_count": 1,
   "id": "e1792805",
   "metadata": {},
   "outputs": [
    {
     "name": "stdout",
     "output_type": "stream",
     "text": [
      "[(1,), 'abc', (1,), ('a',), ('a', 'b'), ((),)]\n"
     ]
    }
   ],
   "source": [
    "listt = [(), (1,), [], 'abc', (), (), (1,), ('a',), ('a', 'b'), ((),), '']\n",
    "for i in reversed(listt):\n",
    "    if len(i) == 0:\n",
    "        listt.remove(i)\n",
    "\n",
    "print(listt)\n"
   ]
  },
  {
   "cell_type": "code",
   "execution_count": null,
   "id": "a2c1c49a",
   "metadata": {},
   "outputs": [],
   "source": []
  }
 ],
 "metadata": {
  "kernelspec": {
   "display_name": "Python 3 (ipykernel)",
   "language": "python",
   "name": "python3"
  },
  "language_info": {
   "codemirror_mode": {
    "name": "ipython",
    "version": 3
   },
   "file_extension": ".py",
   "mimetype": "text/x-python",
   "name": "python",
   "nbconvert_exporter": "python",
   "pygments_lexer": "ipython3",
   "version": "3.11.5"
  }
 },
 "nbformat": 4,
 "nbformat_minor": 5
}
