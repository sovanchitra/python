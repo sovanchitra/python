{
 "cells": [
  {
   "cell_type": "code",
   "execution_count": 1,
   "id": "9baeed6c",
   "metadata": {},
   "outputs": [
    {
     "data": {
      "text/plain": [
       "('red', 'green', 'blue')"
      ]
     },
     "execution_count": 1,
     "metadata": {},
     "output_type": "execute_result"
    }
   ],
   "source": [
    "colors = ('red', 'green', 'blue')\n",
    "colors"
   ]
  },
  {
   "cell_type": "code",
   "execution_count": 2,
   "id": "07a18f30",
   "metadata": {},
   "outputs": [
    {
     "name": "stdout",
     "output_type": "stream",
     "text": [
      "(1, 2, 3, 4, 5)\n"
     ]
    }
   ],
   "source": [
    "numbers = (1,2,3,4,5)\n",
    "print(numbers)"
   ]
  },
  {
   "cell_type": "markdown",
   "id": "53e63f4c",
   "metadata": {},
   "source": [
    "### tuple is immutable data type"
   ]
  },
  {
   "cell_type": "code",
   "execution_count": 9,
   "id": "f05f6a95",
   "metadata": {},
   "outputs": [
    {
     "ename": "TypeError",
     "evalue": "'tuple' object does not support item assignment",
     "output_type": "error",
     "traceback": [
      "\u001b[0;31m---------------------------------------------------------------------------\u001b[0m",
      "\u001b[0;31mTypeError\u001b[0m                                 Traceback (most recent call last)",
      "Cell \u001b[0;32mIn[9], line 2\u001b[0m\n\u001b[1;32m      1\u001b[0m t1 \u001b[38;5;241m=\u001b[39m (\u001b[38;5;241m1\u001b[39m,\u001b[38;5;241m2\u001b[39m,\u001b[38;5;241m3\u001b[39m,\u001b[38;5;241m4\u001b[39m,\u001b[38;5;241m5\u001b[39m)\n\u001b[0;32m----> 2\u001b[0m t1[\u001b[38;5;241m0\u001b[39m] \u001b[38;5;241m=\u001b[39m \u001b[38;5;241m100\u001b[39m\n",
      "\u001b[0;31mTypeError\u001b[0m: 'tuple' object does not support item assignment"
     ]
    }
   ],
   "source": [
    "t1 = (1,2,3,4,5)\n",
    "t1[0] = 100\n",
    "# cant change value of a tuple, nor delete a value"
   ]
  },
  {
   "cell_type": "code",
   "execution_count": 8,
   "id": "c6131ef9",
   "metadata": {},
   "outputs": [
    {
     "name": "stdout",
     "output_type": "stream",
     "text": [
      "[100, 2, 4, 5]\n"
     ]
    }
   ],
   "source": [
    "# while list is mutable, can change value inside the bracket\n",
    "t1 = [1,2,4,5]\n",
    "t1[0] = 100\n",
    "print(t1)"
   ]
  },
  {
   "cell_type": "markdown",
   "id": "55dfc8cd",
   "metadata": {},
   "source": [
    "### single element in tuple"
   ]
  },
  {
   "cell_type": "code",
   "execution_count": 10,
   "id": "46abde67",
   "metadata": {},
   "outputs": [
    {
     "name": "stdout",
     "output_type": "stream",
     "text": [
      "<class 'int'>\n",
      "<class 'tuple'>\n"
     ]
    }
   ],
   "source": [
    "tup = (100)\n",
    "print(type(tup))\n",
    "\n",
    "tupp = (100,)\n",
    "print(type(tupp))"
   ]
  },
  {
   "cell_type": "markdown",
   "id": "91d81044",
   "metadata": {},
   "source": [
    "### packing and unpacking"
   ]
  },
  {
   "cell_type": "code",
   "execution_count": 14,
   "id": "ddae3936",
   "metadata": {},
   "outputs": [
    {
     "data": {
      "text/plain": [
       "4"
      ]
     },
     "execution_count": 14,
     "metadata": {},
     "output_type": "execute_result"
    }
   ],
   "source": [
    "# packing\n",
    "a = (1,2)\n",
    "a[0]\n",
    "a[1]\n",
    "\n",
    "# unpacking\n",
    "c = 3,4\n",
    "x,y = c\n",
    "x\n",
    "y"
   ]
  },
  {
   "cell_type": "markdown",
   "id": "19b8a3c7",
   "metadata": {},
   "source": [
    "### method"
   ]
  },
  {
   "cell_type": "code",
   "execution_count": 16,
   "id": "b741f64e",
   "metadata": {},
   "outputs": [
    {
     "name": "stdout",
     "output_type": "stream",
     "text": [
      "[0, 1, 2, 2, 5, 6, 6, 9, 21, 34, 56]\n"
     ]
    }
   ],
   "source": [
    "# to use methods in tuple, convert it to list first cuz tuple values cant be changed\n",
    "tup = (1,2,56,34,6,21,5,2,9,6,0)\n",
    "temp = list(tup)\n",
    "temp.sort()\n",
    "print(temp)"
   ]
  },
  {
   "cell_type": "markdown",
   "id": "b743cbd8",
   "metadata": {},
   "source": [
    "### sequence type"
   ]
  },
  {
   "cell_type": "code",
   "execution_count": 19,
   "id": "d46c39eb",
   "metadata": {},
   "outputs": [
    {
     "name": "stdout",
     "output_type": "stream",
     "text": [
      "even list = [2, 4, 6, 8, 10]\n",
      "[0, 1, 2, 3, 4, 5, 6, 7, 8, 9]\n",
      "[2, 3, 4, 5, 6, 7, 8, 9]\n",
      "[2, 5, 8]\n"
     ]
    }
   ],
   "source": [
    "even_list = list(range(2,11,2))\n",
    "print('even list =', even_list)\n",
    "\n",
    "# by converting range into a list, u can easily create lists of various numbers\n",
    "print(list(range(10)))\n",
    "print(list(range(2,10)))\n",
    "print(list(range(2,10,3)))"
   ]
  },
  {
   "cell_type": "markdown",
   "id": "3e1b9846",
   "metadata": {},
   "source": [
    "### index and indexing in sequence data type"
   ]
  },
  {
   "cell_type": "code",
   "execution_count": 21,
   "id": "50e617aa",
   "metadata": {},
   "outputs": [
    {
     "name": "stdout",
     "output_type": "stream",
     "text": [
      "o\n",
      "4\n",
      "5\n"
     ]
    },
    {
     "data": {
      "text/plain": [
       "4"
      ]
     },
     "execution_count": 21,
     "metadata": {},
     "output_type": "execute_result"
    }
   ],
   "source": [
    "# string\n",
    "string = \"Hello world\"\n",
    "print(string[4])\n",
    "\n",
    "# list\n",
    "listt = [1,2,3,4,5]\n",
    "print(listt[-1])\n",
    "\n",
    "# tuple\n",
    "tupp = (2,3,5,67,2)\n",
    "print(tupp[2])\n",
    "\n",
    "# range\n",
    "ran = range(0,5,1)\n",
    "print(ran[-2])"
   ]
  },
  {
   "cell_type": "markdown",
   "id": "ad7544dc",
   "metadata": {},
   "source": [
    "### slicing in sequence data type"
   ]
  },
  {
   "cell_type": "code",
   "execution_count": 24,
   "id": "f3828c5b",
   "metadata": {},
   "outputs": [
    {
     "name": "stdout",
     "output_type": "stream",
     "text": [
      "o\n",
      "[1, 2, 3, 4, 5]\n",
      "()\n",
      "range(2, 4)\n"
     ]
    }
   ],
   "source": [
    "# string\n",
    "string = \"Hello world\"\n",
    "print(string[4:5])\n",
    "\n",
    "# list\n",
    "listt = [1,2,3,4,5]\n",
    "print(listt[:])\n",
    "\n",
    "# tuple\n",
    "tupp = (2,3,5,67,2)\n",
    "print(tupp[-2:-4])\n",
    "\n",
    "# range\n",
    "ran = range(0,5,1)\n",
    "print(ran[-3:-1])"
   ]
  },
  {
   "cell_type": "markdown",
   "id": "a7c6f5cf",
   "metadata": {},
   "source": [
    "### len function"
   ]
  },
  {
   "cell_type": "code",
   "execution_count": 30,
   "id": "bb44060f",
   "metadata": {},
   "outputs": [
    {
     "name": "stdout",
     "output_type": "stream",
     "text": [
      "malaysia\n"
     ]
    }
   ],
   "source": [
    "nations = ['korea', 'china', 'russia', 'malaysia']\n",
    "print(nations[len(nations)-1])\n",
    "\n",
    "# indexing is 0,1,2,3\n",
    "# len is 4\n",
    "# so need to -1 to become 3"
   ]
  },
  {
   "cell_type": "markdown",
   "id": "aaa1813a",
   "metadata": {},
   "source": [
    "### is operator"
   ]
  },
  {
   "cell_type": "code",
   "execution_count": 35,
   "id": "630ffc42",
   "metadata": {},
   "outputs": [
    {
     "name": "stdout",
     "output_type": "stream",
     "text": [
      "different\n",
      "different\n",
      "different\n",
      "different\n"
     ]
    }
   ],
   "source": [
    "# string\n",
    "string1 = \"Hello world\" \n",
    "string2 = \"Hello world\"\n",
    "\n",
    "if string1 == string2:\n",
    "    if string1 is string2:\n",
    "        print(\"same\")\n",
    "    else:\n",
    "        print(\"different\")\n",
    "else:\n",
    "    print(\"its different\")\n",
    "    \n",
    "# list\n",
    "listt1 = [1,2,3,4,5]\n",
    "listt2 = [1,2,3,4,5]\n",
    "if listt1 is listt2:\n",
    "    print(\"same\")\n",
    "else:\n",
    "    print(\"different\")\n",
    "\n",
    "# tuple\n",
    "tupp1 = (2,3,5,67,2)\n",
    "tupp2 = (2,3,5,67,2)\n",
    "if tupp1 is tupp2:\n",
    "    print(\"same\")\n",
    "else:\n",
    "    print(\"different\")\n",
    "\n",
    "# range\n",
    "ran1 = range(0,5,1)\n",
    "ran2 = range(0,5,1)\n",
    "if ran1 is ran2:\n",
    "    print(\"same\")\n",
    "else:\n",
    "    print(\"different\")"
   ]
  },
  {
   "cell_type": "code",
   "execution_count": null,
   "id": "d4f4060f",
   "metadata": {},
   "outputs": [],
   "source": []
  }
 ],
 "metadata": {
  "kernelspec": {
   "display_name": "Python 3 (ipykernel)",
   "language": "python",
   "name": "python3"
  },
  "language_info": {
   "codemirror_mode": {
    "name": "ipython",
    "version": 3
   },
   "file_extension": ".py",
   "mimetype": "text/x-python",
   "name": "python",
   "nbconvert_exporter": "python",
   "pygments_lexer": "ipython3",
   "version": "3.11.5"
  }
 },
 "nbformat": 4,
 "nbformat_minor": 5
}
