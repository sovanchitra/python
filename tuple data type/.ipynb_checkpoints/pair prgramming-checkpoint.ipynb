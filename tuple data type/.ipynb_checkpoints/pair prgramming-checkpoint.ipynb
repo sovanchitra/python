{
 "cells": [
  {
   "cell_type": "markdown",
   "id": "45b1591c",
   "metadata": {},
   "source": [
    "### multiD array a of size nxn"
   ]
  },
  {
   "cell_type": "code",
   "execution_count": 2,
   "id": "e0f5455e",
   "metadata": {},
   "outputs": [
    {
     "name": "stdout",
     "output_type": "stream",
     "text": [
      "Enter n: 5\n",
      "1 0 1 0 1 \n",
      "0 1 0 1 0 \n",
      "1 0 1 0 1 \n",
      "0 1 0 1 0 \n",
      "1 0 1 0 1 \n"
     ]
    }
   ],
   "source": [
    "# list1 = []\n",
    "\n",
    "\n",
    "# n = 0\n",
    "# while n <= 2:\n",
    "#     n = int(input(\"Enter n: \"))\n",
    "#     line = []\n",
    "#     for i in range(n):\n",
    "#         line.append(i)\n",
    "# #         for j in range(i):\n",
    "#     list1.append(line)\n",
    "#     for i in list1:\n",
    "#         for j in i:\n",
    "#             print(j, end = ' ')\n",
    "        \n",
    "\n",
    "# list1 = range(6)\n",
    "# list2 = []\n",
    "\n",
    "# for i in list1 :\n",
    "#     line = []\n",
    "#     for j in range(i):\n",
    "#         line.append(j)\n",
    "#     list2.append(line)\n",
    "# for i in list2:\n",
    "#     for j in i :\n",
    "#         print(j, end = ' ')\n",
    "\n",
    "#     print()\n",
    "\n",
    "n = int(input(\"Enter n: \"))\n",
    "list2 = []\n",
    "\n",
    "for i in range(n): # row\n",
    "\n",
    "    line = []\n",
    "\n",
    "    for j in range(n): # column\n",
    "        \n",
    "        c = (i + j) % 2 # use position of i(row) and j(column) \n",
    "        \n",
    "        if c == 0:\n",
    "            line.append(1)\n",
    "            \n",
    "        else:\n",
    "            line.append(0)\n",
    "    list2.append(line)\n",
    "    \n",
    "\n",
    "for i in list2:\n",
    "    \n",
    "    for j in i: \n",
    "        print(j, end = ' ')\n",
    "    print()"
   ]
  },
  {
   "cell_type": "code",
   "execution_count": null,
   "id": "3c8c9c60",
   "metadata": {},
   "outputs": [],
   "source": []
  },
  {
   "cell_type": "code",
   "execution_count": null,
   "id": "35b9a558",
   "metadata": {},
   "outputs": [],
   "source": []
  }
 ],
 "metadata": {
  "kernelspec": {
   "display_name": "Python 3 (ipykernel)",
   "language": "python",
   "name": "python3"
  },
  "language_info": {
   "codemirror_mode": {
    "name": "ipython",
    "version": 3
   },
   "file_extension": ".py",
   "mimetype": "text/x-python",
   "name": "python",
   "nbconvert_exporter": "python",
   "pygments_lexer": "ipython3",
   "version": "3.11.5"
  }
 },
 "nbformat": 4,
 "nbformat_minor": 5
}
