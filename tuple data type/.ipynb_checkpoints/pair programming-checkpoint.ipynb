{
 "cells": [
  {
   "cell_type": "markdown",
   "id": "9ff97bd8",
   "metadata": {},
   "source": [
    "### most occuring element"
   ]
  },
  {
   "cell_type": "code",
   "execution_count": 13,
   "id": "417aa0fb",
   "metadata": {},
   "outputs": [
    {
     "name": "stdout",
     "output_type": "stream",
     "text": [
      "[1, 1, 2, 2, 3, 3, 3, 4, 4, 5, 7, 7, 8, 9, 9, 9]\n"
     ]
    },
    {
     "ename": "TypeError",
     "evalue": "'NoneType' object cannot be interpreted as an integer",
     "output_type": "error",
     "traceback": [
      "\u001b[0;31m---------------------------------------------------------------------------\u001b[0m",
      "\u001b[0;31mTypeError\u001b[0m                                 Traceback (most recent call last)",
      "Cell \u001b[0;32mIn[13], line 5\u001b[0m\n\u001b[1;32m      3\u001b[0m t \u001b[38;5;241m=\u001b[39m temp\u001b[38;5;241m.\u001b[39msort()\n\u001b[1;32m      4\u001b[0m \u001b[38;5;28mprint\u001b[39m(temp)\n\u001b[0;32m----> 5\u001b[0m \u001b[38;5;28;01mfor\u001b[39;00m i \u001b[38;5;129;01min\u001b[39;00m \u001b[38;5;28mrange\u001b[39m(t):\n\u001b[1;32m      6\u001b[0m     i \u001b[38;5;241m=\u001b[39m i\u001b[38;5;241m.\u001b[39mcount(t)\n",
      "\u001b[0;31mTypeError\u001b[0m: 'NoneType' object cannot be interpreted as an integer"
     ]
    }
   ],
   "source": [
    "tup = (1,2,5,4,3,2,1,4,7,8,9,9,3,7,3,9)\n",
    "temp = list(tup)\n",
    "t = temp.sort()\n",
    "print(temp)\n",
    "for i in range(t):\n",
    "    i = "
   ]
  },
  {
   "cell_type": "code",
   "execution_count": 30,
   "id": "e5920e35",
   "metadata": {},
   "outputs": [
    {
     "name": "stdout",
     "output_type": "stream",
     "text": [
      "1 repeats 2\n",
      "2 repeats 2\n",
      "3 repeats 3\n",
      "4 repeats 2\n",
      "5 repeats 1\n",
      "6 repeats 0\n",
      "7 repeats 2\n",
      "8 repeats 1\n",
      "9 repeats 3\n",
      "10 repeats 5\n",
      "Most frequently occuring element is: 10   (repeat=5)\n"
     ]
    }
   ],
   "source": [
    "tup = (1,2,5,4,3,2,1,4,7,8,9,9,3,7,3,9,10,10,10,10,10)\n",
    "      \n",
    "\n",
    "\n",
    "\n",
    "trueMode = 0\n",
    "i_temp = 0\n",
    "\n",
    "for i in range(1,11):\n",
    "    mode = tup.count(i)\n",
    "    print(\"{} repeats {}\".format(i,mode))\n",
    "    \n",
    "    if mode>=trueMode:\n",
    "        trueMode = mode\n",
    "        i_temp = i\n",
    "\n",
    "#print(\"This is trueMode: {} belongs to {}\".format(trueMode,i_temp))\n",
    "print(\"Most frequently occuring element is: {}   (repeat={})\".format(i_temp,trueMode))\n"
   ]
  },
  {
   "cell_type": "code",
   "execution_count": 35,
   "id": "72a36831",
   "metadata": {},
   "outputs": [
    {
     "name": "stdout",
     "output_type": "stream",
     "text": [
      "[1, 1, 2, 2, 3, 3, 3, 4, 4, 5, 7, 7, 8, 9, 9, 9, 10, 10, 10, 10, 10]\n",
      "list[0]\n",
      "list[-1]\n"
     ]
    }
   ],
   "source": [
    "tup = (1,2,5,4,3,2,1,4,7,8,9,9,3,7,3,9,10,10,10,10,10)\n",
    "\n",
    "list1 = list(tup)\n",
    "list1.sort()\n",
    "\n",
    "print(list1)\n",
    "\n",
    "print(list1[0])\n",
    "print(list1[-1])"
   ]
  },
  {
   "cell_type": "code",
   "execution_count": null,
   "id": "1ab7f912",
   "metadata": {},
   "outputs": [],
   "source": []
  }
 ],
 "metadata": {
  "kernelspec": {
   "display_name": "Python 3 (ipykernel)",
   "language": "python",
   "name": "python3"
  },
  "language_info": {
   "codemirror_mode": {
    "name": "ipython",
    "version": 3
   },
   "file_extension": ".py",
   "mimetype": "text/x-python",
   "name": "python",
   "nbconvert_exporter": "python",
   "pygments_lexer": "ipython3",
   "version": "3.11.5"
  }
 },
 "nbformat": 4,
 "nbformat_minor": 5
}
