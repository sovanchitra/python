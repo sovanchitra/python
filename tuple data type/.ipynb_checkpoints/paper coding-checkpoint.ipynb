{
 "cells": [
  {
   "cell_type": "markdown",
   "id": "e07f895e",
   "metadata": {},
   "source": [
    "### print the code"
   ]
  },
  {
   "cell_type": "code",
   "execution_count": 1,
   "id": "c40c7412",
   "metadata": {},
   "outputs": [
    {
     "name": "stdout",
     "output_type": "stream",
     "text": [
      "True\n",
      "False\n",
      "True\n",
      "('a', 'b', 'c', 'd', 'e')\n",
      "[('a', 'b', 'c', 'd', 'e')]\n",
      "('a', 'b', 'c')\n"
     ]
    }
   ],
   "source": [
    "t1 = 'a', 'b', 'c'\n",
    "t2 = ('a', 'b', 'c')\n",
    "t3 = ('d', 'e')\n",
    "\n",
    "print(t1 == t2)\n",
    "\n",
    "print(t1 > t3)\n",
    "\n",
    "print(t1 < t3)\n",
    "\n",
    "print(t2 + t3)\n",
    "\n",
    "print([t2 + t3])\n",
    "\n",
    "print(t1)"
   ]
  },
  {
   "cell_type": "markdown",
   "id": "30158293",
   "metadata": {},
   "source": [
    "### find how many days that sales lowered"
   ]
  },
  {
   "cell_type": "code",
   "execution_count": 16,
   "id": "07d7ea6e",
   "metadata": {},
   "outputs": [
    {
     "name": "stdout",
     "output_type": "stream",
     "text": [
      "In the past 10 days, 3 days had reduced sales compared to the previous day.\n"
     ]
    }
   ],
   "source": [
    "sales = (100, 121, 120, 130, 140, 120, 122, 123, 190, 125)  \n",
    "#.        0.   1    2.   3.   4.   5.   6.  7.   8.    9     (10)\n",
    "\n",
    "days = 0\n",
    "\n",
    "\n",
    "for s in range(len(sales)):\n",
    "    \n",
    "    if sales[s-1] > sales[s] and s>0:\n",
    "        #print(\"{} {}\".format(sales[s-1],sales[s]))\n",
    "        days += 1\n",
    "\n",
    "print(f\"In the past 10 days, {days} days had reduced sales compared to the previous day.\")"
   ]
  },
  {
   "cell_type": "code",
   "execution_count": 17,
   "id": "9052eb33",
   "metadata": {},
   "outputs": [
    {
     "name": "stdout",
     "output_type": "stream",
     "text": [
      "i = 100\n",
      "i = 121\n",
      "i = 120\n",
      "i = 130\n",
      "i = 140\n",
      "i = 120\n",
      "i = 122\n",
      "i = 123\n",
      "i = 190\n",
      "i = 125\n",
      "In the past 10 days, 3 days had reduced sales compared to the previous day.\n"
     ]
    }
   ],
   "source": [
    "#given\n",
    "sales = (100, 121, 120, 130, 140, 120, 122, 123, 190, 125)\n",
    "\n",
    "days = 0\n",
    "prev = 0\n",
    "\n",
    "for i in sales:\n",
    "    \n",
    "    print(\"i = {}\".format(i))\n",
    "    \n",
    "    if prev > i:\n",
    "        print(\"{} {}\".format(prev, i))\n",
    "        days += 1\n",
    "    prev = i\n",
    "\n",
    "#output\n",
    "print(f\"In the past 10 days, {days} days had reduced sales compared to the previous day.\")"
   ]
  },
  {
   "cell_type": "code",
   "execution_count": null,
   "id": "3bea1448",
   "metadata": {},
   "outputs": [],
   "source": []
  }
 ],
 "metadata": {
  "kernelspec": {
   "display_name": "Python 3 (ipykernel)",
   "language": "python",
   "name": "python3"
  },
  "language_info": {
   "codemirror_mode": {
    "name": "ipython",
    "version": 3
   },
   "file_extension": ".py",
   "mimetype": "text/x-python",
   "name": "python",
   "nbconvert_exporter": "python",
   "pygments_lexer": "ipython3",
   "version": "3.11.5"
  }
 },
 "nbformat": 4,
 "nbformat_minor": 5
}
