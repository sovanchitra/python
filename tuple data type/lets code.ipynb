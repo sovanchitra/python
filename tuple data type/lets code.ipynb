{
 "cells": [
  {
   "cell_type": "markdown",
   "id": "968d5352",
   "metadata": {},
   "source": [
    "### aging rate calculator"
   ]
  },
  {
   "cell_type": "code",
   "execution_count": 10,
   "id": "ef11cee6",
   "metadata": {},
   "outputs": [
    {
     "name": "stdout",
     "output_type": "stream",
     "text": [
      "aging ratio is of village a and b are 0.165 and 0.003 each\n"
     ]
    }
   ],
   "source": [
    "population_a = (100,150,230,120,180,100,140,95,81,21,4)\n",
    "population_b = (300,420,530,420,400,300,40,5,1,1,1)\n",
    "sum_a = sum(population_a)\n",
    "sum_b = sum(population_b)\n",
    "old_a = sum(population_a[7:])\n",
    "old_b = sum(population_b[7:])\n",
    "\n",
    "print(\"aging ratio is of village a and b are {:.3f} and {:.3f} each\".format(old_a/sum_a, old_b/sum_b))"
   ]
  },
  {
   "cell_type": "code",
   "execution_count": null,
   "id": "3d559c6b",
   "metadata": {},
   "outputs": [],
   "source": []
  }
 ],
 "metadata": {
  "kernelspec": {
   "display_name": "Python 3 (ipykernel)",
   "language": "python",
   "name": "python3"
  },
  "language_info": {
   "codemirror_mode": {
    "name": "ipython",
    "version": 3
   },
   "file_extension": ".py",
   "mimetype": "text/x-python",
   "name": "python",
   "nbconvert_exporter": "python",
   "pygments_lexer": "ipython3",
   "version": "3.11.5"
  }
 },
 "nbformat": 4,
 "nbformat_minor": 5
}
