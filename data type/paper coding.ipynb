{
 "cells": [
  {
   "cell_type": "code",
   "execution_count": 21,
   "id": "217dd5f3",
   "metadata": {},
   "outputs": [
    {
     "name": "stdout",
     "output_type": "stream",
     "text": [
      "Radius:hi\n",
      "Radius should be number.\n"
     ]
    }
   ],
   "source": [
    "r = input(\"Radius:\")\n",
    "if r.isalpha():\n",
    "    print(\"Radius should be number.\")\n",
    "else:\n",
    "    print\n",
    "    \n",
    "    pi = 3.14\n",
    "    area = pi * int(r)**2\n",
    "    circumference = 2 * pi * int(r)\n",
    "    print(\"Area =\", area)\n",
    "    print(\"Circumference =\", circumference)\n"
   ]
  },
  {
   "cell_type": "code",
   "execution_count": 40,
   "id": "b9aa811d",
   "metadata": {},
   "outputs": [
    {
     "data": {
      "text/plain": [
       "'5050'"
      ]
     },
     "execution_count": 40,
     "metadata": {},
     "output_type": "execute_result"
    }
   ],
   "source": [
    "int(\"50\") + 50\n",
    "str(50) + str(50)"
   ]
  },
  {
   "cell_type": "code",
   "execution_count": 5,
   "id": "ac674394",
   "metadata": {},
   "outputs": [
    {
     "name": "stdout",
     "output_type": "stream",
     "text": [
      "Enter base: 23\n",
      "Enter height: 92\n",
      "Length of hypotenuse is 94.83142938920619\n"
     ]
    }
   ],
   "source": [
    "base = int(input(\"Enter base: \"))\n",
    "height = int(input(\"Enter height: \"))\n",
    "hypotenuse = (base**2 + height**2)**(1/2)\n",
    "print(f\"Length of hypotenuse is {hypotenuse}\")"
   ]
  },
  {
   "cell_type": "code",
   "execution_count": null,
   "id": "3b8fae9e",
   "metadata": {},
   "outputs": [],
   "source": []
  }
 ],
 "metadata": {
  "kernelspec": {
   "display_name": "Python 3 (ipykernel)",
   "language": "python",
   "name": "python3"
  },
  "language_info": {
   "codemirror_mode": {
    "name": "ipython",
    "version": 3
   },
   "file_extension": ".py",
   "mimetype": "text/x-python",
   "name": "python",
   "nbconvert_exporter": "python",
   "pygments_lexer": "ipython3",
   "version": "3.11.5"
  }
 },
 "nbformat": 4,
 "nbformat_minor": 5
}
