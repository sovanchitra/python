{
 "cells": [
  {
   "cell_type": "code",
   "execution_count": 4,
   "id": "1612afa3",
   "metadata": {},
   "outputs": [
    {
     "name": "stdout",
     "output_type": "stream",
     "text": [
      "Factorial of 5 is  120\n",
      "Factorial of 10 is  3628800\n"
     ]
    }
   ],
   "source": [
    "fact5 = 5*4*3*2*1\n",
    "fact10 = 10*9*8*7*6*5*4*3*2*1\n",
    "print(\"Factorial of 5 is \", fact5)\n",
    "print(\"Factorial of 10 is \", fact10)"
   ]
  },
  {
   "cell_type": "code",
   "execution_count": 10,
   "id": "1a442cfc",
   "metadata": {},
   "outputs": [
    {
     "name": "stdout",
     "output_type": "stream",
     "text": [
      "101010\n"
     ]
    }
   ],
   "source": [
    "print(\"10\" * 3)"
   ]
  },
  {
   "cell_type": "code",
   "execution_count": null,
   "id": "bb22a2b5",
   "metadata": {},
   "outputs": [],
   "source": []
  }
 ],
 "metadata": {
  "kernelspec": {
   "display_name": "Python 3 (ipykernel)",
   "language": "python",
   "name": "python3"
  },
  "language_info": {
   "codemirror_mode": {
    "name": "ipython",
    "version": 3
   },
   "file_extension": ".py",
   "mimetype": "text/x-python",
   "name": "python",
   "nbconvert_exporter": "python",
   "pygments_lexer": "ipython3",
   "version": "3.11.5"
  }
 },
 "nbformat": 4,
 "nbformat_minor": 5
}
