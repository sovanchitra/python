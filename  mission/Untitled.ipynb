{
 "cells": [
  {
   "cell_type": "code",
   "execution_count": 1,
   "id": "fed713a9",
   "metadata": {},
   "outputs": [
    {
     "name": "stdout",
     "output_type": "stream",
     "text": [
      "Where are you? input:'intersection' or 'not intersection' your input:intersection\n",
      "go straight in the west direction\n",
      "do you see the 4 building? input:'yes' or 'no' your input:yes\n",
      "pass the post office and turn right\n",
      "turn left or right? input:'left' or 'right' your input:right\n",
      "go straight\n",
      "where are you now? input:'1','2','3','4' your input:5\n",
      "go back and start counting again.\n"
     ]
    }
   ],
   "source": [
    "initial_location = input(\"Where are you? input:'intersection' or 'not intersection' your input:\").lower()\n",
    "if initial_location == \"not intersection\":\n",
    "    print(\"not in the intersection.\")\n",
    "else:\n",
    "    print(\"go straight in the west direction\")\n",
    "\n",
    "    \n",
    "buildings = input(\"do you see the 4 building? input:'yes' or 'no' your input:\").lower()\n",
    "if buildings == \"no\":\n",
    "    print(\"go back to the intersection\")\n",
    "else:\n",
    "    print(\"pass the post office and turn right\")\n",
    "    \n",
    "    \n",
    "turn = input(\"turn left or right? input:'left' or 'right' your input:\").lower()\n",
    "if turn == \"left\":\n",
    "    print(\"you turned the wrong way, go back to the post office and turn right.\")\n",
    "else:\n",
    "    print(\"go straight\")\n",
    "    \n",
    "    \n",
    "current_building = int(input(\"where are you now? input:'1','2','3','4' your input:\"))\n",
    "if current_building == 1:\n",
    "    print(\"your destination is at building 3.\")\n",
    "elif current_building == 2:\n",
    "    print(\"your destination is at building 3.\")\n",
    "elif current_building == 3:\n",
    "    print(\"you have arrived at your destination.\")\n",
    "elif current_building == 4:\n",
    "    print(\"go back one building and you will arrive at the third building.\")\n",
    "else:\n",
    "    print(\"go back and start counting again.\")"
   ]
  },
  {
   "cell_type": "code",
   "execution_count": null,
   "id": "77656ffa",
   "metadata": {},
   "outputs": [],
   "source": []
  },
  {
   "cell_type": "code",
   "execution_count": null,
   "id": "82ad59da",
   "metadata": {},
   "outputs": [],
   "source": []
  },
  {
   "cell_type": "code",
   "execution_count": null,
   "id": "4d35fb09",
   "metadata": {},
   "outputs": [],
   "source": []
  }
 ],
 "metadata": {
  "kernelspec": {
   "display_name": "Python 3 (ipykernel)",
   "language": "python",
   "name": "python3"
  },
  "language_info": {
   "codemirror_mode": {
    "name": "ipython",
    "version": 3
   },
   "file_extension": ".py",
   "mimetype": "text/x-python",
   "name": "python",
   "nbconvert_exporter": "python",
   "pygments_lexer": "ipython3",
   "version": "3.11.5"
  }
 },
 "nbformat": 4,
 "nbformat_minor": 5
}
